{
 "cells": [
  {
   "cell_type": "markdown",
   "id": "8e321090-dc93-4a5a-9b6f-fa9b7cf539bc",
   "metadata": {},
   "source": [
    "# NCAR Innovator Program Project\n",
    "### Notebook by: Maria J. Molina (NCAR/University of Maryland) and Jessica Moulite (Howard University)"
   ]
  },
  {
   "cell_type": "markdown",
   "id": "039e2c75-2fdd-4791-bcc8-41fa48869e8d",
   "metadata": {},
   "source": [
    "Here we compare the NOAA KMIA weather station temperature data with 2-m temperature data from ERA5. The objective of the comparison is to assess how representative state-of-the-art reanalysis is of local weather and trends, given its heavy use in climate assessment studies."
   ]
  },
  {
   "cell_type": "markdown",
   "id": "09689da7-9987-4fb6-a23b-d470050762a6",
   "metadata": {},
   "source": [
    "Importing packages"
   ]
  },
  {
   "cell_type": "code",
   "execution_count": 1,
   "id": "c17d8287-73b9-482a-80ce-82fd6cdd9f97",
   "metadata": {},
   "outputs": [],
   "source": [
    "import datetime\n",
    "import warnings\n",
    "import numpy as np\n",
    "import pandas as pd\n",
    "import xarray as xr\n",
    "import matplotlib.pyplot as plt"
   ]
  },
  {
   "cell_type": "markdown",
   "id": "090092c4-09d7-40fa-95ac-8cdc7825f750",
   "metadata": {},
   "source": [
    "Functions"
   ]
  },
  {
   "cell_type": "code",
   "execution_count": 2,
   "id": "23fe01ad-f2b4-4d40-8733-157947a5beb0",
   "metadata": {},
   "outputs": [],
   "source": [
    "def cel_to_far(tmp):\n",
    "    \"\"\"\n",
    "    Convert celsius to farenheit\n",
    "    \"\"\"\n",
    "    newtmp = []\n",
    "    for i in tmp:\n",
    "        if i == 99.9:\n",
    "            newtmp.append(np.nan)\n",
    "        if i != 99.9:\n",
    "            newtmp.append((i * (9/5)) + 32)\n",
    "    return np.array(newtmp)\n",
    "\n",
    "\n",
    "def cel_to_nan(tmp):\n",
    "    \"\"\"\n",
    "    Change 9999 to np.nan\n",
    "    \"\"\"\n",
    "    newtmp = []\n",
    "    for i in tmp:\n",
    "        if i == 99.9:\n",
    "            newtmp.append(np.nan)\n",
    "        if i != 99.9:\n",
    "            newtmp.append(i)\n",
    "    return np.array(newtmp)\n",
    "\n",
    "\n",
    "def convert_to_datetime(time_value):\n",
    "    \"\"\"\n",
    "    Convert to a datetime object to be able to compute time difference.\n",
    "    \"\"\"\n",
    "    return datetime.datetime(\n",
    "        pd.to_datetime(time_value).year,\n",
    "        pd.to_datetime(time_value).month,\n",
    "        pd.to_datetime(time_value).day,\n",
    "        pd.to_datetime(time_value).hour,\n",
    "        pd.to_datetime(time_value).minute,\n",
    "        pd.to_datetime(time_value).second,\n",
    "    )\n",
    "\n",
    "\n",
    "def compute_time_difference(a, b):\n",
    "    \"\"\"\n",
    "    Compute time difference between two times.\n",
    "    \"\"\"\n",
    "    if a >= b:\n",
    "        return convert_to_datetime(a) - convert_to_datetime(b)\n",
    "    if b > a:\n",
    "        return convert_to_datetime(b) - convert_to_datetime(a)\n",
    "\n",
    "\n",
    "def extract_era5_time(t_daily, t_full):\n",
    "    \"\"\"\n",
    "    Extract the era5 temperature corresponding time.\n",
    "    \"\"\"\n",
    "    era5_time_array = []\n",
    "\n",
    "    for i, j in zip(t_daily.time, t_daily):\n",
    "\n",
    "        tmp = t_full.sel(\n",
    "            time=slice(i, pd.to_datetime(i.values) + datetime.timedelta(hours=23)))\n",
    "\n",
    "        era5_time_array.append(tmp.where(tmp == j, drop=True).time.values)\n",
    "\n",
    "    return era5_time_array\n",
    "\n",
    "\n",
    "def ends(df, x=5):\n",
    "    \"\"\"\n",
    "    Viewing the beginnings and ends.\n",
    "    \"\"\"\n",
    "    return pd.concat([df.head(x),df.tail(x)])"
   ]
  },
  {
   "cell_type": "markdown",
   "id": "7a3c72b3-9be8-4522-aaf3-0a987b9a4038",
   "metadata": {},
   "source": [
    "## Open ERA5 data (1973-present)"
   ]
  },
  {
   "cell_type": "code",
   "execution_count": 3,
   "id": "2be341d4-b6ac-4416-a3e9-f144f96b05a1",
   "metadata": {},
   "outputs": [],
   "source": [
    "# open files\n",
    "ds_ = xr.open_mfdataset(\n",
    "    '/gpfs/fs1/collections/rda/data/ds633.0/e5.oper.an.sfc/*/e5.oper.an.sfc.128_235_skt.ll025sc.*.nc'\n",
    ")['SKT']\n",
    "\n",
    "# time slice\n",
    "ds_ = ds_.sel(time=slice('1973-01-01T00:00:00', '2022-08-01T23:00:00'))"
   ]
  },
  {
   "cell_type": "code",
   "execution_count": 4,
   "id": "b357efee-1d76-4fe9-9ad9-8667f43c45d3",
   "metadata": {},
   "outputs": [
    {
     "data": {
      "text/html": [
       "<div><svg style=\"position: absolute; width: 0; height: 0; overflow: hidden\">\n",
       "<defs>\n",
       "<symbol id=\"icon-database\" viewBox=\"0 0 32 32\">\n",
       "<path d=\"M16 0c-8.837 0-16 2.239-16 5v4c0 2.761 7.163 5 16 5s16-2.239 16-5v-4c0-2.761-7.163-5-16-5z\"></path>\n",
       "<path d=\"M16 17c-8.837 0-16-2.239-16-5v6c0 2.761 7.163 5 16 5s16-2.239 16-5v-6c0 2.761-7.163 5-16 5z\"></path>\n",
       "<path d=\"M16 26c-8.837 0-16-2.239-16-5v6c0 2.761 7.163 5 16 5s16-2.239 16-5v-6c0 2.761-7.163 5-16 5z\"></path>\n",
       "</symbol>\n",
       "<symbol id=\"icon-file-text2\" viewBox=\"0 0 32 32\">\n",
       "<path d=\"M28.681 7.159c-0.694-0.947-1.662-2.053-2.724-3.116s-2.169-2.030-3.116-2.724c-1.612-1.182-2.393-1.319-2.841-1.319h-15.5c-1.378 0-2.5 1.121-2.5 2.5v27c0 1.378 1.122 2.5 2.5 2.5h23c1.378 0 2.5-1.122 2.5-2.5v-19.5c0-0.448-0.137-1.23-1.319-2.841zM24.543 5.457c0.959 0.959 1.712 1.825 2.268 2.543h-4.811v-4.811c0.718 0.556 1.584 1.309 2.543 2.268zM28 29.5c0 0.271-0.229 0.5-0.5 0.5h-23c-0.271 0-0.5-0.229-0.5-0.5v-27c0-0.271 0.229-0.5 0.5-0.5 0 0 15.499-0 15.5 0v7c0 0.552 0.448 1 1 1h7v19.5z\"></path>\n",
       "<path d=\"M23 26h-14c-0.552 0-1-0.448-1-1s0.448-1 1-1h14c0.552 0 1 0.448 1 1s-0.448 1-1 1z\"></path>\n",
       "<path d=\"M23 22h-14c-0.552 0-1-0.448-1-1s0.448-1 1-1h14c0.552 0 1 0.448 1 1s-0.448 1-1 1z\"></path>\n",
       "<path d=\"M23 18h-14c-0.552 0-1-0.448-1-1s0.448-1 1-1h14c0.552 0 1 0.448 1 1s-0.448 1-1 1z\"></path>\n",
       "</symbol>\n",
       "</defs>\n",
       "</svg>\n",
       "<style>/* CSS stylesheet for displaying xarray objects in jupyterlab.\n",
       " *\n",
       " */\n",
       "\n",
       ":root {\n",
       "  --xr-font-color0: var(--jp-content-font-color0, rgba(0, 0, 0, 1));\n",
       "  --xr-font-color2: var(--jp-content-font-color2, rgba(0, 0, 0, 0.54));\n",
       "  --xr-font-color3: var(--jp-content-font-color3, rgba(0, 0, 0, 0.38));\n",
       "  --xr-border-color: var(--jp-border-color2, #e0e0e0);\n",
       "  --xr-disabled-color: var(--jp-layout-color3, #bdbdbd);\n",
       "  --xr-background-color: var(--jp-layout-color0, white);\n",
       "  --xr-background-color-row-even: var(--jp-layout-color1, white);\n",
       "  --xr-background-color-row-odd: var(--jp-layout-color2, #eeeeee);\n",
       "}\n",
       "\n",
       "html[theme=dark],\n",
       "body.vscode-dark {\n",
       "  --xr-font-color0: rgba(255, 255, 255, 1);\n",
       "  --xr-font-color2: rgba(255, 255, 255, 0.54);\n",
       "  --xr-font-color3: rgba(255, 255, 255, 0.38);\n",
       "  --xr-border-color: #1F1F1F;\n",
       "  --xr-disabled-color: #515151;\n",
       "  --xr-background-color: #111111;\n",
       "  --xr-background-color-row-even: #111111;\n",
       "  --xr-background-color-row-odd: #313131;\n",
       "}\n",
       "\n",
       ".xr-wrap {\n",
       "  display: block;\n",
       "  min-width: 300px;\n",
       "  max-width: 700px;\n",
       "}\n",
       "\n",
       ".xr-text-repr-fallback {\n",
       "  /* fallback to plain text repr when CSS is not injected (untrusted notebook) */\n",
       "  display: none;\n",
       "}\n",
       "\n",
       ".xr-header {\n",
       "  padding-top: 6px;\n",
       "  padding-bottom: 6px;\n",
       "  margin-bottom: 4px;\n",
       "  border-bottom: solid 1px var(--xr-border-color);\n",
       "}\n",
       "\n",
       ".xr-header > div,\n",
       ".xr-header > ul {\n",
       "  display: inline;\n",
       "  margin-top: 0;\n",
       "  margin-bottom: 0;\n",
       "}\n",
       "\n",
       ".xr-obj-type,\n",
       ".xr-array-name {\n",
       "  margin-left: 2px;\n",
       "  margin-right: 10px;\n",
       "}\n",
       "\n",
       ".xr-obj-type {\n",
       "  color: var(--xr-font-color2);\n",
       "}\n",
       "\n",
       ".xr-sections {\n",
       "  padding-left: 0 !important;\n",
       "  display: grid;\n",
       "  grid-template-columns: 150px auto auto 1fr 20px 20px;\n",
       "}\n",
       "\n",
       ".xr-section-item {\n",
       "  display: contents;\n",
       "}\n",
       "\n",
       ".xr-section-item input {\n",
       "  display: none;\n",
       "}\n",
       "\n",
       ".xr-section-item input + label {\n",
       "  color: var(--xr-disabled-color);\n",
       "}\n",
       "\n",
       ".xr-section-item input:enabled + label {\n",
       "  cursor: pointer;\n",
       "  color: var(--xr-font-color2);\n",
       "}\n",
       "\n",
       ".xr-section-item input:enabled + label:hover {\n",
       "  color: var(--xr-font-color0);\n",
       "}\n",
       "\n",
       ".xr-section-summary {\n",
       "  grid-column: 1;\n",
       "  color: var(--xr-font-color2);\n",
       "  font-weight: 500;\n",
       "}\n",
       "\n",
       ".xr-section-summary > span {\n",
       "  display: inline-block;\n",
       "  padding-left: 0.5em;\n",
       "}\n",
       "\n",
       ".xr-section-summary-in:disabled + label {\n",
       "  color: var(--xr-font-color2);\n",
       "}\n",
       "\n",
       ".xr-section-summary-in + label:before {\n",
       "  display: inline-block;\n",
       "  content: '►';\n",
       "  font-size: 11px;\n",
       "  width: 15px;\n",
       "  text-align: center;\n",
       "}\n",
       "\n",
       ".xr-section-summary-in:disabled + label:before {\n",
       "  color: var(--xr-disabled-color);\n",
       "}\n",
       "\n",
       ".xr-section-summary-in:checked + label:before {\n",
       "  content: '▼';\n",
       "}\n",
       "\n",
       ".xr-section-summary-in:checked + label > span {\n",
       "  display: none;\n",
       "}\n",
       "\n",
       ".xr-section-summary,\n",
       ".xr-section-inline-details {\n",
       "  padding-top: 4px;\n",
       "  padding-bottom: 4px;\n",
       "}\n",
       "\n",
       ".xr-section-inline-details {\n",
       "  grid-column: 2 / -1;\n",
       "}\n",
       "\n",
       ".xr-section-details {\n",
       "  display: none;\n",
       "  grid-column: 1 / -1;\n",
       "  margin-bottom: 5px;\n",
       "}\n",
       "\n",
       ".xr-section-summary-in:checked ~ .xr-section-details {\n",
       "  display: contents;\n",
       "}\n",
       "\n",
       ".xr-array-wrap {\n",
       "  grid-column: 1 / -1;\n",
       "  display: grid;\n",
       "  grid-template-columns: 20px auto;\n",
       "}\n",
       "\n",
       ".xr-array-wrap > label {\n",
       "  grid-column: 1;\n",
       "  vertical-align: top;\n",
       "}\n",
       "\n",
       ".xr-preview {\n",
       "  color: var(--xr-font-color3);\n",
       "}\n",
       "\n",
       ".xr-array-preview,\n",
       ".xr-array-data {\n",
       "  padding: 0 5px !important;\n",
       "  grid-column: 2;\n",
       "}\n",
       "\n",
       ".xr-array-data,\n",
       ".xr-array-in:checked ~ .xr-array-preview {\n",
       "  display: none;\n",
       "}\n",
       "\n",
       ".xr-array-in:checked ~ .xr-array-data,\n",
       ".xr-array-preview {\n",
       "  display: inline-block;\n",
       "}\n",
       "\n",
       ".xr-dim-list {\n",
       "  display: inline-block !important;\n",
       "  list-style: none;\n",
       "  padding: 0 !important;\n",
       "  margin: 0;\n",
       "}\n",
       "\n",
       ".xr-dim-list li {\n",
       "  display: inline-block;\n",
       "  padding: 0;\n",
       "  margin: 0;\n",
       "}\n",
       "\n",
       ".xr-dim-list:before {\n",
       "  content: '(';\n",
       "}\n",
       "\n",
       ".xr-dim-list:after {\n",
       "  content: ')';\n",
       "}\n",
       "\n",
       ".xr-dim-list li:not(:last-child):after {\n",
       "  content: ',';\n",
       "  padding-right: 5px;\n",
       "}\n",
       "\n",
       ".xr-has-index {\n",
       "  font-weight: bold;\n",
       "}\n",
       "\n",
       ".xr-var-list,\n",
       ".xr-var-item {\n",
       "  display: contents;\n",
       "}\n",
       "\n",
       ".xr-var-item > div,\n",
       ".xr-var-item label,\n",
       ".xr-var-item > .xr-var-name span {\n",
       "  background-color: var(--xr-background-color-row-even);\n",
       "  margin-bottom: 0;\n",
       "}\n",
       "\n",
       ".xr-var-item > .xr-var-name:hover span {\n",
       "  padding-right: 5px;\n",
       "}\n",
       "\n",
       ".xr-var-list > li:nth-child(odd) > div,\n",
       ".xr-var-list > li:nth-child(odd) > label,\n",
       ".xr-var-list > li:nth-child(odd) > .xr-var-name span {\n",
       "  background-color: var(--xr-background-color-row-odd);\n",
       "}\n",
       "\n",
       ".xr-var-name {\n",
       "  grid-column: 1;\n",
       "}\n",
       "\n",
       ".xr-var-dims {\n",
       "  grid-column: 2;\n",
       "}\n",
       "\n",
       ".xr-var-dtype {\n",
       "  grid-column: 3;\n",
       "  text-align: right;\n",
       "  color: var(--xr-font-color2);\n",
       "}\n",
       "\n",
       ".xr-var-preview {\n",
       "  grid-column: 4;\n",
       "}\n",
       "\n",
       ".xr-var-name,\n",
       ".xr-var-dims,\n",
       ".xr-var-dtype,\n",
       ".xr-preview,\n",
       ".xr-attrs dt {\n",
       "  white-space: nowrap;\n",
       "  overflow: hidden;\n",
       "  text-overflow: ellipsis;\n",
       "  padding-right: 10px;\n",
       "}\n",
       "\n",
       ".xr-var-name:hover,\n",
       ".xr-var-dims:hover,\n",
       ".xr-var-dtype:hover,\n",
       ".xr-attrs dt:hover {\n",
       "  overflow: visible;\n",
       "  width: auto;\n",
       "  z-index: 1;\n",
       "}\n",
       "\n",
       ".xr-var-attrs,\n",
       ".xr-var-data {\n",
       "  display: none;\n",
       "  background-color: var(--xr-background-color) !important;\n",
       "  padding-bottom: 5px !important;\n",
       "}\n",
       "\n",
       ".xr-var-attrs-in:checked ~ .xr-var-attrs,\n",
       ".xr-var-data-in:checked ~ .xr-var-data {\n",
       "  display: block;\n",
       "}\n",
       "\n",
       ".xr-var-data > table {\n",
       "  float: right;\n",
       "}\n",
       "\n",
       ".xr-var-name span,\n",
       ".xr-var-data,\n",
       ".xr-attrs {\n",
       "  padding-left: 25px !important;\n",
       "}\n",
       "\n",
       ".xr-attrs,\n",
       ".xr-var-attrs,\n",
       ".xr-var-data {\n",
       "  grid-column: 1 / -1;\n",
       "}\n",
       "\n",
       "dl.xr-attrs {\n",
       "  padding: 0;\n",
       "  margin: 0;\n",
       "  display: grid;\n",
       "  grid-template-columns: 125px auto;\n",
       "}\n",
       "\n",
       ".xr-attrs dt,\n",
       ".xr-attrs dd {\n",
       "  padding: 0;\n",
       "  margin: 0;\n",
       "  float: left;\n",
       "  padding-right: 10px;\n",
       "  width: auto;\n",
       "}\n",
       "\n",
       ".xr-attrs dt {\n",
       "  font-weight: normal;\n",
       "  grid-column: 1;\n",
       "}\n",
       "\n",
       ".xr-attrs dt:hover span {\n",
       "  display: inline-block;\n",
       "  background: var(--xr-background-color);\n",
       "  padding-right: 10px;\n",
       "}\n",
       "\n",
       ".xr-attrs dd {\n",
       "  grid-column: 2;\n",
       "  white-space: pre-wrap;\n",
       "  word-break: break-all;\n",
       "}\n",
       "\n",
       ".xr-icon-database,\n",
       ".xr-icon-file-text2 {\n",
       "  display: inline-block;\n",
       "  vertical-align: middle;\n",
       "  width: 1em;\n",
       "  height: 1.5em !important;\n",
       "  stroke-width: 0;\n",
       "  stroke: currentColor;\n",
       "  fill: currentColor;\n",
       "}\n",
       "</style><pre class='xr-text-repr-fallback'>&lt;xarray.DataArray &#x27;SKT&#x27; (time: 434640, latitude: 721, longitude: 1440)&gt;\n",
       "dask.array&lt;getitem, shape=(434640, 721, 1440), dtype=float32, chunksize=(744, 721, 1440), chunktype=numpy.ndarray&gt;\n",
       "Coordinates:\n",
       "  * latitude   (latitude) float64 90.0 89.75 89.5 89.25 ... -89.5 -89.75 -90.0\n",
       "  * longitude  (longitude) float64 0.0 0.25 0.5 0.75 ... 359.0 359.2 359.5 359.8\n",
       "  * time       (time) datetime64[ns] 1973-01-01 ... 2022-08-01T23:00:00\n",
       "Attributes: (12/14)\n",
       "    long_name:                                          Skin temperature\n",
       "    short_name:                                         skt\n",
       "    units:                                              K\n",
       "    original_format:                                    WMO GRIB 1 with ECMWF...\n",
       "    ecmwf_local_table:                                  128\n",
       "    ecmwf_parameter:                                    235\n",
       "    ...                                                 ...\n",
       "    grid_specification:                                 0.25 degree x 0.25 de...\n",
       "    rda_dataset:                                        ds633.0\n",
       "    rda_dataset_url:                                    https:/rda.ucar.edu/d...\n",
       "    rda_dataset_doi:                                    DOI: 10.5065/BH6N-5N20\n",
       "    rda_dataset_group:                                  ERA5 atmospheric surf...\n",
       "    QuantizeGranularBitGroomNumberOfSignificantDigits:  7</pre><div class='xr-wrap' hidden><div class='xr-header'><div class='xr-obj-type'>xarray.DataArray</div><div class='xr-array-name'>'SKT'</div><ul class='xr-dim-list'><li><span class='xr-has-index'>time</span>: 434640</li><li><span class='xr-has-index'>latitude</span>: 721</li><li><span class='xr-has-index'>longitude</span>: 1440</li></ul></div><ul class='xr-sections'><li class='xr-section-item'><div class='xr-array-wrap'><input id='section-0f41b866-3cad-45be-8cff-aee5f84402a8' class='xr-array-in' type='checkbox' checked><label for='section-0f41b866-3cad-45be-8cff-aee5f84402a8' title='Show/hide data repr'><svg class='icon xr-icon-database'><use xlink:href='#icon-database'></use></svg></label><div class='xr-array-preview xr-preview'><span>dask.array&lt;chunksize=(744, 721, 1440), meta=np.ndarray&gt;</span></div><div class='xr-array-data'><table>\n",
       "<tr>\n",
       "<td>\n",
       "<table>\n",
       "  <thead>\n",
       "    <tr><td> </td><th> Array </th><th> Chunk </th></tr>\n",
       "  </thead>\n",
       "  <tbody>\n",
       "    <tr><th> Bytes </th><td> 1.64 TiB </td> <td> 2.88 GiB </td></tr>\n",
       "    <tr><th> Shape </th><td> (434640, 721, 1440) </td> <td> (744, 721, 1440) </td></tr>\n",
       "    <tr><th> Count </th><td> 2888 Tasks </td><td> 596 Chunks </td></tr>\n",
       "    <tr><th> Type </th><td> float32 </td><td> numpy.ndarray </td></tr>\n",
       "  </tbody>\n",
       "</table>\n",
       "</td>\n",
       "<td>\n",
       "<svg width=\"156\" height=\"146\" style=\"stroke:rgb(0,0,0);stroke-width:1\" >\n",
       "\n",
       "  <!-- Horizontal lines -->\n",
       "  <line x1=\"10\" y1=\"0\" x2=\"80\" y2=\"70\" style=\"stroke-width:2\" />\n",
       "  <line x1=\"10\" y1=\"25\" x2=\"80\" y2=\"96\" style=\"stroke-width:2\" />\n",
       "\n",
       "  <!-- Vertical lines -->\n",
       "  <line x1=\"10\" y1=\"0\" x2=\"10\" y2=\"25\" style=\"stroke-width:2\" />\n",
       "  <line x1=\"13\" y1=\"3\" x2=\"13\" y2=\"29\" />\n",
       "  <line x1=\"17\" y1=\"7\" x2=\"17\" y2=\"32\" />\n",
       "  <line x1=\"21\" y1=\"11\" x2=\"21\" y2=\"36\" />\n",
       "  <line x1=\"24\" y1=\"14\" x2=\"24\" y2=\"40\" />\n",
       "  <line x1=\"28\" y1=\"18\" x2=\"28\" y2=\"43\" />\n",
       "  <line x1=\"32\" y1=\"22\" x2=\"32\" y2=\"47\" />\n",
       "  <line x1=\"35\" y1=\"25\" x2=\"35\" y2=\"51\" />\n",
       "  <line x1=\"39\" y1=\"29\" x2=\"39\" y2=\"55\" />\n",
       "  <line x1=\"43\" y1=\"33\" x2=\"43\" y2=\"58\" />\n",
       "  <line x1=\"47\" y1=\"37\" x2=\"47\" y2=\"62\" />\n",
       "  <line x1=\"50\" y1=\"40\" x2=\"50\" y2=\"66\" />\n",
       "  <line x1=\"54\" y1=\"44\" x2=\"54\" y2=\"70\" />\n",
       "  <line x1=\"58\" y1=\"48\" x2=\"58\" y2=\"73\" />\n",
       "  <line x1=\"62\" y1=\"52\" x2=\"62\" y2=\"77\" />\n",
       "  <line x1=\"65\" y1=\"55\" x2=\"65\" y2=\"81\" />\n",
       "  <line x1=\"69\" y1=\"59\" x2=\"69\" y2=\"84\" />\n",
       "  <line x1=\"73\" y1=\"63\" x2=\"73\" y2=\"88\" />\n",
       "  <line x1=\"76\" y1=\"66\" x2=\"76\" y2=\"92\" />\n",
       "  <line x1=\"80\" y1=\"70\" x2=\"80\" y2=\"96\" style=\"stroke-width:2\" />\n",
       "\n",
       "  <!-- Colored Rectangle -->\n",
       "  <polygon points=\"10.0,0.0 80.58823529411765,70.58823529411765 80.58823529411765,96.00085180870013 10.0,25.41261651458249\" style=\"fill:#8B4903A0;stroke-width:0\"/>\n",
       "\n",
       "  <!-- Horizontal lines -->\n",
       "  <line x1=\"10\" y1=\"0\" x2=\"35\" y2=\"0\" style=\"stroke-width:2\" />\n",
       "  <line x1=\"13\" y1=\"3\" x2=\"39\" y2=\"3\" />\n",
       "  <line x1=\"17\" y1=\"7\" x2=\"42\" y2=\"7\" />\n",
       "  <line x1=\"21\" y1=\"11\" x2=\"46\" y2=\"11\" />\n",
       "  <line x1=\"24\" y1=\"14\" x2=\"50\" y2=\"14\" />\n",
       "  <line x1=\"28\" y1=\"18\" x2=\"53\" y2=\"18\" />\n",
       "  <line x1=\"32\" y1=\"22\" x2=\"57\" y2=\"22\" />\n",
       "  <line x1=\"35\" y1=\"25\" x2=\"61\" y2=\"25\" />\n",
       "  <line x1=\"39\" y1=\"29\" x2=\"65\" y2=\"29\" />\n",
       "  <line x1=\"43\" y1=\"33\" x2=\"68\" y2=\"33\" />\n",
       "  <line x1=\"47\" y1=\"37\" x2=\"72\" y2=\"37\" />\n",
       "  <line x1=\"50\" y1=\"40\" x2=\"76\" y2=\"40\" />\n",
       "  <line x1=\"54\" y1=\"44\" x2=\"80\" y2=\"44\" />\n",
       "  <line x1=\"58\" y1=\"48\" x2=\"83\" y2=\"48\" />\n",
       "  <line x1=\"62\" y1=\"52\" x2=\"87\" y2=\"52\" />\n",
       "  <line x1=\"65\" y1=\"55\" x2=\"91\" y2=\"55\" />\n",
       "  <line x1=\"69\" y1=\"59\" x2=\"94\" y2=\"59\" />\n",
       "  <line x1=\"73\" y1=\"63\" x2=\"98\" y2=\"63\" />\n",
       "  <line x1=\"76\" y1=\"66\" x2=\"102\" y2=\"66\" />\n",
       "  <line x1=\"80\" y1=\"70\" x2=\"106\" y2=\"70\" style=\"stroke-width:2\" />\n",
       "\n",
       "  <!-- Vertical lines -->\n",
       "  <line x1=\"10\" y1=\"0\" x2=\"80\" y2=\"70\" style=\"stroke-width:2\" />\n",
       "  <line x1=\"35\" y1=\"0\" x2=\"106\" y2=\"70\" style=\"stroke-width:2\" />\n",
       "\n",
       "  <!-- Colored Rectangle -->\n",
       "  <polygon points=\"10.0,0.0 35.41261651458249,0.0 106.00085180870013,70.58823529411765 80.58823529411765,70.58823529411765\" style=\"fill:#8B4903A0;stroke-width:0\"/>\n",
       "\n",
       "  <!-- Horizontal lines -->\n",
       "  <line x1=\"80\" y1=\"70\" x2=\"106\" y2=\"70\" style=\"stroke-width:2\" />\n",
       "  <line x1=\"80\" y1=\"96\" x2=\"106\" y2=\"96\" style=\"stroke-width:2\" />\n",
       "\n",
       "  <!-- Vertical lines -->\n",
       "  <line x1=\"80\" y1=\"70\" x2=\"80\" y2=\"96\" style=\"stroke-width:2\" />\n",
       "  <line x1=\"106\" y1=\"70\" x2=\"106\" y2=\"96\" style=\"stroke-width:2\" />\n",
       "\n",
       "  <!-- Colored Rectangle -->\n",
       "  <polygon points=\"80.58823529411765,70.58823529411765 106.00085180870013,70.58823529411765 106.00085180870013,96.00085180870013 80.58823529411765,96.00085180870013\" style=\"fill:#ECB172A0;stroke-width:0\"/>\n",
       "\n",
       "  <!-- Text -->\n",
       "  <text x=\"93.294544\" y=\"116.000852\" font-size=\"1.0rem\" font-weight=\"100\" text-anchor=\"middle\" >1440</text>\n",
       "  <text x=\"126.000852\" y=\"83.294544\" font-size=\"1.0rem\" font-weight=\"100\" text-anchor=\"middle\" transform=\"rotate(-90,126.000852,83.294544)\">721</text>\n",
       "  <text x=\"35.294118\" y=\"80.706734\" font-size=\"1.0rem\" font-weight=\"100\" text-anchor=\"middle\" transform=\"rotate(45,35.294118,80.706734)\">434640</text>\n",
       "</svg>\n",
       "</td>\n",
       "</tr>\n",
       "</table></div></div></li><li class='xr-section-item'><input id='section-894aacb9-a21c-4887-9a61-7d2b25ae48fa' class='xr-section-summary-in' type='checkbox'  checked><label for='section-894aacb9-a21c-4887-9a61-7d2b25ae48fa' class='xr-section-summary' >Coordinates: <span>(3)</span></label><div class='xr-section-inline-details'></div><div class='xr-section-details'><ul class='xr-var-list'><li class='xr-var-item'><div class='xr-var-name'><span class='xr-has-index'>latitude</span></div><div class='xr-var-dims'>(latitude)</div><div class='xr-var-dtype'>float64</div><div class='xr-var-preview xr-preview'>90.0 89.75 89.5 ... -89.75 -90.0</div><input id='attrs-87d2c000-149c-42e3-b9bb-be72b7ac35f0' class='xr-var-attrs-in' type='checkbox' ><label for='attrs-87d2c000-149c-42e3-b9bb-be72b7ac35f0' title='Show/Hide attributes'><svg class='icon xr-icon-file-text2'><use xlink:href='#icon-file-text2'></use></svg></label><input id='data-598d0eef-4edc-48c6-b144-c087ff94290a' class='xr-var-data-in' type='checkbox'><label for='data-598d0eef-4edc-48c6-b144-c087ff94290a' title='Show/Hide data repr'><svg class='icon xr-icon-database'><use xlink:href='#icon-database'></use></svg></label><div class='xr-var-attrs'><dl class='xr-attrs'><dt><span>long_name :</span></dt><dd>latitude</dd><dt><span>short_name :</span></dt><dd>lat</dd><dt><span>units :</span></dt><dd>degrees_north</dd></dl></div><div class='xr-var-data'><pre>array([ 90.  ,  89.75,  89.5 , ..., -89.5 , -89.75, -90.  ])</pre></div></li><li class='xr-var-item'><div class='xr-var-name'><span class='xr-has-index'>longitude</span></div><div class='xr-var-dims'>(longitude)</div><div class='xr-var-dtype'>float64</div><div class='xr-var-preview xr-preview'>0.0 0.25 0.5 ... 359.2 359.5 359.8</div><input id='attrs-193da4a0-8ff2-4ef6-a361-30cedf96e35c' class='xr-var-attrs-in' type='checkbox' ><label for='attrs-193da4a0-8ff2-4ef6-a361-30cedf96e35c' title='Show/Hide attributes'><svg class='icon xr-icon-file-text2'><use xlink:href='#icon-file-text2'></use></svg></label><input id='data-131517a9-75d6-40a2-8e37-c4b72138fcaf' class='xr-var-data-in' type='checkbox'><label for='data-131517a9-75d6-40a2-8e37-c4b72138fcaf' title='Show/Hide data repr'><svg class='icon xr-icon-database'><use xlink:href='#icon-database'></use></svg></label><div class='xr-var-attrs'><dl class='xr-attrs'><dt><span>long_name :</span></dt><dd>longitude</dd><dt><span>short_name :</span></dt><dd>lon</dd><dt><span>units :</span></dt><dd>degrees_east</dd></dl></div><div class='xr-var-data'><pre>array([0.0000e+00, 2.5000e-01, 5.0000e-01, ..., 3.5925e+02, 3.5950e+02,\n",
       "       3.5975e+02])</pre></div></li><li class='xr-var-item'><div class='xr-var-name'><span class='xr-has-index'>time</span></div><div class='xr-var-dims'>(time)</div><div class='xr-var-dtype'>datetime64[ns]</div><div class='xr-var-preview xr-preview'>1973-01-01 ... 2022-08-01T23:00:00</div><input id='attrs-95129ae3-53d2-45a0-8df7-ce0481c41417' class='xr-var-attrs-in' type='checkbox' ><label for='attrs-95129ae3-53d2-45a0-8df7-ce0481c41417' title='Show/Hide attributes'><svg class='icon xr-icon-file-text2'><use xlink:href='#icon-file-text2'></use></svg></label><input id='data-3cd5edd4-4c12-40a4-b824-57c508ac1f11' class='xr-var-data-in' type='checkbox'><label for='data-3cd5edd4-4c12-40a4-b824-57c508ac1f11' title='Show/Hide data repr'><svg class='icon xr-icon-database'><use xlink:href='#icon-database'></use></svg></label><div class='xr-var-attrs'><dl class='xr-attrs'><dt><span>long_name :</span></dt><dd>time</dd></dl></div><div class='xr-var-data'><pre>array([&#x27;1973-01-01T00:00:00.000000000&#x27;, &#x27;1973-01-01T01:00:00.000000000&#x27;,\n",
       "       &#x27;1973-01-01T02:00:00.000000000&#x27;, ..., &#x27;2022-08-01T21:00:00.000000000&#x27;,\n",
       "       &#x27;2022-08-01T22:00:00.000000000&#x27;, &#x27;2022-08-01T23:00:00.000000000&#x27;],\n",
       "      dtype=&#x27;datetime64[ns]&#x27;)</pre></div></li></ul></div></li><li class='xr-section-item'><input id='section-a31f7477-e58e-41ce-8038-8ae499a7de46' class='xr-section-summary-in' type='checkbox'  ><label for='section-a31f7477-e58e-41ce-8038-8ae499a7de46' class='xr-section-summary' >Attributes: <span>(14)</span></label><div class='xr-section-inline-details'></div><div class='xr-section-details'><dl class='xr-attrs'><dt><span>long_name :</span></dt><dd>Skin temperature</dd><dt><span>short_name :</span></dt><dd>skt</dd><dt><span>units :</span></dt><dd>K</dd><dt><span>original_format :</span></dt><dd>WMO GRIB 1 with ECMWF local table</dd><dt><span>ecmwf_local_table :</span></dt><dd>128</dd><dt><span>ecmwf_parameter :</span></dt><dd>235</dd><dt><span>minimum_value :</span></dt><dd>207.77914</dd><dt><span>maximum_value :</span></dt><dd>347.40265</dd><dt><span>grid_specification :</span></dt><dd>0.25 degree x 0.25 degree from 90N to 90S and 0E to 359.75E (721 x 1440 Latitude/Longitude)</dd><dt><span>rda_dataset :</span></dt><dd>ds633.0</dd><dt><span>rda_dataset_url :</span></dt><dd>https:/rda.ucar.edu/datasets/ds633.0/</dd><dt><span>rda_dataset_doi :</span></dt><dd>DOI: 10.5065/BH6N-5N20</dd><dt><span>rda_dataset_group :</span></dt><dd>ERA5 atmospheric surface analysis [netCDF4]</dd><dt><span>QuantizeGranularBitGroomNumberOfSignificantDigits :</span></dt><dd>7</dd></dl></div></li></ul></div></div>"
      ],
      "text/plain": [
       "<xarray.DataArray 'SKT' (time: 434640, latitude: 721, longitude: 1440)>\n",
       "dask.array<getitem, shape=(434640, 721, 1440), dtype=float32, chunksize=(744, 721, 1440), chunktype=numpy.ndarray>\n",
       "Coordinates:\n",
       "  * latitude   (latitude) float64 90.0 89.75 89.5 89.25 ... -89.5 -89.75 -90.0\n",
       "  * longitude  (longitude) float64 0.0 0.25 0.5 0.75 ... 359.0 359.2 359.5 359.8\n",
       "  * time       (time) datetime64[ns] 1973-01-01 ... 2022-08-01T23:00:00\n",
       "Attributes: (12/14)\n",
       "    long_name:                                          Skin temperature\n",
       "    short_name:                                         skt\n",
       "    units:                                              K\n",
       "    original_format:                                    WMO GRIB 1 with ECMWF...\n",
       "    ecmwf_local_table:                                  128\n",
       "    ecmwf_parameter:                                    235\n",
       "    ...                                                 ...\n",
       "    grid_specification:                                 0.25 degree x 0.25 de...\n",
       "    rda_dataset:                                        ds633.0\n",
       "    rda_dataset_url:                                    https:/rda.ucar.edu/d...\n",
       "    rda_dataset_doi:                                    DOI: 10.5065/BH6N-5N20\n",
       "    rda_dataset_group:                                  ERA5 atmospheric surf...\n",
       "    QuantizeGranularBitGroomNumberOfSignificantDigits:  7"
      ]
     },
     "execution_count": 4,
     "metadata": {},
     "output_type": "execute_result"
    }
   ],
   "source": [
    "ds_"
   ]
  },
  {
   "cell_type": "markdown",
   "id": "bda9c6f2-98a0-4bb8-91f9-bc1376814b81",
   "metadata": {},
   "source": [
    "## Open NOAA KMIA station data"
   ]
  },
  {
   "cell_type": "code",
   "execution_count": 5,
   "id": "f1fe2d68-67b9-4545-868e-f51a03a6a391",
   "metadata": {},
   "outputs": [],
   "source": [
    "MIA_temp = pd.read_csv('/glade/scratch/molina/3043171.csv', low_memory=False)"
   ]
  },
  {
   "cell_type": "code",
   "execution_count": 6,
   "id": "6fe54420-b25c-486c-9bbe-7a1ed6f893ff",
   "metadata": {},
   "outputs": [],
   "source": [
    "# subset the data using dates of interest (what is available in ERA5)\n",
    "MIA_temp = MIA_temp.iloc[:564195]"
   ]
  },
  {
   "cell_type": "code",
   "execution_count": 7,
   "id": "49bbbccd-74b9-4301-baa2-90f9699b20eb",
   "metadata": {},
   "outputs": [
    {
     "data": {
      "text/html": [
       "<div>\n",
       "<style scoped>\n",
       "    .dataframe tbody tr th:only-of-type {\n",
       "        vertical-align: middle;\n",
       "    }\n",
       "\n",
       "    .dataframe tbody tr th {\n",
       "        vertical-align: top;\n",
       "    }\n",
       "\n",
       "    .dataframe thead th {\n",
       "        text-align: right;\n",
       "    }\n",
       "</style>\n",
       "<table border=\"1\" class=\"dataframe\">\n",
       "  <thead>\n",
       "    <tr style=\"text-align: right;\">\n",
       "      <th></th>\n",
       "      <th>STATION</th>\n",
       "      <th>NAME</th>\n",
       "      <th>LATITUDE</th>\n",
       "      <th>LONGITUDE</th>\n",
       "      <th>ELEVATION</th>\n",
       "      <th>DATE</th>\n",
       "      <th>SOURCE</th>\n",
       "      <th>REPORT_TYPE</th>\n",
       "      <th>CALL_SIGN</th>\n",
       "      <th>QUALITY_CONTROL</th>\n",
       "      <th>...</th>\n",
       "      <th>SA1</th>\n",
       "      <th>SLP</th>\n",
       "      <th>SOURCE.1</th>\n",
       "      <th>TMP</th>\n",
       "      <th>UA1</th>\n",
       "      <th>UG1</th>\n",
       "      <th>VIS</th>\n",
       "      <th>WA1</th>\n",
       "      <th>WG1</th>\n",
       "      <th>WND</th>\n",
       "    </tr>\n",
       "  </thead>\n",
       "  <tbody>\n",
       "    <tr>\n",
       "      <th>0</th>\n",
       "      <td>72202012839</td>\n",
       "      <td>MIAMI INTERNATIONAL AIRPORT, FL US</td>\n",
       "      <td>25.78810</td>\n",
       "      <td>-80.31690</td>\n",
       "      <td>8.8</td>\n",
       "      <td>1973-01-01T00:00:00</td>\n",
       "      <td>C</td>\n",
       "      <td>SY-SA</td>\n",
       "      <td>MIA</td>\n",
       "      <td>V020</td>\n",
       "      <td>...</td>\n",
       "      <td>NaN</td>\n",
       "      <td>10177,5</td>\n",
       "      <td>C</td>\n",
       "      <td>+0244,5</td>\n",
       "      <td>NaN</td>\n",
       "      <td>NaN</td>\n",
       "      <td>016000,5,N,9</td>\n",
       "      <td>NaN</td>\n",
       "      <td>NaN</td>\n",
       "      <td>090,5,N,0026,5</td>\n",
       "    </tr>\n",
       "    <tr>\n",
       "      <th>1</th>\n",
       "      <td>72202012839</td>\n",
       "      <td>MIAMI INTERNATIONAL AIRPORT, FL US</td>\n",
       "      <td>25.78810</td>\n",
       "      <td>-80.31690</td>\n",
       "      <td>8.8</td>\n",
       "      <td>1973-01-01T01:00:00</td>\n",
       "      <td>C</td>\n",
       "      <td>SAO</td>\n",
       "      <td>MIA</td>\n",
       "      <td>V020</td>\n",
       "      <td>...</td>\n",
       "      <td>NaN</td>\n",
       "      <td>10182,5</td>\n",
       "      <td>C</td>\n",
       "      <td>+0239,5</td>\n",
       "      <td>NaN</td>\n",
       "      <td>NaN</td>\n",
       "      <td>016000,5,N,9</td>\n",
       "      <td>NaN</td>\n",
       "      <td>NaN</td>\n",
       "      <td>090,5,N,0036,5</td>\n",
       "    </tr>\n",
       "    <tr>\n",
       "      <th>564193</th>\n",
       "      <td>72202012839</td>\n",
       "      <td>MIAMI INTERNATIONAL AIRPORT, FL US</td>\n",
       "      <td>25.78805</td>\n",
       "      <td>-80.31694</td>\n",
       "      <td>1.4</td>\n",
       "      <td>2022-08-01T22:53:00</td>\n",
       "      <td>6</td>\n",
       "      <td>FM-15</td>\n",
       "      <td>KMIA</td>\n",
       "      <td>V020</td>\n",
       "      <td>...</td>\n",
       "      <td>NaN</td>\n",
       "      <td>10197,5</td>\n",
       "      <td>6</td>\n",
       "      <td>+0300,5</td>\n",
       "      <td>NaN</td>\n",
       "      <td>NaN</td>\n",
       "      <td>016093,5,N,5</td>\n",
       "      <td>NaN</td>\n",
       "      <td>NaN</td>\n",
       "      <td>090,5,N,0046,5</td>\n",
       "    </tr>\n",
       "    <tr>\n",
       "      <th>564194</th>\n",
       "      <td>72202012839</td>\n",
       "      <td>MIAMI INTERNATIONAL AIRPORT, FL US</td>\n",
       "      <td>25.78805</td>\n",
       "      <td>-80.31694</td>\n",
       "      <td>1.4</td>\n",
       "      <td>2022-08-01T23:53:00</td>\n",
       "      <td>6</td>\n",
       "      <td>FM-15</td>\n",
       "      <td>KMIA</td>\n",
       "      <td>V020</td>\n",
       "      <td>...</td>\n",
       "      <td>NaN</td>\n",
       "      <td>10196,5</td>\n",
       "      <td>6</td>\n",
       "      <td>+0294,5</td>\n",
       "      <td>NaN</td>\n",
       "      <td>NaN</td>\n",
       "      <td>016093,5,N,5</td>\n",
       "      <td>NaN</td>\n",
       "      <td>NaN</td>\n",
       "      <td>100,5,N,0051,5</td>\n",
       "    </tr>\n",
       "  </tbody>\n",
       "</table>\n",
       "<p>4 rows × 128 columns</p>\n",
       "</div>"
      ],
      "text/plain": [
       "            STATION                                NAME  LATITUDE  LONGITUDE  \\\n",
       "0       72202012839  MIAMI INTERNATIONAL AIRPORT, FL US  25.78810  -80.31690   \n",
       "1       72202012839  MIAMI INTERNATIONAL AIRPORT, FL US  25.78810  -80.31690   \n",
       "564193  72202012839  MIAMI INTERNATIONAL AIRPORT, FL US  25.78805  -80.31694   \n",
       "564194  72202012839  MIAMI INTERNATIONAL AIRPORT, FL US  25.78805  -80.31694   \n",
       "\n",
       "        ELEVATION                 DATE SOURCE REPORT_TYPE CALL_SIGN  \\\n",
       "0             8.8  1973-01-01T00:00:00      C       SY-SA     MIA     \n",
       "1             8.8  1973-01-01T01:00:00      C       SAO       MIA     \n",
       "564193        1.4  2022-08-01T22:53:00      6       FM-15     KMIA    \n",
       "564194        1.4  2022-08-01T23:53:00      6       FM-15     KMIA    \n",
       "\n",
       "       QUALITY_CONTROL  ...  SA1      SLP SOURCE.1      TMP  UA1  UG1  \\\n",
       "0                 V020  ...  NaN  10177,5        C  +0244,5  NaN  NaN   \n",
       "1                 V020  ...  NaN  10182,5        C  +0239,5  NaN  NaN   \n",
       "564193            V020  ...  NaN  10197,5        6  +0300,5  NaN  NaN   \n",
       "564194            V020  ...  NaN  10196,5        6  +0294,5  NaN  NaN   \n",
       "\n",
       "                 VIS  WA1  WG1             WND  \n",
       "0       016000,5,N,9  NaN  NaN  090,5,N,0026,5  \n",
       "1       016000,5,N,9  NaN  NaN  090,5,N,0036,5  \n",
       "564193  016093,5,N,5  NaN  NaN  090,5,N,0046,5  \n",
       "564194  016093,5,N,5  NaN  NaN  100,5,N,0051,5  \n",
       "\n",
       "[4 rows x 128 columns]"
      ]
     },
     "execution_count": 7,
     "metadata": {},
     "output_type": "execute_result"
    }
   ],
   "source": [
    "ends(MIA_temp, 2)"
   ]
  },
  {
   "cell_type": "code",
   "execution_count": 8,
   "id": "91dc238e-d0f5-4d3b-9ad6-056abbe47fe6",
   "metadata": {},
   "outputs": [],
   "source": [
    "time_date = []\n",
    "temperature_C = []\n",
    "\n",
    "for j, i in zip(MIA_temp['DATE'].values, MIA_temp['TMP'].values.astype(str)):\n",
    "\n",
    "    time_date.append(j)\n",
    "\n",
    "    # convert the string format to decimal format (originally in METAR code)\n",
    "    temperature_C.append(\n",
    "        float(i[0]+i.split(',')[0][2:-1]+'.'+i.split(',')[0][-1]))\n",
    "\n",
    "time_date = np.array(time_date)\n",
    "temperature_C = np.array(temperature_C)\n",
    "\n",
    "temperature_F = cel_to_far(temperature_C)\n",
    "temperature_C = cel_to_nan(temperature_C)"
   ]
  },
  {
   "cell_type": "code",
   "execution_count": 9,
   "id": "2a8a4f07-be4c-4ed8-8f8b-781a09dce496",
   "metadata": {},
   "outputs": [],
   "source": [
    "# making into dataframe for easier manipulation\n",
    "\n",
    "# initialize data of lists.\n",
    "data = {'Datetime': pd.to_datetime(time_date),\n",
    "        'Temperature_C': temperature_C,\n",
    "        'Temperature_F': temperature_F,\n",
    "        'Latitude': MIA_temp['LATITUDE'],\n",
    "        'Longitude': MIA_temp['LONGITUDE'],\n",
    "       }\n",
    "\n",
    "# Create DataFrame and quality control\n",
    "df = pd.DataFrame(data)\n",
    "#df = df.dropna()  # drop any nan values\n",
    "df = df.drop_duplicates(keep='first')\n",
    "# drop any duplicate rows\n",
    "df = df[~df['Datetime'].duplicated()].drop_duplicates()"
   ]
  },
  {
   "cell_type": "markdown",
   "id": "b6742837-8ff0-4bb1-84c0-9a425d37f55d",
   "metadata": {},
   "source": [
    "## Select temperatures from ERA5 using NOAA KMIA metadata (lat, lon, and hour)"
   ]
  },
  {
   "cell_type": "code",
   "execution_count": 10,
   "id": "d9aa1b8e-18f5-4d03-b04f-e0e2a62d3937",
   "metadata": {
    "tags": []
   },
   "outputs": [],
   "source": [
    "with warnings.catch_warnings():\n",
    "\n",
    "    warnings.simplefilter('ignore')\n",
    "\n",
    "    tmp = ds_.sel(\n",
    "        longitude=(df['Longitude'] % 360).unique()[-1], \n",
    "        latitude=df['Latitude'].unique()[-1], \n",
    "        method='nearest')"
   ]
  },
  {
   "cell_type": "code",
   "execution_count": 11,
   "id": "99d820a1-b65d-47e8-9d44-16dae7d9ce64",
   "metadata": {},
   "outputs": [
    {
     "data": {
      "text/html": [
       "<div><svg style=\"position: absolute; width: 0; height: 0; overflow: hidden\">\n",
       "<defs>\n",
       "<symbol id=\"icon-database\" viewBox=\"0 0 32 32\">\n",
       "<path d=\"M16 0c-8.837 0-16 2.239-16 5v4c0 2.761 7.163 5 16 5s16-2.239 16-5v-4c0-2.761-7.163-5-16-5z\"></path>\n",
       "<path d=\"M16 17c-8.837 0-16-2.239-16-5v6c0 2.761 7.163 5 16 5s16-2.239 16-5v-6c0 2.761-7.163 5-16 5z\"></path>\n",
       "<path d=\"M16 26c-8.837 0-16-2.239-16-5v6c0 2.761 7.163 5 16 5s16-2.239 16-5v-6c0 2.761-7.163 5-16 5z\"></path>\n",
       "</symbol>\n",
       "<symbol id=\"icon-file-text2\" viewBox=\"0 0 32 32\">\n",
       "<path d=\"M28.681 7.159c-0.694-0.947-1.662-2.053-2.724-3.116s-2.169-2.030-3.116-2.724c-1.612-1.182-2.393-1.319-2.841-1.319h-15.5c-1.378 0-2.5 1.121-2.5 2.5v27c0 1.378 1.122 2.5 2.5 2.5h23c1.378 0 2.5-1.122 2.5-2.5v-19.5c0-0.448-0.137-1.23-1.319-2.841zM24.543 5.457c0.959 0.959 1.712 1.825 2.268 2.543h-4.811v-4.811c0.718 0.556 1.584 1.309 2.543 2.268zM28 29.5c0 0.271-0.229 0.5-0.5 0.5h-23c-0.271 0-0.5-0.229-0.5-0.5v-27c0-0.271 0.229-0.5 0.5-0.5 0 0 15.499-0 15.5 0v7c0 0.552 0.448 1 1 1h7v19.5z\"></path>\n",
       "<path d=\"M23 26h-14c-0.552 0-1-0.448-1-1s0.448-1 1-1h14c0.552 0 1 0.448 1 1s-0.448 1-1 1z\"></path>\n",
       "<path d=\"M23 22h-14c-0.552 0-1-0.448-1-1s0.448-1 1-1h14c0.552 0 1 0.448 1 1s-0.448 1-1 1z\"></path>\n",
       "<path d=\"M23 18h-14c-0.552 0-1-0.448-1-1s0.448-1 1-1h14c0.552 0 1 0.448 1 1s-0.448 1-1 1z\"></path>\n",
       "</symbol>\n",
       "</defs>\n",
       "</svg>\n",
       "<style>/* CSS stylesheet for displaying xarray objects in jupyterlab.\n",
       " *\n",
       " */\n",
       "\n",
       ":root {\n",
       "  --xr-font-color0: var(--jp-content-font-color0, rgba(0, 0, 0, 1));\n",
       "  --xr-font-color2: var(--jp-content-font-color2, rgba(0, 0, 0, 0.54));\n",
       "  --xr-font-color3: var(--jp-content-font-color3, rgba(0, 0, 0, 0.38));\n",
       "  --xr-border-color: var(--jp-border-color2, #e0e0e0);\n",
       "  --xr-disabled-color: var(--jp-layout-color3, #bdbdbd);\n",
       "  --xr-background-color: var(--jp-layout-color0, white);\n",
       "  --xr-background-color-row-even: var(--jp-layout-color1, white);\n",
       "  --xr-background-color-row-odd: var(--jp-layout-color2, #eeeeee);\n",
       "}\n",
       "\n",
       "html[theme=dark],\n",
       "body.vscode-dark {\n",
       "  --xr-font-color0: rgba(255, 255, 255, 1);\n",
       "  --xr-font-color2: rgba(255, 255, 255, 0.54);\n",
       "  --xr-font-color3: rgba(255, 255, 255, 0.38);\n",
       "  --xr-border-color: #1F1F1F;\n",
       "  --xr-disabled-color: #515151;\n",
       "  --xr-background-color: #111111;\n",
       "  --xr-background-color-row-even: #111111;\n",
       "  --xr-background-color-row-odd: #313131;\n",
       "}\n",
       "\n",
       ".xr-wrap {\n",
       "  display: block;\n",
       "  min-width: 300px;\n",
       "  max-width: 700px;\n",
       "}\n",
       "\n",
       ".xr-text-repr-fallback {\n",
       "  /* fallback to plain text repr when CSS is not injected (untrusted notebook) */\n",
       "  display: none;\n",
       "}\n",
       "\n",
       ".xr-header {\n",
       "  padding-top: 6px;\n",
       "  padding-bottom: 6px;\n",
       "  margin-bottom: 4px;\n",
       "  border-bottom: solid 1px var(--xr-border-color);\n",
       "}\n",
       "\n",
       ".xr-header > div,\n",
       ".xr-header > ul {\n",
       "  display: inline;\n",
       "  margin-top: 0;\n",
       "  margin-bottom: 0;\n",
       "}\n",
       "\n",
       ".xr-obj-type,\n",
       ".xr-array-name {\n",
       "  margin-left: 2px;\n",
       "  margin-right: 10px;\n",
       "}\n",
       "\n",
       ".xr-obj-type {\n",
       "  color: var(--xr-font-color2);\n",
       "}\n",
       "\n",
       ".xr-sections {\n",
       "  padding-left: 0 !important;\n",
       "  display: grid;\n",
       "  grid-template-columns: 150px auto auto 1fr 20px 20px;\n",
       "}\n",
       "\n",
       ".xr-section-item {\n",
       "  display: contents;\n",
       "}\n",
       "\n",
       ".xr-section-item input {\n",
       "  display: none;\n",
       "}\n",
       "\n",
       ".xr-section-item input + label {\n",
       "  color: var(--xr-disabled-color);\n",
       "}\n",
       "\n",
       ".xr-section-item input:enabled + label {\n",
       "  cursor: pointer;\n",
       "  color: var(--xr-font-color2);\n",
       "}\n",
       "\n",
       ".xr-section-item input:enabled + label:hover {\n",
       "  color: var(--xr-font-color0);\n",
       "}\n",
       "\n",
       ".xr-section-summary {\n",
       "  grid-column: 1;\n",
       "  color: var(--xr-font-color2);\n",
       "  font-weight: 500;\n",
       "}\n",
       "\n",
       ".xr-section-summary > span {\n",
       "  display: inline-block;\n",
       "  padding-left: 0.5em;\n",
       "}\n",
       "\n",
       ".xr-section-summary-in:disabled + label {\n",
       "  color: var(--xr-font-color2);\n",
       "}\n",
       "\n",
       ".xr-section-summary-in + label:before {\n",
       "  display: inline-block;\n",
       "  content: '►';\n",
       "  font-size: 11px;\n",
       "  width: 15px;\n",
       "  text-align: center;\n",
       "}\n",
       "\n",
       ".xr-section-summary-in:disabled + label:before {\n",
       "  color: var(--xr-disabled-color);\n",
       "}\n",
       "\n",
       ".xr-section-summary-in:checked + label:before {\n",
       "  content: '▼';\n",
       "}\n",
       "\n",
       ".xr-section-summary-in:checked + label > span {\n",
       "  display: none;\n",
       "}\n",
       "\n",
       ".xr-section-summary,\n",
       ".xr-section-inline-details {\n",
       "  padding-top: 4px;\n",
       "  padding-bottom: 4px;\n",
       "}\n",
       "\n",
       ".xr-section-inline-details {\n",
       "  grid-column: 2 / -1;\n",
       "}\n",
       "\n",
       ".xr-section-details {\n",
       "  display: none;\n",
       "  grid-column: 1 / -1;\n",
       "  margin-bottom: 5px;\n",
       "}\n",
       "\n",
       ".xr-section-summary-in:checked ~ .xr-section-details {\n",
       "  display: contents;\n",
       "}\n",
       "\n",
       ".xr-array-wrap {\n",
       "  grid-column: 1 / -1;\n",
       "  display: grid;\n",
       "  grid-template-columns: 20px auto;\n",
       "}\n",
       "\n",
       ".xr-array-wrap > label {\n",
       "  grid-column: 1;\n",
       "  vertical-align: top;\n",
       "}\n",
       "\n",
       ".xr-preview {\n",
       "  color: var(--xr-font-color3);\n",
       "}\n",
       "\n",
       ".xr-array-preview,\n",
       ".xr-array-data {\n",
       "  padding: 0 5px !important;\n",
       "  grid-column: 2;\n",
       "}\n",
       "\n",
       ".xr-array-data,\n",
       ".xr-array-in:checked ~ .xr-array-preview {\n",
       "  display: none;\n",
       "}\n",
       "\n",
       ".xr-array-in:checked ~ .xr-array-data,\n",
       ".xr-array-preview {\n",
       "  display: inline-block;\n",
       "}\n",
       "\n",
       ".xr-dim-list {\n",
       "  display: inline-block !important;\n",
       "  list-style: none;\n",
       "  padding: 0 !important;\n",
       "  margin: 0;\n",
       "}\n",
       "\n",
       ".xr-dim-list li {\n",
       "  display: inline-block;\n",
       "  padding: 0;\n",
       "  margin: 0;\n",
       "}\n",
       "\n",
       ".xr-dim-list:before {\n",
       "  content: '(';\n",
       "}\n",
       "\n",
       ".xr-dim-list:after {\n",
       "  content: ')';\n",
       "}\n",
       "\n",
       ".xr-dim-list li:not(:last-child):after {\n",
       "  content: ',';\n",
       "  padding-right: 5px;\n",
       "}\n",
       "\n",
       ".xr-has-index {\n",
       "  font-weight: bold;\n",
       "}\n",
       "\n",
       ".xr-var-list,\n",
       ".xr-var-item {\n",
       "  display: contents;\n",
       "}\n",
       "\n",
       ".xr-var-item > div,\n",
       ".xr-var-item label,\n",
       ".xr-var-item > .xr-var-name span {\n",
       "  background-color: var(--xr-background-color-row-even);\n",
       "  margin-bottom: 0;\n",
       "}\n",
       "\n",
       ".xr-var-item > .xr-var-name:hover span {\n",
       "  padding-right: 5px;\n",
       "}\n",
       "\n",
       ".xr-var-list > li:nth-child(odd) > div,\n",
       ".xr-var-list > li:nth-child(odd) > label,\n",
       ".xr-var-list > li:nth-child(odd) > .xr-var-name span {\n",
       "  background-color: var(--xr-background-color-row-odd);\n",
       "}\n",
       "\n",
       ".xr-var-name {\n",
       "  grid-column: 1;\n",
       "}\n",
       "\n",
       ".xr-var-dims {\n",
       "  grid-column: 2;\n",
       "}\n",
       "\n",
       ".xr-var-dtype {\n",
       "  grid-column: 3;\n",
       "  text-align: right;\n",
       "  color: var(--xr-font-color2);\n",
       "}\n",
       "\n",
       ".xr-var-preview {\n",
       "  grid-column: 4;\n",
       "}\n",
       "\n",
       ".xr-var-name,\n",
       ".xr-var-dims,\n",
       ".xr-var-dtype,\n",
       ".xr-preview,\n",
       ".xr-attrs dt {\n",
       "  white-space: nowrap;\n",
       "  overflow: hidden;\n",
       "  text-overflow: ellipsis;\n",
       "  padding-right: 10px;\n",
       "}\n",
       "\n",
       ".xr-var-name:hover,\n",
       ".xr-var-dims:hover,\n",
       ".xr-var-dtype:hover,\n",
       ".xr-attrs dt:hover {\n",
       "  overflow: visible;\n",
       "  width: auto;\n",
       "  z-index: 1;\n",
       "}\n",
       "\n",
       ".xr-var-attrs,\n",
       ".xr-var-data {\n",
       "  display: none;\n",
       "  background-color: var(--xr-background-color) !important;\n",
       "  padding-bottom: 5px !important;\n",
       "}\n",
       "\n",
       ".xr-var-attrs-in:checked ~ .xr-var-attrs,\n",
       ".xr-var-data-in:checked ~ .xr-var-data {\n",
       "  display: block;\n",
       "}\n",
       "\n",
       ".xr-var-data > table {\n",
       "  float: right;\n",
       "}\n",
       "\n",
       ".xr-var-name span,\n",
       ".xr-var-data,\n",
       ".xr-attrs {\n",
       "  padding-left: 25px !important;\n",
       "}\n",
       "\n",
       ".xr-attrs,\n",
       ".xr-var-attrs,\n",
       ".xr-var-data {\n",
       "  grid-column: 1 / -1;\n",
       "}\n",
       "\n",
       "dl.xr-attrs {\n",
       "  padding: 0;\n",
       "  margin: 0;\n",
       "  display: grid;\n",
       "  grid-template-columns: 125px auto;\n",
       "}\n",
       "\n",
       ".xr-attrs dt,\n",
       ".xr-attrs dd {\n",
       "  padding: 0;\n",
       "  margin: 0;\n",
       "  float: left;\n",
       "  padding-right: 10px;\n",
       "  width: auto;\n",
       "}\n",
       "\n",
       ".xr-attrs dt {\n",
       "  font-weight: normal;\n",
       "  grid-column: 1;\n",
       "}\n",
       "\n",
       ".xr-attrs dt:hover span {\n",
       "  display: inline-block;\n",
       "  background: var(--xr-background-color);\n",
       "  padding-right: 10px;\n",
       "}\n",
       "\n",
       ".xr-attrs dd {\n",
       "  grid-column: 2;\n",
       "  white-space: pre-wrap;\n",
       "  word-break: break-all;\n",
       "}\n",
       "\n",
       ".xr-icon-database,\n",
       ".xr-icon-file-text2 {\n",
       "  display: inline-block;\n",
       "  vertical-align: middle;\n",
       "  width: 1em;\n",
       "  height: 1.5em !important;\n",
       "  stroke-width: 0;\n",
       "  stroke: currentColor;\n",
       "  fill: currentColor;\n",
       "}\n",
       "</style><pre class='xr-text-repr-fallback'>&lt;xarray.DataArray &#x27;SKT&#x27; (time: 434640)&gt;\n",
       "dask.array&lt;getitem, shape=(434640,), dtype=float32, chunksize=(744,), chunktype=numpy.ndarray&gt;\n",
       "Coordinates:\n",
       "    latitude   float64 25.75\n",
       "    longitude  float64 279.8\n",
       "  * time       (time) datetime64[ns] 1973-01-01 ... 2022-08-01T23:00:00\n",
       "Attributes: (12/14)\n",
       "    long_name:                                          Skin temperature\n",
       "    short_name:                                         skt\n",
       "    units:                                              K\n",
       "    original_format:                                    WMO GRIB 1 with ECMWF...\n",
       "    ecmwf_local_table:                                  128\n",
       "    ecmwf_parameter:                                    235\n",
       "    ...                                                 ...\n",
       "    grid_specification:                                 0.25 degree x 0.25 de...\n",
       "    rda_dataset:                                        ds633.0\n",
       "    rda_dataset_url:                                    https:/rda.ucar.edu/d...\n",
       "    rda_dataset_doi:                                    DOI: 10.5065/BH6N-5N20\n",
       "    rda_dataset_group:                                  ERA5 atmospheric surf...\n",
       "    QuantizeGranularBitGroomNumberOfSignificantDigits:  7</pre><div class='xr-wrap' hidden><div class='xr-header'><div class='xr-obj-type'>xarray.DataArray</div><div class='xr-array-name'>'SKT'</div><ul class='xr-dim-list'><li><span class='xr-has-index'>time</span>: 434640</li></ul></div><ul class='xr-sections'><li class='xr-section-item'><div class='xr-array-wrap'><input id='section-f81de317-aeb4-4c1b-8d05-cd0f25ad45fe' class='xr-array-in' type='checkbox' checked><label for='section-f81de317-aeb4-4c1b-8d05-cd0f25ad45fe' title='Show/hide data repr'><svg class='icon xr-icon-database'><use xlink:href='#icon-database'></use></svg></label><div class='xr-array-preview xr-preview'><span>dask.array&lt;chunksize=(744,), meta=np.ndarray&gt;</span></div><div class='xr-array-data'><table>\n",
       "<tr>\n",
       "<td>\n",
       "<table>\n",
       "  <thead>\n",
       "    <tr><td> </td><th> Array </th><th> Chunk </th></tr>\n",
       "  </thead>\n",
       "  <tbody>\n",
       "    <tr><th> Bytes </th><td> 1.66 MiB </td> <td> 2.91 kiB </td></tr>\n",
       "    <tr><th> Shape </th><td> (434640,) </td> <td> (744,) </td></tr>\n",
       "    <tr><th> Count </th><td> 3484 Tasks </td><td> 596 Chunks </td></tr>\n",
       "    <tr><th> Type </th><td> float32 </td><td> numpy.ndarray </td></tr>\n",
       "  </tbody>\n",
       "</table>\n",
       "</td>\n",
       "<td>\n",
       "<svg width=\"170\" height=\"75\" style=\"stroke:rgb(0,0,0);stroke-width:1\" >\n",
       "\n",
       "  <!-- Horizontal lines -->\n",
       "  <line x1=\"0\" y1=\"0\" x2=\"120\" y2=\"0\" style=\"stroke-width:2\" />\n",
       "  <line x1=\"0\" y1=\"25\" x2=\"120\" y2=\"25\" style=\"stroke-width:2\" />\n",
       "\n",
       "  <!-- Vertical lines -->\n",
       "  <line x1=\"0\" y1=\"0\" x2=\"0\" y2=\"25\" style=\"stroke-width:2\" />\n",
       "  <line x1=\"6\" y1=\"0\" x2=\"6\" y2=\"25\" />\n",
       "  <line x1=\"12\" y1=\"0\" x2=\"12\" y2=\"25\" />\n",
       "  <line x1=\"18\" y1=\"0\" x2=\"18\" y2=\"25\" />\n",
       "  <line x1=\"25\" y1=\"0\" x2=\"25\" y2=\"25\" />\n",
       "  <line x1=\"31\" y1=\"0\" x2=\"31\" y2=\"25\" />\n",
       "  <line x1=\"37\" y1=\"0\" x2=\"37\" y2=\"25\" />\n",
       "  <line x1=\"44\" y1=\"0\" x2=\"44\" y2=\"25\" />\n",
       "  <line x1=\"50\" y1=\"0\" x2=\"50\" y2=\"25\" />\n",
       "  <line x1=\"56\" y1=\"0\" x2=\"56\" y2=\"25\" />\n",
       "  <line x1=\"63\" y1=\"0\" x2=\"63\" y2=\"25\" />\n",
       "  <line x1=\"69\" y1=\"0\" x2=\"69\" y2=\"25\" />\n",
       "  <line x1=\"75\" y1=\"0\" x2=\"75\" y2=\"25\" />\n",
       "  <line x1=\"82\" y1=\"0\" x2=\"82\" y2=\"25\" />\n",
       "  <line x1=\"88\" y1=\"0\" x2=\"88\" y2=\"25\" />\n",
       "  <line x1=\"94\" y1=\"0\" x2=\"94\" y2=\"25\" />\n",
       "  <line x1=\"101\" y1=\"0\" x2=\"101\" y2=\"25\" />\n",
       "  <line x1=\"107\" y1=\"0\" x2=\"107\" y2=\"25\" />\n",
       "  <line x1=\"113\" y1=\"0\" x2=\"113\" y2=\"25\" />\n",
       "  <line x1=\"120\" y1=\"0\" x2=\"120\" y2=\"25\" style=\"stroke-width:2\" />\n",
       "\n",
       "  <!-- Colored Rectangle -->\n",
       "  <polygon points=\"0.0,0.0 120.0,0.0 120.0,25.412616514582485 0.0,25.412616514582485\" style=\"fill:#8B4903A0;stroke-width:0\"/>\n",
       "\n",
       "  <!-- Text -->\n",
       "  <text x=\"60.000000\" y=\"45.412617\" font-size=\"1.0rem\" font-weight=\"100\" text-anchor=\"middle\" >434640</text>\n",
       "  <text x=\"140.000000\" y=\"12.706308\" font-size=\"1.0rem\" font-weight=\"100\" text-anchor=\"middle\" transform=\"rotate(0,140.000000,12.706308)\">1</text>\n",
       "</svg>\n",
       "</td>\n",
       "</tr>\n",
       "</table></div></div></li><li class='xr-section-item'><input id='section-03c04b0c-9279-4124-b2bc-192e9b496ccb' class='xr-section-summary-in' type='checkbox'  checked><label for='section-03c04b0c-9279-4124-b2bc-192e9b496ccb' class='xr-section-summary' >Coordinates: <span>(3)</span></label><div class='xr-section-inline-details'></div><div class='xr-section-details'><ul class='xr-var-list'><li class='xr-var-item'><div class='xr-var-name'><span>latitude</span></div><div class='xr-var-dims'>()</div><div class='xr-var-dtype'>float64</div><div class='xr-var-preview xr-preview'>25.75</div><input id='attrs-24eddda6-28b0-43ba-8613-49b8848f6da8' class='xr-var-attrs-in' type='checkbox' ><label for='attrs-24eddda6-28b0-43ba-8613-49b8848f6da8' title='Show/Hide attributes'><svg class='icon xr-icon-file-text2'><use xlink:href='#icon-file-text2'></use></svg></label><input id='data-4f8af1c4-ab05-4cad-b095-d560b8070519' class='xr-var-data-in' type='checkbox'><label for='data-4f8af1c4-ab05-4cad-b095-d560b8070519' title='Show/Hide data repr'><svg class='icon xr-icon-database'><use xlink:href='#icon-database'></use></svg></label><div class='xr-var-attrs'><dl class='xr-attrs'><dt><span>long_name :</span></dt><dd>latitude</dd><dt><span>short_name :</span></dt><dd>lat</dd><dt><span>units :</span></dt><dd>degrees_north</dd></dl></div><div class='xr-var-data'><pre>array(25.75)</pre></div></li><li class='xr-var-item'><div class='xr-var-name'><span>longitude</span></div><div class='xr-var-dims'>()</div><div class='xr-var-dtype'>float64</div><div class='xr-var-preview xr-preview'>279.8</div><input id='attrs-415f3a3a-fbf4-4015-94e5-b45971ac6671' class='xr-var-attrs-in' type='checkbox' ><label for='attrs-415f3a3a-fbf4-4015-94e5-b45971ac6671' title='Show/Hide attributes'><svg class='icon xr-icon-file-text2'><use xlink:href='#icon-file-text2'></use></svg></label><input id='data-1725b2fc-54d3-4b83-b71e-16e2f6cc66e9' class='xr-var-data-in' type='checkbox'><label for='data-1725b2fc-54d3-4b83-b71e-16e2f6cc66e9' title='Show/Hide data repr'><svg class='icon xr-icon-database'><use xlink:href='#icon-database'></use></svg></label><div class='xr-var-attrs'><dl class='xr-attrs'><dt><span>long_name :</span></dt><dd>longitude</dd><dt><span>short_name :</span></dt><dd>lon</dd><dt><span>units :</span></dt><dd>degrees_east</dd></dl></div><div class='xr-var-data'><pre>array(279.75)</pre></div></li><li class='xr-var-item'><div class='xr-var-name'><span class='xr-has-index'>time</span></div><div class='xr-var-dims'>(time)</div><div class='xr-var-dtype'>datetime64[ns]</div><div class='xr-var-preview xr-preview'>1973-01-01 ... 2022-08-01T23:00:00</div><input id='attrs-95f2bbc4-0610-4a56-ae85-6cbaf4664c93' class='xr-var-attrs-in' type='checkbox' ><label for='attrs-95f2bbc4-0610-4a56-ae85-6cbaf4664c93' title='Show/Hide attributes'><svg class='icon xr-icon-file-text2'><use xlink:href='#icon-file-text2'></use></svg></label><input id='data-7aa0c76e-c5f7-46ec-93f8-a727d40ef5aa' class='xr-var-data-in' type='checkbox'><label for='data-7aa0c76e-c5f7-46ec-93f8-a727d40ef5aa' title='Show/Hide data repr'><svg class='icon xr-icon-database'><use xlink:href='#icon-database'></use></svg></label><div class='xr-var-attrs'><dl class='xr-attrs'><dt><span>long_name :</span></dt><dd>time</dd></dl></div><div class='xr-var-data'><pre>array([&#x27;1973-01-01T00:00:00.000000000&#x27;, &#x27;1973-01-01T01:00:00.000000000&#x27;,\n",
       "       &#x27;1973-01-01T02:00:00.000000000&#x27;, ..., &#x27;2022-08-01T21:00:00.000000000&#x27;,\n",
       "       &#x27;2022-08-01T22:00:00.000000000&#x27;, &#x27;2022-08-01T23:00:00.000000000&#x27;],\n",
       "      dtype=&#x27;datetime64[ns]&#x27;)</pre></div></li></ul></div></li><li class='xr-section-item'><input id='section-d94486ac-935b-466a-96ca-ba4d1e5910e5' class='xr-section-summary-in' type='checkbox'  ><label for='section-d94486ac-935b-466a-96ca-ba4d1e5910e5' class='xr-section-summary' >Attributes: <span>(14)</span></label><div class='xr-section-inline-details'></div><div class='xr-section-details'><dl class='xr-attrs'><dt><span>long_name :</span></dt><dd>Skin temperature</dd><dt><span>short_name :</span></dt><dd>skt</dd><dt><span>units :</span></dt><dd>K</dd><dt><span>original_format :</span></dt><dd>WMO GRIB 1 with ECMWF local table</dd><dt><span>ecmwf_local_table :</span></dt><dd>128</dd><dt><span>ecmwf_parameter :</span></dt><dd>235</dd><dt><span>minimum_value :</span></dt><dd>207.77914</dd><dt><span>maximum_value :</span></dt><dd>347.40265</dd><dt><span>grid_specification :</span></dt><dd>0.25 degree x 0.25 degree from 90N to 90S and 0E to 359.75E (721 x 1440 Latitude/Longitude)</dd><dt><span>rda_dataset :</span></dt><dd>ds633.0</dd><dt><span>rda_dataset_url :</span></dt><dd>https:/rda.ucar.edu/datasets/ds633.0/</dd><dt><span>rda_dataset_doi :</span></dt><dd>DOI: 10.5065/BH6N-5N20</dd><dt><span>rda_dataset_group :</span></dt><dd>ERA5 atmospheric surface analysis [netCDF4]</dd><dt><span>QuantizeGranularBitGroomNumberOfSignificantDigits :</span></dt><dd>7</dd></dl></div></li></ul></div></div>"
      ],
      "text/plain": [
       "<xarray.DataArray 'SKT' (time: 434640)>\n",
       "dask.array<getitem, shape=(434640,), dtype=float32, chunksize=(744,), chunktype=numpy.ndarray>\n",
       "Coordinates:\n",
       "    latitude   float64 25.75\n",
       "    longitude  float64 279.8\n",
       "  * time       (time) datetime64[ns] 1973-01-01 ... 2022-08-01T23:00:00\n",
       "Attributes: (12/14)\n",
       "    long_name:                                          Skin temperature\n",
       "    short_name:                                         skt\n",
       "    units:                                              K\n",
       "    original_format:                                    WMO GRIB 1 with ECMWF...\n",
       "    ecmwf_local_table:                                  128\n",
       "    ecmwf_parameter:                                    235\n",
       "    ...                                                 ...\n",
       "    grid_specification:                                 0.25 degree x 0.25 de...\n",
       "    rda_dataset:                                        ds633.0\n",
       "    rda_dataset_url:                                    https:/rda.ucar.edu/d...\n",
       "    rda_dataset_doi:                                    DOI: 10.5065/BH6N-5N20\n",
       "    rda_dataset_group:                                  ERA5 atmospheric surf...\n",
       "    QuantizeGranularBitGroomNumberOfSignificantDigits:  7"
      ]
     },
     "execution_count": 11,
     "metadata": {},
     "output_type": "execute_result"
    }
   ],
   "source": [
    "tmp"
   ]
  },
  {
   "cell_type": "code",
   "execution_count": 12,
   "id": "20275b88-9119-4490-96c6-93a80640c2c0",
   "metadata": {},
   "outputs": [
    {
     "name": "stdout",
     "output_type": "stream",
     "text": [
      "ERA5 coordinates: 25.75 -80.25\n",
      "NOAA coordinates: [25.7881  25.7905  25.78805] [-80.3169  -80.3163  -80.31694]\n"
     ]
    }
   ],
   "source": [
    "print('ERA5 coordinates:', tmp.latitude.values, tmp.longitude.values-360)\n",
    "print('NOAA coordinates:', df['Latitude'].unique(), df['Longitude'].unique())"
   ]
  },
  {
   "cell_type": "code",
   "execution_count": 13,
   "id": "c96227b0-c43e-42c8-b201-4eb33f618e6e",
   "metadata": {},
   "outputs": [],
   "source": [
    "ERA5_temperatures_C = (tmp - 273.15).values\n",
    "\n",
    "ERA5_date = tmp.coords['time'].values\n",
    "\n",
    "ERA5_temperatures_F = cel_to_far(ERA5_temperatures_C)"
   ]
  },
  {
   "cell_type": "code",
   "execution_count": 14,
   "id": "d2285583-b19f-46a9-b05c-bafda38f4774",
   "metadata": {},
   "outputs": [],
   "source": [
    "# initialize data of lists.\n",
    "data = {'Datetime': pd.to_datetime(ERA5_date),\n",
    "        'Temperature_C': ERA5_temperatures_C,\n",
    "        'Temperature_F': ERA5_temperatures_F,\n",
    "       }\n",
    "\n",
    "df_era5 = pd.DataFrame(data)"
   ]
  },
  {
   "cell_type": "markdown",
   "id": "c6941a94-34dc-4be5-b5ca-52ec05a5558e",
   "metadata": {},
   "source": [
    "### clean up dates prior to computation of metrics"
   ]
  },
  {
   "cell_type": "code",
   "execution_count": 15,
   "id": "64be6b9e-c8ad-4249-97eb-34953bfa9d90",
   "metadata": {},
   "outputs": [
    {
     "data": {
      "text/plain": [
       "Datetime             0\n",
       "Temperature_C    40470\n",
       "Temperature_F    40470\n",
       "Latitude             0\n",
       "Longitude            0\n",
       "dtype: int64"
      ]
     },
     "execution_count": 15,
     "metadata": {},
     "output_type": "execute_result"
    }
   ],
   "source": [
    "df.isnull().sum()"
   ]
  },
  {
   "cell_type": "code",
   "execution_count": 16,
   "id": "fbf311fe-8001-4fb3-b324-44680091f928",
   "metadata": {},
   "outputs": [
    {
     "data": {
      "text/plain": [
       "Datetime         0\n",
       "Temperature_C    0\n",
       "Temperature_F    0\n",
       "dtype: int64"
      ]
     },
     "execution_count": 16,
     "metadata": {},
     "output_type": "execute_result"
    }
   ],
   "source": [
    "df_era5.isnull().sum()"
   ]
  },
  {
   "cell_type": "code",
   "execution_count": 17,
   "id": "da10cbd9-bcbe-47a9-ba51-1edefd0e592e",
   "metadata": {},
   "outputs": [],
   "source": [
    "# confirm start and end dates are the same\n",
    "assert df['Datetime'].iloc[0].date() == df_era5['Datetime'].iloc[0].date()\n",
    "assert df['Datetime'].iloc[-1].date() == df_era5['Datetime'].iloc[-1].date()"
   ]
  },
  {
   "cell_type": "markdown",
   "id": "8d3c97e5-7717-48bf-8b8d-8a91adc635c8",
   "metadata": {},
   "source": [
    "## Create new variables"
   ]
  },
  {
   "cell_type": "markdown",
   "id": "fc95e344-75cd-4040-b17a-4cfcb6c1a427",
   "metadata": {},
   "source": [
    "### Daily max and min temperatures"
   ]
  },
  {
   "cell_type": "code",
   "execution_count": 18,
   "id": "22bd739d-e18a-436f-a342-c2f634843302",
   "metadata": {},
   "outputs": [],
   "source": [
    "# Daily NOAA KMIA temperature maximum\n",
    "tmax_NOAA_daily = df.set_index('Datetime').resample('1D').max()"
   ]
  },
  {
   "cell_type": "code",
   "execution_count": 19,
   "id": "8f0825cc-5248-436a-badd-8fb7130eb4d4",
   "metadata": {},
   "outputs": [
    {
     "data": {
      "text/plain": [
       "Temperature_C    0\n",
       "Temperature_F    0\n",
       "Latitude         0\n",
       "Longitude        0\n",
       "dtype: int64"
      ]
     },
     "execution_count": 19,
     "metadata": {},
     "output_type": "execute_result"
    }
   ],
   "source": [
    "tmax_NOAA_daily.isnull().sum()"
   ]
  },
  {
   "cell_type": "code",
   "execution_count": 20,
   "id": "ca77621f-0cdf-4ba9-a482-73655edf3d00",
   "metadata": {},
   "outputs": [],
   "source": [
    "# Daily ERA5 temperature maximum\n",
    "tmax_ERA5_daily = df_era5.set_index('Datetime').resample('1D').max()"
   ]
  },
  {
   "cell_type": "code",
   "execution_count": 21,
   "id": "24044da5-2c48-4bca-915a-e04222fe3c02",
   "metadata": {},
   "outputs": [
    {
     "data": {
      "text/plain": [
       "Temperature_C    0\n",
       "Temperature_F    0\n",
       "dtype: int64"
      ]
     },
     "execution_count": 21,
     "metadata": {},
     "output_type": "execute_result"
    }
   ],
   "source": [
    "tmax_ERA5_daily.isnull().sum()"
   ]
  },
  {
   "cell_type": "code",
   "execution_count": 22,
   "id": "04761829-e4af-43e7-9c92-ea8584cdd0b3",
   "metadata": {},
   "outputs": [],
   "source": [
    "# Daily NOAA KMIA temperature minimum\n",
    "tmin_NOAA_daily = df.set_index('Datetime').resample('1D').min()"
   ]
  },
  {
   "cell_type": "code",
   "execution_count": 23,
   "id": "22ff8d69-2ac6-4eed-963a-0781f6b2b0cb",
   "metadata": {},
   "outputs": [
    {
     "data": {
      "text/plain": [
       "Temperature_C    0\n",
       "Temperature_F    0\n",
       "Latitude         0\n",
       "Longitude        0\n",
       "dtype: int64"
      ]
     },
     "execution_count": 23,
     "metadata": {},
     "output_type": "execute_result"
    }
   ],
   "source": [
    "tmin_NOAA_daily.isnull().sum()"
   ]
  },
  {
   "cell_type": "code",
   "execution_count": 24,
   "id": "207991c3-266e-4bb0-8836-d3f0c7bf73f8",
   "metadata": {},
   "outputs": [],
   "source": [
    "# Daily ERA5 temperature minimum\n",
    "tmin_ERA5_daily = df_era5.set_index('Datetime').resample('1D').min()"
   ]
  },
  {
   "cell_type": "code",
   "execution_count": 25,
   "id": "6a7e4933-9e47-4cd1-a6aa-f11587c5efc5",
   "metadata": {},
   "outputs": [
    {
     "data": {
      "text/plain": [
       "Temperature_C    0\n",
       "Temperature_F    0\n",
       "dtype: int64"
      ]
     },
     "execution_count": 25,
     "metadata": {},
     "output_type": "execute_result"
    }
   ],
   "source": [
    "tmin_ERA5_daily.isnull().sum()"
   ]
  },
  {
   "cell_type": "code",
   "execution_count": 26,
   "id": "5acf51ef-8532-4b4b-b0b8-7fc68d61b1d0",
   "metadata": {},
   "outputs": [],
   "source": [
    "# double check array lengths\n",
    "assert len(tmax_NOAA_daily) == len(tmax_ERA5_daily), 'Arrays not same length'\n",
    "assert len(tmin_NOAA_daily) == len(tmin_ERA5_daily), 'Arrays not same length'"
   ]
  },
  {
   "cell_type": "markdown",
   "id": "6b4803c0-9d54-4015-b941-aa497067ddf7",
   "metadata": {},
   "source": [
    "### Time of daily max and min temperatures"
   ]
  },
  {
   "cell_type": "code",
   "execution_count": 27,
   "id": "a5a80f78-5197-4301-b0ae-2e456ccb5661",
   "metadata": {},
   "outputs": [],
   "source": [
    "# corresponding date/time for NOAA KMIA daily temperature maximum\n",
    "tmax_NOAA_daily_datetime = df.set_index('Datetime').resample('1D').agg(\n",
    "    lambda x: np.nan if x.count() == 0 else x.idxmax()\n",
    ")['Temperature_C']"
   ]
  },
  {
   "cell_type": "code",
   "execution_count": 28,
   "id": "3a2d4e9c-6046-43f3-8865-2bb77d6c5293",
   "metadata": {},
   "outputs": [
    {
     "data": {
      "text/plain": [
       "0"
      ]
     },
     "execution_count": 28,
     "metadata": {},
     "output_type": "execute_result"
    }
   ],
   "source": [
    "tmax_NOAA_daily_datetime.isnull().sum()"
   ]
  },
  {
   "cell_type": "code",
   "execution_count": 29,
   "id": "b8e6023c-2ccf-4f3c-b3ce-cff65cd9f0fa",
   "metadata": {},
   "outputs": [],
   "source": [
    "# corresponding date/time for NOAA KMIA daily temperature minimum\n",
    "tmin_NOAA_daily_datetime = df.set_index('Datetime').resample('1D').agg(\n",
    "    lambda x: np.nan if x.count() == 0 else x.idxmin()\n",
    ")['Temperature_C']"
   ]
  },
  {
   "cell_type": "code",
   "execution_count": 30,
   "id": "753a7ed0-8d6c-4385-b191-c12f2b027c6e",
   "metadata": {},
   "outputs": [
    {
     "data": {
      "text/plain": [
       "0"
      ]
     },
     "execution_count": 30,
     "metadata": {},
     "output_type": "execute_result"
    }
   ],
   "source": [
    "tmin_NOAA_daily_datetime.isnull().sum()"
   ]
  },
  {
   "cell_type": "code",
   "execution_count": 31,
   "id": "7b278954-6fd3-4e83-99d4-78d1fb004991",
   "metadata": {},
   "outputs": [],
   "source": [
    "# corresponding date/time for ERA5 daily temperature maximum\n",
    "tmax_ERA5_daily_datetime = df_era5.set_index('Datetime').resample('1D').agg(\n",
    "    lambda x: np.nan if x.count() == 0 else x.idxmax()\n",
    ")['Temperature_C']"
   ]
  },
  {
   "cell_type": "code",
   "execution_count": 32,
   "id": "1a8a7fcc-e049-4a5f-937b-da3f3fc8d720",
   "metadata": {},
   "outputs": [
    {
     "data": {
      "text/plain": [
       "0"
      ]
     },
     "execution_count": 32,
     "metadata": {},
     "output_type": "execute_result"
    }
   ],
   "source": [
    "tmax_ERA5_daily_datetime.isnull().sum()"
   ]
  },
  {
   "cell_type": "code",
   "execution_count": 33,
   "id": "e9b90c53-e837-48ee-903e-6a5df9e15dc6",
   "metadata": {},
   "outputs": [],
   "source": [
    "# corresponding date/time for ERA5 daily temperature minimum\n",
    "tmin_ERA5_daily_datetime = df_era5.set_index('Datetime').resample('1D').agg(\n",
    "    lambda x: np.nan if x.count() == 0 else x.idxmin()\n",
    ")['Temperature_C']"
   ]
  },
  {
   "cell_type": "code",
   "execution_count": 34,
   "id": "24827d88-b6b8-4889-9975-9e8d47f8799b",
   "metadata": {},
   "outputs": [
    {
     "data": {
      "text/plain": [
       "0"
      ]
     },
     "execution_count": 34,
     "metadata": {},
     "output_type": "execute_result"
    }
   ],
   "source": [
    "tmin_ERA5_daily_datetime.isnull().sum()"
   ]
  },
  {
   "cell_type": "code",
   "execution_count": 35,
   "id": "910de6be-4c42-4b06-9106-90e04ba0d3bd",
   "metadata": {},
   "outputs": [],
   "source": [
    "# double check array lengths\n",
    "assert len(tmax_NOAA_daily_datetime) == len(tmax_ERA5_daily_datetime), 'Arrays not same length'\n",
    "assert len(tmin_NOAA_daily_datetime) == len(tmin_ERA5_daily_datetime), 'Arrays not same length'"
   ]
  },
  {
   "cell_type": "markdown",
   "id": "fb0a97c0-e4b4-4bf3-8d4f-5cfb18f03d33",
   "metadata": {},
   "source": [
    "### Corresponding temperatures at the time of the max/min of other product"
   ]
  },
  {
   "cell_type": "code",
   "execution_count": 36,
   "id": "9d6af12a-d0b6-4117-afd6-d59a2a70dd73",
   "metadata": {
    "tags": []
   },
   "outputs": [],
   "source": [
    "# the NOAA temperature during the (i.e., same time as the)\n",
    "# daily ERA5 maximum temperature\n",
    "\n",
    "NOAA_temp_during_ERA5_tmax_C = []\n",
    "NOAA_temp_during_ERA5_tmax_F = []\n",
    "\n",
    "for i in tmax_ERA5_daily_datetime.values:\n",
    "\n",
    "    with warnings.catch_warnings():\n",
    "        \n",
    "        warnings.simplefilter('ignore')\n",
    "    \n",
    "        NOAA_temp_during_ERA5_tmax_C.append(\n",
    "            df.iloc[df.set_index('Datetime').index.get_loc(i, method='nearest')]['Temperature_C'])\n",
    "\n",
    "        NOAA_temp_during_ERA5_tmax_F.append(\n",
    "            df.iloc[df.set_index('Datetime').index.get_loc(i, method='nearest')]['Temperature_F'])\n",
    "\n",
    "NOAA_temp_during_ERA5_tmax_C = np.array(NOAA_temp_during_ERA5_tmax_C)\n",
    "NOAA_temp_during_ERA5_tmax_F = np.array(NOAA_temp_during_ERA5_tmax_F)"
   ]
  },
  {
   "cell_type": "code",
   "execution_count": 37,
   "id": "a498f268-60c5-4684-9b99-f31cfcd97015",
   "metadata": {},
   "outputs": [
    {
     "name": "stdout",
     "output_type": "stream",
     "text": [
      "True\n",
      "True\n"
     ]
    }
   ],
   "source": [
    "print(np.any(np.isnan(NOAA_temp_during_ERA5_tmax_C)))\n",
    "print(np.any(np.isnan(NOAA_temp_during_ERA5_tmax_F)))"
   ]
  },
  {
   "cell_type": "code",
   "execution_count": 38,
   "id": "33916dfb-6ade-4439-bd05-de4c7dd4263f",
   "metadata": {},
   "outputs": [],
   "source": [
    "# the NOAA temperature during the (i.e., same time as the)\n",
    "# daily ERA5 minimum temperature\n",
    "\n",
    "NOAA_temp_during_ERA5_tmin_C = []\n",
    "NOAA_temp_during_ERA5_tmin_F = []\n",
    "\n",
    "for i in tmin_ERA5_daily_datetime.values:\n",
    "\n",
    "    with warnings.catch_warnings():\n",
    "        \n",
    "        warnings.simplefilter('ignore')\n",
    "    \n",
    "        NOAA_temp_during_ERA5_tmin_C.append(\n",
    "            df.iloc[df.set_index('Datetime').index.get_loc(i, method='nearest')]['Temperature_C'])\n",
    "\n",
    "        NOAA_temp_during_ERA5_tmin_F.append(\n",
    "            df.iloc[df.set_index('Datetime').index.get_loc(i, method='nearest')]['Temperature_F'])\n",
    "\n",
    "NOAA_temp_during_ERA5_tmin_C = np.array(NOAA_temp_during_ERA5_tmin_C)\n",
    "NOAA_temp_during_ERA5_tmin_F = np.array(NOAA_temp_during_ERA5_tmin_F)"
   ]
  },
  {
   "cell_type": "code",
   "execution_count": 39,
   "id": "05b8e8a3-91b3-429f-914c-1c5f5872c118",
   "metadata": {},
   "outputs": [
    {
     "name": "stdout",
     "output_type": "stream",
     "text": [
      "True\n",
      "True\n"
     ]
    }
   ],
   "source": [
    "print(np.any(np.isnan(NOAA_temp_during_ERA5_tmin_C)))\n",
    "print(np.any(np.isnan(NOAA_temp_during_ERA5_tmin_F)))"
   ]
  },
  {
   "cell_type": "code",
   "execution_count": 40,
   "id": "2580365b-d681-49e0-be78-ade134c33e26",
   "metadata": {},
   "outputs": [],
   "source": [
    "# the ERA5 temperature during the (i.e., same time as the)\n",
    "# daily NOAA KMIA maximum temperature\n",
    "\n",
    "ERA5_temp_during_NOAA_tmax_C = []\n",
    "ERA5_temp_during_NOAA_tmax_F = []\n",
    "\n",
    "for i in tmax_NOAA_daily_datetime.values:\n",
    "    \n",
    "    with warnings.catch_warnings():\n",
    "        \n",
    "        warnings.simplefilter('ignore')\n",
    "\n",
    "        ERA5_temp_during_NOAA_tmax_C.append(\n",
    "            df_era5.iloc[df_era5.set_index('Datetime').index.get_loc(\n",
    "                i, method='nearest')]['Temperature_C'])\n",
    "\n",
    "        ERA5_temp_during_NOAA_tmax_F.append(\n",
    "            df_era5.iloc[df_era5.set_index('Datetime').index.get_loc(\n",
    "                i, method='nearest')]['Temperature_F'])\n",
    "\n",
    "ERA5_temp_during_NOAA_tmax_C = np.array(ERA5_temp_during_NOAA_tmax_C)\n",
    "ERA5_temp_during_NOAA_tmax_F = np.array(ERA5_temp_during_NOAA_tmax_F)"
   ]
  },
  {
   "cell_type": "code",
   "execution_count": 41,
   "id": "f2baccc5-d2df-47f8-9cf7-20ba4ed8927c",
   "metadata": {},
   "outputs": [
    {
     "name": "stdout",
     "output_type": "stream",
     "text": [
      "False\n",
      "False\n"
     ]
    }
   ],
   "source": [
    "print(np.any(np.isnan(ERA5_temp_during_NOAA_tmax_C)))\n",
    "print(np.any(np.isnan(ERA5_temp_during_NOAA_tmax_F)))"
   ]
  },
  {
   "cell_type": "code",
   "execution_count": 42,
   "id": "b22f47d1-4d0a-4a8a-b994-5f4a2fcafbac",
   "metadata": {},
   "outputs": [],
   "source": [
    "# the ERA5 temperature during the (i.e., same time as the)\n",
    "# daily NOAA minimum temperature\n",
    "\n",
    "ERA5_temp_during_NOAA_tmin_C = []\n",
    "ERA5_temp_during_NOAA_tmin_F = []\n",
    "\n",
    "for i in tmin_NOAA_daily_datetime.values:\n",
    "\n",
    "    with warnings.catch_warnings():\n",
    "        \n",
    "        warnings.simplefilter('ignore')\n",
    "\n",
    "        ERA5_temp_during_NOAA_tmin_C.append(\n",
    "            df_era5.iloc[df_era5.set_index('Datetime').index.get_loc(\n",
    "                i, method='nearest')]['Temperature_C'])\n",
    "\n",
    "        ERA5_temp_during_NOAA_tmin_F.append(\n",
    "            df_era5.iloc[df_era5.set_index('Datetime').index.get_loc(\n",
    "                i, method='nearest')]['Temperature_F'])\n",
    "\n",
    "ERA5_temp_during_NOAA_tmin_C = np.array(ERA5_temp_during_NOAA_tmin_C)\n",
    "ERA5_temp_during_NOAA_tmin_F = np.array(ERA5_temp_during_NOAA_tmin_F)"
   ]
  },
  {
   "cell_type": "code",
   "execution_count": 43,
   "id": "b24cf8d7-c010-4bb8-8240-c143e7ad904a",
   "metadata": {},
   "outputs": [
    {
     "name": "stdout",
     "output_type": "stream",
     "text": [
      "False\n",
      "False\n"
     ]
    }
   ],
   "source": [
    "print(np.any(np.isnan(ERA5_temp_during_NOAA_tmin_C)))\n",
    "print(np.any(np.isnan(ERA5_temp_during_NOAA_tmin_F)))"
   ]
  },
  {
   "cell_type": "code",
   "execution_count": 44,
   "id": "375c5dc4-ed3b-4e0c-a773-85d7b055588d",
   "metadata": {},
   "outputs": [],
   "source": [
    "# double check array lengths\n",
    "assert len(NOAA_temp_during_ERA5_tmax_C) == len(ERA5_temp_during_NOAA_tmax_C), 'Arrays not same length'\n",
    "assert len(NOAA_temp_during_ERA5_tmin_C) == len(ERA5_temp_during_NOAA_tmin_C), 'Arrays not same length'\n",
    "assert len(NOAA_temp_during_ERA5_tmax_F) == len(ERA5_temp_during_NOAA_tmax_F), 'Arrays not same length'\n",
    "assert len(NOAA_temp_during_ERA5_tmin_F) == len(ERA5_temp_during_NOAA_tmin_F), 'Arrays not same length'"
   ]
  },
  {
   "cell_type": "markdown",
   "id": "d46513c0-5085-4dc8-87d4-15fc7b9124fe",
   "metadata": {},
   "source": [
    "### differences (temperature)"
   ]
  },
  {
   "cell_type": "code",
   "execution_count": 45,
   "id": "bc799777-f1cd-4b09-939a-0369444c7dbf",
   "metadata": {},
   "outputs": [],
   "source": [
    "# difference between NOAA KMIA temperature maximum and\n",
    "# the ERA5 corresponding temperature at that time (C)\n",
    "tmax_daily_difference_C = tmax_NOAA_daily['Temperature_C'] - ERA5_temp_during_NOAA_tmax_C"
   ]
  },
  {
   "cell_type": "code",
   "execution_count": 46,
   "id": "de07bc90-e6e3-412f-af1c-a7c584698c9c",
   "metadata": {},
   "outputs": [],
   "source": [
    "# difference between NOAA KMIA temperature maximum and\n",
    "# the ERA5 corresponding temperature at that time (F)\n",
    "tmax_daily_difference_F = tmax_NOAA_daily['Temperature_F'] - ERA5_temp_during_NOAA_tmax_F"
   ]
  },
  {
   "cell_type": "code",
   "execution_count": 47,
   "id": "858d0abf-bc77-4d26-8d9e-040c033f1652",
   "metadata": {},
   "outputs": [],
   "source": [
    "# difference between NOAA KMIA temperature minimum and\n",
    "# the ERA5 corresponding temperature at that time (C)\n",
    "tmin_daily_difference_C = tmin_NOAA_daily['Temperature_C'] - ERA5_temp_during_NOAA_tmin_C"
   ]
  },
  {
   "cell_type": "code",
   "execution_count": 48,
   "id": "88aafd97-09ea-4d9a-911f-480aab347c84",
   "metadata": {},
   "outputs": [],
   "source": [
    "# difference between NOAA KMIA temperature minimum and\n",
    "# the ERA5 corresponding temperature at that time (C)\n",
    "tmin_daily_difference_F = tmin_NOAA_daily['Temperature_F'] - ERA5_temp_during_NOAA_tmin_F"
   ]
  },
  {
   "cell_type": "markdown",
   "id": "96ec1b93-b9bd-4b6b-88b0-f110d302528d",
   "metadata": {},
   "source": [
    "### compute time differences"
   ]
  },
  {
   "cell_type": "code",
   "execution_count": 49,
   "id": "aea58222-6909-44f0-8cf0-0ce29d742bf5",
   "metadata": {},
   "outputs": [],
   "source": [
    "# absolute time difference between daily maximum temperature (ERA5 and NOAA KMIA)\n",
    "tmax_diff = []\n",
    "for i, j in zip(pd.to_datetime(tmax_NOAA_daily_datetime), tmax_ERA5_daily_datetime):\n",
    "    tmax_diff.append(compute_time_difference(i, j))\n",
    "tmax_diff = np.array(tmax_diff)"
   ]
  },
  {
   "cell_type": "code",
   "execution_count": 50,
   "id": "e4c11091-21cd-4aa1-9f95-09d6f41d8443",
   "metadata": {},
   "outputs": [],
   "source": [
    "# absolute time difference between daily minimum temperature (ERA5 and NOAA KMIA)\n",
    "tmin_diff = []\n",
    "for i, j in zip(pd.to_datetime(tmin_NOAA_daily_datetime), tmin_ERA5_daily_datetime):\n",
    "    tmin_diff.append(compute_time_difference(i, j))\n",
    "tmin_diff = np.array(tmin_diff)"
   ]
  },
  {
   "cell_type": "markdown",
   "id": "626ba209-b083-4769-bcdc-3b7d9c150d89",
   "metadata": {},
   "source": [
    "### create single csv file"
   ]
  },
  {
   "cell_type": "code",
   "execution_count": 51,
   "id": "ffd8e826-1b87-4249-bb3d-8537d725eb59",
   "metadata": {},
   "outputs": [],
   "source": [
    "data = {\n",
    "\n",
    "    'NOAA_KMIA_Temperature_Daily_Max (C)': tmax_NOAA_daily['Temperature_C'],\n",
    "    'NOAA_KMIA_Temperature_Daily_Max (F)': tmax_NOAA_daily['Temperature_F'],\n",
    "    'NOAA_KMIA_Temperature_Daily_Max_Datetime': tmax_NOAA_daily_datetime,\n",
    "\n",
    "    'NOAA_KMIA_Temperature_Daily_Min (C)': tmin_NOAA_daily['Temperature_C'],\n",
    "    'NOAA_KMIA_Temperature_Daily_Min (F)': tmin_NOAA_daily['Temperature_F'],\n",
    "    'NOAA_KMIA_Temperature_Daily_Min_Datetime': tmin_NOAA_daily_datetime,\n",
    "\n",
    "    'ERA5_Temperature_Daily_Max (C)': tmax_ERA5_daily['Temperature_C'],\n",
    "    'ERA5_Temperature_Daily_Max (F)': tmax_ERA5_daily['Temperature_F'],\n",
    "    'ERA5_Temperature_Daily_Max_Datetime': tmax_ERA5_daily_datetime,\n",
    "\n",
    "    'ERA5_Temperature_Daily_Min (C)': tmin_ERA5_daily['Temperature_C'],\n",
    "    'ERA5_Temperature_Daily_Min (F)': tmin_ERA5_daily['Temperature_F'],\n",
    "    'ERA5_Temperature_Daily_Min_Datetime': tmin_ERA5_daily_datetime,\n",
    "\n",
    "\n",
    "    'ERA5_Corresponding_Temperature_During_NOAA_KMIA_Daily_Max (C)': ERA5_temp_during_NOAA_tmax_C,\n",
    "    'ERA5_Corresponding_Temperature_During_NOAA_KMIA_Daily_Max (F)': ERA5_temp_during_NOAA_tmax_F,\n",
    "\n",
    "    'ERA5_Corresponding_Temperature_During_NOAA_KMIA_Daily_Min (C)': ERA5_temp_during_NOAA_tmin_C,\n",
    "    'ERA5_Corresponding_Temperature_During_NOAA_KMIA_Daily_Min (F)': ERA5_temp_during_NOAA_tmin_F,\n",
    "\n",
    "    'NOAA_KMIA_Corresponding_Temperature_During_ERA5_Daily_Max (C)': NOAA_temp_during_ERA5_tmax_C,\n",
    "    'NOAA_KMIA_Corresponding_Temperature_During_ERA5_Daily_Max (F)': NOAA_temp_during_ERA5_tmax_F,\n",
    "\n",
    "    'NOAA_KMIA_Corresponding_Temperature_During_ERA5_Daily_Min (C)': NOAA_temp_during_ERA5_tmin_C,\n",
    "    'NOAA_KMIA_Corresponding_Temperature_During_ERA5_Daily_Min (F)': NOAA_temp_during_ERA5_tmin_F,\n",
    "\n",
    "\n",
    "    'Daily_Temperature_Max_Difference (C)': tmax_daily_difference_C.values,\n",
    "    'Daily_Temperature_Max_Difference (F)': tmax_daily_difference_F.values,\n",
    "\n",
    "    'Daily_Temperature_Min_Difference (C)': tmin_daily_difference_C.values,\n",
    "    'Daily_Temperature_Min_Difference (F)': tmin_daily_difference_F.values,\n",
    "\n",
    "    'Absolute_time_difference_tmax_ERA5_NOAA_KMIA (day H:M:S)': tmax_diff,\n",
    "    'Absolute_time_difference_tmin_ERA5_NOAA_KMIA (day H:M:S)': tmin_diff,\n",
    "\n",
    "       }"
   ]
  },
  {
   "cell_type": "code",
   "execution_count": 52,
   "id": "c893becc-0c72-4351-af16-d5d8870e7f43",
   "metadata": {},
   "outputs": [],
   "source": [
    "df_FINAL = pd.DataFrame(data)"
   ]
  },
  {
   "cell_type": "code",
   "execution_count": 53,
   "id": "6a2abb3f-81a6-4ca6-8683-743efb64167a",
   "metadata": {},
   "outputs": [
    {
     "data": {
      "text/html": [
       "<div>\n",
       "<style scoped>\n",
       "    .dataframe tbody tr th:only-of-type {\n",
       "        vertical-align: middle;\n",
       "    }\n",
       "\n",
       "    .dataframe tbody tr th {\n",
       "        vertical-align: top;\n",
       "    }\n",
       "\n",
       "    .dataframe thead th {\n",
       "        text-align: right;\n",
       "    }\n",
       "</style>\n",
       "<table border=\"1\" class=\"dataframe\">\n",
       "  <thead>\n",
       "    <tr style=\"text-align: right;\">\n",
       "      <th></th>\n",
       "      <th>NOAA_KMIA_Temperature_Daily_Max (C)</th>\n",
       "      <th>NOAA_KMIA_Temperature_Daily_Max (F)</th>\n",
       "      <th>NOAA_KMIA_Temperature_Daily_Max_Datetime</th>\n",
       "      <th>NOAA_KMIA_Temperature_Daily_Min (C)</th>\n",
       "      <th>NOAA_KMIA_Temperature_Daily_Min (F)</th>\n",
       "      <th>NOAA_KMIA_Temperature_Daily_Min_Datetime</th>\n",
       "      <th>ERA5_Temperature_Daily_Max (C)</th>\n",
       "      <th>ERA5_Temperature_Daily_Max (F)</th>\n",
       "      <th>ERA5_Temperature_Daily_Max_Datetime</th>\n",
       "      <th>ERA5_Temperature_Daily_Min (C)</th>\n",
       "      <th>...</th>\n",
       "      <th>NOAA_KMIA_Corresponding_Temperature_During_ERA5_Daily_Max (C)</th>\n",
       "      <th>NOAA_KMIA_Corresponding_Temperature_During_ERA5_Daily_Max (F)</th>\n",
       "      <th>NOAA_KMIA_Corresponding_Temperature_During_ERA5_Daily_Min (C)</th>\n",
       "      <th>NOAA_KMIA_Corresponding_Temperature_During_ERA5_Daily_Min (F)</th>\n",
       "      <th>Daily_Temperature_Max_Difference (C)</th>\n",
       "      <th>Daily_Temperature_Max_Difference (F)</th>\n",
       "      <th>Daily_Temperature_Min_Difference (C)</th>\n",
       "      <th>Daily_Temperature_Min_Difference (F)</th>\n",
       "      <th>Absolute_time_difference_tmax_ERA5_NOAA_KMIA (day H:M:S)</th>\n",
       "      <th>Absolute_time_difference_tmin_ERA5_NOAA_KMIA (day H:M:S)</th>\n",
       "    </tr>\n",
       "    <tr>\n",
       "      <th>Datetime</th>\n",
       "      <th></th>\n",
       "      <th></th>\n",
       "      <th></th>\n",
       "      <th></th>\n",
       "      <th></th>\n",
       "      <th></th>\n",
       "      <th></th>\n",
       "      <th></th>\n",
       "      <th></th>\n",
       "      <th></th>\n",
       "      <th></th>\n",
       "      <th></th>\n",
       "      <th></th>\n",
       "      <th></th>\n",
       "      <th></th>\n",
       "      <th></th>\n",
       "      <th></th>\n",
       "      <th></th>\n",
       "      <th></th>\n",
       "      <th></th>\n",
       "      <th></th>\n",
       "    </tr>\n",
       "  </thead>\n",
       "  <tbody>\n",
       "    <tr>\n",
       "      <th>1973-01-01</th>\n",
       "      <td>26.7</td>\n",
       "      <td>80.06</td>\n",
       "      <td>1973-01-01 17:00:00</td>\n",
       "      <td>21.7</td>\n",
       "      <td>71.06</td>\n",
       "      <td>1973-01-01 12:00:00</td>\n",
       "      <td>28.108612</td>\n",
       "      <td>82.595502</td>\n",
       "      <td>1973-01-01 18:00:00</td>\n",
       "      <td>21.157379</td>\n",
       "      <td>...</td>\n",
       "      <td>26.7</td>\n",
       "      <td>80.06</td>\n",
       "      <td>22.2</td>\n",
       "      <td>71.96</td>\n",
       "      <td>-1.137921</td>\n",
       "      <td>-2.048258</td>\n",
       "      <td>0.297870</td>\n",
       "      <td>0.536166</td>\n",
       "      <td>0 days 01:00:00</td>\n",
       "      <td>0 days 01:00:00</td>\n",
       "    </tr>\n",
       "    <tr>\n",
       "      <th>1973-01-02</th>\n",
       "      <td>27.8</td>\n",
       "      <td>82.04</td>\n",
       "      <td>1973-01-02 18:00:00</td>\n",
       "      <td>21.1</td>\n",
       "      <td>69.98</td>\n",
       "      <td>1973-01-02 11:00:00</td>\n",
       "      <td>27.789581</td>\n",
       "      <td>82.021246</td>\n",
       "      <td>1973-01-02 17:00:00</td>\n",
       "      <td>22.280670</td>\n",
       "      <td>...</td>\n",
       "      <td>27.2</td>\n",
       "      <td>80.96</td>\n",
       "      <td>23.3</td>\n",
       "      <td>73.94</td>\n",
       "      <td>0.065961</td>\n",
       "      <td>0.118729</td>\n",
       "      <td>-1.271643</td>\n",
       "      <td>-2.288958</td>\n",
       "      <td>0 days 01:00:00</td>\n",
       "      <td>0 days 04:00:00</td>\n",
       "    </tr>\n",
       "    <tr>\n",
       "      <th>2022-07-31</th>\n",
       "      <td>32.8</td>\n",
       "      <td>91.04</td>\n",
       "      <td>2022-07-31 18:53:00</td>\n",
       "      <td>27.2</td>\n",
       "      <td>80.96</td>\n",
       "      <td>2022-07-31 09:53:00</td>\n",
       "      <td>33.562347</td>\n",
       "      <td>92.412225</td>\n",
       "      <td>2022-07-31 17:00:00</td>\n",
       "      <td>27.204193</td>\n",
       "      <td>...</td>\n",
       "      <td>32.2</td>\n",
       "      <td>89.96</td>\n",
       "      <td>27.2</td>\n",
       "      <td>80.96</td>\n",
       "      <td>-0.539233</td>\n",
       "      <td>-0.970620</td>\n",
       "      <td>-0.022443</td>\n",
       "      <td>-0.040397</td>\n",
       "      <td>0 days 01:53:00</td>\n",
       "      <td>0 days 01:07:00</td>\n",
       "    </tr>\n",
       "    <tr>\n",
       "      <th>2022-08-01</th>\n",
       "      <td>32.2</td>\n",
       "      <td>89.96</td>\n",
       "      <td>2022-08-01 16:53:00</td>\n",
       "      <td>27.2</td>\n",
       "      <td>80.96</td>\n",
       "      <td>2022-08-01 08:53:00</td>\n",
       "      <td>32.596436</td>\n",
       "      <td>90.673584</td>\n",
       "      <td>2022-08-01 17:00:00</td>\n",
       "      <td>26.767487</td>\n",
       "      <td>...</td>\n",
       "      <td>32.2</td>\n",
       "      <td>89.96</td>\n",
       "      <td>28.3</td>\n",
       "      <td>82.94</td>\n",
       "      <td>-0.396436</td>\n",
       "      <td>-0.713584</td>\n",
       "      <td>-0.252545</td>\n",
       "      <td>-0.454581</td>\n",
       "      <td>0 days 00:07:00</td>\n",
       "      <td>0 days 02:07:00</td>\n",
       "    </tr>\n",
       "  </tbody>\n",
       "</table>\n",
       "<p>4 rows × 26 columns</p>\n",
       "</div>"
      ],
      "text/plain": [
       "            NOAA_KMIA_Temperature_Daily_Max (C)  \\\n",
       "Datetime                                          \n",
       "1973-01-01                                 26.7   \n",
       "1973-01-02                                 27.8   \n",
       "2022-07-31                                 32.8   \n",
       "2022-08-01                                 32.2   \n",
       "\n",
       "            NOAA_KMIA_Temperature_Daily_Max (F)  \\\n",
       "Datetime                                          \n",
       "1973-01-01                                80.06   \n",
       "1973-01-02                                82.04   \n",
       "2022-07-31                                91.04   \n",
       "2022-08-01                                89.96   \n",
       "\n",
       "           NOAA_KMIA_Temperature_Daily_Max_Datetime  \\\n",
       "Datetime                                              \n",
       "1973-01-01                      1973-01-01 17:00:00   \n",
       "1973-01-02                      1973-01-02 18:00:00   \n",
       "2022-07-31                      2022-07-31 18:53:00   \n",
       "2022-08-01                      2022-08-01 16:53:00   \n",
       "\n",
       "            NOAA_KMIA_Temperature_Daily_Min (C)  \\\n",
       "Datetime                                          \n",
       "1973-01-01                                 21.7   \n",
       "1973-01-02                                 21.1   \n",
       "2022-07-31                                 27.2   \n",
       "2022-08-01                                 27.2   \n",
       "\n",
       "            NOAA_KMIA_Temperature_Daily_Min (F)  \\\n",
       "Datetime                                          \n",
       "1973-01-01                                71.06   \n",
       "1973-01-02                                69.98   \n",
       "2022-07-31                                80.96   \n",
       "2022-08-01                                80.96   \n",
       "\n",
       "           NOAA_KMIA_Temperature_Daily_Min_Datetime  \\\n",
       "Datetime                                              \n",
       "1973-01-01                      1973-01-01 12:00:00   \n",
       "1973-01-02                      1973-01-02 11:00:00   \n",
       "2022-07-31                      2022-07-31 09:53:00   \n",
       "2022-08-01                      2022-08-01 08:53:00   \n",
       "\n",
       "            ERA5_Temperature_Daily_Max (C)  ERA5_Temperature_Daily_Max (F)  \\\n",
       "Datetime                                                                     \n",
       "1973-01-01                       28.108612                       82.595502   \n",
       "1973-01-02                       27.789581                       82.021246   \n",
       "2022-07-31                       33.562347                       92.412225   \n",
       "2022-08-01                       32.596436                       90.673584   \n",
       "\n",
       "           ERA5_Temperature_Daily_Max_Datetime  \\\n",
       "Datetime                                         \n",
       "1973-01-01                 1973-01-01 18:00:00   \n",
       "1973-01-02                 1973-01-02 17:00:00   \n",
       "2022-07-31                 2022-07-31 17:00:00   \n",
       "2022-08-01                 2022-08-01 17:00:00   \n",
       "\n",
       "            ERA5_Temperature_Daily_Min (C)  ...  \\\n",
       "Datetime                                    ...   \n",
       "1973-01-01                       21.157379  ...   \n",
       "1973-01-02                       22.280670  ...   \n",
       "2022-07-31                       27.204193  ...   \n",
       "2022-08-01                       26.767487  ...   \n",
       "\n",
       "            NOAA_KMIA_Corresponding_Temperature_During_ERA5_Daily_Max (C)  \\\n",
       "Datetime                                                                    \n",
       "1973-01-01                                               26.7               \n",
       "1973-01-02                                               27.2               \n",
       "2022-07-31                                               32.2               \n",
       "2022-08-01                                               32.2               \n",
       "\n",
       "           NOAA_KMIA_Corresponding_Temperature_During_ERA5_Daily_Max (F)  \\\n",
       "Datetime                                                                   \n",
       "1973-01-01                                              80.06              \n",
       "1973-01-02                                              80.96              \n",
       "2022-07-31                                              89.96              \n",
       "2022-08-01                                              89.96              \n",
       "\n",
       "            NOAA_KMIA_Corresponding_Temperature_During_ERA5_Daily_Min (C)  \\\n",
       "Datetime                                                                    \n",
       "1973-01-01                                               22.2               \n",
       "1973-01-02                                               23.3               \n",
       "2022-07-31                                               27.2               \n",
       "2022-08-01                                               28.3               \n",
       "\n",
       "            NOAA_KMIA_Corresponding_Temperature_During_ERA5_Daily_Min (F)  \\\n",
       "Datetime                                                                    \n",
       "1973-01-01                                              71.96               \n",
       "1973-01-02                                              73.94               \n",
       "2022-07-31                                              80.96               \n",
       "2022-08-01                                              82.94               \n",
       "\n",
       "            Daily_Temperature_Max_Difference (C)  \\\n",
       "Datetime                                           \n",
       "1973-01-01                             -1.137921   \n",
       "1973-01-02                              0.065961   \n",
       "2022-07-31                             -0.539233   \n",
       "2022-08-01                             -0.396436   \n",
       "\n",
       "            Daily_Temperature_Max_Difference (F)  \\\n",
       "Datetime                                           \n",
       "1973-01-01                             -2.048258   \n",
       "1973-01-02                              0.118729   \n",
       "2022-07-31                             -0.970620   \n",
       "2022-08-01                             -0.713584   \n",
       "\n",
       "            Daily_Temperature_Min_Difference (C)  \\\n",
       "Datetime                                           \n",
       "1973-01-01                              0.297870   \n",
       "1973-01-02                             -1.271643   \n",
       "2022-07-31                             -0.022443   \n",
       "2022-08-01                             -0.252545   \n",
       "\n",
       "            Daily_Temperature_Min_Difference (F)  \\\n",
       "Datetime                                           \n",
       "1973-01-01                              0.536166   \n",
       "1973-01-02                             -2.288958   \n",
       "2022-07-31                             -0.040397   \n",
       "2022-08-01                             -0.454581   \n",
       "\n",
       "            Absolute_time_difference_tmax_ERA5_NOAA_KMIA (day H:M:S)  \\\n",
       "Datetime                                                               \n",
       "1973-01-01                                    0 days 01:00:00          \n",
       "1973-01-02                                    0 days 01:00:00          \n",
       "2022-07-31                                    0 days 01:53:00          \n",
       "2022-08-01                                    0 days 00:07:00          \n",
       "\n",
       "            Absolute_time_difference_tmin_ERA5_NOAA_KMIA (day H:M:S)  \n",
       "Datetime                                                              \n",
       "1973-01-01                                    0 days 01:00:00         \n",
       "1973-01-02                                    0 days 04:00:00         \n",
       "2022-07-31                                    0 days 01:07:00         \n",
       "2022-08-01                                    0 days 02:07:00         \n",
       "\n",
       "[4 rows x 26 columns]"
      ]
     },
     "execution_count": 53,
     "metadata": {},
     "output_type": "execute_result"
    }
   ],
   "source": [
    "ends(df_FINAL, 2)"
   ]
  },
  {
   "cell_type": "markdown",
   "id": "3aec7ae4-a43b-4c8c-a267-805fefaa3469",
   "metadata": {},
   "source": [
    "### data visualizations"
   ]
  },
  {
   "cell_type": "code",
   "execution_count": 54,
   "id": "8aee4b12-f4b5-4c5a-9388-ec04b211ef8e",
   "metadata": {},
   "outputs": [
    {
     "data": {
      "image/png": "[encoded data removed]",
      "text/plain": [
       "<Figure size 1200x800 with 1 Axes>"
      ]
     },
     "metadata": {},
     "output_type": "display_data"
    }
   ],
   "source": [
    "fig = df_FINAL.hist(\n",
    "    'NOAA_KMIA_Temperature_Daily_Max (F)', edgecolor='k', facecolor='salmon', bins=30, figsize=(12,8))\n",
    "plt.tight_layout()\n",
    "plt.show()"
   ]
  },
  {
   "cell_type": "code",
   "execution_count": 55,
   "id": "1aeedef1-c261-4f1d-a1e4-6769ea0a090e",
   "metadata": {},
   "outputs": [
    {
     "data": {
      "image/png": "[encoded data removed]",
      "text/plain": [
       "<Figure size 1200x800 with 1 Axes>"
      ]
     },
     "metadata": {},
     "output_type": "display_data"
    }
   ],
   "source": [
    "fig = df_FINAL.hist(\n",
    "    'ERA5_Temperature_Daily_Max (F)', edgecolor='k', facecolor='salmon', bins=30, figsize=(12,8))\n",
    "plt.tight_layout()\n",
    "plt.show()"
   ]
  },
  {
   "cell_type": "code",
   "execution_count": 56,
   "id": "97936a58-406a-4e27-a48e-e8badbb8886c",
   "metadata": {},
   "outputs": [
    {
     "data": {
      "image/png": "[encoded data removed]",
      "text/plain": [
       "<Figure size 1200x800 with 1 Axes>"
      ]
     },
     "metadata": {},
     "output_type": "display_data"
    }
   ],
   "source": [
    "fig = df_FINAL.hist(\n",
    "    'NOAA_KMIA_Temperature_Daily_Min (F)', edgecolor='k', facecolor='salmon', bins=30, figsize=(12,8))\n",
    "plt.tight_layout()\n",
    "plt.show()"
   ]
  },
  {
   "cell_type": "code",
   "execution_count": 57,
   "id": "f4bbfd84-2167-46d5-b8e0-224078d51baf",
   "metadata": {},
   "outputs": [
    {
     "data": {
      "image/png": "[encoded data removed]",
      "text/plain": [
       "<Figure size 1200x800 with 1 Axes>"
      ]
     },
     "metadata": {},
     "output_type": "display_data"
    }
   ],
   "source": [
    "fig = df_FINAL.hist(\n",
    "    'ERA5_Temperature_Daily_Min (F)', edgecolor='k', facecolor='salmon', bins=30, figsize=(12,8))\n",
    "plt.tight_layout()\n",
    "plt.show()"
   ]
  },
  {
   "cell_type": "markdown",
   "id": "60b20517-09c7-4b4e-877e-3b8dcf4c610e",
   "metadata": {},
   "source": [
    "## save csv file"
   ]
  },
  {
   "cell_type": "code",
   "execution_count": 3,
   "id": "2d212109-1a90-46f1-9e46-dd45cb979194",
   "metadata": {},
   "outputs": [],
   "source": [
    "df_FINAL.to_csv('/glade/scratch/molina/NOAA_KMIA_ERA5_SkinTemperature_1973-2022.csv')"
   ]
  },
  {
   "cell_type": "code",
   "execution_count": 4,
   "id": "6a634583-ef36-43fc-85f5-7135d3fe61b8",
   "metadata": {},
   "outputs": [],
   "source": [
    "import pandas as pd"
   ]
  },
  {
   "cell_type": "code",
   "execution_count": 5,
   "id": "7cb081d6-565b-4200-b311-6a8b0d12e1d8",
   "metadata": {},
   "outputs": [],
   "source": [
    "df_FINAL = pd.read_csv(\n",
    "    '/glade/scratch/molina/NOAA_KMIA_ERA5_SkinTemperature_1973-2022.csv')"
   ]
  },
  {
   "cell_type": "code",
   "execution_count": 6,
   "id": "0ee32d5c-391b-41e4-8d87-8ca957b26e6c",
   "metadata": {},
   "outputs": [
    {
     "data": {
      "text/plain": [
       "Datetime                                                           0\n",
       "NOAA_KMIA_Temperature_Daily_Max (C)                                0\n",
       "NOAA_KMIA_Temperature_Daily_Max (F)                                0\n",
       "NOAA_KMIA_Temperature_Daily_Max_Datetime                           0\n",
       "NOAA_KMIA_Temperature_Daily_Min (C)                                0\n",
       "NOAA_KMIA_Temperature_Daily_Min (F)                                0\n",
       "NOAA_KMIA_Temperature_Daily_Min_Datetime                           0\n",
       "ERA5_Temperature_Daily_Max (C)                                     0\n",
       "ERA5_Temperature_Daily_Max (F)                                     0\n",
       "ERA5_Temperature_Daily_Max_Datetime                                0\n",
       "ERA5_Temperature_Daily_Min (C)                                     0\n",
       "ERA5_Temperature_Daily_Min (F)                                     0\n",
       "ERA5_Temperature_Daily_Min_Datetime                                0\n",
       "ERA5_Corresponding_Temperature_During_NOAA_KMIA_Daily_Max (C)      0\n",
       "ERA5_Corresponding_Temperature_During_NOAA_KMIA_Daily_Max (F)      0\n",
       "ERA5_Corresponding_Temperature_During_NOAA_KMIA_Daily_Min (C)      0\n",
       "ERA5_Corresponding_Temperature_During_NOAA_KMIA_Daily_Min (F)      0\n",
       "NOAA_KMIA_Corresponding_Temperature_During_ERA5_Daily_Max (C)    340\n",
       "NOAA_KMIA_Corresponding_Temperature_During_ERA5_Daily_Max (F)    340\n",
       "NOAA_KMIA_Corresponding_Temperature_During_ERA5_Daily_Min (C)    663\n",
       "NOAA_KMIA_Corresponding_Temperature_During_ERA5_Daily_Min (F)    663\n",
       "Daily_Temperature_Max_Difference (C)                               0\n",
       "Daily_Temperature_Max_Difference (F)                               0\n",
       "Daily_Temperature_Min_Difference (C)                               0\n",
       "Daily_Temperature_Min_Difference (F)                               0\n",
       "Absolute_time_difference_tmax_ERA5_NOAA_KMIA (day H:M:S)           0\n",
       "Absolute_time_difference_tmin_ERA5_NOAA_KMIA (day H:M:S)           0\n",
       "dtype: int64"
      ]
     },
     "execution_count": 6,
     "metadata": {},
     "output_type": "execute_result"
    }
   ],
   "source": [
    "df_FINAL.isnull().sum()"
   ]
  },
  {
   "cell_type": "code",
   "execution_count": 7,
   "id": "3ac37733-ddb8-4674-855d-6991146043ec",
   "metadata": {},
   "outputs": [
    {
     "data": {
      "text/plain": [
       "<matplotlib.axes._subplots.AxesSubplot at 0x2b577be1a610>"
      ]
     },
     "execution_count": 7,
     "metadata": {},
     "output_type": "execute_result"
    },
    {
     "data": {
      "image/png": "[encoded data removed]",
      "text/plain": [
       "<Figure size 640x480 with 1 Axes>"
      ]
     },
     "metadata": {},
     "output_type": "display_data"
    }
   ],
   "source": [
    "df_FINAL['ERA5_Temperature_Daily_Max (F)'].plot()"
   ]
  },
  {
   "cell_type": "code",
   "execution_count": 60,
   "id": "eabddd4c-8008-4f0a-805f-42babfe3dc59",
   "metadata": {},
   "outputs": [
    {
     "data": {
      "text/plain": [
       "<matplotlib.axes._subplots.AxesSubplot at 0x2b506ce8ec10>"
      ]
     },
     "execution_count": 60,
     "metadata": {},
     "output_type": "execute_result"
    },
    {
     "data": {
      "image/png": "[encoded data removed]",
      "text/plain": [
       "<Figure size 640x480 with 1 Axes>"
      ]
     },
     "metadata": {},
     "output_type": "display_data"
    }
   ],
   "source": [
    "df_FINAL['NOAA_KMIA_Corresponding_Temperature_During_ERA5_Daily_Max (C)'].plot()"
   ]
  },
  {
   "cell_type": "code",
   "execution_count": 61,
   "id": "b0b12dbe-7428-445b-bc0a-5c51010f9dd2",
   "metadata": {},
   "outputs": [
    {
     "data": {
      "text/plain": [
       "<matplotlib.axes._subplots.AxesSubplot at 0x2b506b56e310>"
      ]
     },
     "execution_count": 61,
     "metadata": {},
     "output_type": "execute_result"
    },
    {
     "data": {
      "image/png": "[encoded data removed]",
      "text/plain": [
       "<Figure size 640x480 with 1 Axes>"
      ]
     },
     "metadata": {},
     "output_type": "display_data"
    }
   ],
   "source": [
    "df_FINAL['NOAA_KMIA_Corresponding_Temperature_During_ERA5_Daily_Min (F)'].plot()"
   ]
  },
  {
   "cell_type": "code",
   "execution_count": 1,
   "id": "5bdaac10-982b-470d-bbc3-08c8d172d131",
   "metadata": {},
   "outputs": [
    {
     "ename": "NameError",
     "evalue": "name 'df_FINAL' is not defined",
     "output_type": "error",
     "traceback": [
      "\u001b[0;31m---------------------------------------------------------------------------\u001b[0m",
      "\u001b[0;31mNameError\u001b[0m                                 Traceback (most recent call last)",
      "\u001b[0;32m/glade/scratch/molina/ipykernel_79210/2573566632.py\u001b[0m in \u001b[0;36m<cell line: 1>\u001b[0;34m()\u001b[0m\n\u001b[0;32m----> 1\u001b[0;31m \u001b[0mdf_FINAL\u001b[0m\u001b[0;34m\u001b[0m\u001b[0;34m\u001b[0m\u001b[0m\n\u001b[0m",
      "\u001b[0;31mNameError\u001b[0m: name 'df_FINAL' is not defined"
     ]
    }
   ],
   "source": [
    "df_FINAL"
   ]
  },
  {
   "cell_type": "code",
   "execution_count": null,
   "id": "c034d6cf-5e0d-4821-95f1-59e8a425e6c6",
   "metadata": {},
   "outputs": [],
   "source": []
  }
 ],
 "metadata": {
  "kernelspec": {
   "display_name": "Python [conda env:miniconda3-myenv-tfgpu]",
   "language": "python",
   "name": "conda-env-miniconda3-myenv-tfgpu-py"
  },
  "language_info": {
   "codemirror_mode": {
    "name": "ipython",
    "version": 3
   },
   "file_extension": ".py",
   "mimetype": "text/x-python",
   "name": "python",
   "nbconvert_exporter": "python",
   "pygments_lexer": "ipython3",
   "version": "3.8.13"
  }
 },
 "nbformat": 4,
 "nbformat_minor": 5
}
