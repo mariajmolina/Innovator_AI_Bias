{
 "cells": [
  {
   "cell_type": "markdown",
   "id": "5106cd66",
   "metadata": {},
   "source": [
    "# NCAR Innovator Program Project\n",
    "\n",
    "### Notebook by: Maria J. Molina (NCAR/University of Maryland) and Jessica Moulite (Howard University)"
   ]
  },
  {
   "cell_type": "markdown",
   "id": "ce1a8f67",
   "metadata": {},
   "source": [
    "Importing packages"
   ]
  },
  {
   "cell_type": "code",
   "execution_count": 1,
   "id": "f98b7136",
   "metadata": {},
   "outputs": [],
   "source": [
    "import datetime\n",
    "import numpy as np\n",
    "import pandas as pd\n",
    "import xarray as xr"
   ]
  },
  {
   "cell_type": "markdown",
   "id": "946ac350",
   "metadata": {},
   "source": [
    "### Functions"
   ]
  },
  {
   "cell_type": "code",
   "execution_count": 2,
   "id": "d81f98cd",
   "metadata": {},
   "outputs": [],
   "source": [
    "def cel_to_far(tmp):\n",
    "    \"\"\"\n",
    "    Convert celsius to farenheit\n",
    "    \"\"\"\n",
    "    newtmp = []\n",
    "    for i in tmp:\n",
    "        if i == 99.9:\n",
    "            newtmp.append(np.nan)\n",
    "        if i != 99.9:\n",
    "            newtmp.append((i * (9/5)) + 32)\n",
    "    return np.array(newtmp)\n",
    "\n",
    "\n",
    "def cel_to_nan(tmp):\n",
    "    \"\"\"\n",
    "    Change 9999 to np.nan\n",
    "    \"\"\"\n",
    "    newtmp = []\n",
    "    for i in tmp:\n",
    "        if i == 99.9:\n",
    "            newtmp.append(np.nan)\n",
    "        if i != 99.9:\n",
    "            newtmp.append(i)\n",
    "    return np.array(newtmp)\n",
    "\n",
    "\n",
    "def convert_to_datetime(time_value):\n",
    "    \"\"\"\n",
    "    Convert to a datetime object to be able to compute time difference.\n",
    "    \"\"\"\n",
    "    return datetime.datetime(\n",
    "        pd.to_datetime(time_value).year,\n",
    "        pd.to_datetime(time_value).month,\n",
    "        pd.to_datetime(time_value).day,\n",
    "        pd.to_datetime(time_value).hour,\n",
    "        pd.to_datetime(time_value).minute,\n",
    "        pd.to_datetime(time_value).second,\n",
    "    )\n",
    "\n",
    "\n",
    "def compute_time_difference(a, b):\n",
    "    \"\"\"\n",
    "    Compute time difference between two times.\n",
    "    \"\"\"\n",
    "    if a >= b:\n",
    "        return convert_to_datetime(a) - convert_to_datetime(b)\n",
    "    if b > a:\n",
    "        return convert_to_datetime(b) - convert_to_datetime(a)"
   ]
  },
  {
   "cell_type": "markdown",
   "id": "bb60c52d",
   "metadata": {},
   "source": [
    "### NOAA Data\n",
    "\n",
    "Downloaded data from: https://www.ncei.noaa.gov/access/search/data-search/global-hourly\n",
    "\n",
    "Data documentation: https://www.ncei.noaa.gov/metadata/geoportal/rest/metadata/item/gov.noaa.ncdc:C00532/html#"
   ]
  },
  {
   "cell_type": "code",
   "execution_count": 3,
   "id": "d7886bd1",
   "metadata": {},
   "outputs": [
    {
     "name": "stderr",
     "output_type": "stream",
     "text": [
      "/Users/molina/opt/anaconda3/envs/torchy/lib/python3.8/site-packages/IPython/core/interactiveshell.py:3437: DtypeWarning: Columns (48) have mixed types.Specify dtype option on import or set low_memory=False.\n",
      "  exec(code_obj, self.user_global_ns, self.user_ns)\n"
     ]
    }
   ],
   "source": [
    "# importing MIA airport data (ASOS station from NOAA/FAA)\n",
    "MIA_temp = pd.read_csv('/Users/molina/Desktop/72202012839.csv')\n",
    "\n",
    "time_date = []\n",
    "temperature_C = []\n",
    "\n",
    "for j, i in zip(MIA_temp['DATE'].values, MIA_temp['TMP'].values.astype(str)):\n",
    "    time_date.append(j) \n",
    "    # convert the string format to decimal format (originally in METAR code)\n",
    "    temperature_C.append(float(i.split(',')[0][2:-1]+'.'+i.split(',')[0][-1]))\n",
    "    \n",
    "time_date = np.array(time_date)\n",
    "temperature_C = np.array(temperature_C)\n",
    "\n",
    "temperature_F = cel_to_far(temperature_C)\n",
    "temperature_C = cel_to_nan(temperature_C)"
   ]
  },
  {
   "cell_type": "code",
   "execution_count": 4,
   "id": "7c954c1b",
   "metadata": {},
   "outputs": [],
   "source": [
    "# making into dataframe for easier manipulation\n",
    "\n",
    "# initialize data of lists.\n",
    "data = {'Datetime': pd.to_datetime(time_date),\n",
    "        'Temperature_C': temperature_C,\n",
    "        'Temperature_F': temperature_F,\n",
    "       }\n",
    "\n",
    "# Create DataFrame and quality control\n",
    "df = pd.DataFrame(data)\n",
    "df = df.dropna()  # drop any nan values\n",
    "df = df.drop_duplicates(keep='first') # drop any duplicate rows\n",
    "df = df.drop(8168) # drop repeat datetime with too warm second observation\n",
    "df = df[(df['Datetime']>='2019-06-08')&(df['Datetime']<='2019-09-01')] # subset the data using dates of interest"
   ]
  },
  {
   "cell_type": "markdown",
   "id": "50f9c689",
   "metadata": {},
   "source": [
    "### Shading Dade Data"
   ]
  },
  {
   "cell_type": "code",
   "execution_count": 5,
   "id": "df9f0df4",
   "metadata": {},
   "outputs": [],
   "source": [
    "SD_temp = pd.read_excel('/Users/molina/Desktop/ShadingDadeData.xlsx')\n",
    "SD_temp = SD_temp[(SD_temp['Datetime']>='2019-06-08')&(SD_temp['Datetime']<='2019-09-01')] "
   ]
  },
  {
   "cell_type": "markdown",
   "id": "0cbd33f1",
   "metadata": {},
   "source": [
    "### Create new variables"
   ]
  },
  {
   "cell_type": "code",
   "execution_count": 6,
   "id": "68048643",
   "metadata": {},
   "outputs": [],
   "source": [
    "# Daily temperature maximum for Shading Dade\n",
    "tmax_SD_daily = SD_temp.set_index('Datetime').resample('1D').max()"
   ]
  },
  {
   "cell_type": "code",
   "execution_count": 7,
   "id": "ca706a51",
   "metadata": {},
   "outputs": [],
   "source": [
    "# Daily temperature minimum for Shading Dade\n",
    "tmin_SD_daily = SD_temp.set_index('Datetime').resample('1D').min()"
   ]
  },
  {
   "cell_type": "code",
   "execution_count": 8,
   "id": "5c24669e",
   "metadata": {},
   "outputs": [],
   "source": [
    "# Daily temperature maximum for NOAA (KMIA)\n",
    "tmax_NOAA_daily = df.set_index('Datetime').resample('1D').max()"
   ]
  },
  {
   "cell_type": "code",
   "execution_count": 9,
   "id": "cbea8196",
   "metadata": {},
   "outputs": [],
   "source": [
    "# Daily temperature minimum for NOAA (KMIA)\n",
    "tmin_NOAA_daily = df.set_index('Datetime').resample('1D').min()"
   ]
  },
  {
   "cell_type": "code",
   "execution_count": 10,
   "id": "01967335",
   "metadata": {},
   "outputs": [],
   "source": [
    "# corresponding date/time for shading dade daily temperature maximum\n",
    "tmax_SD_daily_datetime = SD_temp.set_index('Datetime').resample('1D').agg(\n",
    "    lambda x : np.nan if x.count() == 0 else x.idxmax()\n",
    ")['Temperature (C)']"
   ]
  },
  {
   "cell_type": "code",
   "execution_count": 11,
   "id": "3b3b489b",
   "metadata": {},
   "outputs": [],
   "source": [
    "# corresponding date/time for shading dade daily temperature minimum\n",
    "tmin_SD_daily_datetime = SD_temp.set_index('Datetime').resample('1D').agg(\n",
    "    lambda x : np.nan if x.count() == 0 else x.idxmin()\n",
    ")['Temperature (C)']"
   ]
  },
  {
   "cell_type": "code",
   "execution_count": 12,
   "id": "812745fe",
   "metadata": {},
   "outputs": [],
   "source": [
    "# corresponding date/time for noaa daily temperature maximum\n",
    "tmax_NOAA_daily_datetime = df.set_index('Datetime').resample('1D').agg(\n",
    "    lambda x : np.nan if x.count() == 0 else x.idxmax()\n",
    ")['Temperature_C']"
   ]
  },
  {
   "cell_type": "code",
   "execution_count": 13,
   "id": "4f7bb76d",
   "metadata": {},
   "outputs": [],
   "source": [
    "# corresponding date/time for noaa daily temperature minimum\n",
    "tmin_NOAA_daily_datetime = df.set_index('Datetime').resample('1D').agg(\n",
    "    lambda x : np.nan if x.count() == 0 else x.idxmin()\n",
    ")['Temperature_C']"
   ]
  },
  {
   "cell_type": "code",
   "execution_count": 14,
   "id": "660fadfb",
   "metadata": {},
   "outputs": [],
   "source": [
    "# the NOAA temperature during the (same time as the) daily maximum temperature of Shading Dade\n",
    "\n",
    "NOAA_temp_during_SD_tmax_C = []\n",
    "NOAA_temp_during_SD_tmax_F = []\n",
    "\n",
    "for i in tmax_SD_daily_datetime.values:\n",
    "    \n",
    "    NOAA_temp_during_SD_tmax_C.append(\n",
    "        df.iloc[df.set_index('Datetime').index.get_loc(i, method='nearest')]['Temperature_C'])\n",
    "    \n",
    "    NOAA_temp_during_SD_tmax_F.append(\n",
    "        df.iloc[df.set_index('Datetime').index.get_loc(i, method='nearest')]['Temperature_F'])\n",
    "    \n",
    "NOAA_temp_during_SD_tmax_C = np.array(NOAA_temp_during_SD_tmax_C)\n",
    "NOAA_temp_during_SD_tmax_F = np.array(NOAA_temp_during_SD_tmax_F)"
   ]
  },
  {
   "cell_type": "code",
   "execution_count": 15,
   "id": "b9df4cc2",
   "metadata": {},
   "outputs": [],
   "source": [
    "# the NOAA temperature during the (same time as the) daily minimum temperature of Shading Dade\n",
    "\n",
    "NOAA_temp_during_SD_tmin_C = []\n",
    "NOAA_temp_during_SD_tmin_F = []\n",
    "\n",
    "for i in tmin_SD_daily_datetime.values:\n",
    "    \n",
    "    NOAA_temp_during_SD_tmin_C.append(\n",
    "        df.iloc[df.set_index('Datetime').index.get_loc(i, method='nearest')]['Temperature_C'])\n",
    "    \n",
    "    NOAA_temp_during_SD_tmin_F.append(\n",
    "        df.iloc[df.set_index('Datetime').index.get_loc(i, method='nearest')]['Temperature_F'])\n",
    "    \n",
    "NOAA_temp_during_SD_tmin_C = np.array(NOAA_temp_during_SD_tmin_C)\n",
    "NOAA_temp_during_SD_tmin_F = np.array(NOAA_temp_during_SD_tmin_F)"
   ]
  },
  {
   "cell_type": "code",
   "execution_count": 16,
   "id": "c0c290e0",
   "metadata": {},
   "outputs": [],
   "source": [
    "# the Shading Dade temperature during the (same time as the) daily maximum temperature of NOAA KMIA\n",
    "\n",
    "SD_temp_during_NOAA_tmax_C = []\n",
    "SD_temp_during_NOAA_tmax_F = []\n",
    "\n",
    "for i in tmax_NOAA_daily_datetime.values:\n",
    "    \n",
    "    SD_temp_during_NOAA_tmax_C.append(\n",
    "        SD_temp.iloc[SD_temp.set_index('Datetime').index.get_loc(i, method='nearest')]['Temperature (C)'])\n",
    "    \n",
    "    SD_temp_during_NOAA_tmax_F.append(\n",
    "        SD_temp.iloc[SD_temp.set_index('Datetime').index.get_loc(i, method='nearest')]['Temperature (F)'])\n",
    "    \n",
    "SD_temp_during_NOAA_tmax_C = np.array(SD_temp_during_NOAA_tmax_C)\n",
    "SD_temp_during_NOAA_tmax_F = np.array(SD_temp_during_NOAA_tmax_F)"
   ]
  },
  {
   "cell_type": "code",
   "execution_count": 17,
   "id": "ac5b8a13",
   "metadata": {},
   "outputs": [],
   "source": [
    "# the Shading Dade temperature during the (same time as the) daily minimum temperature of NOAA KMIA\n",
    "\n",
    "SD_temp_during_NOAA_tmin_C = []\n",
    "SD_temp_during_NOAA_tmin_F = []\n",
    "\n",
    "for i in tmin_NOAA_daily_datetime.values:\n",
    "    \n",
    "    SD_temp_during_NOAA_tmin_C.append(\n",
    "        SD_temp.iloc[SD_temp.set_index('Datetime').index.get_loc(i, method='nearest')]['Temperature (C)'])\n",
    "    \n",
    "    SD_temp_during_NOAA_tmin_F.append(\n",
    "        SD_temp.iloc[SD_temp.set_index('Datetime').index.get_loc(i, method='nearest')]['Temperature (F)'])\n",
    "    \n",
    "SD_temp_during_NOAA_tmin_C = np.array(SD_temp_during_NOAA_tmin_C)\n",
    "SD_temp_during_NOAA_tmin_F = np.array(SD_temp_during_NOAA_tmin_F)"
   ]
  },
  {
   "cell_type": "markdown",
   "id": "b215b9fc",
   "metadata": {},
   "source": [
    "### differences (temperature)"
   ]
  },
  {
   "cell_type": "code",
   "execution_count": 18,
   "id": "2bbac9b9",
   "metadata": {},
   "outputs": [],
   "source": [
    "# subtracting NOAA KMIA daily maximum temperature from the Shading Dade daily maximum temperature (C)\n",
    "tmax_daily_difference_C = tmax_NOAA_daily['Temperature_C'] - tmax_SD_daily['Temperature (C)']"
   ]
  },
  {
   "cell_type": "code",
   "execution_count": 19,
   "id": "31cca2ef",
   "metadata": {},
   "outputs": [],
   "source": [
    "# subtracting NOAA KMIA daily maximum temperature from the Shading Dade daily maximum temperature (F)\n",
    "tmax_daily_difference_F = tmax_NOAA_daily['Temperature_F'] - tmax_SD_daily['Temperature (F)']"
   ]
  },
  {
   "cell_type": "code",
   "execution_count": 20,
   "id": "d004efc5",
   "metadata": {},
   "outputs": [],
   "source": [
    "# subtracting NOAA KMIA daily minimum temperature from the Shading Dade daily minimum temperature (C)\n",
    "tmin_daily_difference_C = tmin_NOAA_daily['Temperature_C'] - tmin_SD_daily['Temperature (C)']"
   ]
  },
  {
   "cell_type": "code",
   "execution_count": 21,
   "id": "fb9ffc19",
   "metadata": {},
   "outputs": [],
   "source": [
    "# subtracting NOAA KMIA daily minimum temperature from the Shading Dade daily minimum temperature (F)\n",
    "tmin_daily_difference_F = tmin_NOAA_daily['Temperature_F'] - tmin_SD_daily['Temperature (F)']"
   ]
  },
  {
   "cell_type": "code",
   "execution_count": 22,
   "id": "00d699db",
   "metadata": {},
   "outputs": [],
   "source": [
    "# subtracting NOAA corresponding temperature during Shading Dade daily max temperature \n",
    "# from Shading Dade daily max temperature (C)\n",
    "NOAA_temp_during_SD_tmax_C_diff = tmax_SD_daily['Temperature (C)'] - NOAA_temp_during_SD_tmax_C"
   ]
  },
  {
   "cell_type": "code",
   "execution_count": 23,
   "id": "5028b4eb",
   "metadata": {},
   "outputs": [],
   "source": [
    "# subtracting NOAA corresponding temperature during Shading Dade daily max temperature \n",
    "# from Shading Dade daily max temperature (F)\n",
    "NOAA_temp_during_SD_tmax_F_diff = tmax_SD_daily['Temperature (F)'] - NOAA_temp_during_SD_tmax_F"
   ]
  },
  {
   "cell_type": "code",
   "execution_count": 24,
   "id": "d847d94e",
   "metadata": {},
   "outputs": [],
   "source": [
    "# subtracting NOAA corresponding temperature during Shading Dade daily min temperature \n",
    "# from Shading Dade daily min temperature (C)\n",
    "NOAA_temp_during_SD_tmin_C_diff = tmin_SD_daily['Temperature (C)'] - NOAA_temp_during_SD_tmin_C"
   ]
  },
  {
   "cell_type": "code",
   "execution_count": 25,
   "id": "a6737f70",
   "metadata": {},
   "outputs": [],
   "source": [
    "# subtracting NOAA corresponding temperature during Shading Dade daily min temperature \n",
    "# from Shading Dade daily min temperature (F)\n",
    "NOAA_temp_during_SD_tmin_F_diff = tmin_SD_daily['Temperature (F)'] - NOAA_temp_during_SD_tmin_F"
   ]
  },
  {
   "cell_type": "code",
   "execution_count": 26,
   "id": "4dc37537",
   "metadata": {},
   "outputs": [],
   "source": [
    "# subtracting Shading Dade corresponding temperature during NOAA KMIA daily max temperature \n",
    "# from NOAA daily max temperature (C)\n",
    "SD_temp_during_NOAA_tmax_C_diff = tmax_NOAA_daily['Temperature_C'] - SD_temp_during_NOAA_tmax_C"
   ]
  },
  {
   "cell_type": "code",
   "execution_count": 27,
   "id": "842f1c07",
   "metadata": {},
   "outputs": [],
   "source": [
    "# subtracting Shading Dade corresponding temperature during NOAA KMIA daily max temperature \n",
    "# from NOAA daily max temperature (F)\n",
    "SD_temp_during_NOAA_tmax_F_diff = tmax_NOAA_daily['Temperature_F'] - SD_temp_during_NOAA_tmax_F"
   ]
  },
  {
   "cell_type": "code",
   "execution_count": 28,
   "id": "f604df53",
   "metadata": {},
   "outputs": [],
   "source": [
    "# subtracting Shading Dade corresponding temperature during NOAA KMIA daily min temperature \n",
    "# from NOAA daily min temperature (C)\n",
    "SD_temp_during_NOAA_tmin_C_diff = tmin_NOAA_daily['Temperature_C'] - SD_temp_during_NOAA_tmin_C"
   ]
  },
  {
   "cell_type": "code",
   "execution_count": 29,
   "id": "580073be",
   "metadata": {},
   "outputs": [],
   "source": [
    "# subtracting Shading Dade corresponding temperature during NOAA KMIA daily min temperature \n",
    "# from NOAA daily min temperature (F)\n",
    "SD_temp_during_NOAA_tmin_F_diff = tmin_NOAA_daily['Temperature_F'] - SD_temp_during_NOAA_tmin_F"
   ]
  },
  {
   "cell_type": "markdown",
   "id": "2656b8a2",
   "metadata": {},
   "source": [
    "### difference (in time)"
   ]
  },
  {
   "cell_type": "code",
   "execution_count": 30,
   "id": "39da8787",
   "metadata": {},
   "outputs": [],
   "source": [
    "# absolute time difference between daily maximum temperature (NOAA KMIA and Shading Dade)\n",
    "tmax_diff = []\n",
    "for i, j in zip(tmax_SD_daily_datetime.values, tmax_NOAA_daily_datetime.values):\n",
    "    tmax_diff.append(compute_time_difference(i, j))\n",
    "tmax_diff = np.array(tmax_diff)"
   ]
  },
  {
   "cell_type": "code",
   "execution_count": 31,
   "id": "133f5dda",
   "metadata": {},
   "outputs": [],
   "source": [
    "# absolute time difference between daily minimum temperature (NOAA KMIA and Shading Dade)\n",
    "tmin_diff = []\n",
    "for i, j in zip(tmin_SD_daily_datetime.values, tmin_NOAA_daily_datetime.values):\n",
    "    tmin_diff.append(compute_time_difference(i, j))\n",
    "tmin_diff = np.array(tmin_diff)"
   ]
  },
  {
   "cell_type": "markdown",
   "id": "5fcdb465",
   "metadata": {},
   "source": [
    "### Create single CSV file with data"
   ]
  },
  {
   "cell_type": "code",
   "execution_count": 32,
   "id": "1102dace",
   "metadata": {},
   "outputs": [],
   "source": [
    "data = {'ShadingDade_Temperature_Daily_Max (C)': tmax_SD_daily['Temperature (C)'],\n",
    "        'ShadingDade_Temperature_Daily_Min (C)': tmin_SD_daily['Temperature (C)'],\n",
    "        'NOAA_KMIA_Temperature_Daily_Max (C)': tmax_NOAA_daily['Temperature_C'],\n",
    "        'NOAA_KMIA_Temperature_Daily_Min (C)': tmin_NOAA_daily['Temperature_C'],\n",
    "        \n",
    "        'ShadingDade_Temperature_Daily_Max (F)': tmax_SD_daily['Temperature (F)'],\n",
    "        'ShadingDade_Temperature_Daily_Min (F)': tmin_SD_daily['Temperature (F)'],\n",
    "        'NOAA_KMIA_Temperature_Daily_Max (F)': tmax_NOAA_daily['Temperature_F'],\n",
    "        'NOAA_KMIA_Temperature_Daily_Min (F)': tmin_NOAA_daily['Temperature_F'],\n",
    "        \n",
    "        'Daily_Temperature_Max_Difference (C)': tmax_daily_difference_C,\n",
    "        'Daily_Temperature_Min_Difference (C)': tmin_daily_difference_C,\n",
    "        'Daily_Temperature_Max_Difference (F)': tmax_daily_difference_F,\n",
    "        'Daily_Temperature_Min_Difference (F)': tmin_daily_difference_F,\n",
    "        \n",
    "        'Corresponding_Datetime_ShadingDade_DailyMax': tmax_SD_daily_datetime.values,\n",
    "        'Corresponding_Datetime_ShadingDade_DailyMin': tmin_SD_daily_datetime.values,\n",
    "        'Corresponding_Datetime_NOAA_KMIA_DailyMax': tmax_NOAA_daily_datetime.values,\n",
    "        'Corresponding_Datetime_NOAA_KMIA_DailyMin': tmin_NOAA_daily_datetime.values,\n",
    "        \n",
    "        'Corresponding_Datetime_NOAA_KMIA_DailyMax_Difference (C)': NOAA_temp_during_SD_tmax_C_diff,\n",
    "        'Corresponding_Datetime_NOAA_KMIA_DailyMax_Difference (F)': NOAA_temp_during_SD_tmax_F_diff,\n",
    "        'Corresponding_Datetime_NOAA_KMIA_DailyMin_Difference (C)': NOAA_temp_during_SD_tmin_C_diff,\n",
    "        'Corresponding_Datetime_NOAA_KMIA_DailyMin_Difference (F)': NOAA_temp_during_SD_tmin_F_diff,\n",
    "        \n",
    "        'Corresponding_Datetime_ShadingDade_DailyMax_Difference (C)': SD_temp_during_NOAA_tmax_C_diff,\n",
    "        'Corresponding_Datetime_ShadingDade_DailyMax_Difference (F)': SD_temp_during_NOAA_tmax_F_diff,\n",
    "        'Corresponding_Datetime_ShadingDade_DailyMin_Difference (C)': SD_temp_during_NOAA_tmin_C_diff,\n",
    "        'Corresponding_Datetime_ShadingDade_DailyMin_Difference (F)': SD_temp_during_NOAA_tmin_F_diff,\n",
    "        \n",
    "        'NOAA_Corresponding_Temperature_During_ShadingDade_DailyMax (C)': NOAA_temp_during_SD_tmax_C,\n",
    "        'NOAA_Corresponding_Temperature_During_ShadingDade_DailyMin (C)': NOAA_temp_during_SD_tmin_C,\n",
    "        'ShadingDade_Corresponding_Temperature_During_NOAA_DailyMax (C)': SD_temp_during_NOAA_tmax_C,\n",
    "        'ShadingDade_Corresponding_Temperature_During_NOAA_DailyMin (C)': SD_temp_during_NOAA_tmin_C,\n",
    "        \n",
    "        'NOAA_Corresponding_Temperature_During_ShadingDade_DailyMax (F)': NOAA_temp_during_SD_tmax_F,\n",
    "        'NOAA_Corresponding_Temperature_During_ShadingDade_DailyMin (F)': NOAA_temp_during_SD_tmin_F,\n",
    "        'ShadingDade_Corresponding_Temperature_During_NOAA_DailyMax (F)': SD_temp_during_NOAA_tmax_F,\n",
    "        'ShadingDade_Corresponding_Temperature_During_NOAA_DailyMin (F)': SD_temp_during_NOAA_tmin_F,\n",
    "        \n",
    "        'Absolute_time_difference_tmax_NOAA_ShadingDade (day H:M:S)': tmax_diff,\n",
    "        'Absolute_time_difference_tmin_NOAA_ShadingDade (day H:M:S)': tmin_diff,\n",
    "        \n",
    "        \n",
    "       }"
   ]
  },
  {
   "cell_type": "code",
   "execution_count": 33,
   "id": "d28a27e6",
   "metadata": {},
   "outputs": [],
   "source": [
    "df_FINAL = pd.DataFrame(data)"
   ]
  },
  {
   "cell_type": "code",
   "execution_count": 34,
   "id": "cd927cea",
   "metadata": {},
   "outputs": [
    {
     "data": {
      "text/html": [
       "<div>\n",
       "<style scoped>\n",
       "    .dataframe tbody tr th:only-of-type {\n",
       "        vertical-align: middle;\n",
       "    }\n",
       "\n",
       "    .dataframe tbody tr th {\n",
       "        vertical-align: top;\n",
       "    }\n",
       "\n",
       "    .dataframe thead th {\n",
       "        text-align: right;\n",
       "    }\n",
       "</style>\n",
       "<table border=\"1\" class=\"dataframe\">\n",
       "  <thead>\n",
       "    <tr style=\"text-align: right;\">\n",
       "      <th></th>\n",
       "      <th>ShadingDade_Temperature_Daily_Max (C)</th>\n",
       "      <th>ShadingDade_Temperature_Daily_Min (C)</th>\n",
       "      <th>NOAA_KMIA_Temperature_Daily_Max (C)</th>\n",
       "      <th>NOAA_KMIA_Temperature_Daily_Min (C)</th>\n",
       "      <th>ShadingDade_Temperature_Daily_Max (F)</th>\n",
       "      <th>ShadingDade_Temperature_Daily_Min (F)</th>\n",
       "      <th>NOAA_KMIA_Temperature_Daily_Max (F)</th>\n",
       "      <th>NOAA_KMIA_Temperature_Daily_Min (F)</th>\n",
       "      <th>Daily_Temperature_Max_Difference (C)</th>\n",
       "      <th>Daily_Temperature_Min_Difference (C)</th>\n",
       "      <th>...</th>\n",
       "      <th>NOAA_Corresponding_Temperature_During_ShadingDade_DailyMax (C)</th>\n",
       "      <th>NOAA_Corresponding_Temperature_During_ShadingDade_DailyMin (C)</th>\n",
       "      <th>ShadingDade_Corresponding_Temperature_During_NOAA_DailyMax (C)</th>\n",
       "      <th>ShadingDade_Corresponding_Temperature_During_NOAA_DailyMin (C)</th>\n",
       "      <th>NOAA_Corresponding_Temperature_During_ShadingDade_DailyMax (F)</th>\n",
       "      <th>NOAA_Corresponding_Temperature_During_ShadingDade_DailyMin (F)</th>\n",
       "      <th>ShadingDade_Corresponding_Temperature_During_NOAA_DailyMax (F)</th>\n",
       "      <th>ShadingDade_Corresponding_Temperature_During_NOAA_DailyMin (F)</th>\n",
       "      <th>Absolute_time_difference_tmax_NOAA_ShadingDade (day H:M:S)</th>\n",
       "      <th>Absolute_time_difference_tmin_NOAA_ShadingDade (day H:M:S)</th>\n",
       "    </tr>\n",
       "    <tr>\n",
       "      <th>Datetime</th>\n",
       "      <th></th>\n",
       "      <th></th>\n",
       "      <th></th>\n",
       "      <th></th>\n",
       "      <th></th>\n",
       "      <th></th>\n",
       "      <th></th>\n",
       "      <th></th>\n",
       "      <th></th>\n",
       "      <th></th>\n",
       "      <th></th>\n",
       "      <th></th>\n",
       "      <th></th>\n",
       "      <th></th>\n",
       "      <th></th>\n",
       "      <th></th>\n",
       "      <th></th>\n",
       "      <th></th>\n",
       "      <th></th>\n",
       "      <th></th>\n",
       "      <th></th>\n",
       "    </tr>\n",
       "  </thead>\n",
       "  <tbody>\n",
       "    <tr>\n",
       "      <th>2019-06-08</th>\n",
       "      <td>34.875</td>\n",
       "      <td>23.000</td>\n",
       "      <td>32.8</td>\n",
       "      <td>24.0</td>\n",
       "      <td>94.775</td>\n",
       "      <td>73.400</td>\n",
       "      <td>91.04</td>\n",
       "      <td>75.20</td>\n",
       "      <td>-2.075</td>\n",
       "      <td>1.000</td>\n",
       "      <td>...</td>\n",
       "      <td>28.3</td>\n",
       "      <td>27.2</td>\n",
       "      <td>23.625</td>\n",
       "      <td>25.000</td>\n",
       "      <td>82.94</td>\n",
       "      <td>80.96</td>\n",
       "      <td>74.525</td>\n",
       "      <td>77.000</td>\n",
       "      <td>0 days 03:53:00</td>\n",
       "      <td>0 days 08:51:01</td>\n",
       "    </tr>\n",
       "    <tr>\n",
       "      <th>2019-06-09</th>\n",
       "      <td>33.750</td>\n",
       "      <td>25.125</td>\n",
       "      <td>31.1</td>\n",
       "      <td>25.0</td>\n",
       "      <td>92.750</td>\n",
       "      <td>77.225</td>\n",
       "      <td>87.98</td>\n",
       "      <td>77.00</td>\n",
       "      <td>-2.650</td>\n",
       "      <td>-0.125</td>\n",
       "      <td>...</td>\n",
       "      <td>27.8</td>\n",
       "      <td>27.2</td>\n",
       "      <td>25.625</td>\n",
       "      <td>28.250</td>\n",
       "      <td>82.04</td>\n",
       "      <td>80.96</td>\n",
       "      <td>78.125</td>\n",
       "      <td>82.850</td>\n",
       "      <td>0 days 03:53:00</td>\n",
       "      <td>0 days 02:29:00</td>\n",
       "    </tr>\n",
       "    <tr>\n",
       "      <th>2019-06-10</th>\n",
       "      <td>38.500</td>\n",
       "      <td>23.250</td>\n",
       "      <td>31.7</td>\n",
       "      <td>23.9</td>\n",
       "      <td>101.300</td>\n",
       "      <td>73.850</td>\n",
       "      <td>89.06</td>\n",
       "      <td>75.02</td>\n",
       "      <td>-6.800</td>\n",
       "      <td>0.650</td>\n",
       "      <td>...</td>\n",
       "      <td>25.6</td>\n",
       "      <td>26.7</td>\n",
       "      <td>27.375</td>\n",
       "      <td>25.250</td>\n",
       "      <td>78.08</td>\n",
       "      <td>80.06</td>\n",
       "      <td>81.275</td>\n",
       "      <td>77.450</td>\n",
       "      <td>0 days 03:53:00</td>\n",
       "      <td>0 days 04:36:00</td>\n",
       "    </tr>\n",
       "    <tr>\n",
       "      <th>2019-06-11</th>\n",
       "      <td>40.750</td>\n",
       "      <td>24.250</td>\n",
       "      <td>32.2</td>\n",
       "      <td>26.0</td>\n",
       "      <td>105.350</td>\n",
       "      <td>75.650</td>\n",
       "      <td>89.96</td>\n",
       "      <td>78.80</td>\n",
       "      <td>-8.550</td>\n",
       "      <td>1.750</td>\n",
       "      <td>...</td>\n",
       "      <td>28.3</td>\n",
       "      <td>27.8</td>\n",
       "      <td>36.000</td>\n",
       "      <td>26.000</td>\n",
       "      <td>82.94</td>\n",
       "      <td>82.04</td>\n",
       "      <td>96.800</td>\n",
       "      <td>78.800</td>\n",
       "      <td>0 days 04:53:00</td>\n",
       "      <td>0 days 20:53:00</td>\n",
       "    </tr>\n",
       "    <tr>\n",
       "      <th>2019-06-12</th>\n",
       "      <td>40.250</td>\n",
       "      <td>24.875</td>\n",
       "      <td>32.8</td>\n",
       "      <td>25.6</td>\n",
       "      <td>104.450</td>\n",
       "      <td>76.775</td>\n",
       "      <td>91.04</td>\n",
       "      <td>78.08</td>\n",
       "      <td>-7.450</td>\n",
       "      <td>0.725</td>\n",
       "      <td>...</td>\n",
       "      <td>27.8</td>\n",
       "      <td>26.7</td>\n",
       "      <td>28.625</td>\n",
       "      <td>26.000</td>\n",
       "      <td>82.04</td>\n",
       "      <td>80.06</td>\n",
       "      <td>83.525</td>\n",
       "      <td>78.800</td>\n",
       "      <td>0 days 08:18:01</td>\n",
       "      <td>0 days 03:51:00</td>\n",
       "    </tr>\n",
       "    <tr>\n",
       "      <th>...</th>\n",
       "      <td>...</td>\n",
       "      <td>...</td>\n",
       "      <td>...</td>\n",
       "      <td>...</td>\n",
       "      <td>...</td>\n",
       "      <td>...</td>\n",
       "      <td>...</td>\n",
       "      <td>...</td>\n",
       "      <td>...</td>\n",
       "      <td>...</td>\n",
       "      <td>...</td>\n",
       "      <td>...</td>\n",
       "      <td>...</td>\n",
       "      <td>...</td>\n",
       "      <td>...</td>\n",
       "      <td>...</td>\n",
       "      <td>...</td>\n",
       "      <td>...</td>\n",
       "      <td>...</td>\n",
       "      <td>...</td>\n",
       "      <td>...</td>\n",
       "    </tr>\n",
       "    <tr>\n",
       "      <th>2019-08-28</th>\n",
       "      <td>40.750</td>\n",
       "      <td>24.625</td>\n",
       "      <td>35.6</td>\n",
       "      <td>25.6</td>\n",
       "      <td>105.350</td>\n",
       "      <td>76.325</td>\n",
       "      <td>96.08</td>\n",
       "      <td>78.08</td>\n",
       "      <td>-5.150</td>\n",
       "      <td>0.975</td>\n",
       "      <td>...</td>\n",
       "      <td>31.1</td>\n",
       "      <td>28.3</td>\n",
       "      <td>25.750</td>\n",
       "      <td>25.625</td>\n",
       "      <td>87.98</td>\n",
       "      <td>82.94</td>\n",
       "      <td>78.350</td>\n",
       "      <td>78.125</td>\n",
       "      <td>0 days 05:53:01</td>\n",
       "      <td>0 days 15:53:00</td>\n",
       "    </tr>\n",
       "    <tr>\n",
       "      <th>2019-08-29</th>\n",
       "      <td>41.375</td>\n",
       "      <td>24.750</td>\n",
       "      <td>31.7</td>\n",
       "      <td>26.7</td>\n",
       "      <td>106.475</td>\n",
       "      <td>76.550</td>\n",
       "      <td>89.06</td>\n",
       "      <td>80.06</td>\n",
       "      <td>-9.675</td>\n",
       "      <td>1.950</td>\n",
       "      <td>...</td>\n",
       "      <td>30.0</td>\n",
       "      <td>27.2</td>\n",
       "      <td>29.375</td>\n",
       "      <td>25.875</td>\n",
       "      <td>86.00</td>\n",
       "      <td>80.96</td>\n",
       "      <td>84.875</td>\n",
       "      <td>78.575</td>\n",
       "      <td>0 days 01:53:00</td>\n",
       "      <td>0 days 03:07:00</td>\n",
       "    </tr>\n",
       "    <tr>\n",
       "      <th>2019-08-30</th>\n",
       "      <td>35.000</td>\n",
       "      <td>23.875</td>\n",
       "      <td>32.2</td>\n",
       "      <td>25.0</td>\n",
       "      <td>95.000</td>\n",
       "      <td>74.975</td>\n",
       "      <td>89.96</td>\n",
       "      <td>77.00</td>\n",
       "      <td>-2.800</td>\n",
       "      <td>1.125</td>\n",
       "      <td>...</td>\n",
       "      <td>27.2</td>\n",
       "      <td>26.7</td>\n",
       "      <td>29.750</td>\n",
       "      <td>30.250</td>\n",
       "      <td>80.96</td>\n",
       "      <td>80.06</td>\n",
       "      <td>85.550</td>\n",
       "      <td>86.450</td>\n",
       "      <td>0 days 05:53:01</td>\n",
       "      <td>0 days 03:02:01</td>\n",
       "    </tr>\n",
       "    <tr>\n",
       "      <th>2019-08-31</th>\n",
       "      <td>36.500</td>\n",
       "      <td>26.750</td>\n",
       "      <td>32.2</td>\n",
       "      <td>26.7</td>\n",
       "      <td>97.700</td>\n",
       "      <td>80.150</td>\n",
       "      <td>89.96</td>\n",
       "      <td>80.06</td>\n",
       "      <td>-4.300</td>\n",
       "      <td>-0.050</td>\n",
       "      <td>...</td>\n",
       "      <td>30.0</td>\n",
       "      <td>27.8</td>\n",
       "      <td>31.625</td>\n",
       "      <td>33.625</td>\n",
       "      <td>86.00</td>\n",
       "      <td>82.04</td>\n",
       "      <td>88.925</td>\n",
       "      <td>92.525</td>\n",
       "      <td>0 days 03:53:00</td>\n",
       "      <td>0 days 01:53:01</td>\n",
       "    </tr>\n",
       "    <tr>\n",
       "      <th>2019-09-01</th>\n",
       "      <td>27.500</td>\n",
       "      <td>27.500</td>\n",
       "      <td>29.4</td>\n",
       "      <td>29.4</td>\n",
       "      <td>81.500</td>\n",
       "      <td>81.500</td>\n",
       "      <td>84.92</td>\n",
       "      <td>84.92</td>\n",
       "      <td>1.900</td>\n",
       "      <td>1.900</td>\n",
       "      <td>...</td>\n",
       "      <td>29.4</td>\n",
       "      <td>29.4</td>\n",
       "      <td>27.500</td>\n",
       "      <td>27.500</td>\n",
       "      <td>84.92</td>\n",
       "      <td>84.92</td>\n",
       "      <td>81.500</td>\n",
       "      <td>81.500</td>\n",
       "      <td>0 days 00:00:00</td>\n",
       "      <td>0 days 00:00:00</td>\n",
       "    </tr>\n",
       "  </tbody>\n",
       "</table>\n",
       "<p>86 rows × 34 columns</p>\n",
       "</div>"
      ],
      "text/plain": [
       "            ShadingDade_Temperature_Daily_Max (C)  \\\n",
       "Datetime                                            \n",
       "2019-06-08                                 34.875   \n",
       "2019-06-09                                 33.750   \n",
       "2019-06-10                                 38.500   \n",
       "2019-06-11                                 40.750   \n",
       "2019-06-12                                 40.250   \n",
       "...                                           ...   \n",
       "2019-08-28                                 40.750   \n",
       "2019-08-29                                 41.375   \n",
       "2019-08-30                                 35.000   \n",
       "2019-08-31                                 36.500   \n",
       "2019-09-01                                 27.500   \n",
       "\n",
       "            ShadingDade_Temperature_Daily_Min (C)  \\\n",
       "Datetime                                            \n",
       "2019-06-08                                 23.000   \n",
       "2019-06-09                                 25.125   \n",
       "2019-06-10                                 23.250   \n",
       "2019-06-11                                 24.250   \n",
       "2019-06-12                                 24.875   \n",
       "...                                           ...   \n",
       "2019-08-28                                 24.625   \n",
       "2019-08-29                                 24.750   \n",
       "2019-08-30                                 23.875   \n",
       "2019-08-31                                 26.750   \n",
       "2019-09-01                                 27.500   \n",
       "\n",
       "            NOAA_KMIA_Temperature_Daily_Max (C)  \\\n",
       "Datetime                                          \n",
       "2019-06-08                                 32.8   \n",
       "2019-06-09                                 31.1   \n",
       "2019-06-10                                 31.7   \n",
       "2019-06-11                                 32.2   \n",
       "2019-06-12                                 32.8   \n",
       "...                                         ...   \n",
       "2019-08-28                                 35.6   \n",
       "2019-08-29                                 31.7   \n",
       "2019-08-30                                 32.2   \n",
       "2019-08-31                                 32.2   \n",
       "2019-09-01                                 29.4   \n",
       "\n",
       "            NOAA_KMIA_Temperature_Daily_Min (C)  \\\n",
       "Datetime                                          \n",
       "2019-06-08                                 24.0   \n",
       "2019-06-09                                 25.0   \n",
       "2019-06-10                                 23.9   \n",
       "2019-06-11                                 26.0   \n",
       "2019-06-12                                 25.6   \n",
       "...                                         ...   \n",
       "2019-08-28                                 25.6   \n",
       "2019-08-29                                 26.7   \n",
       "2019-08-30                                 25.0   \n",
       "2019-08-31                                 26.7   \n",
       "2019-09-01                                 29.4   \n",
       "\n",
       "            ShadingDade_Temperature_Daily_Max (F)  \\\n",
       "Datetime                                            \n",
       "2019-06-08                                 94.775   \n",
       "2019-06-09                                 92.750   \n",
       "2019-06-10                                101.300   \n",
       "2019-06-11                                105.350   \n",
       "2019-06-12                                104.450   \n",
       "...                                           ...   \n",
       "2019-08-28                                105.350   \n",
       "2019-08-29                                106.475   \n",
       "2019-08-30                                 95.000   \n",
       "2019-08-31                                 97.700   \n",
       "2019-09-01                                 81.500   \n",
       "\n",
       "            ShadingDade_Temperature_Daily_Min (F)  \\\n",
       "Datetime                                            \n",
       "2019-06-08                                 73.400   \n",
       "2019-06-09                                 77.225   \n",
       "2019-06-10                                 73.850   \n",
       "2019-06-11                                 75.650   \n",
       "2019-06-12                                 76.775   \n",
       "...                                           ...   \n",
       "2019-08-28                                 76.325   \n",
       "2019-08-29                                 76.550   \n",
       "2019-08-30                                 74.975   \n",
       "2019-08-31                                 80.150   \n",
       "2019-09-01                                 81.500   \n",
       "\n",
       "            NOAA_KMIA_Temperature_Daily_Max (F)  \\\n",
       "Datetime                                          \n",
       "2019-06-08                                91.04   \n",
       "2019-06-09                                87.98   \n",
       "2019-06-10                                89.06   \n",
       "2019-06-11                                89.96   \n",
       "2019-06-12                                91.04   \n",
       "...                                         ...   \n",
       "2019-08-28                                96.08   \n",
       "2019-08-29                                89.06   \n",
       "2019-08-30                                89.96   \n",
       "2019-08-31                                89.96   \n",
       "2019-09-01                                84.92   \n",
       "\n",
       "            NOAA_KMIA_Temperature_Daily_Min (F)  \\\n",
       "Datetime                                          \n",
       "2019-06-08                                75.20   \n",
       "2019-06-09                                77.00   \n",
       "2019-06-10                                75.02   \n",
       "2019-06-11                                78.80   \n",
       "2019-06-12                                78.08   \n",
       "...                                         ...   \n",
       "2019-08-28                                78.08   \n",
       "2019-08-29                                80.06   \n",
       "2019-08-30                                77.00   \n",
       "2019-08-31                                80.06   \n",
       "2019-09-01                                84.92   \n",
       "\n",
       "            Daily_Temperature_Max_Difference (C)  \\\n",
       "Datetime                                           \n",
       "2019-06-08                                -2.075   \n",
       "2019-06-09                                -2.650   \n",
       "2019-06-10                                -6.800   \n",
       "2019-06-11                                -8.550   \n",
       "2019-06-12                                -7.450   \n",
       "...                                          ...   \n",
       "2019-08-28                                -5.150   \n",
       "2019-08-29                                -9.675   \n",
       "2019-08-30                                -2.800   \n",
       "2019-08-31                                -4.300   \n",
       "2019-09-01                                 1.900   \n",
       "\n",
       "            Daily_Temperature_Min_Difference (C)  ...  \\\n",
       "Datetime                                          ...   \n",
       "2019-06-08                                 1.000  ...   \n",
       "2019-06-09                                -0.125  ...   \n",
       "2019-06-10                                 0.650  ...   \n",
       "2019-06-11                                 1.750  ...   \n",
       "2019-06-12                                 0.725  ...   \n",
       "...                                          ...  ...   \n",
       "2019-08-28                                 0.975  ...   \n",
       "2019-08-29                                 1.950  ...   \n",
       "2019-08-30                                 1.125  ...   \n",
       "2019-08-31                                -0.050  ...   \n",
       "2019-09-01                                 1.900  ...   \n",
       "\n",
       "            NOAA_Corresponding_Temperature_During_ShadingDade_DailyMax (C)  \\\n",
       "Datetime                                                                     \n",
       "2019-06-08                                               28.3                \n",
       "2019-06-09                                               27.8                \n",
       "2019-06-10                                               25.6                \n",
       "2019-06-11                                               28.3                \n",
       "2019-06-12                                               27.8                \n",
       "...                                                       ...                \n",
       "2019-08-28                                               31.1                \n",
       "2019-08-29                                               30.0                \n",
       "2019-08-30                                               27.2                \n",
       "2019-08-31                                               30.0                \n",
       "2019-09-01                                               29.4                \n",
       "\n",
       "            NOAA_Corresponding_Temperature_During_ShadingDade_DailyMin (C)  \\\n",
       "Datetime                                                                     \n",
       "2019-06-08                                               27.2                \n",
       "2019-06-09                                               27.2                \n",
       "2019-06-10                                               26.7                \n",
       "2019-06-11                                               27.8                \n",
       "2019-06-12                                               26.7                \n",
       "...                                                       ...                \n",
       "2019-08-28                                               28.3                \n",
       "2019-08-29                                               27.2                \n",
       "2019-08-30                                               26.7                \n",
       "2019-08-31                                               27.8                \n",
       "2019-09-01                                               29.4                \n",
       "\n",
       "           ShadingDade_Corresponding_Temperature_During_NOAA_DailyMax (C)  \\\n",
       "Datetime                                                                    \n",
       "2019-06-08                                             23.625               \n",
       "2019-06-09                                             25.625               \n",
       "2019-06-10                                             27.375               \n",
       "2019-06-11                                             36.000               \n",
       "2019-06-12                                             28.625               \n",
       "...                                                       ...               \n",
       "2019-08-28                                             25.750               \n",
       "2019-08-29                                             29.375               \n",
       "2019-08-30                                             29.750               \n",
       "2019-08-31                                             31.625               \n",
       "2019-09-01                                             27.500               \n",
       "\n",
       "           ShadingDade_Corresponding_Temperature_During_NOAA_DailyMin (C)  \\\n",
       "Datetime                                                                    \n",
       "2019-06-08                                             25.000               \n",
       "2019-06-09                                             28.250               \n",
       "2019-06-10                                             25.250               \n",
       "2019-06-11                                             26.000               \n",
       "2019-06-12                                             26.000               \n",
       "...                                                       ...               \n",
       "2019-08-28                                             25.625               \n",
       "2019-08-29                                             25.875               \n",
       "2019-08-30                                             30.250               \n",
       "2019-08-31                                             33.625               \n",
       "2019-09-01                                             27.500               \n",
       "\n",
       "           NOAA_Corresponding_Temperature_During_ShadingDade_DailyMax (F)  \\\n",
       "Datetime                                                                    \n",
       "2019-06-08                                              82.94               \n",
       "2019-06-09                                              82.04               \n",
       "2019-06-10                                              78.08               \n",
       "2019-06-11                                              82.94               \n",
       "2019-06-12                                              82.04               \n",
       "...                                                       ...               \n",
       "2019-08-28                                              87.98               \n",
       "2019-08-29                                              86.00               \n",
       "2019-08-30                                              80.96               \n",
       "2019-08-31                                              86.00               \n",
       "2019-09-01                                              84.92               \n",
       "\n",
       "           NOAA_Corresponding_Temperature_During_ShadingDade_DailyMin (F)  \\\n",
       "Datetime                                                                    \n",
       "2019-06-08                                              80.96               \n",
       "2019-06-09                                              80.96               \n",
       "2019-06-10                                              80.06               \n",
       "2019-06-11                                              82.04               \n",
       "2019-06-12                                              80.06               \n",
       "...                                                       ...               \n",
       "2019-08-28                                              82.94               \n",
       "2019-08-29                                              80.96               \n",
       "2019-08-30                                              80.06               \n",
       "2019-08-31                                              82.04               \n",
       "2019-09-01                                              84.92               \n",
       "\n",
       "            ShadingDade_Corresponding_Temperature_During_NOAA_DailyMax (F)  \\\n",
       "Datetime                                                                     \n",
       "2019-06-08                                             74.525                \n",
       "2019-06-09                                             78.125                \n",
       "2019-06-10                                             81.275                \n",
       "2019-06-11                                             96.800                \n",
       "2019-06-12                                             83.525                \n",
       "...                                                       ...                \n",
       "2019-08-28                                             78.350                \n",
       "2019-08-29                                             84.875                \n",
       "2019-08-30                                             85.550                \n",
       "2019-08-31                                             88.925                \n",
       "2019-09-01                                             81.500                \n",
       "\n",
       "            ShadingDade_Corresponding_Temperature_During_NOAA_DailyMin (F)  \\\n",
       "Datetime                                                                     \n",
       "2019-06-08                                             77.000                \n",
       "2019-06-09                                             82.850                \n",
       "2019-06-10                                             77.450                \n",
       "2019-06-11                                             78.800                \n",
       "2019-06-12                                             78.800                \n",
       "...                                                       ...                \n",
       "2019-08-28                                             78.125                \n",
       "2019-08-29                                             78.575                \n",
       "2019-08-30                                             86.450                \n",
       "2019-08-31                                             92.525                \n",
       "2019-09-01                                             81.500                \n",
       "\n",
       "            Absolute_time_difference_tmax_NOAA_ShadingDade (day H:M:S)  \\\n",
       "Datetime                                                                 \n",
       "2019-06-08                                    0 days 03:53:00            \n",
       "2019-06-09                                    0 days 03:53:00            \n",
       "2019-06-10                                    0 days 03:53:00            \n",
       "2019-06-11                                    0 days 04:53:00            \n",
       "2019-06-12                                    0 days 08:18:01            \n",
       "...                                                       ...            \n",
       "2019-08-28                                    0 days 05:53:01            \n",
       "2019-08-29                                    0 days 01:53:00            \n",
       "2019-08-30                                    0 days 05:53:01            \n",
       "2019-08-31                                    0 days 03:53:00            \n",
       "2019-09-01                                    0 days 00:00:00            \n",
       "\n",
       "            Absolute_time_difference_tmin_NOAA_ShadingDade (day H:M:S)  \n",
       "Datetime                                                                \n",
       "2019-06-08                                    0 days 08:51:01           \n",
       "2019-06-09                                    0 days 02:29:00           \n",
       "2019-06-10                                    0 days 04:36:00           \n",
       "2019-06-11                                    0 days 20:53:00           \n",
       "2019-06-12                                    0 days 03:51:00           \n",
       "...                                                       ...           \n",
       "2019-08-28                                    0 days 15:53:00           \n",
       "2019-08-29                                    0 days 03:07:00           \n",
       "2019-08-30                                    0 days 03:02:01           \n",
       "2019-08-31                                    0 days 01:53:01           \n",
       "2019-09-01                                    0 days 00:00:00           \n",
       "\n",
       "[86 rows x 34 columns]"
      ]
     },
     "execution_count": 34,
     "metadata": {},
     "output_type": "execute_result"
    }
   ],
   "source": [
    "df_FINAL"
   ]
  },
  {
   "cell_type": "code",
   "execution_count": 35,
   "id": "e955a757",
   "metadata": {},
   "outputs": [
    {
     "data": {
      "text/plain": [
       "array([[<AxesSubplot:title={'center':'ShadingDade_Temperature_Daily_Max (F)'}>]],\n",
       "      dtype=object)"
      ]
     },
     "execution_count": 35,
     "metadata": {},
     "output_type": "execute_result"
    },
    {
     "data": {
      "image/png": "[encoded data removed]",
      "text/plain": [
       "<Figure size 432x288 with 1 Axes>"
      ]
     },
     "metadata": {
      "needs_background": "light"
     },
     "output_type": "display_data"
    }
   ],
   "source": [
    "df_FINAL.hist('ShadingDade_Temperature_Daily_Max (F)', edgecolor='k', facecolor='salmon', bins=15)"
   ]
  },
  {
   "cell_type": "code",
   "execution_count": 36,
   "id": "b74d1e02",
   "metadata": {},
   "outputs": [
    {
     "data": {
      "text/plain": [
       "array([[<AxesSubplot:title={'center':'NOAA_KMIA_Temperature_Daily_Max (F)'}>]],\n",
       "      dtype=object)"
      ]
     },
     "execution_count": 36,
     "metadata": {},
     "output_type": "execute_result"
    },
    {
     "data": {
      "image/png": "[encoded data removed]",
      "text/plain": [
       "<Figure size 432x288 with 1 Axes>"
      ]
     },
     "metadata": {
      "needs_background": "light"
     },
     "output_type": "display_data"
    }
   ],
   "source": [
    "df_FINAL.hist('NOAA_KMIA_Temperature_Daily_Max (F)', edgecolor='k', facecolor='salmon', bins=15)"
   ]
  },
  {
   "cell_type": "code",
   "execution_count": 37,
   "id": "fa9ed0c5",
   "metadata": {},
   "outputs": [
    {
     "data": {
      "text/plain": [
       "array([[<AxesSubplot:title={'center':'ShadingDade_Temperature_Daily_Min (F)'}>]],\n",
       "      dtype=object)"
      ]
     },
     "execution_count": 37,
     "metadata": {},
     "output_type": "execute_result"
    },
    {
     "data": {
      "image/png": "[encoded data removed]",
      "text/plain": [
       "<Figure size 432x288 with 1 Axes>"
      ]
     },
     "metadata": {
      "needs_background": "light"
     },
     "output_type": "display_data"
    }
   ],
   "source": [
    "df_FINAL.hist('ShadingDade_Temperature_Daily_Min (F)', edgecolor='k', facecolor='salmon', bins=15)"
   ]
  },
  {
   "cell_type": "code",
   "execution_count": 38,
   "id": "69003595",
   "metadata": {},
   "outputs": [
    {
     "data": {
      "text/plain": [
       "array([[<AxesSubplot:title={'center':'NOAA_KMIA_Temperature_Daily_Min (F)'}>]],\n",
       "      dtype=object)"
      ]
     },
     "execution_count": 38,
     "metadata": {},
     "output_type": "execute_result"
    },
    {
     "data": {
      "image/png": "[encoded data removed]",
      "text/plain": [
       "<Figure size 432x288 with 1 Axes>"
      ]
     },
     "metadata": {
      "needs_background": "light"
     },
     "output_type": "display_data"
    }
   ],
   "source": [
    "df_FINAL.hist('NOAA_KMIA_Temperature_Daily_Min (F)', edgecolor='k', facecolor='salmon', bins=15)"
   ]
  },
  {
   "cell_type": "code",
   "execution_count": 39,
   "id": "b07f2b08",
   "metadata": {},
   "outputs": [
    {
     "data": {
      "text/plain": [
       "array([[<AxesSubplot:title={'center':'Corresponding_Datetime_NOAA_KMIA_DailyMax_Difference (F)'}>]],\n",
       "      dtype=object)"
      ]
     },
     "execution_count": 39,
     "metadata": {},
     "output_type": "execute_result"
    },
    {
     "data": {
      "image/png": "[encoded data removed]",
      "text/plain": [
       "<Figure size 432x288 with 1 Axes>"
      ]
     },
     "metadata": {
      "needs_background": "light"
     },
     "output_type": "display_data"
    }
   ],
   "source": [
    "df_FINAL.hist('Corresponding_Datetime_NOAA_KMIA_DailyMax_Difference (F)', edgecolor='k', facecolor='salmon', bins=15)"
   ]
  },
  {
   "cell_type": "markdown",
   "id": "1d82df39",
   "metadata": {},
   "source": [
    "### save the csv file"
   ]
  },
  {
   "cell_type": "code",
   "execution_count": 40,
   "id": "71f0fd83",
   "metadata": {},
   "outputs": [],
   "source": [
    "df_FINAL.to_csv('/Users/molina/Desktop/ShadingDade_NOAA_KMIA_Temperature.csv')"
   ]
  },
  {
   "cell_type": "markdown",
   "id": "e6e1ad56",
   "metadata": {},
   "source": [
    "### To do next"
   ]
  },
  {
   "cell_type": "markdown",
   "id": "332ade94",
   "metadata": {},
   "source": [
    "(done) Inquire about the METAR comma with the temperature data (Described on page 5: https://www.ncei.noaa.gov/data/global-hourly/doc/isd-format-document.pdf)\n",
    "\n",
    "(done) Inquire about the ASOS ``source`` column (Description on page 11: https://www.ncei.noaa.gov/data/global-hourly/doc/isd-format-document.pdf)\n",
    "\n",
    "(done) Compute differences between columns and resave csv; figure out the time differences\n",
    "\n",
    "(1) Add ``ERA5`` reanalysis temperature data and resave csv\n",
    "\n",
    "(2) Redo analysis for other cities: Bronx (NY), Baltimore (MD), Houston (TX), Washington DC, Everglades (FL)"
   ]
  },
  {
   "cell_type": "code",
   "execution_count": null,
   "id": "7b7edbd3",
   "metadata": {},
   "outputs": [],
   "source": []
  }
 ],
 "metadata": {
  "kernelspec": {
   "display_name": "Python 3",
   "language": "python",
   "name": "python3"
  },
  "language_info": {
   "codemirror_mode": {
    "name": "ipython",
    "version": 3
   },
   "file_extension": ".py",
   "mimetype": "text/x-python",
   "name": "python",
   "nbconvert_exporter": "python",
   "pygments_lexer": "ipython3",
   "version": "3.8.10"
  }
 },
 "nbformat": 4,
 "nbformat_minor": 5
}
