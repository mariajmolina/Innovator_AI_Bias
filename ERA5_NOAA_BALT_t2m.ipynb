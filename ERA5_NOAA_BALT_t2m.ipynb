{
 "cells": [
  {
   "cell_type": "markdown",
   "id": "8e321090-dc93-4a5a-9b6f-fa9b7cf539bc",
   "metadata": {},
   "source": [
    "# NCAR Innovator Program Project\n",
    "### Notebook by: Maria J. Molina (NCAR/University of Maryland) and Jessica Moulite (Howard University)"
   ]
  },
  {
   "cell_type": "markdown",
   "id": "039e2c75-2fdd-4791-bcc8-41fa48869e8d",
   "metadata": {},
   "source": [
    "Here we compare the NOAA Baltimore weather station temperature data with 2-m temperature data from ERA5. The objective of the comparison is to assess how representative state-of-the-art reanalysis is of local weather and trends, given its heavy use in climate assessment studies."
   ]
  },
  {
   "cell_type": "markdown",
   "id": "09689da7-9987-4fb6-a23b-d470050762a6",
   "metadata": {},
   "source": [
    "Importing packages"
   ]
  },
  {
   "cell_type": "code",
   "execution_count": 2,
   "id": "c17d8287-73b9-482a-80ce-82fd6cdd9f97",
   "metadata": {},
   "outputs": [],
   "source": [
    "import datetime\n",
    "import warnings\n",
    "import numpy as np\n",
    "import pandas as pd\n",
    "import xarray as xr\n",
    "import matplotlib.pyplot as plt"
   ]
  },
  {
   "cell_type": "markdown",
   "id": "090092c4-09d7-40fa-95ac-8cdc7825f750",
   "metadata": {},
   "source": [
    "Functions"
   ]
  },
  {
   "cell_type": "code",
   "execution_count": 3,
   "id": "23fe01ad-f2b4-4d40-8733-157947a5beb0",
   "metadata": {},
   "outputs": [],
   "source": [
    "def cel_to_far(tmp):\n",
    "    \"\"\"\n",
    "    Convert celsius to farenheit\n",
    "    \"\"\"\n",
    "    newtmp = []\n",
    "    for i in tmp:\n",
    "        if i == 99.9:\n",
    "            newtmp.append(np.nan)\n",
    "        if i != 99.9:\n",
    "            newtmp.append((i * (9/5)) + 32)\n",
    "    return np.array(newtmp)\n",
    "\n",
    "\n",
    "def cel_to_nan(tmp):\n",
    "    \"\"\"\n",
    "    Change 9999 to np.nan\n",
    "    \"\"\"\n",
    "    newtmp = []\n",
    "    for i in tmp:\n",
    "        if i == 99.9:\n",
    "            newtmp.append(np.nan)\n",
    "        if i != 99.9:\n",
    "            newtmp.append(i)\n",
    "    return np.array(newtmp)\n",
    "\n",
    "\n",
    "def convert_to_datetime(time_value):\n",
    "    \"\"\"\n",
    "    Convert to a datetime object to be able to compute time difference.\n",
    "    \"\"\"\n",
    "    return datetime.datetime(\n",
    "        pd.to_datetime(time_value).year,\n",
    "        pd.to_datetime(time_value).month,\n",
    "        pd.to_datetime(time_value).day,\n",
    "        pd.to_datetime(time_value).hour,\n",
    "        pd.to_datetime(time_value).minute,\n",
    "        pd.to_datetime(time_value).second,\n",
    "    )\n",
    "\n",
    "\n",
    "def compute_time_difference(a, b):\n",
    "    \"\"\"\n",
    "    Compute time difference between two times.\n",
    "    \"\"\"\n",
    "    if a >= b:\n",
    "        return convert_to_datetime(a) - convert_to_datetime(b)\n",
    "    if b > a:\n",
    "        return convert_to_datetime(b) - convert_to_datetime(a)\n",
    "\n",
    "\n",
    "def extract_era5_time(t_daily, t_full):\n",
    "    \"\"\"\n",
    "    Extract the era5 temperature corresponding time.\n",
    "    \"\"\"\n",
    "    era5_time_array = []\n",
    "\n",
    "    for i, j in zip(t_daily.time, t_daily):\n",
    "\n",
    "        tmp = t_full.sel(\n",
    "            time=slice(i, pd.to_datetime(i.values) + datetime.timedelta(hours=23)))\n",
    "\n",
    "        era5_time_array.append(tmp.where(tmp == j, drop=True).time.values)\n",
    "\n",
    "    return era5_time_array\n",
    "\n",
    "\n",
    "def ends(df, x=5):\n",
    "    \"\"\"\n",
    "    Viewing the beginnings and ends.\n",
    "    \"\"\"\n",
    "    return pd.concat([df.head(x),df.tail(x)])"
   ]
  },
  {
   "cell_type": "markdown",
   "id": "7a3c72b3-9be8-4522-aaf3-0a987b9a4038",
   "metadata": {},
   "source": [
    "## Open ERA5 data (2008-present)"
   ]
  },
  {
   "cell_type": "code",
   "execution_count": 4,
   "id": "2be341d4-b6ac-4416-a3e9-f144f96b05a1",
   "metadata": {},
   "outputs": [],
   "source": [
    "# open files\n",
    "ds_ = xr.open_mfdataset(\n",
    "    '/gpfs/fs1/collections/rda/data/ds633.0/e5.oper.an.sfc/*/e5.oper.an.sfc.128_167_2t.ll025sc.*.nc'\n",
    ")['VAR_2T']\n",
    "\n",
    "# time slice\n",
    "ds_ = ds_.sel(time=slice('2008-01-02T00:00:00', '2022-07-31T23:00:00'))"
   ]
  },
  {
   "cell_type": "code",
   "execution_count": 5,
   "id": "b357efee-1d76-4fe9-9ad9-8667f43c45d3",
   "metadata": {},
   "outputs": [
    {
     "data": {
      "text/html": [
       "<div><svg style=\"position: absolute; width: 0; height: 0; overflow: hidden\">\n",
       "<defs>\n",
       "<symbol id=\"icon-database\" viewBox=\"0 0 32 32\">\n",
       "<path d=\"M16 0c-8.837 0-16 2.239-16 5v4c0 2.761 7.163 5 16 5s16-2.239 16-5v-4c0-2.761-7.163-5-16-5z\"></path>\n",
       "<path d=\"M16 17c-8.837 0-16-2.239-16-5v6c0 2.761 7.163 5 16 5s16-2.239 16-5v-6c0 2.761-7.163 5-16 5z\"></path>\n",
       "<path d=\"M16 26c-8.837 0-16-2.239-16-5v6c0 2.761 7.163 5 16 5s16-2.239 16-5v-6c0 2.761-7.163 5-16 5z\"></path>\n",
       "</symbol>\n",
       "<symbol id=\"icon-file-text2\" viewBox=\"0 0 32 32\">\n",
       "<path d=\"M28.681 7.159c-0.694-0.947-1.662-2.053-2.724-3.116s-2.169-2.030-3.116-2.724c-1.612-1.182-2.393-1.319-2.841-1.319h-15.5c-1.378 0-2.5 1.121-2.5 2.5v27c0 1.378 1.122 2.5 2.5 2.5h23c1.378 0 2.5-1.122 2.5-2.5v-19.5c0-0.448-0.137-1.23-1.319-2.841zM24.543 5.457c0.959 0.959 1.712 1.825 2.268 2.543h-4.811v-4.811c0.718 0.556 1.584 1.309 2.543 2.268zM28 29.5c0 0.271-0.229 0.5-0.5 0.5h-23c-0.271 0-0.5-0.229-0.5-0.5v-27c0-0.271 0.229-0.5 0.5-0.5 0 0 15.499-0 15.5 0v7c0 0.552 0.448 1 1 1h7v19.5z\"></path>\n",
       "<path d=\"M23 26h-14c-0.552 0-1-0.448-1-1s0.448-1 1-1h14c0.552 0 1 0.448 1 1s-0.448 1-1 1z\"></path>\n",
       "<path d=\"M23 22h-14c-0.552 0-1-0.448-1-1s0.448-1 1-1h14c0.552 0 1 0.448 1 1s-0.448 1-1 1z\"></path>\n",
       "<path d=\"M23 18h-14c-0.552 0-1-0.448-1-1s0.448-1 1-1h14c0.552 0 1 0.448 1 1s-0.448 1-1 1z\"></path>\n",
       "</symbol>\n",
       "</defs>\n",
       "</svg>\n",
       "<style>/* CSS stylesheet for displaying xarray objects in jupyterlab.\n",
       " *\n",
       " */\n",
       "\n",
       ":root {\n",
       "  --xr-font-color0: var(--jp-content-font-color0, rgba(0, 0, 0, 1));\n",
       "  --xr-font-color2: var(--jp-content-font-color2, rgba(0, 0, 0, 0.54));\n",
       "  --xr-font-color3: var(--jp-content-font-color3, rgba(0, 0, 0, 0.38));\n",
       "  --xr-border-color: var(--jp-border-color2, #e0e0e0);\n",
       "  --xr-disabled-color: var(--jp-layout-color3, #bdbdbd);\n",
       "  --xr-background-color: var(--jp-layout-color0, white);\n",
       "  --xr-background-color-row-even: var(--jp-layout-color1, white);\n",
       "  --xr-background-color-row-odd: var(--jp-layout-color2, #eeeeee);\n",
       "}\n",
       "\n",
       "html[theme=dark],\n",
       "body.vscode-dark {\n",
       "  --xr-font-color0: rgba(255, 255, 255, 1);\n",
       "  --xr-font-color2: rgba(255, 255, 255, 0.54);\n",
       "  --xr-font-color3: rgba(255, 255, 255, 0.38);\n",
       "  --xr-border-color: #1F1F1F;\n",
       "  --xr-disabled-color: #515151;\n",
       "  --xr-background-color: #111111;\n",
       "  --xr-background-color-row-even: #111111;\n",
       "  --xr-background-color-row-odd: #313131;\n",
       "}\n",
       "\n",
       ".xr-wrap {\n",
       "  display: block;\n",
       "  min-width: 300px;\n",
       "  max-width: 700px;\n",
       "}\n",
       "\n",
       ".xr-text-repr-fallback {\n",
       "  /* fallback to plain text repr when CSS is not injected (untrusted notebook) */\n",
       "  display: none;\n",
       "}\n",
       "\n",
       ".xr-header {\n",
       "  padding-top: 6px;\n",
       "  padding-bottom: 6px;\n",
       "  margin-bottom: 4px;\n",
       "  border-bottom: solid 1px var(--xr-border-color);\n",
       "}\n",
       "\n",
       ".xr-header > div,\n",
       ".xr-header > ul {\n",
       "  display: inline;\n",
       "  margin-top: 0;\n",
       "  margin-bottom: 0;\n",
       "}\n",
       "\n",
       ".xr-obj-type,\n",
       ".xr-array-name {\n",
       "  margin-left: 2px;\n",
       "  margin-right: 10px;\n",
       "}\n",
       "\n",
       ".xr-obj-type {\n",
       "  color: var(--xr-font-color2);\n",
       "}\n",
       "\n",
       ".xr-sections {\n",
       "  padding-left: 0 !important;\n",
       "  display: grid;\n",
       "  grid-template-columns: 150px auto auto 1fr 20px 20px;\n",
       "}\n",
       "\n",
       ".xr-section-item {\n",
       "  display: contents;\n",
       "}\n",
       "\n",
       ".xr-section-item input {\n",
       "  display: none;\n",
       "}\n",
       "\n",
       ".xr-section-item input + label {\n",
       "  color: var(--xr-disabled-color);\n",
       "}\n",
       "\n",
       ".xr-section-item input:enabled + label {\n",
       "  cursor: pointer;\n",
       "  color: var(--xr-font-color2);\n",
       "}\n",
       "\n",
       ".xr-section-item input:enabled + label:hover {\n",
       "  color: var(--xr-font-color0);\n",
       "}\n",
       "\n",
       ".xr-section-summary {\n",
       "  grid-column: 1;\n",
       "  color: var(--xr-font-color2);\n",
       "  font-weight: 500;\n",
       "}\n",
       "\n",
       ".xr-section-summary > span {\n",
       "  display: inline-block;\n",
       "  padding-left: 0.5em;\n",
       "}\n",
       "\n",
       ".xr-section-summary-in:disabled + label {\n",
       "  color: var(--xr-font-color2);\n",
       "}\n",
       "\n",
       ".xr-section-summary-in + label:before {\n",
       "  display: inline-block;\n",
       "  content: '►';\n",
       "  font-size: 11px;\n",
       "  width: 15px;\n",
       "  text-align: center;\n",
       "}\n",
       "\n",
       ".xr-section-summary-in:disabled + label:before {\n",
       "  color: var(--xr-disabled-color);\n",
       "}\n",
       "\n",
       ".xr-section-summary-in:checked + label:before {\n",
       "  content: '▼';\n",
       "}\n",
       "\n",
       ".xr-section-summary-in:checked + label > span {\n",
       "  display: none;\n",
       "}\n",
       "\n",
       ".xr-section-summary,\n",
       ".xr-section-inline-details {\n",
       "  padding-top: 4px;\n",
       "  padding-bottom: 4px;\n",
       "}\n",
       "\n",
       ".xr-section-inline-details {\n",
       "  grid-column: 2 / -1;\n",
       "}\n",
       "\n",
       ".xr-section-details {\n",
       "  display: none;\n",
       "  grid-column: 1 / -1;\n",
       "  margin-bottom: 5px;\n",
       "}\n",
       "\n",
       ".xr-section-summary-in:checked ~ .xr-section-details {\n",
       "  display: contents;\n",
       "}\n",
       "\n",
       ".xr-array-wrap {\n",
       "  grid-column: 1 / -1;\n",
       "  display: grid;\n",
       "  grid-template-columns: 20px auto;\n",
       "}\n",
       "\n",
       ".xr-array-wrap > label {\n",
       "  grid-column: 1;\n",
       "  vertical-align: top;\n",
       "}\n",
       "\n",
       ".xr-preview {\n",
       "  color: var(--xr-font-color3);\n",
       "}\n",
       "\n",
       ".xr-array-preview,\n",
       ".xr-array-data {\n",
       "  padding: 0 5px !important;\n",
       "  grid-column: 2;\n",
       "}\n",
       "\n",
       ".xr-array-data,\n",
       ".xr-array-in:checked ~ .xr-array-preview {\n",
       "  display: none;\n",
       "}\n",
       "\n",
       ".xr-array-in:checked ~ .xr-array-data,\n",
       ".xr-array-preview {\n",
       "  display: inline-block;\n",
       "}\n",
       "\n",
       ".xr-dim-list {\n",
       "  display: inline-block !important;\n",
       "  list-style: none;\n",
       "  padding: 0 !important;\n",
       "  margin: 0;\n",
       "}\n",
       "\n",
       ".xr-dim-list li {\n",
       "  display: inline-block;\n",
       "  padding: 0;\n",
       "  margin: 0;\n",
       "}\n",
       "\n",
       ".xr-dim-list:before {\n",
       "  content: '(';\n",
       "}\n",
       "\n",
       ".xr-dim-list:after {\n",
       "  content: ')';\n",
       "}\n",
       "\n",
       ".xr-dim-list li:not(:last-child):after {\n",
       "  content: ',';\n",
       "  padding-right: 5px;\n",
       "}\n",
       "\n",
       ".xr-has-index {\n",
       "  font-weight: bold;\n",
       "}\n",
       "\n",
       ".xr-var-list,\n",
       ".xr-var-item {\n",
       "  display: contents;\n",
       "}\n",
       "\n",
       ".xr-var-item > div,\n",
       ".xr-var-item label,\n",
       ".xr-var-item > .xr-var-name span {\n",
       "  background-color: var(--xr-background-color-row-even);\n",
       "  margin-bottom: 0;\n",
       "}\n",
       "\n",
       ".xr-var-item > .xr-var-name:hover span {\n",
       "  padding-right: 5px;\n",
       "}\n",
       "\n",
       ".xr-var-list > li:nth-child(odd) > div,\n",
       ".xr-var-list > li:nth-child(odd) > label,\n",
       ".xr-var-list > li:nth-child(odd) > .xr-var-name span {\n",
       "  background-color: var(--xr-background-color-row-odd);\n",
       "}\n",
       "\n",
       ".xr-var-name {\n",
       "  grid-column: 1;\n",
       "}\n",
       "\n",
       ".xr-var-dims {\n",
       "  grid-column: 2;\n",
       "}\n",
       "\n",
       ".xr-var-dtype {\n",
       "  grid-column: 3;\n",
       "  text-align: right;\n",
       "  color: var(--xr-font-color2);\n",
       "}\n",
       "\n",
       ".xr-var-preview {\n",
       "  grid-column: 4;\n",
       "}\n",
       "\n",
       ".xr-var-name,\n",
       ".xr-var-dims,\n",
       ".xr-var-dtype,\n",
       ".xr-preview,\n",
       ".xr-attrs dt {\n",
       "  white-space: nowrap;\n",
       "  overflow: hidden;\n",
       "  text-overflow: ellipsis;\n",
       "  padding-right: 10px;\n",
       "}\n",
       "\n",
       ".xr-var-name:hover,\n",
       ".xr-var-dims:hover,\n",
       ".xr-var-dtype:hover,\n",
       ".xr-attrs dt:hover {\n",
       "  overflow: visible;\n",
       "  width: auto;\n",
       "  z-index: 1;\n",
       "}\n",
       "\n",
       ".xr-var-attrs,\n",
       ".xr-var-data {\n",
       "  display: none;\n",
       "  background-color: var(--xr-background-color) !important;\n",
       "  padding-bottom: 5px !important;\n",
       "}\n",
       "\n",
       ".xr-var-attrs-in:checked ~ .xr-var-attrs,\n",
       ".xr-var-data-in:checked ~ .xr-var-data {\n",
       "  display: block;\n",
       "}\n",
       "\n",
       ".xr-var-data > table {\n",
       "  float: right;\n",
       "}\n",
       "\n",
       ".xr-var-name span,\n",
       ".xr-var-data,\n",
       ".xr-attrs {\n",
       "  padding-left: 25px !important;\n",
       "}\n",
       "\n",
       ".xr-attrs,\n",
       ".xr-var-attrs,\n",
       ".xr-var-data {\n",
       "  grid-column: 1 / -1;\n",
       "}\n",
       "\n",
       "dl.xr-attrs {\n",
       "  padding: 0;\n",
       "  margin: 0;\n",
       "  display: grid;\n",
       "  grid-template-columns: 125px auto;\n",
       "}\n",
       "\n",
       ".xr-attrs dt,\n",
       ".xr-attrs dd {\n",
       "  padding: 0;\n",
       "  margin: 0;\n",
       "  float: left;\n",
       "  padding-right: 10px;\n",
       "  width: auto;\n",
       "}\n",
       "\n",
       ".xr-attrs dt {\n",
       "  font-weight: normal;\n",
       "  grid-column: 1;\n",
       "}\n",
       "\n",
       ".xr-attrs dt:hover span {\n",
       "  display: inline-block;\n",
       "  background: var(--xr-background-color);\n",
       "  padding-right: 10px;\n",
       "}\n",
       "\n",
       ".xr-attrs dd {\n",
       "  grid-column: 2;\n",
       "  white-space: pre-wrap;\n",
       "  word-break: break-all;\n",
       "}\n",
       "\n",
       ".xr-icon-database,\n",
       ".xr-icon-file-text2 {\n",
       "  display: inline-block;\n",
       "  vertical-align: middle;\n",
       "  width: 1em;\n",
       "  height: 1.5em !important;\n",
       "  stroke-width: 0;\n",
       "  stroke: currentColor;\n",
       "  fill: currentColor;\n",
       "}\n",
       "</style><pre class='xr-text-repr-fallback'>&lt;xarray.DataArray &#x27;VAR_2T&#x27; (time: 127800, latitude: 721, longitude: 1440)&gt;\n",
       "dask.array&lt;getitem, shape=(127800, 721, 1440), dtype=float32, chunksize=(744, 721, 1440), chunktype=numpy.ndarray&gt;\n",
       "Coordinates:\n",
       "  * latitude   (latitude) float64 90.0 89.75 89.5 89.25 ... -89.5 -89.75 -90.0\n",
       "  * longitude  (longitude) float64 0.0 0.25 0.5 0.75 ... 359.0 359.2 359.5 359.8\n",
       "  * time       (time) datetime64[ns] 2008-01-02 ... 2022-07-31T23:00:00\n",
       "Attributes: (12/14)\n",
       "    long_name:                                          2 metre temperature\n",
       "    short_name:                                         2t\n",
       "    units:                                              K\n",
       "    original_format:                                    WMO GRIB 1 with ECMWF...\n",
       "    ecmwf_local_table:                                  128\n",
       "    ecmwf_parameter:                                    167\n",
       "    ...                                                 ...\n",
       "    grid_specification:                                 0.25 degree x 0.25 de...\n",
       "    rda_dataset:                                        ds633.0\n",
       "    rda_dataset_url:                                    https:/rda.ucar.edu/d...\n",
       "    rda_dataset_doi:                                    DOI: 10.5065/BH6N-5N20\n",
       "    rda_dataset_group:                                  ERA5 atmospheric surf...\n",
       "    QuantizeGranularBitGroomNumberOfSignificantDigits:  7</pre><div class='xr-wrap' hidden><div class='xr-header'><div class='xr-obj-type'>xarray.DataArray</div><div class='xr-array-name'>'VAR_2T'</div><ul class='xr-dim-list'><li><span class='xr-has-index'>time</span>: 127800</li><li><span class='xr-has-index'>latitude</span>: 721</li><li><span class='xr-has-index'>longitude</span>: 1440</li></ul></div><ul class='xr-sections'><li class='xr-section-item'><div class='xr-array-wrap'><input id='section-d7d1c724-0852-4758-9b70-c0a63af2bfbc' class='xr-array-in' type='checkbox' checked><label for='section-d7d1c724-0852-4758-9b70-c0a63af2bfbc' title='Show/hide data repr'><svg class='icon xr-icon-database'><use xlink:href='#icon-database'></use></svg></label><div class='xr-array-preview xr-preview'><span>dask.array&lt;chunksize=(720, 721, 1440), meta=np.ndarray&gt;</span></div><div class='xr-array-data'><table>\n",
       "<tr>\n",
       "<td>\n",
       "<table>\n",
       "  <thead>\n",
       "    <tr><td> </td><th> Array </th><th> Chunk </th></tr>\n",
       "  </thead>\n",
       "  <tbody>\n",
       "    <tr><th> Bytes </th><td> 494.30 GiB </td> <td> 2.88 GiB </td></tr>\n",
       "    <tr><th> Shape </th><td> (127800, 721, 1440) </td> <td> (744, 721, 1440) </td></tr>\n",
       "    <tr><th> Count </th><td> 2467 Tasks </td><td> 175 Chunks </td></tr>\n",
       "    <tr><th> Type </th><td> float32 </td><td> numpy.ndarray </td></tr>\n",
       "  </tbody>\n",
       "</table>\n",
       "</td>\n",
       "<td>\n",
       "<svg width=\"156\" height=\"146\" style=\"stroke:rgb(0,0,0);stroke-width:1\" >\n",
       "\n",
       "  <!-- Horizontal lines -->\n",
       "  <line x1=\"10\" y1=\"0\" x2=\"80\" y2=\"70\" style=\"stroke-width:2\" />\n",
       "  <line x1=\"10\" y1=\"25\" x2=\"80\" y2=\"96\" style=\"stroke-width:2\" />\n",
       "\n",
       "  <!-- Vertical lines -->\n",
       "  <line x1=\"10\" y1=\"0\" x2=\"10\" y2=\"25\" style=\"stroke-width:2\" />\n",
       "  <line x1=\"13\" y1=\"3\" x2=\"13\" y2=\"29\" />\n",
       "  <line x1=\"17\" y1=\"7\" x2=\"17\" y2=\"32\" />\n",
       "  <line x1=\"20\" y1=\"10\" x2=\"20\" y2=\"36\" />\n",
       "  <line x1=\"24\" y1=\"14\" x2=\"24\" y2=\"39\" />\n",
       "  <line x1=\"28\" y1=\"18\" x2=\"28\" y2=\"43\" />\n",
       "  <line x1=\"32\" y1=\"22\" x2=\"32\" y2=\"47\" />\n",
       "  <line x1=\"35\" y1=\"25\" x2=\"35\" y2=\"51\" />\n",
       "  <line x1=\"39\" y1=\"29\" x2=\"39\" y2=\"54\" />\n",
       "  <line x1=\"43\" y1=\"33\" x2=\"43\" y2=\"58\" />\n",
       "  <line x1=\"47\" y1=\"37\" x2=\"47\" y2=\"62\" />\n",
       "  <line x1=\"50\" y1=\"40\" x2=\"50\" y2=\"66\" />\n",
       "  <line x1=\"54\" y1=\"44\" x2=\"54\" y2=\"69\" />\n",
       "  <line x1=\"58\" y1=\"48\" x2=\"58\" y2=\"73\" />\n",
       "  <line x1=\"61\" y1=\"51\" x2=\"61\" y2=\"77\" />\n",
       "  <line x1=\"65\" y1=\"55\" x2=\"65\" y2=\"81\" />\n",
       "  <line x1=\"69\" y1=\"59\" x2=\"69\" y2=\"84\" />\n",
       "  <line x1=\"72\" y1=\"62\" x2=\"72\" y2=\"88\" />\n",
       "  <line x1=\"76\" y1=\"66\" x2=\"76\" y2=\"91\" />\n",
       "  <line x1=\"80\" y1=\"70\" x2=\"80\" y2=\"96\" style=\"stroke-width:2\" />\n",
       "\n",
       "  <!-- Colored Rectangle -->\n",
       "  <polygon points=\"10.0,0.0 80.58823529411765,70.58823529411765 80.58823529411765,96.00085180870013 10.0,25.41261651458249\" style=\"fill:#8B4903A0;stroke-width:0\"/>\n",
       "\n",
       "  <!-- Horizontal lines -->\n",
       "  <line x1=\"10\" y1=\"0\" x2=\"35\" y2=\"0\" style=\"stroke-width:2\" />\n",
       "  <line x1=\"13\" y1=\"3\" x2=\"39\" y2=\"3\" />\n",
       "  <line x1=\"17\" y1=\"7\" x2=\"43\" y2=\"7\" />\n",
       "  <line x1=\"20\" y1=\"10\" x2=\"46\" y2=\"10\" />\n",
       "  <line x1=\"24\" y1=\"14\" x2=\"50\" y2=\"14\" />\n",
       "  <line x1=\"28\" y1=\"18\" x2=\"54\" y2=\"18\" />\n",
       "  <line x1=\"32\" y1=\"22\" x2=\"58\" y2=\"22\" />\n",
       "  <line x1=\"35\" y1=\"25\" x2=\"61\" y2=\"25\" />\n",
       "  <line x1=\"39\" y1=\"29\" x2=\"65\" y2=\"29\" />\n",
       "  <line x1=\"43\" y1=\"33\" x2=\"69\" y2=\"33\" />\n",
       "  <line x1=\"47\" y1=\"37\" x2=\"73\" y2=\"37\" />\n",
       "  <line x1=\"50\" y1=\"40\" x2=\"76\" y2=\"40\" />\n",
       "  <line x1=\"54\" y1=\"44\" x2=\"80\" y2=\"44\" />\n",
       "  <line x1=\"58\" y1=\"48\" x2=\"83\" y2=\"48\" />\n",
       "  <line x1=\"61\" y1=\"51\" x2=\"87\" y2=\"51\" />\n",
       "  <line x1=\"65\" y1=\"55\" x2=\"91\" y2=\"55\" />\n",
       "  <line x1=\"69\" y1=\"59\" x2=\"95\" y2=\"59\" />\n",
       "  <line x1=\"72\" y1=\"62\" x2=\"98\" y2=\"62\" />\n",
       "  <line x1=\"76\" y1=\"66\" x2=\"102\" y2=\"66\" />\n",
       "  <line x1=\"80\" y1=\"70\" x2=\"106\" y2=\"70\" style=\"stroke-width:2\" />\n",
       "\n",
       "  <!-- Vertical lines -->\n",
       "  <line x1=\"10\" y1=\"0\" x2=\"80\" y2=\"70\" style=\"stroke-width:2\" />\n",
       "  <line x1=\"35\" y1=\"0\" x2=\"106\" y2=\"70\" style=\"stroke-width:2\" />\n",
       "\n",
       "  <!-- Colored Rectangle -->\n",
       "  <polygon points=\"10.0,0.0 35.99312944101654,0.0 106.5813647351342,70.58823529411765 80.58823529411765,70.58823529411765\" style=\"fill:#8B4903A0;stroke-width:0\"/>\n",
       "\n",
       "  <!-- Horizontal lines -->\n",
       "  <line x1=\"80\" y1=\"70\" x2=\"106\" y2=\"70\" style=\"stroke-width:2\" />\n",
       "  <line x1=\"80\" y1=\"96\" x2=\"106\" y2=\"96\" style=\"stroke-width:2\" />\n",
       "\n",
       "  <!-- Vertical lines -->\n",
       "  <line x1=\"80\" y1=\"70\" x2=\"80\" y2=\"96\" style=\"stroke-width:2\" />\n",
       "  <line x1=\"106\" y1=\"70\" x2=\"106\" y2=\"96\" style=\"stroke-width:2\" />\n",
       "\n",
       "  <!-- Colored Rectangle -->\n",
       "  <polygon points=\"80.58823529411765,70.58823529411765 106.5813647351342,70.58823529411765 106.5813647351342,96.00085180870013 80.58823529411765,96.00085180870013\" style=\"fill:#ECB172A0;stroke-width:0\"/>\n",
       "\n",
       "  <!-- Text -->\n",
       "  <text x=\"93.584800\" y=\"116.000852\" font-size=\"1.0rem\" font-weight=\"100\" text-anchor=\"middle\" >1440</text>\n",
       "  <text x=\"126.581365\" y=\"83.294544\" font-size=\"1.0rem\" font-weight=\"100\" text-anchor=\"middle\" transform=\"rotate(-90,126.581365,83.294544)\">721</text>\n",
       "  <text x=\"35.294118\" y=\"80.706734\" font-size=\"1.0rem\" font-weight=\"100\" text-anchor=\"middle\" transform=\"rotate(45,35.294118,80.706734)\">127800</text>\n",
       "</svg>\n",
       "</td>\n",
       "</tr>\n",
       "</table></div></div></li><li class='xr-section-item'><input id='section-a8713301-8cf4-4d0e-927e-e38bea93b51b' class='xr-section-summary-in' type='checkbox'  checked><label for='section-a8713301-8cf4-4d0e-927e-e38bea93b51b' class='xr-section-summary' >Coordinates: <span>(3)</span></label><div class='xr-section-inline-details'></div><div class='xr-section-details'><ul class='xr-var-list'><li class='xr-var-item'><div class='xr-var-name'><span class='xr-has-index'>latitude</span></div><div class='xr-var-dims'>(latitude)</div><div class='xr-var-dtype'>float64</div><div class='xr-var-preview xr-preview'>90.0 89.75 89.5 ... -89.75 -90.0</div><input id='attrs-0bf5ffd9-9791-4876-8e20-99ca169db990' class='xr-var-attrs-in' type='checkbox' ><label for='attrs-0bf5ffd9-9791-4876-8e20-99ca169db990' title='Show/Hide attributes'><svg class='icon xr-icon-file-text2'><use xlink:href='#icon-file-text2'></use></svg></label><input id='data-95bb1926-011e-44cf-9c53-6ff88d20ddfa' class='xr-var-data-in' type='checkbox'><label for='data-95bb1926-011e-44cf-9c53-6ff88d20ddfa' title='Show/Hide data repr'><svg class='icon xr-icon-database'><use xlink:href='#icon-database'></use></svg></label><div class='xr-var-attrs'><dl class='xr-attrs'><dt><span>long_name :</span></dt><dd>latitude</dd><dt><span>short_name :</span></dt><dd>lat</dd><dt><span>units :</span></dt><dd>degrees_north</dd></dl></div><div class='xr-var-data'><pre>array([ 90.  ,  89.75,  89.5 , ..., -89.5 , -89.75, -90.  ])</pre></div></li><li class='xr-var-item'><div class='xr-var-name'><span class='xr-has-index'>longitude</span></div><div class='xr-var-dims'>(longitude)</div><div class='xr-var-dtype'>float64</div><div class='xr-var-preview xr-preview'>0.0 0.25 0.5 ... 359.2 359.5 359.8</div><input id='attrs-95f52ca6-6e19-41f4-80f6-9db6e77cc300' class='xr-var-attrs-in' type='checkbox' ><label for='attrs-95f52ca6-6e19-41f4-80f6-9db6e77cc300' title='Show/Hide attributes'><svg class='icon xr-icon-file-text2'><use xlink:href='#icon-file-text2'></use></svg></label><input id='data-a1cf726b-d356-4d23-bbd0-631b9c0c00f2' class='xr-var-data-in' type='checkbox'><label for='data-a1cf726b-d356-4d23-bbd0-631b9c0c00f2' title='Show/Hide data repr'><svg class='icon xr-icon-database'><use xlink:href='#icon-database'></use></svg></label><div class='xr-var-attrs'><dl class='xr-attrs'><dt><span>long_name :</span></dt><dd>longitude</dd><dt><span>short_name :</span></dt><dd>lon</dd><dt><span>units :</span></dt><dd>degrees_east</dd></dl></div><div class='xr-var-data'><pre>array([0.0000e+00, 2.5000e-01, 5.0000e-01, ..., 3.5925e+02, 3.5950e+02,\n",
       "       3.5975e+02])</pre></div></li><li class='xr-var-item'><div class='xr-var-name'><span class='xr-has-index'>time</span></div><div class='xr-var-dims'>(time)</div><div class='xr-var-dtype'>datetime64[ns]</div><div class='xr-var-preview xr-preview'>2008-01-02 ... 2022-07-31T23:00:00</div><input id='attrs-b0d44605-8ea1-4848-9974-8503186cf005' class='xr-var-attrs-in' type='checkbox' ><label for='attrs-b0d44605-8ea1-4848-9974-8503186cf005' title='Show/Hide attributes'><svg class='icon xr-icon-file-text2'><use xlink:href='#icon-file-text2'></use></svg></label><input id='data-ceb50364-4975-4759-9c6a-3a5381e37058' class='xr-var-data-in' type='checkbox'><label for='data-ceb50364-4975-4759-9c6a-3a5381e37058' title='Show/Hide data repr'><svg class='icon xr-icon-database'><use xlink:href='#icon-database'></use></svg></label><div class='xr-var-attrs'><dl class='xr-attrs'><dt><span>long_name :</span></dt><dd>time</dd></dl></div><div class='xr-var-data'><pre>array([&#x27;2008-01-02T00:00:00.000000000&#x27;, &#x27;2008-01-02T01:00:00.000000000&#x27;,\n",
       "       &#x27;2008-01-02T02:00:00.000000000&#x27;, ..., &#x27;2022-07-31T21:00:00.000000000&#x27;,\n",
       "       &#x27;2022-07-31T22:00:00.000000000&#x27;, &#x27;2022-07-31T23:00:00.000000000&#x27;],\n",
       "      dtype=&#x27;datetime64[ns]&#x27;)</pre></div></li></ul></div></li><li class='xr-section-item'><input id='section-d64e126f-08ef-491d-bfc3-f6613ff18e9a' class='xr-section-summary-in' type='checkbox'  ><label for='section-d64e126f-08ef-491d-bfc3-f6613ff18e9a' class='xr-section-summary' >Attributes: <span>(14)</span></label><div class='xr-section-inline-details'></div><div class='xr-section-details'><dl class='xr-attrs'><dt><span>long_name :</span></dt><dd>2 metre temperature</dd><dt><span>short_name :</span></dt><dd>2t</dd><dt><span>units :</span></dt><dd>K</dd><dt><span>original_format :</span></dt><dd>WMO GRIB 1 with ECMWF local table</dd><dt><span>ecmwf_local_table :</span></dt><dd>128</dd><dt><span>ecmwf_parameter :</span></dt><dd>167</dd><dt><span>minimum_value :</span></dt><dd>208.17442</dd><dt><span>maximum_value :</span></dt><dd>320.56882</dd><dt><span>grid_specification :</span></dt><dd>0.25 degree x 0.25 degree from 90N to 90S and 0E to 359.75E (721 x 1440 Latitude/Longitude)</dd><dt><span>rda_dataset :</span></dt><dd>ds633.0</dd><dt><span>rda_dataset_url :</span></dt><dd>https:/rda.ucar.edu/datasets/ds633.0/</dd><dt><span>rda_dataset_doi :</span></dt><dd>DOI: 10.5065/BH6N-5N20</dd><dt><span>rda_dataset_group :</span></dt><dd>ERA5 atmospheric surface analysis [netCDF4]</dd><dt><span>QuantizeGranularBitGroomNumberOfSignificantDigits :</span></dt><dd>7</dd></dl></div></li></ul></div></div>"
      ],
      "text/plain": [
       "<xarray.DataArray 'VAR_2T' (time: 127800, latitude: 721, longitude: 1440)>\n",
       "dask.array<getitem, shape=(127800, 721, 1440), dtype=float32, chunksize=(744, 721, 1440), chunktype=numpy.ndarray>\n",
       "Coordinates:\n",
       "  * latitude   (latitude) float64 90.0 89.75 89.5 89.25 ... -89.5 -89.75 -90.0\n",
       "  * longitude  (longitude) float64 0.0 0.25 0.5 0.75 ... 359.0 359.2 359.5 359.8\n",
       "  * time       (time) datetime64[ns] 2008-01-02 ... 2022-07-31T23:00:00\n",
       "Attributes: (12/14)\n",
       "    long_name:                                          2 metre temperature\n",
       "    short_name:                                         2t\n",
       "    units:                                              K\n",
       "    original_format:                                    WMO GRIB 1 with ECMWF...\n",
       "    ecmwf_local_table:                                  128\n",
       "    ecmwf_parameter:                                    167\n",
       "    ...                                                 ...\n",
       "    grid_specification:                                 0.25 degree x 0.25 de...\n",
       "    rda_dataset:                                        ds633.0\n",
       "    rda_dataset_url:                                    https:/rda.ucar.edu/d...\n",
       "    rda_dataset_doi:                                    DOI: 10.5065/BH6N-5N20\n",
       "    rda_dataset_group:                                  ERA5 atmospheric surf...\n",
       "    QuantizeGranularBitGroomNumberOfSignificantDigits:  7"
      ]
     },
     "execution_count": 5,
     "metadata": {},
     "output_type": "execute_result"
    }
   ],
   "source": [
    "ds_"
   ]
  },
  {
   "cell_type": "markdown",
   "id": "bda9c6f2-98a0-4bb8-91f9-bc1376814b81",
   "metadata": {},
   "source": [
    "## Open NOAA station data"
   ]
  },
  {
   "cell_type": "code",
   "execution_count": 6,
   "id": "f1fe2d68-67b9-4545-868e-f51a03a6a391",
   "metadata": {},
   "outputs": [],
   "source": [
    "BALT_temp = pd.read_csv('/glade/scratch/molina/3043180.csv', low_memory=False)"
   ]
  },
  {
   "cell_type": "code",
   "execution_count": 7,
   "id": "b7e0aa6c-d5fc-4208-ada4-eb51500bf74e",
   "metadata": {},
   "outputs": [],
   "source": [
    "BALT_temp = BALT_temp.iloc[23:116791]"
   ]
  },
  {
   "cell_type": "code",
   "execution_count": 8,
   "id": "6fe54420-b25c-486c-9bbe-7a1ed6f893ff",
   "metadata": {},
   "outputs": [
    {
     "data": {
      "text/html": [
       "<div>\n",
       "<style scoped>\n",
       "    .dataframe tbody tr th:only-of-type {\n",
       "        vertical-align: middle;\n",
       "    }\n",
       "\n",
       "    .dataframe tbody tr th {\n",
       "        vertical-align: top;\n",
       "    }\n",
       "\n",
       "    .dataframe thead th {\n",
       "        text-align: right;\n",
       "    }\n",
       "</style>\n",
       "<table border=\"1\" class=\"dataframe\">\n",
       "  <thead>\n",
       "    <tr style=\"text-align: right;\">\n",
       "      <th></th>\n",
       "      <th>STATION</th>\n",
       "      <th>NAME</th>\n",
       "      <th>LATITUDE</th>\n",
       "      <th>LONGITUDE</th>\n",
       "      <th>ELEVATION</th>\n",
       "      <th>DATE</th>\n",
       "      <th>SOURCE</th>\n",
       "      <th>REPORT_TYPE</th>\n",
       "      <th>CALL_SIGN</th>\n",
       "      <th>QUALITY_CONTROL</th>\n",
       "      <th>...</th>\n",
       "      <th>OD1</th>\n",
       "      <th>QUALITY_CONTROL.1</th>\n",
       "      <th>REM</th>\n",
       "      <th>REPORT_TYPE.1</th>\n",
       "      <th>SA1</th>\n",
       "      <th>SLP</th>\n",
       "      <th>SOURCE.1</th>\n",
       "      <th>TMP</th>\n",
       "      <th>VIS</th>\n",
       "      <th>WND</th>\n",
       "    </tr>\n",
       "  </thead>\n",
       "  <tbody>\n",
       "    <tr>\n",
       "      <th>23</th>\n",
       "      <td>99729699999</td>\n",
       "      <td>BALTIMORE MD, MD US</td>\n",
       "      <td>39.27</td>\n",
       "      <td>-76.57</td>\n",
       "      <td>10.0</td>\n",
       "      <td>2008-01-02T00:00:00</td>\n",
       "      <td>4</td>\n",
       "      <td>FM-18</td>\n",
       "      <td>BLTM2</td>\n",
       "      <td>V020</td>\n",
       "      <td>...</td>\n",
       "      <td>NaN</td>\n",
       "      <td>V020</td>\n",
       "      <td>SYN069CMAN  02004 BLTM2 46/// ///// 1//// 9233...</td>\n",
       "      <td>FM-18</td>\n",
       "      <td>NaN</td>\n",
       "      <td>99999,9</td>\n",
       "      <td>4</td>\n",
       "      <td>+9999,9</td>\n",
       "      <td>999999,9,N,1</td>\n",
       "      <td>999,9,9,9999,9</td>\n",
       "    </tr>\n",
       "    <tr>\n",
       "      <th>24</th>\n",
       "      <td>99729699999</td>\n",
       "      <td>BALTIMORE MD, MD US</td>\n",
       "      <td>39.27</td>\n",
       "      <td>-76.57</td>\n",
       "      <td>10.0</td>\n",
       "      <td>2008-01-02T01:00:00</td>\n",
       "      <td>4</td>\n",
       "      <td>FM-18</td>\n",
       "      <td>BLTM2</td>\n",
       "      <td>V020</td>\n",
       "      <td>...</td>\n",
       "      <td>NaN</td>\n",
       "      <td>V020</td>\n",
       "      <td>SYN069CMAN  02014 BLTM2 46/// ///// 1//// 9003...</td>\n",
       "      <td>FM-18</td>\n",
       "      <td>NaN</td>\n",
       "      <td>99999,9</td>\n",
       "      <td>4</td>\n",
       "      <td>+9999,9</td>\n",
       "      <td>999999,9,N,1</td>\n",
       "      <td>999,9,9,9999,9</td>\n",
       "    </tr>\n",
       "    <tr>\n",
       "      <th>116789</th>\n",
       "      <td>99729699999</td>\n",
       "      <td>BALTIMORE MD, MD US</td>\n",
       "      <td>39.27</td>\n",
       "      <td>-76.57</td>\n",
       "      <td>10.0</td>\n",
       "      <td>2022-07-31T22:00:00</td>\n",
       "      <td>4</td>\n",
       "      <td>FM-13</td>\n",
       "      <td>99999</td>\n",
       "      <td>V020</td>\n",
       "      <td>...</td>\n",
       "      <td>5,99,0031,1,999</td>\n",
       "      <td>V020</td>\n",
       "      <td>SYN080BLTM2 46/// /3003 10247 40196 55000 9220...</td>\n",
       "      <td>FM-13</td>\n",
       "      <td>+271,1</td>\n",
       "      <td>10196,1</td>\n",
       "      <td>4</td>\n",
       "      <td>+0247,1</td>\n",
       "      <td>999999,9,9,9</td>\n",
       "      <td>300,1,N,0015,1</td>\n",
       "    </tr>\n",
       "    <tr>\n",
       "      <th>116790</th>\n",
       "      <td>99729699999</td>\n",
       "      <td>BALTIMORE MD, MD US</td>\n",
       "      <td>39.27</td>\n",
       "      <td>-76.57</td>\n",
       "      <td>10.0</td>\n",
       "      <td>2022-07-31T23:00:00</td>\n",
       "      <td>4</td>\n",
       "      <td>FM-13</td>\n",
       "      <td>99999</td>\n",
       "      <td>V020</td>\n",
       "      <td>...</td>\n",
       "      <td>5,99,0031,1,999</td>\n",
       "      <td>V020</td>\n",
       "      <td>SYN080BLTM2 46/// /0405 10235 40188 50000 9230...</td>\n",
       "      <td>FM-13</td>\n",
       "      <td>+271,1</td>\n",
       "      <td>10188,1</td>\n",
       "      <td>4</td>\n",
       "      <td>+0235,1</td>\n",
       "      <td>999999,9,9,9</td>\n",
       "      <td>040,1,N,0026,1</td>\n",
       "    </tr>\n",
       "  </tbody>\n",
       "</table>\n",
       "<p>4 rows × 26 columns</p>\n",
       "</div>"
      ],
      "text/plain": [
       "            STATION                 NAME  LATITUDE  LONGITUDE  ELEVATION  \\\n",
       "23      99729699999  BALTIMORE MD, MD US     39.27     -76.57       10.0   \n",
       "24      99729699999  BALTIMORE MD, MD US     39.27     -76.57       10.0   \n",
       "116789  99729699999  BALTIMORE MD, MD US     39.27     -76.57       10.0   \n",
       "116790  99729699999  BALTIMORE MD, MD US     39.27     -76.57       10.0   \n",
       "\n",
       "                       DATE  SOURCE REPORT_TYPE CALL_SIGN QUALITY_CONTROL  \\\n",
       "23      2008-01-02T00:00:00       4       FM-18     BLTM2            V020   \n",
       "24      2008-01-02T01:00:00       4       FM-18     BLTM2            V020   \n",
       "116789  2022-07-31T22:00:00       4       FM-13     99999            V020   \n",
       "116790  2022-07-31T23:00:00       4       FM-13     99999            V020   \n",
       "\n",
       "        ...              OD1 QUALITY_CONTROL.1  \\\n",
       "23      ...              NaN              V020   \n",
       "24      ...              NaN              V020   \n",
       "116789  ...  5,99,0031,1,999              V020   \n",
       "116790  ...  5,99,0031,1,999              V020   \n",
       "\n",
       "                                                      REM REPORT_TYPE.1  \\\n",
       "23      SYN069CMAN  02004 BLTM2 46/// ///// 1//// 9233...         FM-18   \n",
       "24      SYN069CMAN  02014 BLTM2 46/// ///// 1//// 9003...         FM-18   \n",
       "116789  SYN080BLTM2 46/// /3003 10247 40196 55000 9220...         FM-13   \n",
       "116790  SYN080BLTM2 46/// /0405 10235 40188 50000 9230...         FM-13   \n",
       "\n",
       "           SA1      SLP SOURCE.1      TMP           VIS             WND  \n",
       "23         NaN  99999,9        4  +9999,9  999999,9,N,1  999,9,9,9999,9  \n",
       "24         NaN  99999,9        4  +9999,9  999999,9,N,1  999,9,9,9999,9  \n",
       "116789  +271,1  10196,1        4  +0247,1  999999,9,9,9  300,1,N,0015,1  \n",
       "116790  +271,1  10188,1        4  +0235,1  999999,9,9,9  040,1,N,0026,1  \n",
       "\n",
       "[4 rows x 26 columns]"
      ]
     },
     "execution_count": 8,
     "metadata": {},
     "output_type": "execute_result"
    }
   ],
   "source": [
    "ends(BALT_temp, 2)"
   ]
  },
  {
   "cell_type": "code",
   "execution_count": 9,
   "id": "91dc238e-d0f5-4d3b-9ad6-056abbe47fe6",
   "metadata": {},
   "outputs": [],
   "source": [
    "time_date = []\n",
    "temperature_C = []\n",
    "\n",
    "for j, i in zip(BALT_temp['DATE'].values, BALT_temp['TMP'].values.astype(str)):\n",
    "\n",
    "    time_date.append(j)\n",
    "\n",
    "    # convert the string format to decimal format (originally in METAR code)\n",
    "    temperature_C.append(\n",
    "        float(i[0]+i.split(',')[0][2:-1]+'.'+i.split(',')[0][-1]))\n",
    "\n",
    "time_date = np.array(time_date)\n",
    "temperature_C = np.array(temperature_C)\n",
    "\n",
    "temperature_F = cel_to_far(temperature_C)\n",
    "temperature_C = cel_to_nan(temperature_C)"
   ]
  },
  {
   "cell_type": "code",
   "execution_count": 10,
   "id": "2a8a4f07-be4c-4ed8-8f8b-781a09dce496",
   "metadata": {},
   "outputs": [],
   "source": [
    "# making into dataframe for easier manipulation\n",
    "\n",
    "# initialize data of lists.\n",
    "data = {'Datetime': pd.to_datetime(time_date),\n",
    "        'Temperature_C': temperature_C,\n",
    "        'Temperature_F': temperature_F,\n",
    "        'Latitude': BALT_temp['LATITUDE'],\n",
    "        'Longitude': BALT_temp['LONGITUDE'],\n",
    "       }\n",
    "\n",
    "# Create DataFrame and quality control\n",
    "df = pd.DataFrame(data)\n",
    "#df = df.dropna()  # drop any nan values\n",
    "df = df.drop_duplicates(keep='first')\n",
    "# drop any duplicate rows\n",
    "df = df[~df['Datetime'].duplicated()].drop_duplicates()"
   ]
  },
  {
   "cell_type": "markdown",
   "id": "b6742837-8ff0-4bb1-84c0-9a425d37f55d",
   "metadata": {},
   "source": [
    "## Select temperatures from ERA5 using NOAA metadata (lat, lon, and hour)"
   ]
  },
  {
   "cell_type": "code",
   "execution_count": 11,
   "id": "d9aa1b8e-18f5-4d03-b04f-e0e2a62d3937",
   "metadata": {
    "tags": []
   },
   "outputs": [],
   "source": [
    "with warnings.catch_warnings():\n",
    "\n",
    "    warnings.simplefilter('ignore')\n",
    "\n",
    "    tmp = ds_.sel(\n",
    "        longitude=(df['Longitude'] % 360).unique()[-1], \n",
    "        latitude=df['Latitude'].unique()[-1], \n",
    "        method='nearest')"
   ]
  },
  {
   "cell_type": "code",
   "execution_count": 12,
   "id": "c96227b0-c43e-42c8-b201-4eb33f618e6e",
   "metadata": {},
   "outputs": [
    {
     "data": {
      "text/html": [
       "<div><svg style=\"position: absolute; width: 0; height: 0; overflow: hidden\">\n",
       "<defs>\n",
       "<symbol id=\"icon-database\" viewBox=\"0 0 32 32\">\n",
       "<path d=\"M16 0c-8.837 0-16 2.239-16 5v4c0 2.761 7.163 5 16 5s16-2.239 16-5v-4c0-2.761-7.163-5-16-5z\"></path>\n",
       "<path d=\"M16 17c-8.837 0-16-2.239-16-5v6c0 2.761 7.163 5 16 5s16-2.239 16-5v-6c0 2.761-7.163 5-16 5z\"></path>\n",
       "<path d=\"M16 26c-8.837 0-16-2.239-16-5v6c0 2.761 7.163 5 16 5s16-2.239 16-5v-6c0 2.761-7.163 5-16 5z\"></path>\n",
       "</symbol>\n",
       "<symbol id=\"icon-file-text2\" viewBox=\"0 0 32 32\">\n",
       "<path d=\"M28.681 7.159c-0.694-0.947-1.662-2.053-2.724-3.116s-2.169-2.030-3.116-2.724c-1.612-1.182-2.393-1.319-2.841-1.319h-15.5c-1.378 0-2.5 1.121-2.5 2.5v27c0 1.378 1.122 2.5 2.5 2.5h23c1.378 0 2.5-1.122 2.5-2.5v-19.5c0-0.448-0.137-1.23-1.319-2.841zM24.543 5.457c0.959 0.959 1.712 1.825 2.268 2.543h-4.811v-4.811c0.718 0.556 1.584 1.309 2.543 2.268zM28 29.5c0 0.271-0.229 0.5-0.5 0.5h-23c-0.271 0-0.5-0.229-0.5-0.5v-27c0-0.271 0.229-0.5 0.5-0.5 0 0 15.499-0 15.5 0v7c0 0.552 0.448 1 1 1h7v19.5z\"></path>\n",
       "<path d=\"M23 26h-14c-0.552 0-1-0.448-1-1s0.448-1 1-1h14c0.552 0 1 0.448 1 1s-0.448 1-1 1z\"></path>\n",
       "<path d=\"M23 22h-14c-0.552 0-1-0.448-1-1s0.448-1 1-1h14c0.552 0 1 0.448 1 1s-0.448 1-1 1z\"></path>\n",
       "<path d=\"M23 18h-14c-0.552 0-1-0.448-1-1s0.448-1 1-1h14c0.552 0 1 0.448 1 1s-0.448 1-1 1z\"></path>\n",
       "</symbol>\n",
       "</defs>\n",
       "</svg>\n",
       "<style>/* CSS stylesheet for displaying xarray objects in jupyterlab.\n",
       " *\n",
       " */\n",
       "\n",
       ":root {\n",
       "  --xr-font-color0: var(--jp-content-font-color0, rgba(0, 0, 0, 1));\n",
       "  --xr-font-color2: var(--jp-content-font-color2, rgba(0, 0, 0, 0.54));\n",
       "  --xr-font-color3: var(--jp-content-font-color3, rgba(0, 0, 0, 0.38));\n",
       "  --xr-border-color: var(--jp-border-color2, #e0e0e0);\n",
       "  --xr-disabled-color: var(--jp-layout-color3, #bdbdbd);\n",
       "  --xr-background-color: var(--jp-layout-color0, white);\n",
       "  --xr-background-color-row-even: var(--jp-layout-color1, white);\n",
       "  --xr-background-color-row-odd: var(--jp-layout-color2, #eeeeee);\n",
       "}\n",
       "\n",
       "html[theme=dark],\n",
       "body.vscode-dark {\n",
       "  --xr-font-color0: rgba(255, 255, 255, 1);\n",
       "  --xr-font-color2: rgba(255, 255, 255, 0.54);\n",
       "  --xr-font-color3: rgba(255, 255, 255, 0.38);\n",
       "  --xr-border-color: #1F1F1F;\n",
       "  --xr-disabled-color: #515151;\n",
       "  --xr-background-color: #111111;\n",
       "  --xr-background-color-row-even: #111111;\n",
       "  --xr-background-color-row-odd: #313131;\n",
       "}\n",
       "\n",
       ".xr-wrap {\n",
       "  display: block;\n",
       "  min-width: 300px;\n",
       "  max-width: 700px;\n",
       "}\n",
       "\n",
       ".xr-text-repr-fallback {\n",
       "  /* fallback to plain text repr when CSS is not injected (untrusted notebook) */\n",
       "  display: none;\n",
       "}\n",
       "\n",
       ".xr-header {\n",
       "  padding-top: 6px;\n",
       "  padding-bottom: 6px;\n",
       "  margin-bottom: 4px;\n",
       "  border-bottom: solid 1px var(--xr-border-color);\n",
       "}\n",
       "\n",
       ".xr-header > div,\n",
       ".xr-header > ul {\n",
       "  display: inline;\n",
       "  margin-top: 0;\n",
       "  margin-bottom: 0;\n",
       "}\n",
       "\n",
       ".xr-obj-type,\n",
       ".xr-array-name {\n",
       "  margin-left: 2px;\n",
       "  margin-right: 10px;\n",
       "}\n",
       "\n",
       ".xr-obj-type {\n",
       "  color: var(--xr-font-color2);\n",
       "}\n",
       "\n",
       ".xr-sections {\n",
       "  padding-left: 0 !important;\n",
       "  display: grid;\n",
       "  grid-template-columns: 150px auto auto 1fr 20px 20px;\n",
       "}\n",
       "\n",
       ".xr-section-item {\n",
       "  display: contents;\n",
       "}\n",
       "\n",
       ".xr-section-item input {\n",
       "  display: none;\n",
       "}\n",
       "\n",
       ".xr-section-item input + label {\n",
       "  color: var(--xr-disabled-color);\n",
       "}\n",
       "\n",
       ".xr-section-item input:enabled + label {\n",
       "  cursor: pointer;\n",
       "  color: var(--xr-font-color2);\n",
       "}\n",
       "\n",
       ".xr-section-item input:enabled + label:hover {\n",
       "  color: var(--xr-font-color0);\n",
       "}\n",
       "\n",
       ".xr-section-summary {\n",
       "  grid-column: 1;\n",
       "  color: var(--xr-font-color2);\n",
       "  font-weight: 500;\n",
       "}\n",
       "\n",
       ".xr-section-summary > span {\n",
       "  display: inline-block;\n",
       "  padding-left: 0.5em;\n",
       "}\n",
       "\n",
       ".xr-section-summary-in:disabled + label {\n",
       "  color: var(--xr-font-color2);\n",
       "}\n",
       "\n",
       ".xr-section-summary-in + label:before {\n",
       "  display: inline-block;\n",
       "  content: '►';\n",
       "  font-size: 11px;\n",
       "  width: 15px;\n",
       "  text-align: center;\n",
       "}\n",
       "\n",
       ".xr-section-summary-in:disabled + label:before {\n",
       "  color: var(--xr-disabled-color);\n",
       "}\n",
       "\n",
       ".xr-section-summary-in:checked + label:before {\n",
       "  content: '▼';\n",
       "}\n",
       "\n",
       ".xr-section-summary-in:checked + label > span {\n",
       "  display: none;\n",
       "}\n",
       "\n",
       ".xr-section-summary,\n",
       ".xr-section-inline-details {\n",
       "  padding-top: 4px;\n",
       "  padding-bottom: 4px;\n",
       "}\n",
       "\n",
       ".xr-section-inline-details {\n",
       "  grid-column: 2 / -1;\n",
       "}\n",
       "\n",
       ".xr-section-details {\n",
       "  display: none;\n",
       "  grid-column: 1 / -1;\n",
       "  margin-bottom: 5px;\n",
       "}\n",
       "\n",
       ".xr-section-summary-in:checked ~ .xr-section-details {\n",
       "  display: contents;\n",
       "}\n",
       "\n",
       ".xr-array-wrap {\n",
       "  grid-column: 1 / -1;\n",
       "  display: grid;\n",
       "  grid-template-columns: 20px auto;\n",
       "}\n",
       "\n",
       ".xr-array-wrap > label {\n",
       "  grid-column: 1;\n",
       "  vertical-align: top;\n",
       "}\n",
       "\n",
       ".xr-preview {\n",
       "  color: var(--xr-font-color3);\n",
       "}\n",
       "\n",
       ".xr-array-preview,\n",
       ".xr-array-data {\n",
       "  padding: 0 5px !important;\n",
       "  grid-column: 2;\n",
       "}\n",
       "\n",
       ".xr-array-data,\n",
       ".xr-array-in:checked ~ .xr-array-preview {\n",
       "  display: none;\n",
       "}\n",
       "\n",
       ".xr-array-in:checked ~ .xr-array-data,\n",
       ".xr-array-preview {\n",
       "  display: inline-block;\n",
       "}\n",
       "\n",
       ".xr-dim-list {\n",
       "  display: inline-block !important;\n",
       "  list-style: none;\n",
       "  padding: 0 !important;\n",
       "  margin: 0;\n",
       "}\n",
       "\n",
       ".xr-dim-list li {\n",
       "  display: inline-block;\n",
       "  padding: 0;\n",
       "  margin: 0;\n",
       "}\n",
       "\n",
       ".xr-dim-list:before {\n",
       "  content: '(';\n",
       "}\n",
       "\n",
       ".xr-dim-list:after {\n",
       "  content: ')';\n",
       "}\n",
       "\n",
       ".xr-dim-list li:not(:last-child):after {\n",
       "  content: ',';\n",
       "  padding-right: 5px;\n",
       "}\n",
       "\n",
       ".xr-has-index {\n",
       "  font-weight: bold;\n",
       "}\n",
       "\n",
       ".xr-var-list,\n",
       ".xr-var-item {\n",
       "  display: contents;\n",
       "}\n",
       "\n",
       ".xr-var-item > div,\n",
       ".xr-var-item label,\n",
       ".xr-var-item > .xr-var-name span {\n",
       "  background-color: var(--xr-background-color-row-even);\n",
       "  margin-bottom: 0;\n",
       "}\n",
       "\n",
       ".xr-var-item > .xr-var-name:hover span {\n",
       "  padding-right: 5px;\n",
       "}\n",
       "\n",
       ".xr-var-list > li:nth-child(odd) > div,\n",
       ".xr-var-list > li:nth-child(odd) > label,\n",
       ".xr-var-list > li:nth-child(odd) > .xr-var-name span {\n",
       "  background-color: var(--xr-background-color-row-odd);\n",
       "}\n",
       "\n",
       ".xr-var-name {\n",
       "  grid-column: 1;\n",
       "}\n",
       "\n",
       ".xr-var-dims {\n",
       "  grid-column: 2;\n",
       "}\n",
       "\n",
       ".xr-var-dtype {\n",
       "  grid-column: 3;\n",
       "  text-align: right;\n",
       "  color: var(--xr-font-color2);\n",
       "}\n",
       "\n",
       ".xr-var-preview {\n",
       "  grid-column: 4;\n",
       "}\n",
       "\n",
       ".xr-var-name,\n",
       ".xr-var-dims,\n",
       ".xr-var-dtype,\n",
       ".xr-preview,\n",
       ".xr-attrs dt {\n",
       "  white-space: nowrap;\n",
       "  overflow: hidden;\n",
       "  text-overflow: ellipsis;\n",
       "  padding-right: 10px;\n",
       "}\n",
       "\n",
       ".xr-var-name:hover,\n",
       ".xr-var-dims:hover,\n",
       ".xr-var-dtype:hover,\n",
       ".xr-attrs dt:hover {\n",
       "  overflow: visible;\n",
       "  width: auto;\n",
       "  z-index: 1;\n",
       "}\n",
       "\n",
       ".xr-var-attrs,\n",
       ".xr-var-data {\n",
       "  display: none;\n",
       "  background-color: var(--xr-background-color) !important;\n",
       "  padding-bottom: 5px !important;\n",
       "}\n",
       "\n",
       ".xr-var-attrs-in:checked ~ .xr-var-attrs,\n",
       ".xr-var-data-in:checked ~ .xr-var-data {\n",
       "  display: block;\n",
       "}\n",
       "\n",
       ".xr-var-data > table {\n",
       "  float: right;\n",
       "}\n",
       "\n",
       ".xr-var-name span,\n",
       ".xr-var-data,\n",
       ".xr-attrs {\n",
       "  padding-left: 25px !important;\n",
       "}\n",
       "\n",
       ".xr-attrs,\n",
       ".xr-var-attrs,\n",
       ".xr-var-data {\n",
       "  grid-column: 1 / -1;\n",
       "}\n",
       "\n",
       "dl.xr-attrs {\n",
       "  padding: 0;\n",
       "  margin: 0;\n",
       "  display: grid;\n",
       "  grid-template-columns: 125px auto;\n",
       "}\n",
       "\n",
       ".xr-attrs dt,\n",
       ".xr-attrs dd {\n",
       "  padding: 0;\n",
       "  margin: 0;\n",
       "  float: left;\n",
       "  padding-right: 10px;\n",
       "  width: auto;\n",
       "}\n",
       "\n",
       ".xr-attrs dt {\n",
       "  font-weight: normal;\n",
       "  grid-column: 1;\n",
       "}\n",
       "\n",
       ".xr-attrs dt:hover span {\n",
       "  display: inline-block;\n",
       "  background: var(--xr-background-color);\n",
       "  padding-right: 10px;\n",
       "}\n",
       "\n",
       ".xr-attrs dd {\n",
       "  grid-column: 2;\n",
       "  white-space: pre-wrap;\n",
       "  word-break: break-all;\n",
       "}\n",
       "\n",
       ".xr-icon-database,\n",
       ".xr-icon-file-text2 {\n",
       "  display: inline-block;\n",
       "  vertical-align: middle;\n",
       "  width: 1em;\n",
       "  height: 1.5em !important;\n",
       "  stroke-width: 0;\n",
       "  stroke: currentColor;\n",
       "  fill: currentColor;\n",
       "}\n",
       "</style><pre class='xr-text-repr-fallback'>&lt;xarray.DataArray &#x27;VAR_2T&#x27; (time: 127800)&gt;\n",
       "dask.array&lt;getitem, shape=(127800,), dtype=float32, chunksize=(744,), chunktype=numpy.ndarray&gt;\n",
       "Coordinates:\n",
       "    latitude   float64 39.25\n",
       "    longitude  float64 283.5\n",
       "  * time       (time) datetime64[ns] 2008-01-02 ... 2022-07-31T23:00:00\n",
       "Attributes: (12/14)\n",
       "    long_name:                                          2 metre temperature\n",
       "    short_name:                                         2t\n",
       "    units:                                              K\n",
       "    original_format:                                    WMO GRIB 1 with ECMWF...\n",
       "    ecmwf_local_table:                                  128\n",
       "    ecmwf_parameter:                                    167\n",
       "    ...                                                 ...\n",
       "    grid_specification:                                 0.25 degree x 0.25 de...\n",
       "    rda_dataset:                                        ds633.0\n",
       "    rda_dataset_url:                                    https:/rda.ucar.edu/d...\n",
       "    rda_dataset_doi:                                    DOI: 10.5065/BH6N-5N20\n",
       "    rda_dataset_group:                                  ERA5 atmospheric surf...\n",
       "    QuantizeGranularBitGroomNumberOfSignificantDigits:  7</pre><div class='xr-wrap' hidden><div class='xr-header'><div class='xr-obj-type'>xarray.DataArray</div><div class='xr-array-name'>'VAR_2T'</div><ul class='xr-dim-list'><li><span class='xr-has-index'>time</span>: 127800</li></ul></div><ul class='xr-sections'><li class='xr-section-item'><div class='xr-array-wrap'><input id='section-c6b52b32-3d32-4888-92bf-ef996afcbb82' class='xr-array-in' type='checkbox' checked><label for='section-c6b52b32-3d32-4888-92bf-ef996afcbb82' title='Show/hide data repr'><svg class='icon xr-icon-database'><use xlink:href='#icon-database'></use></svg></label><div class='xr-array-preview xr-preview'><span>dask.array&lt;chunksize=(720,), meta=np.ndarray&gt;</span></div><div class='xr-array-data'><table>\n",
       "<tr>\n",
       "<td>\n",
       "<table>\n",
       "  <thead>\n",
       "    <tr><td> </td><th> Array </th><th> Chunk </th></tr>\n",
       "  </thead>\n",
       "  <tbody>\n",
       "    <tr><th> Bytes </th><td> 499.22 kiB </td> <td> 2.91 kiB </td></tr>\n",
       "    <tr><th> Shape </th><td> (127800,) </td> <td> (744,) </td></tr>\n",
       "    <tr><th> Count </th><td> 2642 Tasks </td><td> 175 Chunks </td></tr>\n",
       "    <tr><th> Type </th><td> float32 </td><td> numpy.ndarray </td></tr>\n",
       "  </tbody>\n",
       "</table>\n",
       "</td>\n",
       "<td>\n",
       "<svg width=\"170\" height=\"75\" style=\"stroke:rgb(0,0,0);stroke-width:1\" >\n",
       "\n",
       "  <!-- Horizontal lines -->\n",
       "  <line x1=\"0\" y1=\"0\" x2=\"120\" y2=\"0\" style=\"stroke-width:2\" />\n",
       "  <line x1=\"0\" y1=\"25\" x2=\"120\" y2=\"25\" style=\"stroke-width:2\" />\n",
       "\n",
       "  <!-- Vertical lines -->\n",
       "  <line x1=\"0\" y1=\"0\" x2=\"0\" y2=\"25\" style=\"stroke-width:2\" />\n",
       "  <line x1=\"6\" y1=\"0\" x2=\"6\" y2=\"25\" />\n",
       "  <line x1=\"12\" y1=\"0\" x2=\"12\" y2=\"25\" />\n",
       "  <line x1=\"18\" y1=\"0\" x2=\"18\" y2=\"25\" />\n",
       "  <line x1=\"24\" y1=\"0\" x2=\"24\" y2=\"25\" />\n",
       "  <line x1=\"31\" y1=\"0\" x2=\"31\" y2=\"25\" />\n",
       "  <line x1=\"37\" y1=\"0\" x2=\"37\" y2=\"25\" />\n",
       "  <line x1=\"43\" y1=\"0\" x2=\"43\" y2=\"25\" />\n",
       "  <line x1=\"50\" y1=\"0\" x2=\"50\" y2=\"25\" />\n",
       "  <line x1=\"56\" y1=\"0\" x2=\"56\" y2=\"25\" />\n",
       "  <line x1=\"63\" y1=\"0\" x2=\"63\" y2=\"25\" />\n",
       "  <line x1=\"69\" y1=\"0\" x2=\"69\" y2=\"25\" />\n",
       "  <line x1=\"75\" y1=\"0\" x2=\"75\" y2=\"25\" />\n",
       "  <line x1=\"81\" y1=\"0\" x2=\"81\" y2=\"25\" />\n",
       "  <line x1=\"87\" y1=\"0\" x2=\"87\" y2=\"25\" />\n",
       "  <line x1=\"94\" y1=\"0\" x2=\"94\" y2=\"25\" />\n",
       "  <line x1=\"100\" y1=\"0\" x2=\"100\" y2=\"25\" />\n",
       "  <line x1=\"106\" y1=\"0\" x2=\"106\" y2=\"25\" />\n",
       "  <line x1=\"113\" y1=\"0\" x2=\"113\" y2=\"25\" />\n",
       "  <line x1=\"120\" y1=\"0\" x2=\"120\" y2=\"25\" style=\"stroke-width:2\" />\n",
       "\n",
       "  <!-- Colored Rectangle -->\n",
       "  <polygon points=\"0.0,0.0 120.0,0.0 120.0,25.412616514582485 0.0,25.412616514582485\" style=\"fill:#8B4903A0;stroke-width:0\"/>\n",
       "\n",
       "  <!-- Text -->\n",
       "  <text x=\"60.000000\" y=\"45.412617\" font-size=\"1.0rem\" font-weight=\"100\" text-anchor=\"middle\" >127800</text>\n",
       "  <text x=\"140.000000\" y=\"12.706308\" font-size=\"1.0rem\" font-weight=\"100\" text-anchor=\"middle\" transform=\"rotate(0,140.000000,12.706308)\">1</text>\n",
       "</svg>\n",
       "</td>\n",
       "</tr>\n",
       "</table></div></div></li><li class='xr-section-item'><input id='section-16bdaadd-fc63-4bac-8938-ed267d9ffc00' class='xr-section-summary-in' type='checkbox'  checked><label for='section-16bdaadd-fc63-4bac-8938-ed267d9ffc00' class='xr-section-summary' >Coordinates: <span>(3)</span></label><div class='xr-section-inline-details'></div><div class='xr-section-details'><ul class='xr-var-list'><li class='xr-var-item'><div class='xr-var-name'><span>latitude</span></div><div class='xr-var-dims'>()</div><div class='xr-var-dtype'>float64</div><div class='xr-var-preview xr-preview'>39.25</div><input id='attrs-f2ccbffd-8ada-447a-a464-33f51e03fd88' class='xr-var-attrs-in' type='checkbox' ><label for='attrs-f2ccbffd-8ada-447a-a464-33f51e03fd88' title='Show/Hide attributes'><svg class='icon xr-icon-file-text2'><use xlink:href='#icon-file-text2'></use></svg></label><input id='data-02a81cf8-01d1-457d-92c6-38879e8ebaa3' class='xr-var-data-in' type='checkbox'><label for='data-02a81cf8-01d1-457d-92c6-38879e8ebaa3' title='Show/Hide data repr'><svg class='icon xr-icon-database'><use xlink:href='#icon-database'></use></svg></label><div class='xr-var-attrs'><dl class='xr-attrs'><dt><span>long_name :</span></dt><dd>latitude</dd><dt><span>short_name :</span></dt><dd>lat</dd><dt><span>units :</span></dt><dd>degrees_north</dd></dl></div><div class='xr-var-data'><pre>array(39.25)</pre></div></li><li class='xr-var-item'><div class='xr-var-name'><span>longitude</span></div><div class='xr-var-dims'>()</div><div class='xr-var-dtype'>float64</div><div class='xr-var-preview xr-preview'>283.5</div><input id='attrs-e04332f9-7a0b-4ade-9048-8942a6ba9c62' class='xr-var-attrs-in' type='checkbox' ><label for='attrs-e04332f9-7a0b-4ade-9048-8942a6ba9c62' title='Show/Hide attributes'><svg class='icon xr-icon-file-text2'><use xlink:href='#icon-file-text2'></use></svg></label><input id='data-ad1780f5-27bb-48fd-b81f-a9191b6e67db' class='xr-var-data-in' type='checkbox'><label for='data-ad1780f5-27bb-48fd-b81f-a9191b6e67db' title='Show/Hide data repr'><svg class='icon xr-icon-database'><use xlink:href='#icon-database'></use></svg></label><div class='xr-var-attrs'><dl class='xr-attrs'><dt><span>long_name :</span></dt><dd>longitude</dd><dt><span>short_name :</span></dt><dd>lon</dd><dt><span>units :</span></dt><dd>degrees_east</dd></dl></div><div class='xr-var-data'><pre>array(283.5)</pre></div></li><li class='xr-var-item'><div class='xr-var-name'><span class='xr-has-index'>time</span></div><div class='xr-var-dims'>(time)</div><div class='xr-var-dtype'>datetime64[ns]</div><div class='xr-var-preview xr-preview'>2008-01-02 ... 2022-07-31T23:00:00</div><input id='attrs-bc6f223f-f9b6-4c23-ac64-cd6d1e4694e9' class='xr-var-attrs-in' type='checkbox' ><label for='attrs-bc6f223f-f9b6-4c23-ac64-cd6d1e4694e9' title='Show/Hide attributes'><svg class='icon xr-icon-file-text2'><use xlink:href='#icon-file-text2'></use></svg></label><input id='data-e5757397-a982-442b-abea-afb8e7f782bc' class='xr-var-data-in' type='checkbox'><label for='data-e5757397-a982-442b-abea-afb8e7f782bc' title='Show/Hide data repr'><svg class='icon xr-icon-database'><use xlink:href='#icon-database'></use></svg></label><div class='xr-var-attrs'><dl class='xr-attrs'><dt><span>long_name :</span></dt><dd>time</dd></dl></div><div class='xr-var-data'><pre>array([&#x27;2008-01-02T00:00:00.000000000&#x27;, &#x27;2008-01-02T01:00:00.000000000&#x27;,\n",
       "       &#x27;2008-01-02T02:00:00.000000000&#x27;, ..., &#x27;2022-07-31T21:00:00.000000000&#x27;,\n",
       "       &#x27;2022-07-31T22:00:00.000000000&#x27;, &#x27;2022-07-31T23:00:00.000000000&#x27;],\n",
       "      dtype=&#x27;datetime64[ns]&#x27;)</pre></div></li></ul></div></li><li class='xr-section-item'><input id='section-c4842bb7-cf98-44e8-96d1-28baa0ebeb23' class='xr-section-summary-in' type='checkbox'  ><label for='section-c4842bb7-cf98-44e8-96d1-28baa0ebeb23' class='xr-section-summary' >Attributes: <span>(14)</span></label><div class='xr-section-inline-details'></div><div class='xr-section-details'><dl class='xr-attrs'><dt><span>long_name :</span></dt><dd>2 metre temperature</dd><dt><span>short_name :</span></dt><dd>2t</dd><dt><span>units :</span></dt><dd>K</dd><dt><span>original_format :</span></dt><dd>WMO GRIB 1 with ECMWF local table</dd><dt><span>ecmwf_local_table :</span></dt><dd>128</dd><dt><span>ecmwf_parameter :</span></dt><dd>167</dd><dt><span>minimum_value :</span></dt><dd>208.17442</dd><dt><span>maximum_value :</span></dt><dd>320.56882</dd><dt><span>grid_specification :</span></dt><dd>0.25 degree x 0.25 degree from 90N to 90S and 0E to 359.75E (721 x 1440 Latitude/Longitude)</dd><dt><span>rda_dataset :</span></dt><dd>ds633.0</dd><dt><span>rda_dataset_url :</span></dt><dd>https:/rda.ucar.edu/datasets/ds633.0/</dd><dt><span>rda_dataset_doi :</span></dt><dd>DOI: 10.5065/BH6N-5N20</dd><dt><span>rda_dataset_group :</span></dt><dd>ERA5 atmospheric surface analysis [netCDF4]</dd><dt><span>QuantizeGranularBitGroomNumberOfSignificantDigits :</span></dt><dd>7</dd></dl></div></li></ul></div></div>"
      ],
      "text/plain": [
       "<xarray.DataArray 'VAR_2T' (time: 127800)>\n",
       "dask.array<getitem, shape=(127800,), dtype=float32, chunksize=(744,), chunktype=numpy.ndarray>\n",
       "Coordinates:\n",
       "    latitude   float64 39.25\n",
       "    longitude  float64 283.5\n",
       "  * time       (time) datetime64[ns] 2008-01-02 ... 2022-07-31T23:00:00\n",
       "Attributes: (12/14)\n",
       "    long_name:                                          2 metre temperature\n",
       "    short_name:                                         2t\n",
       "    units:                                              K\n",
       "    original_format:                                    WMO GRIB 1 with ECMWF...\n",
       "    ecmwf_local_table:                                  128\n",
       "    ecmwf_parameter:                                    167\n",
       "    ...                                                 ...\n",
       "    grid_specification:                                 0.25 degree x 0.25 de...\n",
       "    rda_dataset:                                        ds633.0\n",
       "    rda_dataset_url:                                    https:/rda.ucar.edu/d...\n",
       "    rda_dataset_doi:                                    DOI: 10.5065/BH6N-5N20\n",
       "    rda_dataset_group:                                  ERA5 atmospheric surf...\n",
       "    QuantizeGranularBitGroomNumberOfSignificantDigits:  7"
      ]
     },
     "execution_count": 12,
     "metadata": {},
     "output_type": "execute_result"
    }
   ],
   "source": [
    "tmp"
   ]
  },
  {
   "cell_type": "code",
   "execution_count": 13,
   "id": "ce83adcd-c8bc-459e-85a7-da74a8817904",
   "metadata": {},
   "outputs": [
    {
     "name": "stdout",
     "output_type": "stream",
     "text": [
      "ERA5 coordinates: 39.25 -76.5\n",
      "NOAA coordinates: [39.27] [-76.57]\n"
     ]
    }
   ],
   "source": [
    "print('ERA5 coordinates:', tmp.latitude.values, tmp.longitude.values-360)\n",
    "print('NOAA coordinates:', df['Latitude'].unique(), df['Longitude'].unique())"
   ]
  },
  {
   "cell_type": "code",
   "execution_count": 14,
   "id": "e1079908-ce58-4d30-9c5a-697cbc51d681",
   "metadata": {},
   "outputs": [],
   "source": [
    "ERA5_temperatures_C = (tmp - 273.15).values\n",
    "\n",
    "ERA5_date = tmp.coords['time'].values\n",
    "\n",
    "ERA5_temperatures_F = cel_to_far(ERA5_temperatures_C)"
   ]
  },
  {
   "cell_type": "code",
   "execution_count": 15,
   "id": "d2285583-b19f-46a9-b05c-bafda38f4774",
   "metadata": {},
   "outputs": [],
   "source": [
    "# initialize data of lists.\n",
    "data = {'Datetime': pd.to_datetime(ERA5_date),\n",
    "        'Temperature_C': ERA5_temperatures_C,\n",
    "        'Temperature_F': ERA5_temperatures_F,\n",
    "       }\n",
    "\n",
    "df_era5 = pd.DataFrame(data)"
   ]
  },
  {
   "cell_type": "markdown",
   "id": "bccb6fc7-97c9-477d-97a8-e6aebaca2305",
   "metadata": {},
   "source": [
    "### clean up dates prior to computation of metrics"
   ]
  },
  {
   "cell_type": "code",
   "execution_count": 16,
   "id": "9beb178c-2545-494c-b072-b818df9970af",
   "metadata": {},
   "outputs": [
    {
     "data": {
      "text/plain": [
       "Datetime            0\n",
       "Temperature_C    6085\n",
       "Temperature_F    6085\n",
       "Latitude            0\n",
       "Longitude           0\n",
       "dtype: int64"
      ]
     },
     "execution_count": 16,
     "metadata": {},
     "output_type": "execute_result"
    }
   ],
   "source": [
    "df.isnull().sum()"
   ]
  },
  {
   "cell_type": "code",
   "execution_count": 17,
   "id": "d367912d-435a-4968-aa86-f8cd32e45b41",
   "metadata": {},
   "outputs": [
    {
     "data": {
      "text/plain": [
       "Datetime         0\n",
       "Temperature_C    0\n",
       "Temperature_F    0\n",
       "dtype: int64"
      ]
     },
     "execution_count": 17,
     "metadata": {},
     "output_type": "execute_result"
    }
   ],
   "source": [
    "df_era5.isnull().sum()"
   ]
  },
  {
   "cell_type": "code",
   "execution_count": 18,
   "id": "511fec0f-0432-4e34-b471-335df4f2c6cf",
   "metadata": {},
   "outputs": [],
   "source": [
    "# confirm start and end dates are the same\n",
    "assert df['Datetime'].iloc[0].date() == df_era5['Datetime'].iloc[0].date()\n",
    "assert df['Datetime'].iloc[-1].date() == df_era5['Datetime'].iloc[-1].date()"
   ]
  },
  {
   "cell_type": "markdown",
   "id": "8d3c97e5-7717-48bf-8b8d-8a91adc635c8",
   "metadata": {},
   "source": [
    "## Create new variables"
   ]
  },
  {
   "cell_type": "markdown",
   "id": "fc95e344-75cd-4040-b17a-4cfcb6c1a427",
   "metadata": {},
   "source": [
    "### Daily max and min temperatures"
   ]
  },
  {
   "cell_type": "code",
   "execution_count": 19,
   "id": "22bd739d-e18a-436f-a342-c2f634843302",
   "metadata": {},
   "outputs": [],
   "source": [
    "# Daily NOAA temperature maximum\n",
    "tmax_NOAA_daily = df.set_index('Datetime').resample('1D').max()"
   ]
  },
  {
   "cell_type": "code",
   "execution_count": 20,
   "id": "17c67166-e56e-43c7-9f40-25d1e43387a8",
   "metadata": {},
   "outputs": [
    {
     "data": {
      "text/plain": [
       "Temperature_C    607\n",
       "Temperature_F    607\n",
       "Latitude         400\n",
       "Longitude        400\n",
       "dtype: int64"
      ]
     },
     "execution_count": 20,
     "metadata": {},
     "output_type": "execute_result"
    }
   ],
   "source": [
    "tmax_NOAA_daily.isnull().sum()"
   ]
  },
  {
   "cell_type": "code",
   "execution_count": 21,
   "id": "ca77621f-0cdf-4ba9-a482-73655edf3d00",
   "metadata": {},
   "outputs": [],
   "source": [
    "# Daily ERA5 temperature maximum\n",
    "tmax_ERA5_daily = df_era5.set_index('Datetime').resample('1D').max()"
   ]
  },
  {
   "cell_type": "code",
   "execution_count": 22,
   "id": "4385fcb2-e165-48db-b7a5-a519e7a568e6",
   "metadata": {},
   "outputs": [
    {
     "data": {
      "text/plain": [
       "Temperature_C    0\n",
       "Temperature_F    0\n",
       "dtype: int64"
      ]
     },
     "execution_count": 22,
     "metadata": {},
     "output_type": "execute_result"
    }
   ],
   "source": [
    "tmax_ERA5_daily.isnull().sum()"
   ]
  },
  {
   "cell_type": "code",
   "execution_count": 24,
   "id": "04761829-e4af-43e7-9c92-ea8584cdd0b3",
   "metadata": {},
   "outputs": [],
   "source": [
    "# Daily NOAA temperature minimum\n",
    "tmin_NOAA_daily = df.set_index('Datetime').resample('1D').min()"
   ]
  },
  {
   "cell_type": "code",
   "execution_count": 25,
   "id": "efab76ec-6c23-4bed-85da-68a0a4f9ba5f",
   "metadata": {},
   "outputs": [
    {
     "data": {
      "text/plain": [
       "Temperature_C    607\n",
       "Temperature_F    607\n",
       "Latitude         400\n",
       "Longitude        400\n",
       "dtype: int64"
      ]
     },
     "execution_count": 25,
     "metadata": {},
     "output_type": "execute_result"
    }
   ],
   "source": [
    "tmin_NOAA_daily.isnull().sum()"
   ]
  },
  {
   "cell_type": "code",
   "execution_count": 26,
   "id": "207991c3-266e-4bb0-8836-d3f0c7bf73f8",
   "metadata": {},
   "outputs": [],
   "source": [
    "# Daily ERA5 temperature minimum\n",
    "tmin_ERA5_daily = df_era5.set_index('Datetime').resample('1D').min()"
   ]
  },
  {
   "cell_type": "code",
   "execution_count": 27,
   "id": "37b6c603-6d5c-47f5-b6f2-1bc298f03735",
   "metadata": {},
   "outputs": [
    {
     "data": {
      "text/plain": [
       "Temperature_C    0\n",
       "Temperature_F    0\n",
       "dtype: int64"
      ]
     },
     "execution_count": 27,
     "metadata": {},
     "output_type": "execute_result"
    }
   ],
   "source": [
    "tmin_ERA5_daily.isnull().sum()"
   ]
  },
  {
   "cell_type": "code",
   "execution_count": 28,
   "id": "df632101-6036-49d6-ba06-2044d6838ba2",
   "metadata": {},
   "outputs": [],
   "source": [
    "# double check array lengths\n",
    "assert len(tmax_NOAA_daily) == len(tmax_ERA5_daily), 'Arrays not same length'\n",
    "assert len(tmin_NOAA_daily) == len(tmin_ERA5_daily), 'Arrays not same length'"
   ]
  },
  {
   "cell_type": "markdown",
   "id": "6b4803c0-9d54-4015-b941-aa497067ddf7",
   "metadata": {},
   "source": [
    "### Time of daily max and min temperatures"
   ]
  },
  {
   "cell_type": "code",
   "execution_count": 29,
   "id": "a5a80f78-5197-4301-b0ae-2e456ccb5661",
   "metadata": {},
   "outputs": [],
   "source": [
    "# corresponding date/time for NOAA daily temperature maximum\n",
    "tmax_NOAA_daily_datetime = df.set_index('Datetime').resample('1D').agg(\n",
    "    lambda x: np.nan if x.count() == 0 else x.idxmax())['Temperature_C']"
   ]
  },
  {
   "cell_type": "code",
   "execution_count": 30,
   "id": "06fb0461-30f0-43d3-b09c-3461c3929820",
   "metadata": {},
   "outputs": [
    {
     "data": {
      "text/plain": [
       "607"
      ]
     },
     "execution_count": 30,
     "metadata": {},
     "output_type": "execute_result"
    }
   ],
   "source": [
    "tmax_NOAA_daily_datetime.isnull().sum()"
   ]
  },
  {
   "cell_type": "code",
   "execution_count": 31,
   "id": "b8e6023c-2ccf-4f3c-b3ce-cff65cd9f0fa",
   "metadata": {},
   "outputs": [],
   "source": [
    "# corresponding date/time for NOAA daily temperature minimum\n",
    "tmin_NOAA_daily_datetime = df.set_index('Datetime').resample('1D').agg(\n",
    "    lambda x: np.nan if x.count() == 0 else x.idxmin())['Temperature_C']"
   ]
  },
  {
   "cell_type": "code",
   "execution_count": 32,
   "id": "cccdca4e-c5af-405e-944d-e5a023fa364d",
   "metadata": {},
   "outputs": [
    {
     "data": {
      "text/plain": [
       "607"
      ]
     },
     "execution_count": 32,
     "metadata": {},
     "output_type": "execute_result"
    }
   ],
   "source": [
    "tmin_NOAA_daily_datetime.isnull().sum()"
   ]
  },
  {
   "cell_type": "code",
   "execution_count": 33,
   "id": "7b278954-6fd3-4e83-99d4-78d1fb004991",
   "metadata": {},
   "outputs": [],
   "source": [
    "# corresponding date/time for ERA5 daily temperature maximum\n",
    "tmax_ERA5_daily_datetime = df_era5.set_index('Datetime').resample('1D').agg(\n",
    "    lambda x: np.nan if x.count() == 0 else x.idxmax())['Temperature_C']"
   ]
  },
  {
   "cell_type": "code",
   "execution_count": 34,
   "id": "97349e95-5cf1-4f83-a044-8c0c78f90194",
   "metadata": {},
   "outputs": [
    {
     "data": {
      "text/plain": [
       "0"
      ]
     },
     "execution_count": 34,
     "metadata": {},
     "output_type": "execute_result"
    }
   ],
   "source": [
    "tmax_ERA5_daily_datetime.isnull().sum()"
   ]
  },
  {
   "cell_type": "code",
   "execution_count": 35,
   "id": "e9b90c53-e837-48ee-903e-6a5df9e15dc6",
   "metadata": {},
   "outputs": [],
   "source": [
    "# corresponding date/time for ERA5 daily temperature minimum\n",
    "tmin_ERA5_daily_datetime = df_era5.set_index('Datetime').resample('1D').agg(\n",
    "    lambda x: np.nan if x.count() == 0 else x.idxmin())['Temperature_C']"
   ]
  },
  {
   "cell_type": "code",
   "execution_count": 36,
   "id": "e27363c3-c9c7-4532-a6cd-22e45602630b",
   "metadata": {},
   "outputs": [
    {
     "data": {
      "text/plain": [
       "0"
      ]
     },
     "execution_count": 36,
     "metadata": {},
     "output_type": "execute_result"
    }
   ],
   "source": [
    "tmin_ERA5_daily_datetime.isnull().sum()"
   ]
  },
  {
   "cell_type": "code",
   "execution_count": 37,
   "id": "fd34cd49-bfa2-4e10-a328-265457950ff5",
   "metadata": {},
   "outputs": [],
   "source": [
    "# double check array lengths\n",
    "assert len(tmax_NOAA_daily_datetime) == len(tmax_ERA5_daily_datetime), 'Arrays not same length'\n",
    "assert len(tmin_NOAA_daily_datetime) == len(tmin_ERA5_daily_datetime), 'Arrays not same length'"
   ]
  },
  {
   "cell_type": "markdown",
   "id": "fb0a97c0-e4b4-4bf3-8d4f-5cfb18f03d33",
   "metadata": {},
   "source": [
    "### Corresponding temperatures at the time of the max/min of other product"
   ]
  },
  {
   "cell_type": "code",
   "execution_count": 44,
   "id": "9d6af12a-d0b6-4117-afd6-d59a2a70dd73",
   "metadata": {},
   "outputs": [],
   "source": [
    "# the NOAA temperature during the (i.e., same time as the\n",
    "# daily ERA5 maximum temperature)\n",
    "\n",
    "NOAA_temp_during_ERA5_tmax_C = []\n",
    "NOAA_temp_during_ERA5_tmax_F = []\n",
    "\n",
    "for i in tmax_ERA5_daily_datetime.values:\n",
    "\n",
    "    with warnings.catch_warnings():\n",
    "        \n",
    "        warnings.simplefilter('ignore')\n",
    "    \n",
    "        NOAA_temp_during_ERA5_tmax_C.append(\n",
    "            df.iloc[df.set_index('Datetime').index.get_loc(\n",
    "                i, method='nearest')]['Temperature_C'])\n",
    "\n",
    "        NOAA_temp_during_ERA5_tmax_F.append(\n",
    "            df.iloc[df.set_index('Datetime').index.get_loc(\n",
    "                i, method='nearest')]['Temperature_F'])\n",
    "\n",
    "NOAA_temp_during_ERA5_tmax_C = np.array(NOAA_temp_during_ERA5_tmax_C)\n",
    "NOAA_temp_during_ERA5_tmax_F = np.array(NOAA_temp_during_ERA5_tmax_F)"
   ]
  },
  {
   "cell_type": "code",
   "execution_count": 45,
   "id": "3bfafa1f-0d7b-4874-be8f-8dcf82630561",
   "metadata": {},
   "outputs": [
    {
     "name": "stdout",
     "output_type": "stream",
     "text": [
      "254\n",
      "254\n"
     ]
    }
   ],
   "source": [
    "print(np.sum(np.isnan(NOAA_temp_during_ERA5_tmax_C)))\n",
    "print(np.sum(np.isnan(NOAA_temp_during_ERA5_tmax_F)))"
   ]
  },
  {
   "cell_type": "code",
   "execution_count": 46,
   "id": "33916dfb-6ade-4439-bd05-de4c7dd4263f",
   "metadata": {},
   "outputs": [],
   "source": [
    "# the NOAA temperature during the (i.e., same time as the\n",
    "# daily ERA5 minimum temperature)\n",
    "\n",
    "NOAA_temp_during_ERA5_tmin_C = []\n",
    "NOAA_temp_during_ERA5_tmin_F = []\n",
    "\n",
    "for i in tmin_ERA5_daily_datetime.values:\n",
    "    \n",
    "    with warnings.catch_warnings():\n",
    "        \n",
    "        warnings.simplefilter('ignore')\n",
    "\n",
    "        NOAA_temp_during_ERA5_tmin_C.append(\n",
    "            df.iloc[df.set_index('Datetime').index.get_loc(\n",
    "                i, method='nearest')]['Temperature_C'])\n",
    "\n",
    "        NOAA_temp_during_ERA5_tmin_F.append(\n",
    "            df.iloc[df.set_index('Datetime').index.get_loc(\n",
    "                i, method='nearest')]['Temperature_F'])\n",
    "\n",
    "NOAA_temp_during_ERA5_tmin_C = np.array(NOAA_temp_during_ERA5_tmin_C)\n",
    "NOAA_temp_during_ERA5_tmin_F = np.array(NOAA_temp_during_ERA5_tmin_F)"
   ]
  },
  {
   "cell_type": "code",
   "execution_count": 47,
   "id": "2b443c95-0368-4575-b39b-ec5f647b6714",
   "metadata": {},
   "outputs": [
    {
     "name": "stdout",
     "output_type": "stream",
     "text": [
      "259\n",
      "259\n"
     ]
    }
   ],
   "source": [
    "print(np.sum(np.isnan(NOAA_temp_during_ERA5_tmin_C)))\n",
    "print(np.sum(np.isnan(NOAA_temp_during_ERA5_tmin_F)))"
   ]
  },
  {
   "cell_type": "code",
   "execution_count": 48,
   "id": "2580365b-d681-49e0-be78-ade134c33e26",
   "metadata": {},
   "outputs": [],
   "source": [
    "# the ERA5 temperature during the (i.e., same time as the\n",
    "# daily NOAA maximum temperature)\n",
    "\n",
    "ERA5_temp_during_NOAA_tmax_C = []\n",
    "ERA5_temp_during_NOAA_tmax_F = []\n",
    "\n",
    "for i in tmax_NOAA_daily_datetime.values:\n",
    "    \n",
    "    with warnings.catch_warnings():\n",
    "        \n",
    "        warnings.simplefilter('ignore')\n",
    "        \n",
    "        try:\n",
    "\n",
    "            ERA5_temp_during_NOAA_tmax_C.append(\n",
    "                df_era5.iloc[df_era5.set_index('Datetime').index.get_loc(\n",
    "                    i, method='nearest')]['Temperature_C'])\n",
    "\n",
    "            ERA5_temp_during_NOAA_tmax_F.append(\n",
    "                df_era5.iloc[df_era5.set_index('Datetime').index.get_loc(\n",
    "                    i, method='nearest')]['Temperature_F'])\n",
    "        \n",
    "        except KeyError:\n",
    "            \n",
    "            ERA5_temp_during_NOAA_tmax_C.append(np.nan)\n",
    "            ERA5_temp_during_NOAA_tmax_F.append(np.nan)\n",
    "\n",
    "ERA5_temp_during_NOAA_tmax_C = np.array(ERA5_temp_during_NOAA_tmax_C)\n",
    "ERA5_temp_during_NOAA_tmax_F = np.array(ERA5_temp_during_NOAA_tmax_F)"
   ]
  },
  {
   "cell_type": "code",
   "execution_count": 49,
   "id": "ec6cc5d3-f049-4999-89c8-2580aa721a29",
   "metadata": {},
   "outputs": [
    {
     "name": "stdout",
     "output_type": "stream",
     "text": [
      "607\n",
      "607\n"
     ]
    }
   ],
   "source": [
    "print(np.sum(np.isnan(ERA5_temp_during_NOAA_tmax_C)))\n",
    "print(np.sum(np.isnan(ERA5_temp_during_NOAA_tmax_F)))"
   ]
  },
  {
   "cell_type": "code",
   "execution_count": 50,
   "id": "b22f47d1-4d0a-4a8a-b994-5f4a2fcafbac",
   "metadata": {},
   "outputs": [],
   "source": [
    "# the ERA5 temperature during the (i.e., same time as the\n",
    "# daily NOAA minimum temperature)\n",
    "\n",
    "ERA5_temp_during_NOAA_tmin_C = []\n",
    "ERA5_temp_during_NOAA_tmin_F = []\n",
    "\n",
    "for i in tmin_NOAA_daily_datetime.values:\n",
    "    \n",
    "    with warnings.catch_warnings():\n",
    "        \n",
    "        warnings.simplefilter('ignore')\n",
    "        \n",
    "        try:\n",
    "\n",
    "            ERA5_temp_during_NOAA_tmin_C.append(\n",
    "                df_era5.iloc[df_era5.set_index('Datetime').index.get_loc(\n",
    "                    i, method='nearest')]['Temperature_C'])\n",
    "\n",
    "            ERA5_temp_during_NOAA_tmin_F.append(\n",
    "                df_era5.iloc[df_era5.set_index('Datetime').index.get_loc(\n",
    "                    i, method='nearest')]['Temperature_F'])\n",
    "            \n",
    "        except KeyError:\n",
    "            \n",
    "            ERA5_temp_during_NOAA_tmin_C.append(np.nan)\n",
    "            ERA5_temp_during_NOAA_tmin_F.append(np.nan)\n",
    "\n",
    "ERA5_temp_during_NOAA_tmin_C = np.array(ERA5_temp_during_NOAA_tmin_C)\n",
    "ERA5_temp_during_NOAA_tmin_F = np.array(ERA5_temp_during_NOAA_tmin_F)"
   ]
  },
  {
   "cell_type": "code",
   "execution_count": 51,
   "id": "1a55313b-a3bd-46b9-bdbd-5adaa0cc8091",
   "metadata": {},
   "outputs": [
    {
     "name": "stdout",
     "output_type": "stream",
     "text": [
      "607\n",
      "607\n"
     ]
    }
   ],
   "source": [
    "print(np.sum(np.isnan(ERA5_temp_during_NOAA_tmin_C)))\n",
    "print(np.sum(np.isnan(ERA5_temp_during_NOAA_tmin_F)))"
   ]
  },
  {
   "cell_type": "code",
   "execution_count": 52,
   "id": "7506a997-9072-45cc-92d9-b39b37a7cbe9",
   "metadata": {},
   "outputs": [],
   "source": [
    "# double check array lengths\n",
    "assert len(NOAA_temp_during_ERA5_tmax_C) == len(ERA5_temp_during_NOAA_tmax_C), 'Arrays not same length'\n",
    "assert len(NOAA_temp_during_ERA5_tmin_C) == len(ERA5_temp_during_NOAA_tmin_C), 'Arrays not same length'\n",
    "assert len(NOAA_temp_during_ERA5_tmax_F) == len(ERA5_temp_during_NOAA_tmax_F), 'Arrays not same length'\n",
    "assert len(NOAA_temp_during_ERA5_tmin_F) == len(ERA5_temp_during_NOAA_tmin_F), 'Arrays not same length'"
   ]
  },
  {
   "cell_type": "markdown",
   "id": "d46513c0-5085-4dc8-87d4-15fc7b9124fe",
   "metadata": {},
   "source": [
    "### differences (temperature)"
   ]
  },
  {
   "cell_type": "code",
   "execution_count": 53,
   "id": "bc799777-f1cd-4b09-939a-0369444c7dbf",
   "metadata": {},
   "outputs": [],
   "source": [
    "# difference between NOAA temperature maximum and\n",
    "# the ERA5 corresponding temperature at that time (C)\n",
    "tmax_daily_difference_C = tmax_NOAA_daily['Temperature_C'] - ERA5_temp_during_NOAA_tmax_C"
   ]
  },
  {
   "cell_type": "code",
   "execution_count": 54,
   "id": "de07bc90-e6e3-412f-af1c-a7c584698c9c",
   "metadata": {},
   "outputs": [],
   "source": [
    "# difference between NOAA temperature maximum and\n",
    "# the ERA5 corresponding temperature at that time (F)\n",
    "tmax_daily_difference_F = tmax_NOAA_daily['Temperature_F'] - ERA5_temp_during_NOAA_tmax_F"
   ]
  },
  {
   "cell_type": "code",
   "execution_count": 55,
   "id": "858d0abf-bc77-4d26-8d9e-040c033f1652",
   "metadata": {},
   "outputs": [],
   "source": [
    "# difference between NOAA temperature minimum and\n",
    "# the ERA5 corresponding temperature at that time (C)\n",
    "tmin_daily_difference_C = tmin_NOAA_daily['Temperature_C'] - ERA5_temp_during_NOAA_tmin_C"
   ]
  },
  {
   "cell_type": "code",
   "execution_count": 56,
   "id": "88aafd97-09ea-4d9a-911f-480aab347c84",
   "metadata": {},
   "outputs": [],
   "source": [
    "# difference between NOAA temperature minimum and\n",
    "# the ERA5 corresponding temperature at that time (C)\n",
    "tmin_daily_difference_F = tmin_NOAA_daily['Temperature_F'] - ERA5_temp_during_NOAA_tmin_F"
   ]
  },
  {
   "cell_type": "markdown",
   "id": "96ec1b93-b9bd-4b6b-88b0-f110d302528d",
   "metadata": {},
   "source": [
    "### compute time differences"
   ]
  },
  {
   "cell_type": "code",
   "execution_count": 57,
   "id": "aea58222-6909-44f0-8cf0-0ce29d742bf5",
   "metadata": {},
   "outputs": [],
   "source": [
    "# absolute time difference between daily maximum temperature (ERA5 and NOAA)\n",
    "tmax_diff = []\n",
    "for i, j in zip(pd.to_datetime(tmax_NOAA_daily_datetime), tmax_ERA5_daily_datetime):\n",
    "    tmax_diff.append(compute_time_difference(i, j))\n",
    "tmax_diff = np.array(tmax_diff)"
   ]
  },
  {
   "cell_type": "code",
   "execution_count": 58,
   "id": "e4c11091-21cd-4aa1-9f95-09d6f41d8443",
   "metadata": {},
   "outputs": [],
   "source": [
    "# absolute time difference between daily minimum temperature (ERA5 and NOAA)\n",
    "tmin_diff = []\n",
    "for i, j in zip(pd.to_datetime(tmin_NOAA_daily_datetime), tmin_ERA5_daily_datetime):\n",
    "    tmin_diff.append(compute_time_difference(i, j))\n",
    "tmin_diff = np.array(tmin_diff)"
   ]
  },
  {
   "cell_type": "markdown",
   "id": "626ba209-b083-4769-bcdc-3b7d9c150d89",
   "metadata": {},
   "source": [
    "### create single csv file"
   ]
  },
  {
   "cell_type": "code",
   "execution_count": 59,
   "id": "ffd8e826-1b87-4249-bb3d-8537d725eb59",
   "metadata": {},
   "outputs": [],
   "source": [
    "data = {\n",
    "\n",
    "    'NOAA_BALT_Temperature_Daily_Max (C)': tmax_NOAA_daily['Temperature_C'],\n",
    "    'NOAA_BALT_Temperature_Daily_Max (F)': tmax_NOAA_daily['Temperature_F'],\n",
    "    'NOAA_BALT_Temperature_Daily_Max_Datetime': tmax_NOAA_daily_datetime,\n",
    "\n",
    "    'NOAA_BALT_Temperature_Daily_Min (C)': tmin_NOAA_daily['Temperature_C'],\n",
    "    'NOAA_BALT_Temperature_Daily_Min (F)': tmin_NOAA_daily['Temperature_F'],\n",
    "    'NOAA_BALT_Temperature_Daily_Min_Datetime': tmin_NOAA_daily_datetime,\n",
    "\n",
    "    'ERA5_Temperature_Daily_Max (C)': tmax_ERA5_daily['Temperature_C'],\n",
    "    'ERA5_Temperature_Daily_Max (F)': tmax_ERA5_daily['Temperature_F'],\n",
    "    'ERA5_Temperature_Daily_Max_Datetime': tmax_ERA5_daily_datetime,\n",
    "\n",
    "    'ERA5_Temperature_Daily_Min (C)': tmin_ERA5_daily['Temperature_C'],\n",
    "    'ERA5_Temperature_Daily_Min (F)': tmin_ERA5_daily['Temperature_F'],\n",
    "    'ERA5_Temperature_Daily_Min_Datetime': tmin_ERA5_daily_datetime,\n",
    "\n",
    "\n",
    "    'ERA5_Corresponding_Temperature_During_NOAA_BALT_Daily_Max (C)': ERA5_temp_during_NOAA_tmax_C,\n",
    "    'ERA5_Corresponding_Temperature_During_NOAA_BALT_Daily_Max (F)': ERA5_temp_during_NOAA_tmax_F,\n",
    "\n",
    "    'ERA5_Corresponding_Temperature_During_NOAA_BALT_Daily_Min (C)': ERA5_temp_during_NOAA_tmin_C,\n",
    "    'ERA5_Corresponding_Temperature_During_NOAA_BALT_Daily_Min (F)': ERA5_temp_during_NOAA_tmin_F,\n",
    "\n",
    "    'NOAA_BALT_Corresponding_Temperature_During_ERA5_Daily_Max (C)': NOAA_temp_during_ERA5_tmax_C,\n",
    "    'NOAA_BALT_Corresponding_Temperature_During_ERA5_Daily_Max (F)': NOAA_temp_during_ERA5_tmax_F,\n",
    "\n",
    "    'NOAA_BALT_Corresponding_Temperature_During_ERA5_Daily_Min (C)': NOAA_temp_during_ERA5_tmin_C,\n",
    "    'NOAA_BALT_Corresponding_Temperature_During_ERA5_Daily_Min (F)': NOAA_temp_during_ERA5_tmin_F,\n",
    "\n",
    "\n",
    "    'Daily_Temperature_Max_Difference (C)': tmax_daily_difference_C.values,\n",
    "    'Daily_Temperature_Max_Difference (F)': tmax_daily_difference_F.values,\n",
    "\n",
    "    'Daily_Temperature_Min_Difference (C)': tmin_daily_difference_C.values,\n",
    "    'Daily_Temperature_Min_Difference (F)': tmin_daily_difference_F.values,\n",
    "\n",
    "    'Absolute_time_difference_tmax_ERA5_NOAA_BALT (day H:M:S)': tmax_diff,\n",
    "    'Absolute_time_difference_tmin_ERA5_NOAA_BALT (day H:M:S)': tmin_diff,\n",
    "\n",
    "       }"
   ]
  },
  {
   "cell_type": "code",
   "execution_count": 60,
   "id": "c893becc-0c72-4351-af16-d5d8870e7f43",
   "metadata": {},
   "outputs": [],
   "source": [
    "df_FINAL = pd.DataFrame(data)"
   ]
  },
  {
   "cell_type": "code",
   "execution_count": 61,
   "id": "6a2abb3f-81a6-4ca6-8683-743efb64167a",
   "metadata": {},
   "outputs": [
    {
     "data": {
      "text/html": [
       "<div>\n",
       "<style scoped>\n",
       "    .dataframe tbody tr th:only-of-type {\n",
       "        vertical-align: middle;\n",
       "    }\n",
       "\n",
       "    .dataframe tbody tr th {\n",
       "        vertical-align: top;\n",
       "    }\n",
       "\n",
       "    .dataframe thead th {\n",
       "        text-align: right;\n",
       "    }\n",
       "</style>\n",
       "<table border=\"1\" class=\"dataframe\">\n",
       "  <thead>\n",
       "    <tr style=\"text-align: right;\">\n",
       "      <th></th>\n",
       "      <th>NOAA_BALT_Temperature_Daily_Max (C)</th>\n",
       "      <th>NOAA_BALT_Temperature_Daily_Max (F)</th>\n",
       "      <th>NOAA_BALT_Temperature_Daily_Max_Datetime</th>\n",
       "      <th>NOAA_BALT_Temperature_Daily_Min (C)</th>\n",
       "      <th>NOAA_BALT_Temperature_Daily_Min (F)</th>\n",
       "      <th>NOAA_BALT_Temperature_Daily_Min_Datetime</th>\n",
       "      <th>ERA5_Temperature_Daily_Max (C)</th>\n",
       "      <th>ERA5_Temperature_Daily_Max (F)</th>\n",
       "      <th>ERA5_Temperature_Daily_Max_Datetime</th>\n",
       "      <th>ERA5_Temperature_Daily_Min (C)</th>\n",
       "      <th>...</th>\n",
       "      <th>NOAA_BALT_Corresponding_Temperature_During_ERA5_Daily_Max (C)</th>\n",
       "      <th>NOAA_BALT_Corresponding_Temperature_During_ERA5_Daily_Max (F)</th>\n",
       "      <th>NOAA_BALT_Corresponding_Temperature_During_ERA5_Daily_Min (C)</th>\n",
       "      <th>NOAA_BALT_Corresponding_Temperature_During_ERA5_Daily_Min (F)</th>\n",
       "      <th>Daily_Temperature_Max_Difference (C)</th>\n",
       "      <th>Daily_Temperature_Max_Difference (F)</th>\n",
       "      <th>Daily_Temperature_Min_Difference (C)</th>\n",
       "      <th>Daily_Temperature_Min_Difference (F)</th>\n",
       "      <th>Absolute_time_difference_tmax_ERA5_NOAA_BALT (day H:M:S)</th>\n",
       "      <th>Absolute_time_difference_tmin_ERA5_NOAA_BALT (day H:M:S)</th>\n",
       "    </tr>\n",
       "    <tr>\n",
       "      <th>Datetime</th>\n",
       "      <th></th>\n",
       "      <th></th>\n",
       "      <th></th>\n",
       "      <th></th>\n",
       "      <th></th>\n",
       "      <th></th>\n",
       "      <th></th>\n",
       "      <th></th>\n",
       "      <th></th>\n",
       "      <th></th>\n",
       "      <th></th>\n",
       "      <th></th>\n",
       "      <th></th>\n",
       "      <th></th>\n",
       "      <th></th>\n",
       "      <th></th>\n",
       "      <th></th>\n",
       "      <th></th>\n",
       "      <th></th>\n",
       "      <th></th>\n",
       "      <th></th>\n",
       "    </tr>\n",
       "  </thead>\n",
       "  <tbody>\n",
       "    <tr>\n",
       "      <th>2008-01-02</th>\n",
       "      <td>NaN</td>\n",
       "      <td>NaN</td>\n",
       "      <td>NaT</td>\n",
       "      <td>NaN</td>\n",
       "      <td>NaN</td>\n",
       "      <td>NaT</td>\n",
       "      <td>4.390381</td>\n",
       "      <td>39.902686</td>\n",
       "      <td>2008-01-02 00:00:00</td>\n",
       "      <td>-0.727325</td>\n",
       "      <td>...</td>\n",
       "      <td>NaN</td>\n",
       "      <td>NaN</td>\n",
       "      <td>NaN</td>\n",
       "      <td>NaN</td>\n",
       "      <td>NaN</td>\n",
       "      <td>NaN</td>\n",
       "      <td>NaN</td>\n",
       "      <td>NaN</td>\n",
       "      <td>NaT</td>\n",
       "      <td>NaT</td>\n",
       "    </tr>\n",
       "    <tr>\n",
       "      <th>2008-01-03</th>\n",
       "      <td>NaN</td>\n",
       "      <td>NaN</td>\n",
       "      <td>NaT</td>\n",
       "      <td>NaN</td>\n",
       "      <td>NaN</td>\n",
       "      <td>NaT</td>\n",
       "      <td>-1.351776</td>\n",
       "      <td>29.566803</td>\n",
       "      <td>2008-01-03 00:00:00</td>\n",
       "      <td>-5.221069</td>\n",
       "      <td>...</td>\n",
       "      <td>NaN</td>\n",
       "      <td>NaN</td>\n",
       "      <td>NaN</td>\n",
       "      <td>NaN</td>\n",
       "      <td>NaN</td>\n",
       "      <td>NaN</td>\n",
       "      <td>NaN</td>\n",
       "      <td>NaN</td>\n",
       "      <td>NaT</td>\n",
       "      <td>NaT</td>\n",
       "    </tr>\n",
       "    <tr>\n",
       "      <th>2022-07-30</th>\n",
       "      <td>30.8</td>\n",
       "      <td>87.44</td>\n",
       "      <td>2022-07-30 21:00:00</td>\n",
       "      <td>23.7</td>\n",
       "      <td>74.66</td>\n",
       "      <td>2022-07-30 00:00:00</td>\n",
       "      <td>29.936554</td>\n",
       "      <td>85.885797</td>\n",
       "      <td>2022-07-30 21:00:00</td>\n",
       "      <td>22.835968</td>\n",
       "      <td>...</td>\n",
       "      <td>30.8</td>\n",
       "      <td>87.44</td>\n",
       "      <td>23.9</td>\n",
       "      <td>75.02</td>\n",
       "      <td>0.863446</td>\n",
       "      <td>1.554203</td>\n",
       "      <td>-1.406934</td>\n",
       "      <td>-2.532480</td>\n",
       "      <td>0 days 00:00:00</td>\n",
       "      <td>0 days 11:00:00</td>\n",
       "    </tr>\n",
       "    <tr>\n",
       "      <th>2022-07-31</th>\n",
       "      <td>29.9</td>\n",
       "      <td>85.82</td>\n",
       "      <td>2022-07-31 00:00:00</td>\n",
       "      <td>23.4</td>\n",
       "      <td>74.12</td>\n",
       "      <td>2022-07-31 07:00:00</td>\n",
       "      <td>27.889984</td>\n",
       "      <td>82.201971</td>\n",
       "      <td>2022-07-31 18:00:00</td>\n",
       "      <td>22.350098</td>\n",
       "      <td>...</td>\n",
       "      <td>29.3</td>\n",
       "      <td>84.74</td>\n",
       "      <td>24.2</td>\n",
       "      <td>75.56</td>\n",
       "      <td>2.540167</td>\n",
       "      <td>4.572301</td>\n",
       "      <td>0.235480</td>\n",
       "      <td>0.423864</td>\n",
       "      <td>0 days 18:00:00</td>\n",
       "      <td>0 days 02:00:00</td>\n",
       "    </tr>\n",
       "  </tbody>\n",
       "</table>\n",
       "<p>4 rows × 26 columns</p>\n",
       "</div>"
      ],
      "text/plain": [
       "            NOAA_BALT_Temperature_Daily_Max (C)  \\\n",
       "Datetime                                          \n",
       "2008-01-02                                  NaN   \n",
       "2008-01-03                                  NaN   \n",
       "2022-07-30                                 30.8   \n",
       "2022-07-31                                 29.9   \n",
       "\n",
       "            NOAA_BALT_Temperature_Daily_Max (F)  \\\n",
       "Datetime                                          \n",
       "2008-01-02                                  NaN   \n",
       "2008-01-03                                  NaN   \n",
       "2022-07-30                                87.44   \n",
       "2022-07-31                                85.82   \n",
       "\n",
       "           NOAA_BALT_Temperature_Daily_Max_Datetime  \\\n",
       "Datetime                                              \n",
       "2008-01-02                                      NaT   \n",
       "2008-01-03                                      NaT   \n",
       "2022-07-30                      2022-07-30 21:00:00   \n",
       "2022-07-31                      2022-07-31 00:00:00   \n",
       "\n",
       "            NOAA_BALT_Temperature_Daily_Min (C)  \\\n",
       "Datetime                                          \n",
       "2008-01-02                                  NaN   \n",
       "2008-01-03                                  NaN   \n",
       "2022-07-30                                 23.7   \n",
       "2022-07-31                                 23.4   \n",
       "\n",
       "            NOAA_BALT_Temperature_Daily_Min (F)  \\\n",
       "Datetime                                          \n",
       "2008-01-02                                  NaN   \n",
       "2008-01-03                                  NaN   \n",
       "2022-07-30                                74.66   \n",
       "2022-07-31                                74.12   \n",
       "\n",
       "           NOAA_BALT_Temperature_Daily_Min_Datetime  \\\n",
       "Datetime                                              \n",
       "2008-01-02                                      NaT   \n",
       "2008-01-03                                      NaT   \n",
       "2022-07-30                      2022-07-30 00:00:00   \n",
       "2022-07-31                      2022-07-31 07:00:00   \n",
       "\n",
       "            ERA5_Temperature_Daily_Max (C)  ERA5_Temperature_Daily_Max (F)  \\\n",
       "Datetime                                                                     \n",
       "2008-01-02                        4.390381                       39.902686   \n",
       "2008-01-03                       -1.351776                       29.566803   \n",
       "2022-07-30                       29.936554                       85.885797   \n",
       "2022-07-31                       27.889984                       82.201971   \n",
       "\n",
       "           ERA5_Temperature_Daily_Max_Datetime  \\\n",
       "Datetime                                         \n",
       "2008-01-02                 2008-01-02 00:00:00   \n",
       "2008-01-03                 2008-01-03 00:00:00   \n",
       "2022-07-30                 2022-07-30 21:00:00   \n",
       "2022-07-31                 2022-07-31 18:00:00   \n",
       "\n",
       "            ERA5_Temperature_Daily_Min (C)  ...  \\\n",
       "Datetime                                    ...   \n",
       "2008-01-02                       -0.727325  ...   \n",
       "2008-01-03                       -5.221069  ...   \n",
       "2022-07-30                       22.835968  ...   \n",
       "2022-07-31                       22.350098  ...   \n",
       "\n",
       "            NOAA_BALT_Corresponding_Temperature_During_ERA5_Daily_Max (C)  \\\n",
       "Datetime                                                                    \n",
       "2008-01-02                                                NaN               \n",
       "2008-01-03                                                NaN               \n",
       "2022-07-30                                               30.8               \n",
       "2022-07-31                                               29.3               \n",
       "\n",
       "           NOAA_BALT_Corresponding_Temperature_During_ERA5_Daily_Max (F)  \\\n",
       "Datetime                                                                   \n",
       "2008-01-02                                                NaN              \n",
       "2008-01-03                                                NaN              \n",
       "2022-07-30                                              87.44              \n",
       "2022-07-31                                              84.74              \n",
       "\n",
       "            NOAA_BALT_Corresponding_Temperature_During_ERA5_Daily_Min (C)  \\\n",
       "Datetime                                                                    \n",
       "2008-01-02                                                NaN               \n",
       "2008-01-03                                                NaN               \n",
       "2022-07-30                                               23.9               \n",
       "2022-07-31                                               24.2               \n",
       "\n",
       "            NOAA_BALT_Corresponding_Temperature_During_ERA5_Daily_Min (F)  \\\n",
       "Datetime                                                                    \n",
       "2008-01-02                                                NaN               \n",
       "2008-01-03                                                NaN               \n",
       "2022-07-30                                              75.02               \n",
       "2022-07-31                                              75.56               \n",
       "\n",
       "            Daily_Temperature_Max_Difference (C)  \\\n",
       "Datetime                                           \n",
       "2008-01-02                                   NaN   \n",
       "2008-01-03                                   NaN   \n",
       "2022-07-30                              0.863446   \n",
       "2022-07-31                              2.540167   \n",
       "\n",
       "            Daily_Temperature_Max_Difference (F)  \\\n",
       "Datetime                                           \n",
       "2008-01-02                                   NaN   \n",
       "2008-01-03                                   NaN   \n",
       "2022-07-30                              1.554203   \n",
       "2022-07-31                              4.572301   \n",
       "\n",
       "            Daily_Temperature_Min_Difference (C)  \\\n",
       "Datetime                                           \n",
       "2008-01-02                                   NaN   \n",
       "2008-01-03                                   NaN   \n",
       "2022-07-30                             -1.406934   \n",
       "2022-07-31                              0.235480   \n",
       "\n",
       "            Daily_Temperature_Min_Difference (F)  \\\n",
       "Datetime                                           \n",
       "2008-01-02                                   NaN   \n",
       "2008-01-03                                   NaN   \n",
       "2022-07-30                             -2.532480   \n",
       "2022-07-31                              0.423864   \n",
       "\n",
       "            Absolute_time_difference_tmax_ERA5_NOAA_BALT (day H:M:S)  \\\n",
       "Datetime                                                               \n",
       "2008-01-02                                                NaT          \n",
       "2008-01-03                                                NaT          \n",
       "2022-07-30                                    0 days 00:00:00          \n",
       "2022-07-31                                    0 days 18:00:00          \n",
       "\n",
       "            Absolute_time_difference_tmin_ERA5_NOAA_BALT (day H:M:S)  \n",
       "Datetime                                                              \n",
       "2008-01-02                                                NaT         \n",
       "2008-01-03                                                NaT         \n",
       "2022-07-30                                    0 days 11:00:00         \n",
       "2022-07-31                                    0 days 02:00:00         \n",
       "\n",
       "[4 rows x 26 columns]"
      ]
     },
     "execution_count": 61,
     "metadata": {},
     "output_type": "execute_result"
    }
   ],
   "source": [
    "ends(df_FINAL, 2)"
   ]
  },
  {
   "cell_type": "markdown",
   "id": "3aec7ae4-a43b-4c8c-a267-805fefaa3469",
   "metadata": {},
   "source": [
    "### data visualizations"
   ]
  },
  {
   "cell_type": "code",
   "execution_count": 62,
   "id": "8aee4b12-f4b5-4c5a-9388-ec04b211ef8e",
   "metadata": {},
   "outputs": [
    {
     "data": {
      "image/png": "[encoded data removed]",
      "text/plain": [
       "<Figure size 1200x800 with 1 Axes>"
      ]
     },
     "metadata": {},
     "output_type": "display_data"
    }
   ],
   "source": [
    "fig = df_FINAL.hist(\n",
    "    'NOAA_BALT_Temperature_Daily_Max (F)', edgecolor='k', facecolor='salmon', bins=30, figsize=(12,8))\n",
    "plt.tight_layout()\n",
    "plt.show()"
   ]
  },
  {
   "cell_type": "code",
   "execution_count": 63,
   "id": "1aeedef1-c261-4f1d-a1e4-6769ea0a090e",
   "metadata": {},
   "outputs": [
    {
     "data": {
      "image/png": "[encoded data removed]",
      "text/plain": [
       "<Figure size 1200x800 with 1 Axes>"
      ]
     },
     "metadata": {},
     "output_type": "display_data"
    }
   ],
   "source": [
    "fig = df_FINAL.hist(\n",
    "    'ERA5_Temperature_Daily_Max (F)', edgecolor='k', facecolor='salmon', bins=30, figsize=(12,8))\n",
    "plt.tight_layout()\n",
    "plt.show()"
   ]
  },
  {
   "cell_type": "code",
   "execution_count": 64,
   "id": "97936a58-406a-4e27-a48e-e8badbb8886c",
   "metadata": {},
   "outputs": [
    {
     "data": {
      "image/png": "[encoded data removed]",
      "text/plain": [
       "<Figure size 1200x800 with 1 Axes>"
      ]
     },
     "metadata": {},
     "output_type": "display_data"
    }
   ],
   "source": [
    "fig = df_FINAL.hist(\n",
    "    'NOAA_BALT_Temperature_Daily_Min (F)', edgecolor='k', facecolor='salmon', bins=30, figsize=(12,8))\n",
    "plt.tight_layout()\n",
    "plt.show()"
   ]
  },
  {
   "cell_type": "code",
   "execution_count": 65,
   "id": "f4bbfd84-2167-46d5-b8e0-224078d51baf",
   "metadata": {},
   "outputs": [
    {
     "data": {
      "image/png": "[encoded data removed]",
      "text/plain": [
       "<Figure size 1200x800 with 1 Axes>"
      ]
     },
     "metadata": {},
     "output_type": "display_data"
    }
   ],
   "source": [
    "fig = df_FINAL.hist(\n",
    "    'ERA5_Temperature_Daily_Min (F)', edgecolor='k', facecolor='salmon', bins=30, figsize=(12,8))\n",
    "plt.tight_layout()\n",
    "plt.show()"
   ]
  },
  {
   "cell_type": "markdown",
   "id": "60b20517-09c7-4b4e-877e-3b8dcf4c610e",
   "metadata": {},
   "source": [
    "## save csv file"
   ]
  },
  {
   "cell_type": "code",
   "execution_count": 66,
   "id": "2d212109-1a90-46f1-9e46-dd45cb979194",
   "metadata": {},
   "outputs": [],
   "source": [
    "df_FINAL.to_csv('/glade/scratch/molina/NOAA_BALT_ERA5_2mTemperature_2008-2022.csv')"
   ]
  },
  {
   "cell_type": "code",
   "execution_count": 67,
   "id": "86d842b8-b199-419f-a178-eac6eb2586d2",
   "metadata": {},
   "outputs": [
    {
     "data": {
      "text/plain": [
       "NOAA_BALT_Temperature_Daily_Max (C)                              607\n",
       "NOAA_BALT_Temperature_Daily_Max (F)                              607\n",
       "NOAA_BALT_Temperature_Daily_Max_Datetime                         607\n",
       "NOAA_BALT_Temperature_Daily_Min (C)                              607\n",
       "NOAA_BALT_Temperature_Daily_Min (F)                              607\n",
       "NOAA_BALT_Temperature_Daily_Min_Datetime                         607\n",
       "ERA5_Temperature_Daily_Max (C)                                     0\n",
       "ERA5_Temperature_Daily_Max (F)                                     0\n",
       "ERA5_Temperature_Daily_Max_Datetime                                0\n",
       "ERA5_Temperature_Daily_Min (C)                                     0\n",
       "ERA5_Temperature_Daily_Min (F)                                     0\n",
       "ERA5_Temperature_Daily_Min_Datetime                                0\n",
       "ERA5_Corresponding_Temperature_During_NOAA_BALT_Daily_Max (C)    607\n",
       "ERA5_Corresponding_Temperature_During_NOAA_BALT_Daily_Max (F)    607\n",
       "ERA5_Corresponding_Temperature_During_NOAA_BALT_Daily_Min (C)    607\n",
       "ERA5_Corresponding_Temperature_During_NOAA_BALT_Daily_Min (F)    607\n",
       "NOAA_BALT_Corresponding_Temperature_During_ERA5_Daily_Max (C)    254\n",
       "NOAA_BALT_Corresponding_Temperature_During_ERA5_Daily_Max (F)    254\n",
       "NOAA_BALT_Corresponding_Temperature_During_ERA5_Daily_Min (C)    259\n",
       "NOAA_BALT_Corresponding_Temperature_During_ERA5_Daily_Min (F)    259\n",
       "Daily_Temperature_Max_Difference (C)                             607\n",
       "Daily_Temperature_Max_Difference (F)                             607\n",
       "Daily_Temperature_Min_Difference (C)                             607\n",
       "Daily_Temperature_Min_Difference (F)                             607\n",
       "Absolute_time_difference_tmax_ERA5_NOAA_BALT (day H:M:S)         607\n",
       "Absolute_time_difference_tmin_ERA5_NOAA_BALT (day H:M:S)         607\n",
       "dtype: int64"
      ]
     },
     "execution_count": 67,
     "metadata": {},
     "output_type": "execute_result"
    }
   ],
   "source": [
    "df_FINAL.isnull().sum()"
   ]
  },
  {
   "cell_type": "markdown",
   "id": "c709f1a8-16a7-4ea4-9b27-fe879a9665f3",
   "metadata": {},
   "source": [
    "# review"
   ]
  },
  {
   "cell_type": "code",
   "execution_count": 3,
   "id": "b96001ff-7eb8-4777-8eff-64aad7f6ac8e",
   "metadata": {},
   "outputs": [],
   "source": [
    "import pandas as pd"
   ]
  },
  {
   "cell_type": "code",
   "execution_count": 5,
   "id": "a89d5c21-5dcd-487c-9831-9e5b06c8ab65",
   "metadata": {},
   "outputs": [],
   "source": [
    "df = pd.read_csv(\n",
    "    '/glade/scratch/molina/NOAA_BALT_ERA5_2mTemperature_2008-2022.csv')"
   ]
  },
  {
   "cell_type": "code",
   "execution_count": 9,
   "id": "7cc24bb8-4f50-46f5-b85a-4d3d3ea81e3b",
   "metadata": {},
   "outputs": [
    {
     "data": {
      "text/plain": [
       "5325"
      ]
     },
     "execution_count": 9,
     "metadata": {},
     "output_type": "execute_result"
    }
   ],
   "source": [
    "len(df)"
   ]
  },
  {
   "cell_type": "code",
   "execution_count": 6,
   "id": "8b00d464-e36a-43d6-b3ed-5cda8ca3c76b",
   "metadata": {},
   "outputs": [
    {
     "data": {
      "text/plain": [
       "<matplotlib.axes._subplots.AxesSubplot at 0x2b2e382418e0>"
      ]
     },
     "execution_count": 6,
     "metadata": {},
     "output_type": "execute_result"
    },
    {
     "data": {
      "image/png": "[encoded data removed]",
      "text/plain": [
       "<Figure size 640x480 with 1 Axes>"
      ]
     },
     "metadata": {},
     "output_type": "display_data"
    }
   ],
   "source": [
    "df['NOAA_BALT_Temperature_Daily_Max (F)'].plot()"
   ]
  },
  {
   "cell_type": "code",
   "execution_count": 7,
   "id": "3cd224f2-627c-4bcc-bc78-7bc21a81b9f6",
   "metadata": {},
   "outputs": [
    {
     "data": {
      "text/plain": [
       "<matplotlib.axes._subplots.AxesSubplot at 0x2b2e38a183d0>"
      ]
     },
     "execution_count": 7,
     "metadata": {},
     "output_type": "execute_result"
    },
    {
     "data": {
      "image/png": "[encoded data removed]",
      "text/plain": [
       "<Figure size 640x480 with 1 Axes>"
      ]
     },
     "metadata": {},
     "output_type": "display_data"
    }
   ],
   "source": [
    "df['ERA5_Corresponding_Temperature_During_NOAA_BALT_Daily_Max (C)'].plot()"
   ]
  },
  {
   "cell_type": "code",
   "execution_count": 8,
   "id": "d8a19982-095a-465e-88fe-f77d76d1fea6",
   "metadata": {},
   "outputs": [
    {
     "data": {
      "text/plain": [
       "<matplotlib.axes._subplots.AxesSubplot at 0x2b2e38a6f880>"
      ]
     },
     "execution_count": 8,
     "metadata": {},
     "output_type": "execute_result"
    },
    {
     "data": {
      "image/png": "[encoded data removed]",
      "text/plain": [
       "<Figure size 640x480 with 1 Axes>"
      ]
     },
     "metadata": {},
     "output_type": "display_data"
    }
   ],
   "source": [
    "df['NOAA_BALT_Corresponding_Temperature_During_ERA5_Daily_Max (F)'].plot()"
   ]
  },
  {
   "cell_type": "code",
   "execution_count": null,
   "id": "cfad2c84-6a68-45e0-8086-5c4da746476a",
   "metadata": {},
   "outputs": [],
   "source": []
  }
 ],
 "metadata": {
  "kernelspec": {
   "display_name": "Python [conda env:miniconda3-myenv-tfgpu]",
   "language": "python",
   "name": "conda-env-miniconda3-myenv-tfgpu-py"
  },
  "language_info": {
   "codemirror_mode": {
    "name": "ipython",
    "version": 3
   },
   "file_extension": ".py",
   "mimetype": "text/x-python",
   "name": "python",
   "nbconvert_exporter": "python",
   "pygments_lexer": "ipython3",
   "version": "3.8.13"
  }
 },
 "nbformat": 4,
 "nbformat_minor": 5
}
