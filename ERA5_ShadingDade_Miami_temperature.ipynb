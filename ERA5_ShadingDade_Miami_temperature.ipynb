{
 "cells": [
  {
   "cell_type": "markdown",
   "id": "eae08c4e",
   "metadata": {},
   "source": [
    "# NCAR Innovator Program Project\n",
    "\n",
    "### Notebook by: Maria J. Molina (NCAR/University of Maryland) and Jessica Moulite (Howard University)"
   ]
  },
  {
   "cell_type": "markdown",
   "id": "9efbfe92",
   "metadata": {},
   "source": [
    "Import packages"
   ]
  },
  {
   "cell_type": "code",
   "execution_count": 1,
   "id": "80b329fe",
   "metadata": {},
   "outputs": [],
   "source": [
    "import datetime\n",
    "import numpy as np\n",
    "import pandas as pd\n",
    "import xarray as xr"
   ]
  },
  {
   "cell_type": "code",
   "execution_count": 2,
   "id": "16464b27",
   "metadata": {},
   "outputs": [],
   "source": [
    "def cel_to_far(tmp):\n",
    "    \"\"\"\n",
    "    Convert celsius to farenheit\n",
    "    \"\"\"\n",
    "    newtmp = []\n",
    "    for i in tmp:\n",
    "        if i == 99.9:\n",
    "            newtmp.append(np.nan)\n",
    "        if i != 99.9:\n",
    "            newtmp.append((i * (9/5)) + 32)\n",
    "    return np.array(newtmp)\n",
    "\n",
    "\n",
    "def cel_to_nan(tmp):\n",
    "    \"\"\"\n",
    "    Change 9999 to np.nan\n",
    "    \"\"\"\n",
    "    newtmp = []\n",
    "    for i in tmp:\n",
    "        if i == 99.9:\n",
    "            newtmp.append(np.nan)\n",
    "        if i != 99.9:\n",
    "            newtmp.append(i)\n",
    "    return np.array(newtmp)\n",
    "\n",
    "\n",
    "def convert_to_datetime(time_value):\n",
    "    \"\"\"\n",
    "    Convert to a datetime object to be able to compute time difference.\n",
    "    \"\"\"\n",
    "    return datetime.datetime(\n",
    "        pd.to_datetime(time_value).year,\n",
    "        pd.to_datetime(time_value).month,\n",
    "        pd.to_datetime(time_value).day,\n",
    "        pd.to_datetime(time_value).hour,\n",
    "        pd.to_datetime(time_value).minute,\n",
    "        pd.to_datetime(time_value).second,\n",
    "    )\n",
    "\n",
    "\n",
    "def compute_time_difference(a, b):\n",
    "    \"\"\"\n",
    "    Compute time difference between two times.\n",
    "    \"\"\"\n",
    "    if a >= b:\n",
    "        return convert_to_datetime(a) - convert_to_datetime(b)\n",
    "    if b > a:\n",
    "        return convert_to_datetime(b) - convert_to_datetime(a)\n",
    "    \n",
    "    \n",
    "def extract_era5_time(t_daily, t_full):\n",
    "    \"\"\"\n",
    "    Extract the era5 temperature corresponding time.\n",
    "    \"\"\"\n",
    "    era5_time_array = []\n",
    "    \n",
    "    for i, j in zip(t_daily.time, t_daily):\n",
    "        \n",
    "        tmp = t_full.sel(\n",
    "            time=slice(i, pd.to_datetime(i.values) + datetime.timedelta(hours=23)))\n",
    "        \n",
    "        era5_time_array.append(tmp.where(tmp == j, drop=True).time.values)\n",
    "        \n",
    "    return era5_time_array"
   ]
  },
  {
   "cell_type": "markdown",
   "id": "257df387",
   "metadata": {},
   "source": [
    "### load in our csv file with temperatures from Shading Dade"
   ]
  },
  {
   "cell_type": "code",
   "execution_count": 3,
   "id": "0d695396",
   "metadata": {},
   "outputs": [],
   "source": [
    "Shading_dade_temp = pd.read_csv('/Users/molina/Desktop/ShadingDade_NOAA_KMIA_Temperature.csv')"
   ]
  },
  {
   "cell_type": "code",
   "execution_count": 4,
   "id": "d4106feb",
   "metadata": {},
   "outputs": [
    {
     "data": {
      "text/plain": [
       "Index(['Datetime', 'ShadingDade_Temperature_Daily_Max (C)',\n",
       "       'ShadingDade_Temperature_Daily_Min (C)',\n",
       "       'NOAA_KMIA_Temperature_Daily_Max (C)',\n",
       "       'NOAA_KMIA_Temperature_Daily_Min (C)',\n",
       "       'ShadingDade_Temperature_Daily_Max (F)',\n",
       "       'ShadingDade_Temperature_Daily_Min (F)',\n",
       "       'NOAA_KMIA_Temperature_Daily_Max (F)',\n",
       "       'NOAA_KMIA_Temperature_Daily_Min (F)',\n",
       "       'Daily_Temperature_Max_Difference (C)',\n",
       "       'Daily_Temperature_Min_Difference (C)',\n",
       "       'Daily_Temperature_Max_Difference (F)',\n",
       "       'Daily_Temperature_Min_Difference (F)',\n",
       "       'Corresponding_Datetime_ShadingDade_DailyMax',\n",
       "       'Corresponding_Datetime_ShadingDade_DailyMin',\n",
       "       'Corresponding_Datetime_NOAA_KMIA_DailyMax',\n",
       "       'Corresponding_Datetime_NOAA_KMIA_DailyMin',\n",
       "       'Corresponding_Datetime_NOAA_KMIA_DailyMax_Difference (C)',\n",
       "       'Corresponding_Datetime_NOAA_KMIA_DailyMax_Difference (F)',\n",
       "       'Corresponding_Datetime_NOAA_KMIA_DailyMin_Difference (C)',\n",
       "       'Corresponding_Datetime_NOAA_KMIA_DailyMin_Difference (F)',\n",
       "       'Corresponding_Datetime_ShadingDade_DailyMax_Difference (C)',\n",
       "       'Corresponding_Datetime_ShadingDade_DailyMax_Difference (F)',\n",
       "       'Corresponding_Datetime_ShadingDade_DailyMin_Difference (C)',\n",
       "       'Corresponding_Datetime_ShadingDade_DailyMin_Difference (F)',\n",
       "       'NOAA_Corresponding_Temperature_During_ShadingDade_DailyMax (C)',\n",
       "       'NOAA_Corresponding_Temperature_During_ShadingDade_DailyMin (C)',\n",
       "       'ShadingDade_Corresponding_Temperature_During_NOAA_DailyMax (C)',\n",
       "       'ShadingDade_Corresponding_Temperature_During_NOAA_DailyMin (C)',\n",
       "       'NOAA_Corresponding_Temperature_During_ShadingDade_DailyMax (F)',\n",
       "       'NOAA_Corresponding_Temperature_During_ShadingDade_DailyMin (F)',\n",
       "       'ShadingDade_Corresponding_Temperature_During_NOAA_DailyMax (F)',\n",
       "       'ShadingDade_Corresponding_Temperature_During_NOAA_DailyMin (F)',\n",
       "       'Absolute_time_difference_tmax_NOAA_ShadingDade (day H:M:S)',\n",
       "       'Absolute_time_difference_tmin_NOAA_ShadingDade (day H:M:S)'],\n",
       "      dtype='object')"
      ]
     },
     "execution_count": 4,
     "metadata": {},
     "output_type": "execute_result"
    }
   ],
   "source": [
    "Shading_dade_temp.columns"
   ]
  },
  {
   "cell_type": "code",
   "execution_count": 5,
   "id": "c399bef6",
   "metadata": {},
   "outputs": [],
   "source": [
    "# location of little haiti temperature sensor\n",
    "SD_latitude  = 25.8436392\n",
    "SD_longitude = -80.1816499 % 360"
   ]
  },
  {
   "cell_type": "code",
   "execution_count": 6,
   "id": "7ae28ee5",
   "metadata": {},
   "outputs": [],
   "source": [
    "alltmaxtimes = pd.to_datetime(Shading_dade_temp['Corresponding_Datetime_ShadingDade_DailyMax'].values)"
   ]
  },
  {
   "cell_type": "code",
   "execution_count": 7,
   "id": "8395316f",
   "metadata": {},
   "outputs": [],
   "source": [
    "jun_tmaxtimes = alltmaxtimes[alltmaxtimes.month == 6]\n",
    "jul_tmaxtimes = alltmaxtimes[alltmaxtimes.month == 7]\n",
    "aug_tmaxtimes = alltmaxtimes[alltmaxtimes.month == 8]\n",
    "sep_tmaxtimes = alltmaxtimes[alltmaxtimes.month == 9]"
   ]
  },
  {
   "cell_type": "code",
   "execution_count": 8,
   "id": "039af74b",
   "metadata": {},
   "outputs": [],
   "source": [
    "alltmintimes = pd.to_datetime(Shading_dade_temp['Corresponding_Datetime_ShadingDade_DailyMin'].values)"
   ]
  },
  {
   "cell_type": "code",
   "execution_count": 9,
   "id": "b152d6cd",
   "metadata": {},
   "outputs": [],
   "source": [
    "jun_tmintimes = alltmintimes[alltmintimes.month == 6]\n",
    "jul_tmintimes = alltmintimes[alltmintimes.month == 7]\n",
    "aug_tmintimes = alltmintimes[alltmintimes.month == 8]\n",
    "sep_tmintimes = alltmintimes[alltmintimes.month == 9]"
   ]
  },
  {
   "cell_type": "markdown",
   "id": "85e00469",
   "metadata": {},
   "source": [
    "### ERA5 work"
   ]
  },
  {
   "cell_type": "markdown",
   "id": "26c86144",
   "metadata": {},
   "source": [
    "Download source for ERA5: https://rda.ucar.edu/datasets/ds633.0/\n",
    "\n",
    "ERA5 (ECMWF -- European Centre for Medium-Range Weather Forecasts -- fifth reanalysis) reference: https://rmets.onlinelibrary.wiley.com/doi/full/10.1002/qj.3803"
   ]
  },
  {
   "cell_type": "code",
   "execution_count": 10,
   "id": "34d2ade3",
   "metadata": {},
   "outputs": [],
   "source": [
    "# open files\n",
    "ds_jun = xr.open_dataset(\n",
    "    '/Users/molina/Desktop/e5.oper.an.sfc.128_167_2t.ll025sc.2019060100_2019063023.nc')['VAR_2T']\n",
    "ds_jul = xr.open_dataset(\n",
    "    '/Users/molina/Desktop/e5.oper.an.sfc.128_167_2t.ll025sc.2019070100_2019073123.nc')['VAR_2T']\n",
    "ds_aug = xr.open_dataset(\n",
    "    '/Users/molina/Desktop/e5.oper.an.sfc.128_167_2t.ll025sc.2019080100_2019083123.nc')['VAR_2T']\n",
    "ds_sep = xr.open_dataset(\n",
    "    '/Users/molina/Desktop/e5.oper.an.sfc.128_167_2t.ll025sc.2019090100_2019093023.nc')['VAR_2T']"
   ]
  },
  {
   "cell_type": "markdown",
   "id": "92df8849",
   "metadata": {},
   "source": [
    "### ERA5 temperature during the Shading Dade daily maximum (2019)"
   ]
  },
  {
   "cell_type": "code",
   "execution_count": 11,
   "id": "47808100",
   "metadata": {},
   "outputs": [],
   "source": [
    "era5_temp_corresponding_sdmax_jun = ds_jun.sel(\n",
    "    longitude=SD_longitude, latitude=SD_latitude, time = jun_tmaxtimes, method='nearest') - 273.15\n",
    "era5_temp_corresponding_sdmax_jul = ds_jul.sel(\n",
    "    longitude=SD_longitude, latitude=SD_latitude, time = jul_tmaxtimes, method='nearest') - 273.15\n",
    "era5_temp_corresponding_sdmax_aug = ds_aug.sel(\n",
    "    longitude=SD_longitude, latitude=SD_latitude, time = aug_tmaxtimes, method='nearest') - 273.15\n",
    "era5_temp_corresponding_sdmax_sep = ds_sep.sel(\n",
    "    longitude=SD_longitude, latitude=SD_latitude, time = sep_tmaxtimes, method='nearest') - 273.15"
   ]
  },
  {
   "cell_type": "code",
   "execution_count": 12,
   "id": "e391c12e",
   "metadata": {},
   "outputs": [],
   "source": [
    "era5_temp_corresponding_sdmax = xr.concat([\n",
    "    era5_temp_corresponding_sdmax_jun,\n",
    "    era5_temp_corresponding_sdmax_jul,\n",
    "    era5_temp_corresponding_sdmax_aug,\n",
    "    era5_temp_corresponding_sdmax_sep,\n",
    "], dim='time')"
   ]
  },
  {
   "cell_type": "markdown",
   "id": "e481bcbf",
   "metadata": {},
   "source": [
    "### differences (temperature)"
   ]
  },
  {
   "cell_type": "code",
   "execution_count": 13,
   "id": "4a7194d5",
   "metadata": {},
   "outputs": [],
   "source": [
    "# difference between shading dade temperature maximum and the era5 corresponding temperature at that time (C)\n",
    "tmax_daily_difference_C = Shading_dade_temp[\n",
    "    'ShadingDade_Temperature_Daily_Max (C)'] - era5_temp_corresponding_sdmax.values"
   ]
  },
  {
   "cell_type": "code",
   "execution_count": 14,
   "id": "f7074f2e",
   "metadata": {},
   "outputs": [],
   "source": [
    "# difference between shading dade temperature maximum and the era5 corresponding temperature at that time (F)\n",
    "tmax_daily_difference_F = Shading_dade_temp['ShadingDade_Temperature_Daily_Max (F)'] - cel_to_far(\n",
    "    era5_temp_corresponding_sdmax.values)"
   ]
  },
  {
   "cell_type": "markdown",
   "id": "a7b5af7b",
   "metadata": {},
   "source": [
    "### ERA5 temperature during the Shading Dade daily minimum (2019)"
   ]
  },
  {
   "cell_type": "code",
   "execution_count": 15,
   "id": "94bfa6a3",
   "metadata": {},
   "outputs": [],
   "source": [
    "era5_temp_corresponding_sdmin_jun = ds_jun.sel(\n",
    "    longitude=SD_longitude, latitude=SD_latitude, time = jun_tmintimes, method='nearest') - 273.15\n",
    "era5_temp_corresponding_sdmin_jul = ds_jul.sel(\n",
    "    longitude=SD_longitude, latitude=SD_latitude, time = jul_tmintimes, method='nearest') - 273.15\n",
    "era5_temp_corresponding_sdmin_aug = ds_aug.sel(\n",
    "    longitude=SD_longitude, latitude=SD_latitude, time = aug_tmintimes, method='nearest') - 273.15\n",
    "era5_temp_corresponding_sdmin_sep = ds_sep.sel(\n",
    "    longitude=SD_longitude, latitude=SD_latitude, time = sep_tmintimes, method='nearest') - 273.15"
   ]
  },
  {
   "cell_type": "code",
   "execution_count": 16,
   "id": "78eb02e0",
   "metadata": {},
   "outputs": [],
   "source": [
    "era5_temp_corresponding_sdmin = xr.concat([\n",
    "    era5_temp_corresponding_sdmin_jun,\n",
    "    era5_temp_corresponding_sdmin_jul,\n",
    "    era5_temp_corresponding_sdmin_aug,\n",
    "    era5_temp_corresponding_sdmin_sep,\n",
    "], dim='time')"
   ]
  },
  {
   "cell_type": "code",
   "execution_count": 17,
   "id": "444a8eed",
   "metadata": {},
   "outputs": [],
   "source": [
    "# difference between shading dade temperature minimum and the era5 corresponding temperature at that time (C)\n",
    "tmin_daily_difference_C = Shading_dade_temp[\n",
    "    'ShadingDade_Temperature_Daily_Min (C)'] - era5_temp_corresponding_sdmin.values"
   ]
  },
  {
   "cell_type": "code",
   "execution_count": 18,
   "id": "1b6fb614",
   "metadata": {},
   "outputs": [],
   "source": [
    "# difference between shading dade temperature minimum and the era5 corresponding temperature at that time (F)\n",
    "tmin_daily_difference_F = Shading_dade_temp['ShadingDade_Temperature_Daily_Min (F)'] - cel_to_far(\n",
    "    era5_temp_corresponding_sdmin.values)"
   ]
  },
  {
   "cell_type": "markdown",
   "id": "ba100dbf",
   "metadata": {},
   "source": [
    "### ERA5 daily temperature maximum (2019)"
   ]
  },
  {
   "cell_type": "code",
   "execution_count": 19,
   "id": "fe9dca8e",
   "metadata": {},
   "outputs": [],
   "source": [
    "era5_temp_jun = ds_jun.sel(\n",
    "    longitude=SD_longitude, latitude=SD_latitude, method='nearest') - 273.15\n",
    "era5_temp_jul = ds_jul.sel(\n",
    "    longitude=SD_longitude, latitude=SD_latitude, method='nearest') - 273.15\n",
    "era5_temp_aug = ds_aug.sel(\n",
    "    longitude=SD_longitude, latitude=SD_latitude, method='nearest') - 273.15\n",
    "era5_temp_sep = ds_sep.sel(\n",
    "    longitude=SD_longitude, latitude=SD_latitude, method='nearest') - 273.15"
   ]
  },
  {
   "cell_type": "code",
   "execution_count": 20,
   "id": "caed80bd",
   "metadata": {},
   "outputs": [],
   "source": [
    "era5_tmax_jun = era5_temp_jun.resample(time='D').max()\n",
    "era5_tmax_jul = era5_temp_jul.resample(time='D').max()\n",
    "era5_tmax_aug = era5_temp_aug.resample(time='D').max()\n",
    "era5_tmax_sep = era5_temp_sep.resample(time='D').max()"
   ]
  },
  {
   "cell_type": "code",
   "execution_count": 21,
   "id": "c9cb2151",
   "metadata": {},
   "outputs": [],
   "source": [
    "era5_tmax = xr.concat([\n",
    "    era5_tmax_jun,\n",
    "    era5_tmax_jul,\n",
    "    era5_tmax_aug,\n",
    "    era5_tmax_sep,\n",
    "], dim='time')"
   ]
  },
  {
   "cell_type": "code",
   "execution_count": 22,
   "id": "f970c93a",
   "metadata": {},
   "outputs": [],
   "source": [
    "era5_tmax = era5_tmax.sel(time=slice(alltmaxtimes.date[0], alltmaxtimes.date[-1]))"
   ]
  },
  {
   "cell_type": "markdown",
   "id": "db885ec7",
   "metadata": {},
   "source": [
    "### ERA5 daily temperature minimum (2019)"
   ]
  },
  {
   "cell_type": "code",
   "execution_count": 23,
   "id": "20fe404d",
   "metadata": {},
   "outputs": [],
   "source": [
    "era5_tmin_jun = era5_temp_jun.resample(time='D').min()\n",
    "era5_tmin_jul = era5_temp_jul.resample(time='D').min()\n",
    "era5_tmin_aug = era5_temp_aug.resample(time='D').min()\n",
    "era5_tmin_sep = era5_temp_sep.resample(time='D').min()"
   ]
  },
  {
   "cell_type": "code",
   "execution_count": 24,
   "id": "ad5ab944",
   "metadata": {},
   "outputs": [],
   "source": [
    "era5_tmin = xr.concat([\n",
    "    era5_tmin_jun,\n",
    "    era5_tmin_jul,\n",
    "    era5_tmin_aug,\n",
    "    era5_tmin_sep,\n",
    "], dim='time')"
   ]
  },
  {
   "cell_type": "code",
   "execution_count": 25,
   "id": "96c63aaf",
   "metadata": {},
   "outputs": [],
   "source": [
    "era5_tmin = era5_tmin.sel(time=slice(alltmintimes.date[0], alltmintimes.date[-1]))"
   ]
  },
  {
   "cell_type": "markdown",
   "id": "1838614e",
   "metadata": {},
   "source": [
    "### ERA5 daily temperature maximum time (2019)"
   ]
  },
  {
   "cell_type": "code",
   "execution_count": 26,
   "id": "793c9b46",
   "metadata": {},
   "outputs": [],
   "source": [
    "era5_tmax_jun_time = extract_era5_time(era5_tmax_jun, era5_temp_jun)\n",
    "era5_tmax_jul_time = extract_era5_time(era5_tmax_jul, era5_temp_jul)\n",
    "era5_tmax_aug_time = extract_era5_time(era5_tmax_aug, era5_temp_aug)\n",
    "era5_tmax_sep_time = extract_era5_time(era5_tmax_sep, era5_temp_sep)"
   ]
  },
  {
   "cell_type": "code",
   "execution_count": 27,
   "id": "1f5470a6",
   "metadata": {},
   "outputs": [],
   "source": [
    "era5_tmax_all_time = pd.to_datetime(\n",
    "    np.vstack([era5_tmax_jun_time,\n",
    "               era5_tmax_jul_time,\n",
    "               era5_tmax_aug_time,\n",
    "               era5_tmax_sep_time])[:,0])"
   ]
  },
  {
   "cell_type": "code",
   "execution_count": 28,
   "id": "91a4ef30",
   "metadata": {},
   "outputs": [],
   "source": [
    "era5_tmax_time = era5_tmax_all_time[(\n",
    "    era5_tmax_all_time>='2019-06-08') & (era5_tmax_all_time<'2019-09-02')]"
   ]
  },
  {
   "cell_type": "code",
   "execution_count": 29,
   "id": "aa07ba61",
   "metadata": {},
   "outputs": [],
   "source": [
    "# absolute time difference between daily maximum temperature (ERA5 and Shading Dade)\n",
    "tmax_diff = []\n",
    "for i, j in zip(\n",
    "    pd.to_datetime(Shading_dade_temp['Corresponding_Datetime_ShadingDade_DailyMax']), era5_tmax_time):\n",
    "    tmax_diff.append(compute_time_difference(i, j))\n",
    "tmax_diff = np.array(tmax_diff)"
   ]
  },
  {
   "cell_type": "markdown",
   "id": "61f315d9",
   "metadata": {},
   "source": [
    "### ERA5 daily temperature minimum time (2019)"
   ]
  },
  {
   "cell_type": "code",
   "execution_count": 30,
   "id": "0e9bc943",
   "metadata": {},
   "outputs": [],
   "source": [
    "era5_tmin_jun_time = extract_era5_time(era5_tmin_jun, era5_temp_jun)\n",
    "era5_tmin_jul_time = extract_era5_time(era5_tmin_jul, era5_temp_jul)\n",
    "era5_tmin_aug_time = extract_era5_time(era5_tmin_aug, era5_temp_aug)\n",
    "era5_tmin_sep_time = extract_era5_time(era5_tmin_sep, era5_temp_sep)"
   ]
  },
  {
   "cell_type": "code",
   "execution_count": 31,
   "id": "62a2fd31",
   "metadata": {},
   "outputs": [],
   "source": [
    "era5_tmin_all_time = pd.to_datetime(\n",
    "    np.vstack([era5_tmin_jun_time,\n",
    "               era5_tmin_jul_time,\n",
    "               era5_tmin_aug_time,\n",
    "               era5_tmin_sep_time])[:,0])"
   ]
  },
  {
   "cell_type": "code",
   "execution_count": 32,
   "id": "d554fc0f",
   "metadata": {},
   "outputs": [],
   "source": [
    "era5_tmin_time = era5_tmin_all_time[(\n",
    "    era5_tmin_all_time>='2019-06-08') & (era5_tmin_all_time<'2019-09-02')]"
   ]
  },
  {
   "cell_type": "code",
   "execution_count": 33,
   "id": "7ef1f2b4",
   "metadata": {},
   "outputs": [],
   "source": [
    "# absolute time difference between daily minimum temperature (ERA5 and Shading Dade)\n",
    "tmin_diff = []\n",
    "for i, j in zip(\n",
    "    pd.to_datetime(Shading_dade_temp['Corresponding_Datetime_ShadingDade_DailyMin']), era5_tmin_time):\n",
    "    tmin_diff.append(compute_time_difference(i, j))\n",
    "tmin_diff = np.array(tmin_diff)"
   ]
  },
  {
   "cell_type": "markdown",
   "id": "7c40c9bb",
   "metadata": {},
   "source": [
    "### create single csv file"
   ]
  },
  {
   "cell_type": "code",
   "execution_count": 34,
   "id": "a10b05d0",
   "metadata": {},
   "outputs": [],
   "source": [
    "data = {\n",
    "'ShadingDade_Temperature_Daily_Max (C)' : Shading_dade_temp['ShadingDade_Temperature_Daily_Max (C)'],\n",
    "'ShadingDade_Temperature_Daily_Max (F)' : Shading_dade_temp['ShadingDade_Temperature_Daily_Max (F)'],\n",
    "    \n",
    "'ShadingDade_Temperature_Daily_Min (C)' : Shading_dade_temp['ShadingDade_Temperature_Daily_Min (C)'],\n",
    "'ShadingDade_Temperature_Daily_Min (F)' : Shading_dade_temp['ShadingDade_Temperature_Daily_Min (F)'],\n",
    "    \n",
    "'ERA5_Corresponding_Temperature_During_ShadingDade_Daily_Max (C)': era5_temp_corresponding_sdmax.values,\n",
    "'ERA5_Corresponding_Temperature_During_ShadingDade_Daily_Max (F)': cel_to_far(era5_temp_corresponding_sdmax.values),\n",
    "    \n",
    "'ERA5_Corresponding_Temperature_During_ShadingDade_Daily_Min (C)': era5_temp_corresponding_sdmin.values,\n",
    "'ERA5_Corresponding_Temperature_During_ShadingDade_Daily_Min (F)': cel_to_far(era5_temp_corresponding_sdmin.values),\n",
    "\n",
    "'Daily_Temperature_Max_Difference (C)': tmax_daily_difference_C.values,\n",
    "'Daily_Temperature_Max_Difference (F)': tmax_daily_difference_F.values,\n",
    "    \n",
    "'Daily_Temperature_Min_Difference (C)': tmin_daily_difference_C.values,\n",
    "'Daily_Temperature_Min_Difference (F)': tmin_daily_difference_F.values,\n",
    "    \n",
    "'ERA5_Temperature_Daily_Max (C)': era5_tmax.values,\n",
    "'ERA5_Temperature_Daily_Max (F)': cel_to_far(era5_tmax.values),\n",
    "'ERA5_Temperature_Daily_Max_Datetime': era5_tmax_time,\n",
    "    \n",
    "'ERA5_Temperature_Daily_Min (C)': era5_tmin.values,\n",
    "'ERA5_Temperature_Daily_Min (F)': cel_to_far(era5_tmin.values),\n",
    "'ERA5_Temperature_Daily_Min_Datetime': era5_tmin_time,\n",
    "    \n",
    "'Absolute_time_difference_tmax_ERA5_ShadingDade (day H:M:S)': tmax_diff,\n",
    "'Absolute_time_difference_tmin_ERA5_ShadingDade (day H:M:S)': tmin_diff,\n",
    "\n",
    "       }"
   ]
  },
  {
   "cell_type": "code",
   "execution_count": 35,
   "id": "346af73a",
   "metadata": {},
   "outputs": [],
   "source": [
    "df_FINAL = pd.DataFrame(data)"
   ]
  },
  {
   "cell_type": "code",
   "execution_count": 36,
   "id": "8c20e235",
   "metadata": {},
   "outputs": [
    {
     "data": {
      "text/html": [
       "<div>\n",
       "<style scoped>\n",
       "    .dataframe tbody tr th:only-of-type {\n",
       "        vertical-align: middle;\n",
       "    }\n",
       "\n",
       "    .dataframe tbody tr th {\n",
       "        vertical-align: top;\n",
       "    }\n",
       "\n",
       "    .dataframe thead th {\n",
       "        text-align: right;\n",
       "    }\n",
       "</style>\n",
       "<table border=\"1\" class=\"dataframe\">\n",
       "  <thead>\n",
       "    <tr style=\"text-align: right;\">\n",
       "      <th></th>\n",
       "      <th>ShadingDade_Temperature_Daily_Max (C)</th>\n",
       "      <th>ShadingDade_Temperature_Daily_Max (F)</th>\n",
       "      <th>ShadingDade_Temperature_Daily_Min (C)</th>\n",
       "      <th>ShadingDade_Temperature_Daily_Min (F)</th>\n",
       "      <th>ERA5_Corresponding_Temperature_During_ShadingDade_Daily_Max (C)</th>\n",
       "      <th>ERA5_Corresponding_Temperature_During_ShadingDade_Daily_Max (F)</th>\n",
       "      <th>ERA5_Corresponding_Temperature_During_ShadingDade_Daily_Min (C)</th>\n",
       "      <th>ERA5_Corresponding_Temperature_During_ShadingDade_Daily_Min (F)</th>\n",
       "      <th>Daily_Temperature_Max_Difference (C)</th>\n",
       "      <th>Daily_Temperature_Max_Difference (F)</th>\n",
       "      <th>Daily_Temperature_Min_Difference (C)</th>\n",
       "      <th>Daily_Temperature_Min_Difference (F)</th>\n",
       "      <th>ERA5_Temperature_Daily_Max (C)</th>\n",
       "      <th>ERA5_Temperature_Daily_Max (F)</th>\n",
       "      <th>ERA5_Temperature_Daily_Max_Datetime</th>\n",
       "      <th>ERA5_Temperature_Daily_Min (C)</th>\n",
       "      <th>ERA5_Temperature_Daily_Min (F)</th>\n",
       "      <th>ERA5_Temperature_Daily_Min_Datetime</th>\n",
       "      <th>Absolute_time_difference_tmax_ERA5_ShadingDade (day H:M:S)</th>\n",
       "      <th>Absolute_time_difference_tmin_ERA5_ShadingDade (day H:M:S)</th>\n",
       "    </tr>\n",
       "  </thead>\n",
       "  <tbody>\n",
       "    <tr>\n",
       "      <th>0</th>\n",
       "      <td>34.875</td>\n",
       "      <td>94.775</td>\n",
       "      <td>23.000</td>\n",
       "      <td>73.400</td>\n",
       "      <td>27.618988</td>\n",
       "      <td>81.714178</td>\n",
       "      <td>27.076782</td>\n",
       "      <td>80.738208</td>\n",
       "      <td>7.256012</td>\n",
       "      <td>13.060822</td>\n",
       "      <td>-4.076782</td>\n",
       "      <td>-7.338208</td>\n",
       "      <td>30.230072</td>\n",
       "      <td>86.414130</td>\n",
       "      <td>2019-06-08 16:00:00</td>\n",
       "      <td>25.743805</td>\n",
       "      <td>78.338849</td>\n",
       "      <td>2019-06-08 22:00:00</td>\n",
       "      <td>0 days 04:00:00</td>\n",
       "      <td>0 days 11:00:01</td>\n",
       "    </tr>\n",
       "    <tr>\n",
       "      <th>1</th>\n",
       "      <td>33.750</td>\n",
       "      <td>92.750</td>\n",
       "      <td>25.125</td>\n",
       "      <td>77.225</td>\n",
       "      <td>26.792572</td>\n",
       "      <td>80.226630</td>\n",
       "      <td>27.670563</td>\n",
       "      <td>81.807013</td>\n",
       "      <td>6.957428</td>\n",
       "      <td>12.523370</td>\n",
       "      <td>-2.545563</td>\n",
       "      <td>-4.582013</td>\n",
       "      <td>28.871124</td>\n",
       "      <td>83.968024</td>\n",
       "      <td>2019-06-09 16:00:00</td>\n",
       "      <td>26.113495</td>\n",
       "      <td>79.004291</td>\n",
       "      <td>2019-06-09 11:00:00</td>\n",
       "      <td>0 days 04:00:00</td>\n",
       "      <td>0 days 10:00:00</td>\n",
       "    </tr>\n",
       "    <tr>\n",
       "      <th>2</th>\n",
       "      <td>38.500</td>\n",
       "      <td>101.300</td>\n",
       "      <td>23.250</td>\n",
       "      <td>73.850</td>\n",
       "      <td>26.699921</td>\n",
       "      <td>80.059857</td>\n",
       "      <td>26.314667</td>\n",
       "      <td>79.366400</td>\n",
       "      <td>11.800079</td>\n",
       "      <td>21.240143</td>\n",
       "      <td>-3.064667</td>\n",
       "      <td>-5.516400</td>\n",
       "      <td>29.251984</td>\n",
       "      <td>84.653571</td>\n",
       "      <td>2019-06-10 19:00:00</td>\n",
       "      <td>25.005402</td>\n",
       "      <td>77.009723</td>\n",
       "      <td>2019-06-10 09:00:00</td>\n",
       "      <td>0 days 03:00:00</td>\n",
       "      <td>0 days 02:00:00</td>\n",
       "    </tr>\n",
       "    <tr>\n",
       "      <th>3</th>\n",
       "      <td>40.750</td>\n",
       "      <td>105.350</td>\n",
       "      <td>24.250</td>\n",
       "      <td>75.650</td>\n",
       "      <td>27.057831</td>\n",
       "      <td>80.704095</td>\n",
       "      <td>26.604706</td>\n",
       "      <td>79.888470</td>\n",
       "      <td>13.692169</td>\n",
       "      <td>24.645905</td>\n",
       "      <td>-2.354706</td>\n",
       "      <td>-4.238470</td>\n",
       "      <td>30.506561</td>\n",
       "      <td>86.911810</td>\n",
       "      <td>2019-06-11 18:00:00</td>\n",
       "      <td>25.968292</td>\n",
       "      <td>78.742926</td>\n",
       "      <td>2019-06-11 09:00:00</td>\n",
       "      <td>0 days 06:00:00</td>\n",
       "      <td>0 days 06:00:00</td>\n",
       "    </tr>\n",
       "    <tr>\n",
       "      <th>4</th>\n",
       "      <td>40.250</td>\n",
       "      <td>104.450</td>\n",
       "      <td>24.875</td>\n",
       "      <td>76.775</td>\n",
       "      <td>26.922882</td>\n",
       "      <td>80.461188</td>\n",
       "      <td>26.931915</td>\n",
       "      <td>80.477448</td>\n",
       "      <td>13.327118</td>\n",
       "      <td>23.988812</td>\n",
       "      <td>-2.056915</td>\n",
       "      <td>-3.702448</td>\n",
       "      <td>30.096771</td>\n",
       "      <td>86.174188</td>\n",
       "      <td>2019-06-12 18:00:00</td>\n",
       "      <td>26.637909</td>\n",
       "      <td>79.948236</td>\n",
       "      <td>2019-06-12 08:00:00</td>\n",
       "      <td>0 days 07:00:01</td>\n",
       "      <td>0 days 04:00:00</td>\n",
       "    </tr>\n",
       "    <tr>\n",
       "      <th>...</th>\n",
       "      <td>...</td>\n",
       "      <td>...</td>\n",
       "      <td>...</td>\n",
       "      <td>...</td>\n",
       "      <td>...</td>\n",
       "      <td>...</td>\n",
       "      <td>...</td>\n",
       "      <td>...</td>\n",
       "      <td>...</td>\n",
       "      <td>...</td>\n",
       "      <td>...</td>\n",
       "      <td>...</td>\n",
       "      <td>...</td>\n",
       "      <td>...</td>\n",
       "      <td>...</td>\n",
       "      <td>...</td>\n",
       "      <td>...</td>\n",
       "      <td>...</td>\n",
       "      <td>...</td>\n",
       "      <td>...</td>\n",
       "    </tr>\n",
       "    <tr>\n",
       "      <th>81</th>\n",
       "      <td>40.750</td>\n",
       "      <td>105.350</td>\n",
       "      <td>24.625</td>\n",
       "      <td>76.325</td>\n",
       "      <td>28.515808</td>\n",
       "      <td>83.328455</td>\n",
       "      <td>26.947937</td>\n",
       "      <td>80.506287</td>\n",
       "      <td>12.234192</td>\n",
       "      <td>22.021545</td>\n",
       "      <td>-2.322937</td>\n",
       "      <td>-4.181287</td>\n",
       "      <td>31.926544</td>\n",
       "      <td>89.467780</td>\n",
       "      <td>2019-08-28 19:00:00</td>\n",
       "      <td>26.544891</td>\n",
       "      <td>79.780804</td>\n",
       "      <td>2019-08-28 11:00:00</td>\n",
       "      <td>0 days 05:00:01</td>\n",
       "      <td>0 days 05:00:00</td>\n",
       "    </tr>\n",
       "    <tr>\n",
       "      <th>82</th>\n",
       "      <td>41.375</td>\n",
       "      <td>106.475</td>\n",
       "      <td>24.750</td>\n",
       "      <td>76.550</td>\n",
       "      <td>27.561676</td>\n",
       "      <td>81.611017</td>\n",
       "      <td>27.436249</td>\n",
       "      <td>81.385248</td>\n",
       "      <td>13.813324</td>\n",
       "      <td>24.863983</td>\n",
       "      <td>-2.686249</td>\n",
       "      <td>-4.835248</td>\n",
       "      <td>29.879425</td>\n",
       "      <td>85.782965</td>\n",
       "      <td>2019-08-29 16:00:00</td>\n",
       "      <td>26.211426</td>\n",
       "      <td>79.180566</td>\n",
       "      <td>2019-08-29 08:00:00</td>\n",
       "      <td>0 days 03:00:00</td>\n",
       "      <td>0 days 04:00:00</td>\n",
       "    </tr>\n",
       "    <tr>\n",
       "      <th>83</th>\n",
       "      <td>35.000</td>\n",
       "      <td>95.000</td>\n",
       "      <td>23.875</td>\n",
       "      <td>74.975</td>\n",
       "      <td>27.451202</td>\n",
       "      <td>81.412164</td>\n",
       "      <td>26.376740</td>\n",
       "      <td>79.478131</td>\n",
       "      <td>7.548798</td>\n",
       "      <td>13.587836</td>\n",
       "      <td>-2.501740</td>\n",
       "      <td>-4.503131</td>\n",
       "      <td>29.632477</td>\n",
       "      <td>85.338458</td>\n",
       "      <td>2019-08-30 22:00:00</td>\n",
       "      <td>26.315643</td>\n",
       "      <td>79.368158</td>\n",
       "      <td>2019-08-30 07:00:00</td>\n",
       "      <td>0 days 08:00:01</td>\n",
       "      <td>0 days 00:59:59</td>\n",
       "    </tr>\n",
       "    <tr>\n",
       "      <th>84</th>\n",
       "      <td>36.500</td>\n",
       "      <td>97.700</td>\n",
       "      <td>26.750</td>\n",
       "      <td>80.150</td>\n",
       "      <td>28.057770</td>\n",
       "      <td>82.503986</td>\n",
       "      <td>27.519745</td>\n",
       "      <td>81.535541</td>\n",
       "      <td>8.442230</td>\n",
       "      <td>15.196014</td>\n",
       "      <td>-0.769745</td>\n",
       "      <td>-1.385541</td>\n",
       "      <td>29.950867</td>\n",
       "      <td>85.911560</td>\n",
       "      <td>2019-08-31 22:00:00</td>\n",
       "      <td>27.061188</td>\n",
       "      <td>80.710138</td>\n",
       "      <td>2019-08-31 04:00:00</td>\n",
       "      <td>0 days 09:00:00</td>\n",
       "      <td>0 days 03:59:59</td>\n",
       "    </tr>\n",
       "    <tr>\n",
       "      <th>85</th>\n",
       "      <td>27.500</td>\n",
       "      <td>81.500</td>\n",
       "      <td>27.500</td>\n",
       "      <td>81.500</td>\n",
       "      <td>28.551605</td>\n",
       "      <td>83.392889</td>\n",
       "      <td>28.551605</td>\n",
       "      <td>83.392889</td>\n",
       "      <td>-1.051605</td>\n",
       "      <td>-1.892889</td>\n",
       "      <td>-1.051605</td>\n",
       "      <td>-1.892889</td>\n",
       "      <td>30.666718</td>\n",
       "      <td>87.200092</td>\n",
       "      <td>2019-09-01 17:00:00</td>\n",
       "      <td>26.167084</td>\n",
       "      <td>79.100751</td>\n",
       "      <td>2019-09-01 10:00:00</td>\n",
       "      <td>0 days 17:00:00</td>\n",
       "      <td>0 days 10:00:00</td>\n",
       "    </tr>\n",
       "  </tbody>\n",
       "</table>\n",
       "<p>86 rows × 20 columns</p>\n",
       "</div>"
      ],
      "text/plain": [
       "    ShadingDade_Temperature_Daily_Max (C)  \\\n",
       "0                                  34.875   \n",
       "1                                  33.750   \n",
       "2                                  38.500   \n",
       "3                                  40.750   \n",
       "4                                  40.250   \n",
       "..                                    ...   \n",
       "81                                 40.750   \n",
       "82                                 41.375   \n",
       "83                                 35.000   \n",
       "84                                 36.500   \n",
       "85                                 27.500   \n",
       "\n",
       "    ShadingDade_Temperature_Daily_Max (F)  \\\n",
       "0                                  94.775   \n",
       "1                                  92.750   \n",
       "2                                 101.300   \n",
       "3                                 105.350   \n",
       "4                                 104.450   \n",
       "..                                    ...   \n",
       "81                                105.350   \n",
       "82                                106.475   \n",
       "83                                 95.000   \n",
       "84                                 97.700   \n",
       "85                                 81.500   \n",
       "\n",
       "    ShadingDade_Temperature_Daily_Min (C)  \\\n",
       "0                                  23.000   \n",
       "1                                  25.125   \n",
       "2                                  23.250   \n",
       "3                                  24.250   \n",
       "4                                  24.875   \n",
       "..                                    ...   \n",
       "81                                 24.625   \n",
       "82                                 24.750   \n",
       "83                                 23.875   \n",
       "84                                 26.750   \n",
       "85                                 27.500   \n",
       "\n",
       "    ShadingDade_Temperature_Daily_Min (F)  \\\n",
       "0                                  73.400   \n",
       "1                                  77.225   \n",
       "2                                  73.850   \n",
       "3                                  75.650   \n",
       "4                                  76.775   \n",
       "..                                    ...   \n",
       "81                                 76.325   \n",
       "82                                 76.550   \n",
       "83                                 74.975   \n",
       "84                                 80.150   \n",
       "85                                 81.500   \n",
       "\n",
       "    ERA5_Corresponding_Temperature_During_ShadingDade_Daily_Max (C)  \\\n",
       "0                                           27.618988                 \n",
       "1                                           26.792572                 \n",
       "2                                           26.699921                 \n",
       "3                                           27.057831                 \n",
       "4                                           26.922882                 \n",
       "..                                                ...                 \n",
       "81                                          28.515808                 \n",
       "82                                          27.561676                 \n",
       "83                                          27.451202                 \n",
       "84                                          28.057770                 \n",
       "85                                          28.551605                 \n",
       "\n",
       "    ERA5_Corresponding_Temperature_During_ShadingDade_Daily_Max (F)  \\\n",
       "0                                           81.714178                 \n",
       "1                                           80.226630                 \n",
       "2                                           80.059857                 \n",
       "3                                           80.704095                 \n",
       "4                                           80.461188                 \n",
       "..                                                ...                 \n",
       "81                                          83.328455                 \n",
       "82                                          81.611017                 \n",
       "83                                          81.412164                 \n",
       "84                                          82.503986                 \n",
       "85                                          83.392889                 \n",
       "\n",
       "    ERA5_Corresponding_Temperature_During_ShadingDade_Daily_Min (C)  \\\n",
       "0                                           27.076782                 \n",
       "1                                           27.670563                 \n",
       "2                                           26.314667                 \n",
       "3                                           26.604706                 \n",
       "4                                           26.931915                 \n",
       "..                                                ...                 \n",
       "81                                          26.947937                 \n",
       "82                                          27.436249                 \n",
       "83                                          26.376740                 \n",
       "84                                          27.519745                 \n",
       "85                                          28.551605                 \n",
       "\n",
       "    ERA5_Corresponding_Temperature_During_ShadingDade_Daily_Min (F)  \\\n",
       "0                                           80.738208                 \n",
       "1                                           81.807013                 \n",
       "2                                           79.366400                 \n",
       "3                                           79.888470                 \n",
       "4                                           80.477448                 \n",
       "..                                                ...                 \n",
       "81                                          80.506287                 \n",
       "82                                          81.385248                 \n",
       "83                                          79.478131                 \n",
       "84                                          81.535541                 \n",
       "85                                          83.392889                 \n",
       "\n",
       "    Daily_Temperature_Max_Difference (C)  \\\n",
       "0                               7.256012   \n",
       "1                               6.957428   \n",
       "2                              11.800079   \n",
       "3                              13.692169   \n",
       "4                              13.327118   \n",
       "..                                   ...   \n",
       "81                             12.234192   \n",
       "82                             13.813324   \n",
       "83                              7.548798   \n",
       "84                              8.442230   \n",
       "85                             -1.051605   \n",
       "\n",
       "    Daily_Temperature_Max_Difference (F)  \\\n",
       "0                              13.060822   \n",
       "1                              12.523370   \n",
       "2                              21.240143   \n",
       "3                              24.645905   \n",
       "4                              23.988812   \n",
       "..                                   ...   \n",
       "81                             22.021545   \n",
       "82                             24.863983   \n",
       "83                             13.587836   \n",
       "84                             15.196014   \n",
       "85                             -1.892889   \n",
       "\n",
       "    Daily_Temperature_Min_Difference (C)  \\\n",
       "0                              -4.076782   \n",
       "1                              -2.545563   \n",
       "2                              -3.064667   \n",
       "3                              -2.354706   \n",
       "4                              -2.056915   \n",
       "..                                   ...   \n",
       "81                             -2.322937   \n",
       "82                             -2.686249   \n",
       "83                             -2.501740   \n",
       "84                             -0.769745   \n",
       "85                             -1.051605   \n",
       "\n",
       "    Daily_Temperature_Min_Difference (F)  ERA5_Temperature_Daily_Max (C)  \\\n",
       "0                              -7.338208                       30.230072   \n",
       "1                              -4.582013                       28.871124   \n",
       "2                              -5.516400                       29.251984   \n",
       "3                              -4.238470                       30.506561   \n",
       "4                              -3.702448                       30.096771   \n",
       "..                                   ...                             ...   \n",
       "81                             -4.181287                       31.926544   \n",
       "82                             -4.835248                       29.879425   \n",
       "83                             -4.503131                       29.632477   \n",
       "84                             -1.385541                       29.950867   \n",
       "85                             -1.892889                       30.666718   \n",
       "\n",
       "    ERA5_Temperature_Daily_Max (F) ERA5_Temperature_Daily_Max_Datetime  \\\n",
       "0                        86.414130                 2019-06-08 16:00:00   \n",
       "1                        83.968024                 2019-06-09 16:00:00   \n",
       "2                        84.653571                 2019-06-10 19:00:00   \n",
       "3                        86.911810                 2019-06-11 18:00:00   \n",
       "4                        86.174188                 2019-06-12 18:00:00   \n",
       "..                             ...                                 ...   \n",
       "81                       89.467780                 2019-08-28 19:00:00   \n",
       "82                       85.782965                 2019-08-29 16:00:00   \n",
       "83                       85.338458                 2019-08-30 22:00:00   \n",
       "84                       85.911560                 2019-08-31 22:00:00   \n",
       "85                       87.200092                 2019-09-01 17:00:00   \n",
       "\n",
       "    ERA5_Temperature_Daily_Min (C)  ERA5_Temperature_Daily_Min (F)  \\\n",
       "0                        25.743805                       78.338849   \n",
       "1                        26.113495                       79.004291   \n",
       "2                        25.005402                       77.009723   \n",
       "3                        25.968292                       78.742926   \n",
       "4                        26.637909                       79.948236   \n",
       "..                             ...                             ...   \n",
       "81                       26.544891                       79.780804   \n",
       "82                       26.211426                       79.180566   \n",
       "83                       26.315643                       79.368158   \n",
       "84                       27.061188                       80.710138   \n",
       "85                       26.167084                       79.100751   \n",
       "\n",
       "   ERA5_Temperature_Daily_Min_Datetime  \\\n",
       "0                  2019-06-08 22:00:00   \n",
       "1                  2019-06-09 11:00:00   \n",
       "2                  2019-06-10 09:00:00   \n",
       "3                  2019-06-11 09:00:00   \n",
       "4                  2019-06-12 08:00:00   \n",
       "..                                 ...   \n",
       "81                 2019-08-28 11:00:00   \n",
       "82                 2019-08-29 08:00:00   \n",
       "83                 2019-08-30 07:00:00   \n",
       "84                 2019-08-31 04:00:00   \n",
       "85                 2019-09-01 10:00:00   \n",
       "\n",
       "   Absolute_time_difference_tmax_ERA5_ShadingDade (day H:M:S)  \\\n",
       "0                                     0 days 04:00:00           \n",
       "1                                     0 days 04:00:00           \n",
       "2                                     0 days 03:00:00           \n",
       "3                                     0 days 06:00:00           \n",
       "4                                     0 days 07:00:01           \n",
       "..                                                ...           \n",
       "81                                    0 days 05:00:01           \n",
       "82                                    0 days 03:00:00           \n",
       "83                                    0 days 08:00:01           \n",
       "84                                    0 days 09:00:00           \n",
       "85                                    0 days 17:00:00           \n",
       "\n",
       "   Absolute_time_difference_tmin_ERA5_ShadingDade (day H:M:S)  \n",
       "0                                     0 days 11:00:01          \n",
       "1                                     0 days 10:00:00          \n",
       "2                                     0 days 02:00:00          \n",
       "3                                     0 days 06:00:00          \n",
       "4                                     0 days 04:00:00          \n",
       "..                                                ...          \n",
       "81                                    0 days 05:00:00          \n",
       "82                                    0 days 04:00:00          \n",
       "83                                    0 days 00:59:59          \n",
       "84                                    0 days 03:59:59          \n",
       "85                                    0 days 10:00:00          \n",
       "\n",
       "[86 rows x 20 columns]"
      ]
     },
     "execution_count": 36,
     "metadata": {},
     "output_type": "execute_result"
    }
   ],
   "source": [
    "df_FINAL"
   ]
  },
  {
   "cell_type": "code",
   "execution_count": 39,
   "id": "214af602",
   "metadata": {},
   "outputs": [
    {
     "data": {
      "text/plain": [
       "array([[<AxesSubplot:title={'center':'ShadingDade_Temperature_Daily_Max (F)'}>]],\n",
       "      dtype=object)"
      ]
     },
     "execution_count": 39,
     "metadata": {},
     "output_type": "execute_result"
    },
    {
     "data": {
      "image/png": "[encoded data removed]",
      "text/plain": [
       "<Figure size 432x288 with 1 Axes>"
      ]
     },
     "metadata": {
      "needs_background": "light"
     },
     "output_type": "display_data"
    }
   ],
   "source": [
    "df_FINAL.hist('ShadingDade_Temperature_Daily_Max (F)', edgecolor='k', facecolor='salmon', bins=15)"
   ]
  },
  {
   "cell_type": "code",
   "execution_count": 40,
   "id": "680a483c",
   "metadata": {},
   "outputs": [
    {
     "data": {
      "text/plain": [
       "array([[<AxesSubplot:title={'center':'ERA5_Temperature_Daily_Max (F)'}>]],\n",
       "      dtype=object)"
      ]
     },
     "execution_count": 40,
     "metadata": {},
     "output_type": "execute_result"
    },
    {
     "data": {
      "image/png": "[encoded data removed]",
      "text/plain": [
       "<Figure size 432x288 with 1 Axes>"
      ]
     },
     "metadata": {
      "needs_background": "light"
     },
     "output_type": "display_data"
    }
   ],
   "source": [
    "df_FINAL.hist('ERA5_Temperature_Daily_Max (F)', edgecolor='k', facecolor='salmon', bins=15)"
   ]
  },
  {
   "cell_type": "code",
   "execution_count": 41,
   "id": "27e63c4a",
   "metadata": {},
   "outputs": [
    {
     "data": {
      "text/plain": [
       "array([[<AxesSubplot:title={'center':'ShadingDade_Temperature_Daily_Min (F)'}>]],\n",
       "      dtype=object)"
      ]
     },
     "execution_count": 41,
     "metadata": {},
     "output_type": "execute_result"
    },
    {
     "data": {
      "image/png": "[encoded data removed]",
      "text/plain": [
       "<Figure size 432x288 with 1 Axes>"
      ]
     },
     "metadata": {
      "needs_background": "light"
     },
     "output_type": "display_data"
    }
   ],
   "source": [
    "df_FINAL.hist('ShadingDade_Temperature_Daily_Min (F)', edgecolor='k', facecolor='salmon', bins=15)"
   ]
  },
  {
   "cell_type": "code",
   "execution_count": 42,
   "id": "90a2ab9f",
   "metadata": {},
   "outputs": [
    {
     "data": {
      "text/plain": [
       "array([[<AxesSubplot:title={'center':'ERA5_Temperature_Daily_Min (F)'}>]],\n",
       "      dtype=object)"
      ]
     },
     "execution_count": 42,
     "metadata": {},
     "output_type": "execute_result"
    },
    {
     "data": {
      "image/png": "[encoded data removed]",
      "text/plain": [
       "<Figure size 432x288 with 1 Axes>"
      ]
     },
     "metadata": {
      "needs_background": "light"
     },
     "output_type": "display_data"
    }
   ],
   "source": [
    "df_FINAL.hist('ERA5_Temperature_Daily_Min (F)', edgecolor='k', facecolor='salmon', bins=15)"
   ]
  },
  {
   "cell_type": "markdown",
   "id": "19cdaa09",
   "metadata": {},
   "source": [
    "### save csv file"
   ]
  },
  {
   "cell_type": "code",
   "execution_count": 44,
   "id": "c4df89cf",
   "metadata": {},
   "outputs": [],
   "source": [
    "df_FINAL.to_csv('/Users/molina/Desktop/ShadingDade_ERA5_Temperature.csv')"
   ]
  },
  {
   "cell_type": "code",
   "execution_count": null,
   "id": "6a91e839",
   "metadata": {},
   "outputs": [],
   "source": []
  }
 ],
 "metadata": {
  "kernelspec": {
   "display_name": "Python 3",
   "language": "python",
   "name": "python3"
  },
  "language_info": {
   "codemirror_mode": {
    "name": "ipython",
    "version": 3
   },
   "file_extension": ".py",
   "mimetype": "text/x-python",
   "name": "python",
   "nbconvert_exporter": "python",
   "pygments_lexer": "ipython3",
   "version": "3.8.10"
  }
 },
 "nbformat": 4,
 "nbformat_minor": 5
}
