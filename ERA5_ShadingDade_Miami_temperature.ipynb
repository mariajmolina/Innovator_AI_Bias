{
 "cells": [
  {
   "cell_type": "markdown",
   "id": "a675dd96",
   "metadata": {},
   "source": [
    "# NCAR Innovator Program Project\n",
    "\n",
    "### Notebook by: Maria J. Molina (NCAR/University of Maryland) and Jessica Moulite (Howard University)"
   ]
  },
  {
   "cell_type": "markdown",
   "id": "cc7a8897",
   "metadata": {},
   "source": [
    "Import packages"
   ]
  },
  {
   "cell_type": "code",
   "execution_count": 1,
   "id": "2a43e247",
   "metadata": {},
   "outputs": [],
   "source": [
    "import datetime\n",
    "import numpy as np\n",
    "import pandas as pd\n",
    "import xarray as xr\n",
    "import matplotlib.pyplot as plt"
   ]
  },
  {
   "cell_type": "code",
   "execution_count": 2,
   "id": "a7f1ecfc",
   "metadata": {},
   "outputs": [],
   "source": [
    "def cel_to_far(tmp):\n",
    "    \"\"\"\n",
    "    Convert celsius to farenheit\n",
    "    \"\"\"\n",
    "    newtmp = []\n",
    "    for i in tmp:\n",
    "        if i == 99.9:\n",
    "            newtmp.append(np.nan)\n",
    "        if i != 99.9:\n",
    "            newtmp.append((i * (9/5)) + 32)\n",
    "    return np.array(newtmp)\n",
    "\n",
    "\n",
    "def cel_to_nan(tmp):\n",
    "    \"\"\"\n",
    "    Change 9999 to np.nan\n",
    "    \"\"\"\n",
    "    newtmp = []\n",
    "    for i in tmp:\n",
    "        if i == 99.9:\n",
    "            newtmp.append(np.nan)\n",
    "        if i != 99.9:\n",
    "            newtmp.append(i)\n",
    "    return np.array(newtmp)\n",
    "\n",
    "\n",
    "def convert_to_datetime(time_value):\n",
    "    \"\"\"\n",
    "    Convert to a datetime object to be able to compute time difference.\n",
    "    \"\"\"\n",
    "    return datetime.datetime(\n",
    "        pd.to_datetime(time_value).year,\n",
    "        pd.to_datetime(time_value).month,\n",
    "        pd.to_datetime(time_value).day,\n",
    "        pd.to_datetime(time_value).hour,\n",
    "        pd.to_datetime(time_value).minute,\n",
    "        pd.to_datetime(time_value).second,\n",
    "    )\n",
    "\n",
    "\n",
    "def compute_time_difference(a, b):\n",
    "    \"\"\"\n",
    "    Compute time difference between two times.\n",
    "    \"\"\"\n",
    "    if a >= b:\n",
    "        return convert_to_datetime(a) - convert_to_datetime(b)\n",
    "    if b > a:\n",
    "        return convert_to_datetime(b) - convert_to_datetime(a)\n",
    "    \n",
    "    \n",
    "def extract_era5_time(t_daily, t_full):\n",
    "    \"\"\"\n",
    "    Extract the era5 temperature corresponding time.\n",
    "    \"\"\"\n",
    "    era5_time_array = []\n",
    "    \n",
    "    for i, j in zip(t_daily.time, t_daily):\n",
    "        \n",
    "        tmp = t_full.sel(\n",
    "            time=slice(i, pd.to_datetime(i.values) + datetime.timedelta(hours=23)))\n",
    "        \n",
    "        era5_time_array.append(tmp.where(tmp == j, drop=True).time.values)\n",
    "        \n",
    "    return era5_time_array"
   ]
  },
  {
   "cell_type": "markdown",
   "id": "9cb35981",
   "metadata": {},
   "source": [
    "### load in our csv file with temperatures from Shading Dade"
   ]
  },
  {
   "cell_type": "code",
   "execution_count": 3,
   "id": "550ce141",
   "metadata": {},
   "outputs": [],
   "source": [
    "Shading_dade_temp = pd.read_csv('/Users/molina/Desktop/ShadingDade_NOAA_KMIA_Temperature.csv')"
   ]
  },
  {
   "cell_type": "code",
   "execution_count": 4,
   "id": "6befb4e3",
   "metadata": {},
   "outputs": [
    {
     "data": {
      "text/plain": [
       "Index(['Datetime', 'ShadingDade_Temperature_Daily_Max (C)',\n",
       "       'ShadingDade_Temperature_Daily_Min (C)',\n",
       "       'NOAA_KMIA_Temperature_Daily_Max (C)',\n",
       "       'NOAA_KMIA_Temperature_Daily_Min (C)',\n",
       "       'ShadingDade_Temperature_Daily_Max (F)',\n",
       "       'ShadingDade_Temperature_Daily_Min (F)',\n",
       "       'NOAA_KMIA_Temperature_Daily_Max (F)',\n",
       "       'NOAA_KMIA_Temperature_Daily_Min (F)',\n",
       "       'Daily_Temperature_Max_Difference (C)',\n",
       "       'Daily_Temperature_Min_Difference (C)',\n",
       "       'Daily_Temperature_Max_Difference (F)',\n",
       "       'Daily_Temperature_Min_Difference (F)',\n",
       "       'Corresponding_Datetime_ShadingDade_DailyMax',\n",
       "       'Corresponding_Datetime_ShadingDade_DailyMin',\n",
       "       'Corresponding_Datetime_NOAA_KMIA_DailyMax',\n",
       "       'Corresponding_Datetime_NOAA_KMIA_DailyMin',\n",
       "       'Corresponding_Datetime_NOAA_KMIA_DailyMax_Difference (C)',\n",
       "       'Corresponding_Datetime_NOAA_KMIA_DailyMax_Difference (F)',\n",
       "       'Corresponding_Datetime_NOAA_KMIA_DailyMin_Difference (C)',\n",
       "       'Corresponding_Datetime_NOAA_KMIA_DailyMin_Difference (F)',\n",
       "       'Corresponding_Datetime_ShadingDade_DailyMax_Difference (C)',\n",
       "       'Corresponding_Datetime_ShadingDade_DailyMax_Difference (F)',\n",
       "       'Corresponding_Datetime_ShadingDade_DailyMin_Difference (C)',\n",
       "       'Corresponding_Datetime_ShadingDade_DailyMin_Difference (F)',\n",
       "       'NOAA_Corresponding_Temperature_During_ShadingDade_DailyMax (C)',\n",
       "       'NOAA_Corresponding_Temperature_During_ShadingDade_DailyMin (C)',\n",
       "       'ShadingDade_Corresponding_Temperature_During_NOAA_DailyMax (C)',\n",
       "       'ShadingDade_Corresponding_Temperature_During_NOAA_DailyMin (C)',\n",
       "       'NOAA_Corresponding_Temperature_During_ShadingDade_DailyMax (F)',\n",
       "       'NOAA_Corresponding_Temperature_During_ShadingDade_DailyMin (F)',\n",
       "       'ShadingDade_Corresponding_Temperature_During_NOAA_DailyMax (F)',\n",
       "       'ShadingDade_Corresponding_Temperature_During_NOAA_DailyMin (F)',\n",
       "       'Absolute_time_difference_tmax_NOAA_ShadingDade (day H:M:S)',\n",
       "       'Absolute_time_difference_tmin_NOAA_ShadingDade (day H:M:S)'],\n",
       "      dtype='object')"
      ]
     },
     "execution_count": 4,
     "metadata": {},
     "output_type": "execute_result"
    }
   ],
   "source": [
    "Shading_dade_temp.columns"
   ]
  },
  {
   "cell_type": "code",
   "execution_count": 5,
   "id": "8a4dd8a5",
   "metadata": {},
   "outputs": [],
   "source": [
    "# location of little haiti temperature sensor\n",
    "SD_latitude  = 25.8436392\n",
    "SD_longitude = -80.1816499 % 360"
   ]
  },
  {
   "cell_type": "code",
   "execution_count": 6,
   "id": "c4248fa9",
   "metadata": {},
   "outputs": [],
   "source": [
    "alltmaxtimes = pd.to_datetime(Shading_dade_temp['Corresponding_Datetime_ShadingDade_DailyMax'].values)"
   ]
  },
  {
   "cell_type": "code",
   "execution_count": 7,
   "id": "73eecc89",
   "metadata": {},
   "outputs": [],
   "source": [
    "# separate by month for easier ERA5 manipulation\n",
    "jun_tmaxtimes = alltmaxtimes[alltmaxtimes.month == 6]\n",
    "jul_tmaxtimes = alltmaxtimes[alltmaxtimes.month == 7]\n",
    "aug_tmaxtimes = alltmaxtimes[alltmaxtimes.month == 8]"
   ]
  },
  {
   "cell_type": "code",
   "execution_count": 8,
   "id": "1d4a9877",
   "metadata": {},
   "outputs": [],
   "source": [
    "alltmintimes = pd.to_datetime(Shading_dade_temp['Corresponding_Datetime_ShadingDade_DailyMin'].values)"
   ]
  },
  {
   "cell_type": "code",
   "execution_count": 9,
   "id": "0a69f3e2",
   "metadata": {},
   "outputs": [],
   "source": [
    "jun_tmintimes = alltmintimes[alltmintimes.month == 6]\n",
    "jul_tmintimes = alltmintimes[alltmintimes.month == 7]\n",
    "aug_tmintimes = alltmintimes[alltmintimes.month == 8]"
   ]
  },
  {
   "cell_type": "markdown",
   "id": "5ba42d8b",
   "metadata": {},
   "source": [
    "### ERA5 work"
   ]
  },
  {
   "cell_type": "markdown",
   "id": "f11a1573",
   "metadata": {},
   "source": [
    "Download source for ERA5: https://rda.ucar.edu/datasets/ds633.0/\n",
    "\n",
    "ERA5 (ECMWF -- European Centre for Medium-Range Weather Forecasts -- fifth reanalysis) reference: https://rmets.onlinelibrary.wiley.com/doi/full/10.1002/qj.3803"
   ]
  },
  {
   "cell_type": "code",
   "execution_count": 10,
   "id": "de896933",
   "metadata": {},
   "outputs": [],
   "source": [
    "# open files\n",
    "ds_jun = xr.open_dataset(\n",
    "    '/Users/molina/Desktop/e5.oper.an.sfc.128_167_2t.ll025sc.2019060100_2019063023.nc')['VAR_2T']\n",
    "ds_jul = xr.open_dataset(\n",
    "    '/Users/molina/Desktop/e5.oper.an.sfc.128_167_2t.ll025sc.2019070100_2019073123.nc')['VAR_2T']\n",
    "ds_aug = xr.open_dataset(\n",
    "    '/Users/molina/Desktop/e5.oper.an.sfc.128_167_2t.ll025sc.2019080100_2019083123.nc')['VAR_2T']"
   ]
  },
  {
   "cell_type": "code",
   "execution_count": 11,
   "id": "cb28c78d",
   "metadata": {},
   "outputs": [
    {
     "data": {
      "image/png": "[encoded data removed]",
      "text/plain": [
       "<Figure size 864x720 with 1 Axes>"
      ]
     },
     "metadata": {
      "needs_background": "light"
     },
     "output_type": "display_data"
    }
   ],
   "source": [
    "fig, ax = plt.subplots(figsize=(12,10))\n",
    "\n",
    "(ds_jul.isel(time=20)-273).sel(latitude=slice(32,22), longitude=slice(272,285)).plot.pcolormesh(\n",
    "      cmap='viridis', ax=ax, add_colorbar=False)\n",
    "\n",
    "ax.set_title('ERA5: 2019-07-01 at 4pm ET', fontsize=20)\n",
    "ax.set_xlabel('Longitude', fontsize=18)\n",
    "ax.set_ylabel('Latitude', fontsize=18)\n",
    "\n",
    "ax.set_yticks([22,24,26,28,30,32])\n",
    "ax.set_yticklabels([22,24,26,28,30,32], fontsize=16)\n",
    "\n",
    "ax.set_xticks([272,274,276,278,280,282,284])\n",
    "ax.set_xticklabels([272-360,274-360,276-360,278-360,280-360,282-360,284-360], fontsize=16)\n",
    "\n",
    "plt.tight_layout()\n",
    "plt.savefig('/Users/molina/Desktop/era5_samplegrid.png', dpi=500)\n",
    "plt.show()"
   ]
  },
  {
   "cell_type": "markdown",
   "id": "8471a683",
   "metadata": {},
   "source": [
    "### ERA5 temperature during the Shading Dade daily maximum (2019)"
   ]
  },
  {
   "cell_type": "code",
   "execution_count": 12,
   "id": "eda490aa",
   "metadata": {},
   "outputs": [],
   "source": [
    "# using max times from previous analysis\n",
    "era5_temp_corresponding_sdmax_jun = ds_jun.sel(\n",
    "    longitude=SD_longitude, latitude=SD_latitude, time = jun_tmaxtimes, method='nearest') - 273.15\n",
    "era5_temp_corresponding_sdmax_jul = ds_jul.sel(\n",
    "    longitude=SD_longitude, latitude=SD_latitude, time = jul_tmaxtimes, method='nearest') - 273.15\n",
    "era5_temp_corresponding_sdmax_aug = ds_aug.sel(\n",
    "    longitude=SD_longitude, latitude=SD_latitude, time = aug_tmaxtimes, method='nearest') - 273.15"
   ]
  },
  {
   "cell_type": "code",
   "execution_count": 13,
   "id": "b26cc08b",
   "metadata": {},
   "outputs": [],
   "source": [
    "# concat all era5 times\n",
    "era5_temp_corresponding_sdmax = xr.concat([\n",
    "    era5_temp_corresponding_sdmax_jun,\n",
    "    era5_temp_corresponding_sdmax_jul,\n",
    "    era5_temp_corresponding_sdmax_aug,\n",
    "], dim='time')"
   ]
  },
  {
   "cell_type": "markdown",
   "id": "0c14745f",
   "metadata": {},
   "source": [
    "### differences (temperature)"
   ]
  },
  {
   "cell_type": "code",
   "execution_count": 14,
   "id": "11ec90d5",
   "metadata": {},
   "outputs": [],
   "source": [
    "# check data lengths\n",
    "assert len(\n",
    "    Shading_dade_temp['ShadingDade_Temperature_Daily_Max (C)']) == len(\n",
    "    era5_temp_corresponding_sdmax.values)"
   ]
  },
  {
   "cell_type": "code",
   "execution_count": 15,
   "id": "34651820",
   "metadata": {},
   "outputs": [],
   "source": [
    "# difference between shading dade temperature maximum and the era5 corresponding temperature at that time (C)\n",
    "tmax_daily_difference_C = Shading_dade_temp[\n",
    "    'ShadingDade_Temperature_Daily_Max (C)'] - era5_temp_corresponding_sdmax.values"
   ]
  },
  {
   "cell_type": "code",
   "execution_count": 16,
   "id": "4d29ccf2",
   "metadata": {},
   "outputs": [],
   "source": [
    "# difference between shading dade temperature maximum and the era5 corresponding temperature at that time (F)\n",
    "tmax_daily_difference_F = Shading_dade_temp['ShadingDade_Temperature_Daily_Max (F)'] - cel_to_far(\n",
    "    era5_temp_corresponding_sdmax.values)"
   ]
  },
  {
   "cell_type": "markdown",
   "id": "c463456c",
   "metadata": {},
   "source": [
    "### ERA5 temperature during the Shading Dade daily minimum (2019)"
   ]
  },
  {
   "cell_type": "code",
   "execution_count": 17,
   "id": "1e240b74",
   "metadata": {},
   "outputs": [],
   "source": [
    "era5_temp_corresponding_sdmin_jun = ds_jun.sel(\n",
    "    longitude=SD_longitude, latitude=SD_latitude, time = jun_tmintimes, method='nearest') - 273.15\n",
    "era5_temp_corresponding_sdmin_jul = ds_jul.sel(\n",
    "    longitude=SD_longitude, latitude=SD_latitude, time = jul_tmintimes, method='nearest') - 273.15\n",
    "era5_temp_corresponding_sdmin_aug = ds_aug.sel(\n",
    "    longitude=SD_longitude, latitude=SD_latitude, time = aug_tmintimes, method='nearest') - 273.15"
   ]
  },
  {
   "cell_type": "code",
   "execution_count": 18,
   "id": "a046fe90",
   "metadata": {},
   "outputs": [],
   "source": [
    "era5_temp_corresponding_sdmin = xr.concat([\n",
    "    era5_temp_corresponding_sdmin_jun,\n",
    "    era5_temp_corresponding_sdmin_jul,\n",
    "    era5_temp_corresponding_sdmin_aug,\n",
    "], dim='time')"
   ]
  },
  {
   "cell_type": "markdown",
   "id": "d811b01c",
   "metadata": {},
   "source": [
    "### differences"
   ]
  },
  {
   "cell_type": "code",
   "execution_count": 19,
   "id": "692c4997",
   "metadata": {},
   "outputs": [],
   "source": [
    "# check data lengths\n",
    "assert len(\n",
    "    Shading_dade_temp['ShadingDade_Temperature_Daily_Min (C)']) == len(\n",
    "    era5_temp_corresponding_sdmin.values)"
   ]
  },
  {
   "cell_type": "code",
   "execution_count": 20,
   "id": "a0db7250",
   "metadata": {},
   "outputs": [],
   "source": [
    "# difference between shading dade temperature minimum and the era5 corresponding temperature at that time (C)\n",
    "tmin_daily_difference_C = Shading_dade_temp[\n",
    "    'ShadingDade_Temperature_Daily_Min (C)'] - era5_temp_corresponding_sdmin.values"
   ]
  },
  {
   "cell_type": "code",
   "execution_count": 21,
   "id": "34e020b7",
   "metadata": {},
   "outputs": [],
   "source": [
    "# difference between shading dade temperature minimum and the era5 corresponding temperature at that time (F)\n",
    "tmin_daily_difference_F = Shading_dade_temp['ShadingDade_Temperature_Daily_Min (F)'] - cel_to_far(\n",
    "    era5_temp_corresponding_sdmin.values)"
   ]
  },
  {
   "cell_type": "markdown",
   "id": "e8b305da",
   "metadata": {},
   "source": [
    "### ERA5 daily temperature maximum (2019)"
   ]
  },
  {
   "cell_type": "code",
   "execution_count": 22,
   "id": "8a518e43",
   "metadata": {},
   "outputs": [],
   "source": [
    "# grab all temps in the nearest grid cell\n",
    "era5_temp_jun = ds_jun.sel(\n",
    "    longitude=SD_longitude, latitude=SD_latitude, method='nearest') - 273.15\n",
    "era5_temp_jul = ds_jul.sel(\n",
    "    longitude=SD_longitude, latitude=SD_latitude, method='nearest') - 273.15\n",
    "era5_temp_aug = ds_aug.sel(\n",
    "    longitude=SD_longitude, latitude=SD_latitude, method='nearest') - 273.15"
   ]
  },
  {
   "cell_type": "code",
   "execution_count": 23,
   "id": "e6c8f8c0",
   "metadata": {},
   "outputs": [],
   "source": [
    "# compute daily maxs\n",
    "era5_tmax_jun = era5_temp_jun.resample(time='D').max()\n",
    "era5_tmax_jul = era5_temp_jul.resample(time='D').max()\n",
    "era5_tmax_aug = era5_temp_aug.resample(time='D').max()"
   ]
  },
  {
   "cell_type": "code",
   "execution_count": 24,
   "id": "416b6a13",
   "metadata": {},
   "outputs": [],
   "source": [
    "era5_tmax = xr.concat([\n",
    "    era5_tmax_jun,\n",
    "    era5_tmax_jul,\n",
    "    era5_tmax_aug,\n",
    "], dim='time')"
   ]
  },
  {
   "cell_type": "code",
   "execution_count": 25,
   "id": "f74e0e7c",
   "metadata": {},
   "outputs": [],
   "source": [
    "# slice to the date range of interest\n",
    "era5_tmax = era5_tmax.sel(time=slice(alltmaxtimes.date[0], alltmaxtimes.date[-1]))"
   ]
  },
  {
   "cell_type": "markdown",
   "id": "6773e82c",
   "metadata": {},
   "source": [
    "### ERA5 daily temperature minimum (2019)"
   ]
  },
  {
   "cell_type": "code",
   "execution_count": 26,
   "id": "1e7c4479",
   "metadata": {},
   "outputs": [],
   "source": [
    "# compute daily mins\n",
    "era5_tmin_jun = era5_temp_jun.resample(time='D').min()\n",
    "era5_tmin_jul = era5_temp_jul.resample(time='D').min()\n",
    "era5_tmin_aug = era5_temp_aug.resample(time='D').min()"
   ]
  },
  {
   "cell_type": "code",
   "execution_count": 27,
   "id": "de935a76",
   "metadata": {},
   "outputs": [],
   "source": [
    "era5_tmin = xr.concat([\n",
    "    era5_tmin_jun,\n",
    "    era5_tmin_jul,\n",
    "    era5_tmin_aug,\n",
    "], dim='time')"
   ]
  },
  {
   "cell_type": "code",
   "execution_count": 28,
   "id": "4838f947",
   "metadata": {},
   "outputs": [],
   "source": [
    "# slice to the date range of interest\n",
    "era5_tmin = era5_tmin.sel(time=slice(alltmintimes.date[0], alltmintimes.date[-1]))"
   ]
  },
  {
   "cell_type": "markdown",
   "id": "0b43ba18",
   "metadata": {},
   "source": [
    "### ERA5 daily temperature maximum time (2019)"
   ]
  },
  {
   "cell_type": "code",
   "execution_count": 29,
   "id": "883bb149",
   "metadata": {},
   "outputs": [],
   "source": [
    "# use func to grab the times of the max temps in era5\n",
    "era5_tmax_jun_time = extract_era5_time(era5_tmax_jun, era5_temp_jun)\n",
    "era5_tmax_jul_time = extract_era5_time(era5_tmax_jul, era5_temp_jul)\n",
    "era5_tmax_aug_time = extract_era5_time(era5_tmax_aug, era5_temp_aug)"
   ]
  },
  {
   "cell_type": "code",
   "execution_count": 30,
   "id": "411c330f",
   "metadata": {},
   "outputs": [],
   "source": [
    "# combine all times\n",
    "era5_tmax_all_time = pd.to_datetime(\n",
    "    np.vstack([era5_tmax_jun_time,\n",
    "               era5_tmax_jul_time,\n",
    "               era5_tmax_aug_time])[:,0])"
   ]
  },
  {
   "cell_type": "code",
   "execution_count": 31,
   "id": "dd31858c",
   "metadata": {},
   "outputs": [],
   "source": [
    "# remove earlier error times added by func\n",
    "era5_tmax_time = era5_tmax_all_time[(era5_tmax_all_time>='2019-06-09')]"
   ]
  },
  {
   "cell_type": "code",
   "execution_count": 32,
   "id": "690d1571",
   "metadata": {},
   "outputs": [],
   "source": [
    "# absolute time difference between daily maximum temperature (ERA5 and Shading Dade)\n",
    "tmax_diff = []\n",
    "for i, j in zip(\n",
    "    pd.to_datetime(Shading_dade_temp['Corresponding_Datetime_ShadingDade_DailyMax']), era5_tmax_time):\n",
    "    tmax_diff.append(compute_time_difference(i, j))\n",
    "tmax_diff = np.array(tmax_diff)"
   ]
  },
  {
   "cell_type": "markdown",
   "id": "e8f5774e",
   "metadata": {},
   "source": [
    "### ERA5 daily temperature minimum time (2019)"
   ]
  },
  {
   "cell_type": "code",
   "execution_count": 33,
   "id": "b5493e2f",
   "metadata": {},
   "outputs": [],
   "source": [
    "# use func to grab the times of the min temps in era5\n",
    "era5_tmin_jun_time = extract_era5_time(era5_tmin_jun, era5_temp_jun)\n",
    "era5_tmin_jul_time = extract_era5_time(era5_tmin_jul, era5_temp_jul)\n",
    "era5_tmin_aug_time = extract_era5_time(era5_tmin_aug, era5_temp_aug)"
   ]
  },
  {
   "cell_type": "code",
   "execution_count": 34,
   "id": "6e8445da",
   "metadata": {},
   "outputs": [],
   "source": [
    "# concat\n",
    "era5_tmin_all_time = pd.to_datetime(\n",
    "    np.vstack([era5_tmin_jun_time,\n",
    "               era5_tmin_jul_time,\n",
    "               era5_tmin_aug_time])[:,0])"
   ]
  },
  {
   "cell_type": "code",
   "execution_count": 35,
   "id": "44a288b9",
   "metadata": {},
   "outputs": [],
   "source": [
    "# remove earlier error times added by func\n",
    "era5_tmin_time = era5_tmin_all_time[(era5_tmin_all_time>='2019-06-09')]"
   ]
  },
  {
   "cell_type": "code",
   "execution_count": 36,
   "id": "0b2b9495",
   "metadata": {},
   "outputs": [],
   "source": [
    "# absolute time difference between daily minimum temperature (ERA5 and Shading Dade)\n",
    "tmin_diff = []\n",
    "for i, j in zip(\n",
    "    pd.to_datetime(Shading_dade_temp['Corresponding_Datetime_ShadingDade_DailyMin']), era5_tmin_time):\n",
    "    tmin_diff.append(compute_time_difference(i, j))\n",
    "tmin_diff = np.array(tmin_diff)"
   ]
  },
  {
   "cell_type": "markdown",
   "id": "b5a35ce8",
   "metadata": {},
   "source": [
    "### create single csv file"
   ]
  },
  {
   "cell_type": "code",
   "execution_count": 37,
   "id": "6be7e909",
   "metadata": {},
   "outputs": [],
   "source": [
    "data = {\n",
    "'ShadingDade_Temperature_Daily_Max (C)' : Shading_dade_temp['ShadingDade_Temperature_Daily_Max (C)'],\n",
    "'ShadingDade_Temperature_Daily_Max (F)' : Shading_dade_temp['ShadingDade_Temperature_Daily_Max (F)'],\n",
    "    \n",
    "'ShadingDade_Temperature_Daily_Min (C)' : Shading_dade_temp['ShadingDade_Temperature_Daily_Min (C)'],\n",
    "'ShadingDade_Temperature_Daily_Min (F)' : Shading_dade_temp['ShadingDade_Temperature_Daily_Min (F)'],\n",
    "    \n",
    "'ERA5_Corresponding_Temperature_During_ShadingDade_Daily_Max (C)': era5_temp_corresponding_sdmax.values,\n",
    "'ERA5_Corresponding_Temperature_During_ShadingDade_Daily_Max (F)': cel_to_far(era5_temp_corresponding_sdmax.values),\n",
    "    \n",
    "'ERA5_Corresponding_Temperature_During_ShadingDade_Daily_Min (C)': era5_temp_corresponding_sdmin.values,\n",
    "'ERA5_Corresponding_Temperature_During_ShadingDade_Daily_Min (F)': cel_to_far(era5_temp_corresponding_sdmin.values),\n",
    "\n",
    "'Daily_Temperature_Max_Difference (C)': tmax_daily_difference_C.values,\n",
    "'Daily_Temperature_Max_Difference (F)': tmax_daily_difference_F.values,\n",
    "    \n",
    "'Daily_Temperature_Min_Difference (C)': tmin_daily_difference_C.values,\n",
    "'Daily_Temperature_Min_Difference (F)': tmin_daily_difference_F.values,\n",
    "    \n",
    "'ERA5_Temperature_Daily_Max (C)': era5_tmax.values,\n",
    "'ERA5_Temperature_Daily_Max (F)': cel_to_far(era5_tmax.values),\n",
    "'ERA5_Temperature_Daily_Max_Datetime': era5_tmax_time,\n",
    "    \n",
    "'ERA5_Temperature_Daily_Min (C)': era5_tmin.values,\n",
    "'ERA5_Temperature_Daily_Min (F)': cel_to_far(era5_tmin.values),\n",
    "'ERA5_Temperature_Daily_Min_Datetime': era5_tmin_time,\n",
    "    \n",
    "'Absolute_time_difference_tmax_ERA5_ShadingDade (day H:M:S)': tmax_diff,\n",
    "'Absolute_time_difference_tmin_ERA5_ShadingDade (day H:M:S)': tmin_diff,\n",
    "\n",
    "       }"
   ]
  },
  {
   "cell_type": "code",
   "execution_count": 38,
   "id": "6d6a3169",
   "metadata": {},
   "outputs": [],
   "source": [
    "df_FINAL = pd.DataFrame(data)"
   ]
  },
  {
   "cell_type": "code",
   "execution_count": 39,
   "id": "5fe042c9",
   "metadata": {},
   "outputs": [
    {
     "data": {
      "text/html": [
       "<div>\n",
       "<style scoped>\n",
       "    .dataframe tbody tr th:only-of-type {\n",
       "        vertical-align: middle;\n",
       "    }\n",
       "\n",
       "    .dataframe tbody tr th {\n",
       "        vertical-align: top;\n",
       "    }\n",
       "\n",
       "    .dataframe thead th {\n",
       "        text-align: right;\n",
       "    }\n",
       "</style>\n",
       "<table border=\"1\" class=\"dataframe\">\n",
       "  <thead>\n",
       "    <tr style=\"text-align: right;\">\n",
       "      <th></th>\n",
       "      <th>ShadingDade_Temperature_Daily_Max (C)</th>\n",
       "      <th>ShadingDade_Temperature_Daily_Max (F)</th>\n",
       "      <th>ShadingDade_Temperature_Daily_Min (C)</th>\n",
       "      <th>ShadingDade_Temperature_Daily_Min (F)</th>\n",
       "      <th>ERA5_Corresponding_Temperature_During_ShadingDade_Daily_Max (C)</th>\n",
       "      <th>ERA5_Corresponding_Temperature_During_ShadingDade_Daily_Max (F)</th>\n",
       "      <th>ERA5_Corresponding_Temperature_During_ShadingDade_Daily_Min (C)</th>\n",
       "      <th>ERA5_Corresponding_Temperature_During_ShadingDade_Daily_Min (F)</th>\n",
       "      <th>Daily_Temperature_Max_Difference (C)</th>\n",
       "      <th>Daily_Temperature_Max_Difference (F)</th>\n",
       "      <th>Daily_Temperature_Min_Difference (C)</th>\n",
       "      <th>Daily_Temperature_Min_Difference (F)</th>\n",
       "      <th>ERA5_Temperature_Daily_Max (C)</th>\n",
       "      <th>ERA5_Temperature_Daily_Max (F)</th>\n",
       "      <th>ERA5_Temperature_Daily_Max_Datetime</th>\n",
       "      <th>ERA5_Temperature_Daily_Min (C)</th>\n",
       "      <th>ERA5_Temperature_Daily_Min (F)</th>\n",
       "      <th>ERA5_Temperature_Daily_Min_Datetime</th>\n",
       "      <th>Absolute_time_difference_tmax_ERA5_ShadingDade (day H:M:S)</th>\n",
       "      <th>Absolute_time_difference_tmin_ERA5_ShadingDade (day H:M:S)</th>\n",
       "    </tr>\n",
       "  </thead>\n",
       "  <tbody>\n",
       "    <tr>\n",
       "      <th>0</th>\n",
       "      <td>33.750</td>\n",
       "      <td>92.750</td>\n",
       "      <td>25.125</td>\n",
       "      <td>77.225</td>\n",
       "      <td>26.792572</td>\n",
       "      <td>80.226630</td>\n",
       "      <td>27.670563</td>\n",
       "      <td>81.807013</td>\n",
       "      <td>6.957428</td>\n",
       "      <td>12.523370</td>\n",
       "      <td>-2.545563</td>\n",
       "      <td>-4.582013</td>\n",
       "      <td>28.871124</td>\n",
       "      <td>83.968024</td>\n",
       "      <td>2019-06-09 16:00:00</td>\n",
       "      <td>26.113495</td>\n",
       "      <td>79.004291</td>\n",
       "      <td>2019-06-09 11:00:00</td>\n",
       "      <td>0 days 04:00:00</td>\n",
       "      <td>0 days 10:00:00</td>\n",
       "    </tr>\n",
       "    <tr>\n",
       "      <th>1</th>\n",
       "      <td>38.500</td>\n",
       "      <td>101.300</td>\n",
       "      <td>23.250</td>\n",
       "      <td>73.850</td>\n",
       "      <td>26.699921</td>\n",
       "      <td>80.059857</td>\n",
       "      <td>26.314667</td>\n",
       "      <td>79.366400</td>\n",
       "      <td>11.800079</td>\n",
       "      <td>21.240143</td>\n",
       "      <td>-3.064667</td>\n",
       "      <td>-5.516400</td>\n",
       "      <td>29.251984</td>\n",
       "      <td>84.653571</td>\n",
       "      <td>2019-06-10 19:00:00</td>\n",
       "      <td>25.005402</td>\n",
       "      <td>77.009723</td>\n",
       "      <td>2019-06-10 09:00:00</td>\n",
       "      <td>0 days 03:00:00</td>\n",
       "      <td>0 days 02:00:00</td>\n",
       "    </tr>\n",
       "    <tr>\n",
       "      <th>2</th>\n",
       "      <td>40.750</td>\n",
       "      <td>105.350</td>\n",
       "      <td>24.250</td>\n",
       "      <td>75.650</td>\n",
       "      <td>27.057831</td>\n",
       "      <td>80.704095</td>\n",
       "      <td>26.604706</td>\n",
       "      <td>79.888470</td>\n",
       "      <td>13.692169</td>\n",
       "      <td>24.645905</td>\n",
       "      <td>-2.354706</td>\n",
       "      <td>-4.238470</td>\n",
       "      <td>30.506561</td>\n",
       "      <td>86.911810</td>\n",
       "      <td>2019-06-11 18:00:00</td>\n",
       "      <td>25.968292</td>\n",
       "      <td>78.742926</td>\n",
       "      <td>2019-06-11 09:00:00</td>\n",
       "      <td>0 days 06:00:00</td>\n",
       "      <td>0 days 06:00:00</td>\n",
       "    </tr>\n",
       "    <tr>\n",
       "      <th>3</th>\n",
       "      <td>40.250</td>\n",
       "      <td>104.450</td>\n",
       "      <td>24.875</td>\n",
       "      <td>76.775</td>\n",
       "      <td>26.922882</td>\n",
       "      <td>80.461188</td>\n",
       "      <td>26.931915</td>\n",
       "      <td>80.477448</td>\n",
       "      <td>13.327118</td>\n",
       "      <td>23.988812</td>\n",
       "      <td>-2.056915</td>\n",
       "      <td>-3.702448</td>\n",
       "      <td>30.096771</td>\n",
       "      <td>86.174188</td>\n",
       "      <td>2019-06-12 18:00:00</td>\n",
       "      <td>26.637909</td>\n",
       "      <td>79.948236</td>\n",
       "      <td>2019-06-12 08:00:00</td>\n",
       "      <td>0 days 07:00:01</td>\n",
       "      <td>0 days 04:00:00</td>\n",
       "    </tr>\n",
       "    <tr>\n",
       "      <th>4</th>\n",
       "      <td>41.000</td>\n",
       "      <td>105.800</td>\n",
       "      <td>25.125</td>\n",
       "      <td>77.225</td>\n",
       "      <td>27.729523</td>\n",
       "      <td>81.913141</td>\n",
       "      <td>28.046173</td>\n",
       "      <td>82.483112</td>\n",
       "      <td>13.270477</td>\n",
       "      <td>23.886859</td>\n",
       "      <td>-2.921173</td>\n",
       "      <td>-5.258112</td>\n",
       "      <td>30.056000</td>\n",
       "      <td>86.100800</td>\n",
       "      <td>2019-06-13 19:00:00</td>\n",
       "      <td>26.520447</td>\n",
       "      <td>79.736804</td>\n",
       "      <td>2019-06-13 10:00:00</td>\n",
       "      <td>0 days 07:00:00</td>\n",
       "      <td>0 days 12:59:59</td>\n",
       "    </tr>\n",
       "    <tr>\n",
       "      <th>...</th>\n",
       "      <td>...</td>\n",
       "      <td>...</td>\n",
       "      <td>...</td>\n",
       "      <td>...</td>\n",
       "      <td>...</td>\n",
       "      <td>...</td>\n",
       "      <td>...</td>\n",
       "      <td>...</td>\n",
       "      <td>...</td>\n",
       "      <td>...</td>\n",
       "      <td>...</td>\n",
       "      <td>...</td>\n",
       "      <td>...</td>\n",
       "      <td>...</td>\n",
       "      <td>...</td>\n",
       "      <td>...</td>\n",
       "      <td>...</td>\n",
       "      <td>...</td>\n",
       "      <td>...</td>\n",
       "      <td>...</td>\n",
       "    </tr>\n",
       "    <tr>\n",
       "      <th>79</th>\n",
       "      <td>42.250</td>\n",
       "      <td>108.050</td>\n",
       "      <td>25.000</td>\n",
       "      <td>77.000</td>\n",
       "      <td>27.405975</td>\n",
       "      <td>81.330756</td>\n",
       "      <td>27.472656</td>\n",
       "      <td>81.450781</td>\n",
       "      <td>14.844025</td>\n",
       "      <td>26.719244</td>\n",
       "      <td>-2.472656</td>\n",
       "      <td>-4.450781</td>\n",
       "      <td>30.495148</td>\n",
       "      <td>86.891266</td>\n",
       "      <td>2019-08-27 18:00:00</td>\n",
       "      <td>25.706940</td>\n",
       "      <td>78.272491</td>\n",
       "      <td>2019-08-27 10:00:00</td>\n",
       "      <td>0 days 05:00:00</td>\n",
       "      <td>0 days 06:00:00</td>\n",
       "    </tr>\n",
       "    <tr>\n",
       "      <th>80</th>\n",
       "      <td>40.750</td>\n",
       "      <td>105.350</td>\n",
       "      <td>24.625</td>\n",
       "      <td>76.325</td>\n",
       "      <td>28.515808</td>\n",
       "      <td>83.328455</td>\n",
       "      <td>26.947937</td>\n",
       "      <td>80.506287</td>\n",
       "      <td>12.234192</td>\n",
       "      <td>22.021545</td>\n",
       "      <td>-2.322937</td>\n",
       "      <td>-4.181287</td>\n",
       "      <td>31.926544</td>\n",
       "      <td>89.467780</td>\n",
       "      <td>2019-08-28 19:00:00</td>\n",
       "      <td>26.544891</td>\n",
       "      <td>79.780804</td>\n",
       "      <td>2019-08-28 11:00:00</td>\n",
       "      <td>0 days 05:00:01</td>\n",
       "      <td>0 days 05:00:00</td>\n",
       "    </tr>\n",
       "    <tr>\n",
       "      <th>81</th>\n",
       "      <td>41.375</td>\n",
       "      <td>106.475</td>\n",
       "      <td>24.750</td>\n",
       "      <td>76.550</td>\n",
       "      <td>27.561676</td>\n",
       "      <td>81.611017</td>\n",
       "      <td>27.436249</td>\n",
       "      <td>81.385248</td>\n",
       "      <td>13.813324</td>\n",
       "      <td>24.863983</td>\n",
       "      <td>-2.686249</td>\n",
       "      <td>-4.835248</td>\n",
       "      <td>29.879425</td>\n",
       "      <td>85.782965</td>\n",
       "      <td>2019-08-29 16:00:00</td>\n",
       "      <td>26.211426</td>\n",
       "      <td>79.180566</td>\n",
       "      <td>2019-08-29 08:00:00</td>\n",
       "      <td>0 days 03:00:00</td>\n",
       "      <td>0 days 04:00:00</td>\n",
       "    </tr>\n",
       "    <tr>\n",
       "      <th>82</th>\n",
       "      <td>35.000</td>\n",
       "      <td>95.000</td>\n",
       "      <td>23.875</td>\n",
       "      <td>74.975</td>\n",
       "      <td>27.451202</td>\n",
       "      <td>81.412164</td>\n",
       "      <td>26.376740</td>\n",
       "      <td>79.478131</td>\n",
       "      <td>7.548798</td>\n",
       "      <td>13.587836</td>\n",
       "      <td>-2.501740</td>\n",
       "      <td>-4.503131</td>\n",
       "      <td>29.632477</td>\n",
       "      <td>85.338458</td>\n",
       "      <td>2019-08-30 22:00:00</td>\n",
       "      <td>26.315643</td>\n",
       "      <td>79.368158</td>\n",
       "      <td>2019-08-30 07:00:00</td>\n",
       "      <td>0 days 08:00:01</td>\n",
       "      <td>0 days 00:59:59</td>\n",
       "    </tr>\n",
       "    <tr>\n",
       "      <th>83</th>\n",
       "      <td>36.500</td>\n",
       "      <td>97.700</td>\n",
       "      <td>26.750</td>\n",
       "      <td>80.150</td>\n",
       "      <td>28.057770</td>\n",
       "      <td>82.503986</td>\n",
       "      <td>27.519745</td>\n",
       "      <td>81.535541</td>\n",
       "      <td>8.442230</td>\n",
       "      <td>15.196014</td>\n",
       "      <td>-0.769745</td>\n",
       "      <td>-1.385541</td>\n",
       "      <td>29.950867</td>\n",
       "      <td>85.911560</td>\n",
       "      <td>2019-08-31 22:00:00</td>\n",
       "      <td>27.061188</td>\n",
       "      <td>80.710138</td>\n",
       "      <td>2019-08-31 04:00:00</td>\n",
       "      <td>0 days 09:00:00</td>\n",
       "      <td>0 days 03:59:59</td>\n",
       "    </tr>\n",
       "  </tbody>\n",
       "</table>\n",
       "<p>84 rows × 20 columns</p>\n",
       "</div>"
      ],
      "text/plain": [
       "    ShadingDade_Temperature_Daily_Max (C)  \\\n",
       "0                                  33.750   \n",
       "1                                  38.500   \n",
       "2                                  40.750   \n",
       "3                                  40.250   \n",
       "4                                  41.000   \n",
       "..                                    ...   \n",
       "79                                 42.250   \n",
       "80                                 40.750   \n",
       "81                                 41.375   \n",
       "82                                 35.000   \n",
       "83                                 36.500   \n",
       "\n",
       "    ShadingDade_Temperature_Daily_Max (F)  \\\n",
       "0                                  92.750   \n",
       "1                                 101.300   \n",
       "2                                 105.350   \n",
       "3                                 104.450   \n",
       "4                                 105.800   \n",
       "..                                    ...   \n",
       "79                                108.050   \n",
       "80                                105.350   \n",
       "81                                106.475   \n",
       "82                                 95.000   \n",
       "83                                 97.700   \n",
       "\n",
       "    ShadingDade_Temperature_Daily_Min (C)  \\\n",
       "0                                  25.125   \n",
       "1                                  23.250   \n",
       "2                                  24.250   \n",
       "3                                  24.875   \n",
       "4                                  25.125   \n",
       "..                                    ...   \n",
       "79                                 25.000   \n",
       "80                                 24.625   \n",
       "81                                 24.750   \n",
       "82                                 23.875   \n",
       "83                                 26.750   \n",
       "\n",
       "    ShadingDade_Temperature_Daily_Min (F)  \\\n",
       "0                                  77.225   \n",
       "1                                  73.850   \n",
       "2                                  75.650   \n",
       "3                                  76.775   \n",
       "4                                  77.225   \n",
       "..                                    ...   \n",
       "79                                 77.000   \n",
       "80                                 76.325   \n",
       "81                                 76.550   \n",
       "82                                 74.975   \n",
       "83                                 80.150   \n",
       "\n",
       "    ERA5_Corresponding_Temperature_During_ShadingDade_Daily_Max (C)  \\\n",
       "0                                           26.792572                 \n",
       "1                                           26.699921                 \n",
       "2                                           27.057831                 \n",
       "3                                           26.922882                 \n",
       "4                                           27.729523                 \n",
       "..                                                ...                 \n",
       "79                                          27.405975                 \n",
       "80                                          28.515808                 \n",
       "81                                          27.561676                 \n",
       "82                                          27.451202                 \n",
       "83                                          28.057770                 \n",
       "\n",
       "    ERA5_Corresponding_Temperature_During_ShadingDade_Daily_Max (F)  \\\n",
       "0                                           80.226630                 \n",
       "1                                           80.059857                 \n",
       "2                                           80.704095                 \n",
       "3                                           80.461188                 \n",
       "4                                           81.913141                 \n",
       "..                                                ...                 \n",
       "79                                          81.330756                 \n",
       "80                                          83.328455                 \n",
       "81                                          81.611017                 \n",
       "82                                          81.412164                 \n",
       "83                                          82.503986                 \n",
       "\n",
       "    ERA5_Corresponding_Temperature_During_ShadingDade_Daily_Min (C)  \\\n",
       "0                                           27.670563                 \n",
       "1                                           26.314667                 \n",
       "2                                           26.604706                 \n",
       "3                                           26.931915                 \n",
       "4                                           28.046173                 \n",
       "..                                                ...                 \n",
       "79                                          27.472656                 \n",
       "80                                          26.947937                 \n",
       "81                                          27.436249                 \n",
       "82                                          26.376740                 \n",
       "83                                          27.519745                 \n",
       "\n",
       "    ERA5_Corresponding_Temperature_During_ShadingDade_Daily_Min (F)  \\\n",
       "0                                           81.807013                 \n",
       "1                                           79.366400                 \n",
       "2                                           79.888470                 \n",
       "3                                           80.477448                 \n",
       "4                                           82.483112                 \n",
       "..                                                ...                 \n",
       "79                                          81.450781                 \n",
       "80                                          80.506287                 \n",
       "81                                          81.385248                 \n",
       "82                                          79.478131                 \n",
       "83                                          81.535541                 \n",
       "\n",
       "    Daily_Temperature_Max_Difference (C)  \\\n",
       "0                               6.957428   \n",
       "1                              11.800079   \n",
       "2                              13.692169   \n",
       "3                              13.327118   \n",
       "4                              13.270477   \n",
       "..                                   ...   \n",
       "79                             14.844025   \n",
       "80                             12.234192   \n",
       "81                             13.813324   \n",
       "82                              7.548798   \n",
       "83                              8.442230   \n",
       "\n",
       "    Daily_Temperature_Max_Difference (F)  \\\n",
       "0                              12.523370   \n",
       "1                              21.240143   \n",
       "2                              24.645905   \n",
       "3                              23.988812   \n",
       "4                              23.886859   \n",
       "..                                   ...   \n",
       "79                             26.719244   \n",
       "80                             22.021545   \n",
       "81                             24.863983   \n",
       "82                             13.587836   \n",
       "83                             15.196014   \n",
       "\n",
       "    Daily_Temperature_Min_Difference (C)  \\\n",
       "0                              -2.545563   \n",
       "1                              -3.064667   \n",
       "2                              -2.354706   \n",
       "3                              -2.056915   \n",
       "4                              -2.921173   \n",
       "..                                   ...   \n",
       "79                             -2.472656   \n",
       "80                             -2.322937   \n",
       "81                             -2.686249   \n",
       "82                             -2.501740   \n",
       "83                             -0.769745   \n",
       "\n",
       "    Daily_Temperature_Min_Difference (F)  ERA5_Temperature_Daily_Max (C)  \\\n",
       "0                              -4.582013                       28.871124   \n",
       "1                              -5.516400                       29.251984   \n",
       "2                              -4.238470                       30.506561   \n",
       "3                              -3.702448                       30.096771   \n",
       "4                              -5.258112                       30.056000   \n",
       "..                                   ...                             ...   \n",
       "79                             -4.450781                       30.495148   \n",
       "80                             -4.181287                       31.926544   \n",
       "81                             -4.835248                       29.879425   \n",
       "82                             -4.503131                       29.632477   \n",
       "83                             -1.385541                       29.950867   \n",
       "\n",
       "    ERA5_Temperature_Daily_Max (F) ERA5_Temperature_Daily_Max_Datetime  \\\n",
       "0                        83.968024                 2019-06-09 16:00:00   \n",
       "1                        84.653571                 2019-06-10 19:00:00   \n",
       "2                        86.911810                 2019-06-11 18:00:00   \n",
       "3                        86.174188                 2019-06-12 18:00:00   \n",
       "4                        86.100800                 2019-06-13 19:00:00   \n",
       "..                             ...                                 ...   \n",
       "79                       86.891266                 2019-08-27 18:00:00   \n",
       "80                       89.467780                 2019-08-28 19:00:00   \n",
       "81                       85.782965                 2019-08-29 16:00:00   \n",
       "82                       85.338458                 2019-08-30 22:00:00   \n",
       "83                       85.911560                 2019-08-31 22:00:00   \n",
       "\n",
       "    ERA5_Temperature_Daily_Min (C)  ERA5_Temperature_Daily_Min (F)  \\\n",
       "0                        26.113495                       79.004291   \n",
       "1                        25.005402                       77.009723   \n",
       "2                        25.968292                       78.742926   \n",
       "3                        26.637909                       79.948236   \n",
       "4                        26.520447                       79.736804   \n",
       "..                             ...                             ...   \n",
       "79                       25.706940                       78.272491   \n",
       "80                       26.544891                       79.780804   \n",
       "81                       26.211426                       79.180566   \n",
       "82                       26.315643                       79.368158   \n",
       "83                       27.061188                       80.710138   \n",
       "\n",
       "   ERA5_Temperature_Daily_Min_Datetime  \\\n",
       "0                  2019-06-09 11:00:00   \n",
       "1                  2019-06-10 09:00:00   \n",
       "2                  2019-06-11 09:00:00   \n",
       "3                  2019-06-12 08:00:00   \n",
       "4                  2019-06-13 10:00:00   \n",
       "..                                 ...   \n",
       "79                 2019-08-27 10:00:00   \n",
       "80                 2019-08-28 11:00:00   \n",
       "81                 2019-08-29 08:00:00   \n",
       "82                 2019-08-30 07:00:00   \n",
       "83                 2019-08-31 04:00:00   \n",
       "\n",
       "   Absolute_time_difference_tmax_ERA5_ShadingDade (day H:M:S)  \\\n",
       "0                                     0 days 04:00:00           \n",
       "1                                     0 days 03:00:00           \n",
       "2                                     0 days 06:00:00           \n",
       "3                                     0 days 07:00:01           \n",
       "4                                     0 days 07:00:00           \n",
       "..                                                ...           \n",
       "79                                    0 days 05:00:00           \n",
       "80                                    0 days 05:00:01           \n",
       "81                                    0 days 03:00:00           \n",
       "82                                    0 days 08:00:01           \n",
       "83                                    0 days 09:00:00           \n",
       "\n",
       "   Absolute_time_difference_tmin_ERA5_ShadingDade (day H:M:S)  \n",
       "0                                     0 days 10:00:00          \n",
       "1                                     0 days 02:00:00          \n",
       "2                                     0 days 06:00:00          \n",
       "3                                     0 days 04:00:00          \n",
       "4                                     0 days 12:59:59          \n",
       "..                                                ...          \n",
       "79                                    0 days 06:00:00          \n",
       "80                                    0 days 05:00:00          \n",
       "81                                    0 days 04:00:00          \n",
       "82                                    0 days 00:59:59          \n",
       "83                                    0 days 03:59:59          \n",
       "\n",
       "[84 rows x 20 columns]"
      ]
     },
     "execution_count": 39,
     "metadata": {},
     "output_type": "execute_result"
    }
   ],
   "source": [
    "df_FINAL"
   ]
  },
  {
   "cell_type": "code",
   "execution_count": 40,
   "id": "e49d9e05",
   "metadata": {},
   "outputs": [
    {
     "data": {
      "image/png": "[encoded data removed]",
      "text/plain": [
       "<Figure size 864x576 with 1 Axes>"
      ]
     },
     "metadata": {
      "needs_background": "light"
     },
     "output_type": "display_data"
    }
   ],
   "source": [
    "fig = df_FINAL.hist(\n",
    "    'ShadingDade_Temperature_Daily_Max (F)', edgecolor='k', facecolor='salmon', bins=30, figsize=(12,8))\n",
    "plt.tight_layout()\n",
    "plt.savefig('/Users/molina/Desktop/ShadingDade_Temperature_Daily_Max.png', dpi=500)\n",
    "plt.show()"
   ]
  },
  {
   "cell_type": "code",
   "execution_count": 41,
   "id": "f28218c1",
   "metadata": {},
   "outputs": [
    {
     "data": {
      "image/png": "[encoded data removed]",
      "text/plain": [
       "<Figure size 864x576 with 1 Axes>"
      ]
     },
     "metadata": {
      "needs_background": "light"
     },
     "output_type": "display_data"
    }
   ],
   "source": [
    "df_FINAL.hist('ERA5_Temperature_Daily_Max (F)', edgecolor='k', facecolor='salmon', bins=30, figsize=(12,8))\n",
    "plt.tight_layout()\n",
    "plt.savefig('/Users/molina/Desktop/ERA5_Temperature_Daily_Max.png', dpi=500)\n",
    "plt.show()"
   ]
  },
  {
   "cell_type": "code",
   "execution_count": 42,
   "id": "dad46247",
   "metadata": {},
   "outputs": [
    {
     "data": {
      "image/png": "[encoded data removed]",
      "text/plain": [
       "<Figure size 864x576 with 1 Axes>"
      ]
     },
     "metadata": {
      "needs_background": "light"
     },
     "output_type": "display_data"
    }
   ],
   "source": [
    "df_FINAL.hist('ShadingDade_Temperature_Daily_Min (F)', edgecolor='k', facecolor='salmon', bins=30, figsize=(12,8))\n",
    "plt.tight_layout()\n",
    "plt.savefig('/Users/molina/Desktop/ShadingDade_Temperature_Daily_Min.png', dpi=500)\n",
    "plt.show()"
   ]
  },
  {
   "cell_type": "code",
   "execution_count": 43,
   "id": "5f13a421",
   "metadata": {},
   "outputs": [
    {
     "data": {
      "image/png": "[encoded data removed]",
      "text/plain": [
       "<Figure size 864x576 with 1 Axes>"
      ]
     },
     "metadata": {
      "needs_background": "light"
     },
     "output_type": "display_data"
    }
   ],
   "source": [
    "df_FINAL.hist('ERA5_Temperature_Daily_Min (F)', edgecolor='k', facecolor='salmon', bins=30, figsize=(12,8))\n",
    "plt.tight_layout()\n",
    "plt.savefig('/Users/molina/Desktop/ERA5_Temperature_Daily_Min.png', dpi=500)\n",
    "plt.show()"
   ]
  },
  {
   "cell_type": "code",
   "execution_count": 44,
   "id": "52683a47",
   "metadata": {},
   "outputs": [
    {
     "data": {
      "image/png": "[encoded data removed]",
      "text/plain": [
       "<Figure size 864x576 with 1 Axes>"
      ]
     },
     "metadata": {
      "needs_background": "light"
     },
     "output_type": "display_data"
    }
   ],
   "source": [
    "fig, ax = plt.subplots(figsize=(12,8))\n",
    "ax.set_title(\n",
    "    'Temperature Difference between Shading Dade Temperature Daily Max\\n and the Corresponding ERA5 temperature at that time', \n",
    "    fontsize=18)\n",
    "\n",
    "ls0, = ax.plot(cel_to_far(era5_temp_corresponding_sdmax.values), color='salmon', lw=2.0)\n",
    "ls1, = ax.plot(Shading_dade_temp['ShadingDade_Temperature_Daily_Max (F)'].values, color='firebrick', lw=2.0)\n",
    "\n",
    "ax.legend([ls0,ls1],['ERA5','Shading Dade (Little Haiti)'],\n",
    "          fancybox=True, fontsize=16, ncol=2)\n",
    "\n",
    "ax.set_xticks(np.arange(0,era5_temp_corresponding_sdmax.time.shape[0])[::10])\n",
    "ax.set_xticklabels(pd.to_datetime(era5_temp_corresponding_sdmax.time).strftime('%Y-%m-%d').values[::10], \n",
    "                   rotation=45, fontsize=16)\n",
    "ax.set_xlabel('Date', fontsize=16)\n",
    "\n",
    "ax.set_yticks(np.arange(75,111,1)[::5])\n",
    "ax.set_yticklabels(np.arange(75,111,1)[::5], fontsize=16)\n",
    "ax.set_ylabel('Temperature (F)', fontsize=16)\n",
    "\n",
    "ax.grid('--', alpha=0.5)\n",
    "ax.margins(x=0)\n",
    "\n",
    "plt.tight_layout()\n",
    "plt.savefig('/Users/molina/Desktop/TempDiff_SDandERA5.png', dpi=500)\n",
    "plt.show()\n"
   ]
  },
  {
   "cell_type": "code",
   "execution_count": 45,
   "id": "0e59484a",
   "metadata": {},
   "outputs": [
    {
     "data": {
      "image/png": "[encoded data removed]",
      "text/plain": [
       "<Figure size 864x576 with 1 Axes>"
      ]
     },
     "metadata": {
      "needs_background": "light"
     },
     "output_type": "display_data"
    }
   ],
   "source": [
    "df_FINAL.hist('Daily_Temperature_Min_Difference (F)', edgecolor='k', facecolor='salmon', bins=30, figsize=(12,8))\n",
    "plt.tight_layout()\n",
    "plt.savefig('/Users/molina/Desktop/Daily_Temperature_Min_Difference.png', dpi=500)\n",
    "plt.show()"
   ]
  },
  {
   "cell_type": "markdown",
   "id": "ef337246",
   "metadata": {},
   "source": [
    "### save csv file"
   ]
  },
  {
   "cell_type": "code",
   "execution_count": 46,
   "id": "361f4c3a",
   "metadata": {},
   "outputs": [],
   "source": [
    "df_FINAL.to_csv('/Users/molina/Desktop/ShadingDade_ERA5_Temperature.csv')"
   ]
  },
  {
   "cell_type": "code",
   "execution_count": null,
   "id": "45a786a7",
   "metadata": {},
   "outputs": [],
   "source": []
  }
 ],
 "metadata": {
  "kernelspec": {
   "display_name": "Python 3",
   "language": "python",
   "name": "python3"
  },
  "language_info": {
   "codemirror_mode": {
    "name": "ipython",
    "version": 3
   },
   "file_extension": ".py",
   "mimetype": "text/x-python",
   "name": "python",
   "nbconvert_exporter": "python",
   "pygments_lexer": "ipython3",
   "version": "3.8.10"
  }
 },
 "nbformat": 4,
 "nbformat_minor": 5
}
