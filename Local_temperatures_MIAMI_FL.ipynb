{
 "cells": [
  {
   "cell_type": "markdown",
   "id": "b20345d8-a089-4025-ac75-dc0ee88ffbb6",
   "metadata": {},
   "source": [
    "# NCAR Innovator Program Project\n",
    "\n",
    "### Notebook by: Maria J. Molina (NCAR/University of Maryland) and Jessica Moulite (Howard University)\n",
    "\n",
    "Importing packages"
   ]
  },
  {
   "cell_type": "code",
   "execution_count": 1,
   "id": "5d998dd4-fe41-49fb-8b00-6d96630c9002",
   "metadata": {},
   "outputs": [],
   "source": [
    "import datetime\n",
    "import warnings\n",
    "import numpy as np\n",
    "import pandas as pd\n",
    "import xarray as xr\n",
    "import matplotlib.pyplot as plt"
   ]
  },
  {
   "cell_type": "markdown",
   "id": "b993cff4-8c5b-417e-add4-c8c3e5e4a289",
   "metadata": {},
   "source": [
    "### Functions"
   ]
  },
  {
   "cell_type": "code",
   "execution_count": 2,
   "id": "04fcd85d-b0fe-4211-8f28-9cb3540a0492",
   "metadata": {},
   "outputs": [],
   "source": [
    "def cel_to_far(tmp):\n",
    "    \"\"\"\n",
    "    Convert celsius to farenheit\n",
    "    \"\"\"\n",
    "    newtmp = []\n",
    "    for i in tmp:\n",
    "        if i == 99.9:\n",
    "            newtmp.append(np.nan)\n",
    "        if i != 99.9:\n",
    "            newtmp.append((i * (9/5)) + 32)\n",
    "    return np.array(newtmp)\n",
    "\n",
    "\n",
    "def cel_to_nan(tmp):\n",
    "    \"\"\"\n",
    "    Change 9999 to np.nan\n",
    "    \"\"\"\n",
    "    newtmp = []\n",
    "    for i in tmp:\n",
    "        if i == 99.9:\n",
    "            newtmp.append(np.nan)\n",
    "        if i != 99.9:\n",
    "            newtmp.append(i)\n",
    "    return np.array(newtmp)\n",
    "\n",
    "\n",
    "def convert_to_datetime(time_value):\n",
    "    \"\"\"\n",
    "    Convert to a datetime object to be able to compute time difference.\n",
    "    \"\"\"\n",
    "    return datetime.datetime(\n",
    "        pd.to_datetime(time_value).year,\n",
    "        pd.to_datetime(time_value).month,\n",
    "        pd.to_datetime(time_value).day,\n",
    "        pd.to_datetime(time_value).hour,\n",
    "        pd.to_datetime(time_value).minute,\n",
    "        pd.to_datetime(time_value).second,\n",
    "    )\n",
    "\n",
    "\n",
    "def compute_time_difference(a, b):\n",
    "    \"\"\"\n",
    "    Compute time difference between two times.\n",
    "    \"\"\"\n",
    "    if a >= b:\n",
    "        return convert_to_datetime(a) - convert_to_datetime(b)\n",
    "    if b > a:\n",
    "        return convert_to_datetime(b) - convert_to_datetime(a)\n",
    "\n",
    "\n",
    "def extract_era5_time(t_daily, t_full):\n",
    "    \"\"\"\n",
    "    Extract the era5 temperature corresponding time.\n",
    "    \"\"\"\n",
    "    era5_time_array = []\n",
    "\n",
    "    for i, j in zip(t_daily.time, t_daily):\n",
    "\n",
    "        tmp = t_full.sel(\n",
    "            time=slice(i, pd.to_datetime(i.values) + datetime.timedelta(hours=23)))\n",
    "\n",
    "        era5_time_array.append(tmp.where(tmp == j, drop=True).time.values)\n",
    "\n",
    "    return era5_time_array\n",
    "\n",
    "\n",
    "def ends(df, x=5):\n",
    "    \"\"\"\n",
    "    Viewing the beginnings and ends.\n",
    "    \"\"\"\n",
    "    return pd.concat([df.head(x),df.tail(x)])"
   ]
  },
  {
   "cell_type": "markdown",
   "id": "bbc1311a-0210-4db9-867b-5f466b0a53e1",
   "metadata": {},
   "source": [
    "### NOAA Data\n",
    "\n",
    "Downloaded data from: https://www.ncei.noaa.gov/access/search/data-search/global-hourly\n",
    "\n",
    "Data documentation: https://www.ncei.noaa.gov/metadata/geoportal/rest/metadata/item/gov.noaa.ncdc:C00532/html#"
   ]
  },
  {
   "cell_type": "code",
   "execution_count": 3,
   "id": "89f1b634-68ba-43fb-964f-828cfb377dfc",
   "metadata": {},
   "outputs": [],
   "source": [
    "# importing MIA airport data (ASOS station from NOAA/FAA)\n",
    "MIA_temp = pd.read_csv('/glade/scratch/molina/72202012839.csv', low_memory=False)"
   ]
  },
  {
   "cell_type": "code",
   "execution_count": 4,
   "id": "fb06d395-476d-4dc4-ad3d-6581f6616e9f",
   "metadata": {},
   "outputs": [
    {
     "data": {
      "text/html": [
       "<div>\n",
       "<style scoped>\n",
       "    .dataframe tbody tr th:only-of-type {\n",
       "        vertical-align: middle;\n",
       "    }\n",
       "\n",
       "    .dataframe tbody tr th {\n",
       "        vertical-align: top;\n",
       "    }\n",
       "\n",
       "    .dataframe thead th {\n",
       "        text-align: right;\n",
       "    }\n",
       "</style>\n",
       "<table border=\"1\" class=\"dataframe\">\n",
       "  <thead>\n",
       "    <tr style=\"text-align: right;\">\n",
       "      <th></th>\n",
       "      <th>STATION</th>\n",
       "      <th>DATE</th>\n",
       "      <th>SOURCE</th>\n",
       "      <th>LATITUDE</th>\n",
       "      <th>LONGITUDE</th>\n",
       "      <th>ELEVATION</th>\n",
       "      <th>NAME</th>\n",
       "      <th>REPORT_TYPE</th>\n",
       "      <th>CALL_SIGN</th>\n",
       "      <th>QUALITY_CONTROL</th>\n",
       "      <th>...</th>\n",
       "      <th>OC1</th>\n",
       "      <th>OD1</th>\n",
       "      <th>OE1</th>\n",
       "      <th>OE2</th>\n",
       "      <th>OE3</th>\n",
       "      <th>RH1</th>\n",
       "      <th>RH2</th>\n",
       "      <th>RH3</th>\n",
       "      <th>REM</th>\n",
       "      <th>EQD</th>\n",
       "    </tr>\n",
       "  </thead>\n",
       "  <tbody>\n",
       "    <tr>\n",
       "      <th>0</th>\n",
       "      <td>72202012839</td>\n",
       "      <td>2019-01-01T00:00:00</td>\n",
       "      <td>4</td>\n",
       "      <td>25.7881</td>\n",
       "      <td>-80.3169</td>\n",
       "      <td>8.8</td>\n",
       "      <td>MIAMI INTERNATIONAL AIRPORT, FL US</td>\n",
       "      <td>FM-12</td>\n",
       "      <td>99999</td>\n",
       "      <td>V020</td>\n",
       "      <td>...</td>\n",
       "      <td>NaN</td>\n",
       "      <td>NaN</td>\n",
       "      <td>NaN</td>\n",
       "      <td>NaN</td>\n",
       "      <td>NaN</td>\n",
       "      <td>NaN</td>\n",
       "      <td>NaN</td>\n",
       "      <td>NaN</td>\n",
       "      <td>SYN08072202 32566 21106 10244 20217 30200 4021...</td>\n",
       "      <td>NaN</td>\n",
       "    </tr>\n",
       "    <tr>\n",
       "      <th>1</th>\n",
       "      <td>72202012839</td>\n",
       "      <td>2019-01-01T00:53:00</td>\n",
       "      <td>7</td>\n",
       "      <td>25.7881</td>\n",
       "      <td>-80.3169</td>\n",
       "      <td>8.8</td>\n",
       "      <td>MIAMI INTERNATIONAL AIRPORT, FL US</td>\n",
       "      <td>FM-15</td>\n",
       "      <td>KMIA</td>\n",
       "      <td>V030</td>\n",
       "      <td>...</td>\n",
       "      <td>NaN</td>\n",
       "      <td>NaN</td>\n",
       "      <td>NaN</td>\n",
       "      <td>NaN</td>\n",
       "      <td>NaN</td>\n",
       "      <td>NaN</td>\n",
       "      <td>NaN</td>\n",
       "      <td>NaN</td>\n",
       "      <td>MET09312/31/18 19:53:01 METAR KMIA 010053Z 110...</td>\n",
       "      <td>D01      0ADE726</td>\n",
       "    </tr>\n",
       "    <tr>\n",
       "      <th>13592</th>\n",
       "      <td>72202012839</td>\n",
       "      <td>2019-12-31T22:53:00</td>\n",
       "      <td>7</td>\n",
       "      <td>25.7881</td>\n",
       "      <td>-80.3169</td>\n",
       "      <td>8.8</td>\n",
       "      <td>MIAMI INTERNATIONAL AIRPORT, FL US</td>\n",
       "      <td>FM-15</td>\n",
       "      <td>KMIA</td>\n",
       "      <td>V030</td>\n",
       "      <td>...</td>\n",
       "      <td>NaN</td>\n",
       "      <td>NaN</td>\n",
       "      <td>NaN</td>\n",
       "      <td>NaN</td>\n",
       "      <td>NaN</td>\n",
       "      <td>NaN</td>\n",
       "      <td>NaN</td>\n",
       "      <td>NaN</td>\n",
       "      <td>MET10612/31/19 17:53:02 METAR KMIA 312253Z 330...</td>\n",
       "      <td>D01      0ADE726</td>\n",
       "    </tr>\n",
       "    <tr>\n",
       "      <th>13593</th>\n",
       "      <td>72202012839</td>\n",
       "      <td>2019-12-31T23:53:00</td>\n",
       "      <td>7</td>\n",
       "      <td>25.7881</td>\n",
       "      <td>-80.3169</td>\n",
       "      <td>8.8</td>\n",
       "      <td>MIAMI INTERNATIONAL AIRPORT, FL US</td>\n",
       "      <td>FM-15</td>\n",
       "      <td>KMIA</td>\n",
       "      <td>V030</td>\n",
       "      <td>...</td>\n",
       "      <td>NaN</td>\n",
       "      <td>NaN</td>\n",
       "      <td>NaN</td>\n",
       "      <td>NaN</td>\n",
       "      <td>NaN</td>\n",
       "      <td>NaN</td>\n",
       "      <td>NaN</td>\n",
       "      <td>NaN</td>\n",
       "      <td>MET11712/31/19 18:53:02 METAR KMIA 312353Z 340...</td>\n",
       "      <td>D01      0ADE726</td>\n",
       "    </tr>\n",
       "  </tbody>\n",
       "</table>\n",
       "<p>4 rows × 89 columns</p>\n",
       "</div>"
      ],
      "text/plain": [
       "           STATION                 DATE  SOURCE  LATITUDE  LONGITUDE  \\\n",
       "0      72202012839  2019-01-01T00:00:00       4   25.7881   -80.3169   \n",
       "1      72202012839  2019-01-01T00:53:00       7   25.7881   -80.3169   \n",
       "13592  72202012839  2019-12-31T22:53:00       7   25.7881   -80.3169   \n",
       "13593  72202012839  2019-12-31T23:53:00       7   25.7881   -80.3169   \n",
       "\n",
       "       ELEVATION                                NAME REPORT_TYPE CALL_SIGN  \\\n",
       "0            8.8  MIAMI INTERNATIONAL AIRPORT, FL US       FM-12     99999   \n",
       "1            8.8  MIAMI INTERNATIONAL AIRPORT, FL US       FM-15     KMIA    \n",
       "13592        8.8  MIAMI INTERNATIONAL AIRPORT, FL US       FM-15     KMIA    \n",
       "13593        8.8  MIAMI INTERNATIONAL AIRPORT, FL US       FM-15     KMIA    \n",
       "\n",
       "      QUALITY_CONTROL  ...  OC1  OD1  OE1  OE2  OE3  RH1  RH2  RH3  \\\n",
       "0                V020  ...  NaN  NaN  NaN  NaN  NaN  NaN  NaN  NaN   \n",
       "1                V030  ...  NaN  NaN  NaN  NaN  NaN  NaN  NaN  NaN   \n",
       "13592            V030  ...  NaN  NaN  NaN  NaN  NaN  NaN  NaN  NaN   \n",
       "13593            V030  ...  NaN  NaN  NaN  NaN  NaN  NaN  NaN  NaN   \n",
       "\n",
       "                                                     REM               EQD  \n",
       "0      SYN08072202 32566 21106 10244 20217 30200 4021...               NaN  \n",
       "1      MET09312/31/18 19:53:01 METAR KMIA 010053Z 110...  D01      0ADE726  \n",
       "13592  MET10612/31/19 17:53:02 METAR KMIA 312253Z 330...  D01      0ADE726  \n",
       "13593  MET11712/31/19 18:53:02 METAR KMIA 312353Z 340...  D01      0ADE726  \n",
       "\n",
       "[4 rows x 89 columns]"
      ]
     },
     "execution_count": 4,
     "metadata": {},
     "output_type": "execute_result"
    }
   ],
   "source": [
    "ends(MIA_temp ,2)"
   ]
  },
  {
   "cell_type": "code",
   "execution_count": 5,
   "id": "04f0644e-daac-4848-8995-915df93a5b1a",
   "metadata": {},
   "outputs": [],
   "source": [
    "time_date = []\n",
    "temperature_C = []\n",
    "\n",
    "for j, i in zip(MIA_temp['DATE'].values, MIA_temp['TMP'].values.astype(str)):\n",
    "\n",
    "    time_date.append(j)\n",
    "\n",
    "    # convert the string format to decimal format (originally in METAR code)\n",
    "    temperature_C.append(float(i[0]+i.split(',')[0][2:-1]+'.'+i.split(',')[0][-1]))\n",
    "    \n",
    "time_date = np.array(time_date)\n",
    "temperature_C = np.array(temperature_C)\n",
    "\n",
    "temperature_F = cel_to_far(temperature_C)\n",
    "temperature_C = cel_to_nan(temperature_C)"
   ]
  },
  {
   "cell_type": "code",
   "execution_count": 6,
   "id": "c34cb7b0-bb70-401e-9f82-30d6e6ae10d1",
   "metadata": {},
   "outputs": [],
   "source": [
    "# making into dataframe for easier manipulation\n",
    "\n",
    "# initialize data of lists.\n",
    "data = {'Datetime': pd.to_datetime(time_date),\n",
    "        'Temperature_C': temperature_C,\n",
    "        'Temperature_F': temperature_F,\n",
    "       }\n",
    "\n",
    "# Create DataFrame and quality control\n",
    "df = pd.DataFrame(data)\n",
    "df = df.dropna()  # drop any nan values (which occurs at same time each day)\n",
    "df = df.drop_duplicates(keep='first')\n",
    "# drop any duplicate rows\n",
    "df = df[~df['Datetime'].duplicated()].drop_duplicates()\n",
    "df = df[(df['Datetime']>='2019-06-09')&(df['Datetime']<='2019-08-31T23:59:00')] \n",
    "# subset the data using dates of interest"
   ]
  },
  {
   "cell_type": "code",
   "execution_count": 7,
   "id": "97d35e6e-f323-4f56-b92a-41aeb7fb8201",
   "metadata": {},
   "outputs": [
    {
     "data": {
      "text/html": [
       "<div>\n",
       "<style scoped>\n",
       "    .dataframe tbody tr th:only-of-type {\n",
       "        vertical-align: middle;\n",
       "    }\n",
       "\n",
       "    .dataframe tbody tr th {\n",
       "        vertical-align: top;\n",
       "    }\n",
       "\n",
       "    .dataframe thead th {\n",
       "        text-align: right;\n",
       "    }\n",
       "</style>\n",
       "<table border=\"1\" class=\"dataframe\">\n",
       "  <thead>\n",
       "    <tr style=\"text-align: right;\">\n",
       "      <th></th>\n",
       "      <th>Datetime</th>\n",
       "      <th>Temperature_C</th>\n",
       "      <th>Temperature_F</th>\n",
       "    </tr>\n",
       "  </thead>\n",
       "  <tbody>\n",
       "    <tr>\n",
       "      <th>5789</th>\n",
       "      <td>2019-06-09 00:00:00</td>\n",
       "      <td>26.7</td>\n",
       "      <td>80.06</td>\n",
       "    </tr>\n",
       "    <tr>\n",
       "      <th>5790</th>\n",
       "      <td>2019-06-09 00:53:00</td>\n",
       "      <td>26.7</td>\n",
       "      <td>80.06</td>\n",
       "    </tr>\n",
       "    <tr>\n",
       "      <th>9122</th>\n",
       "      <td>2019-08-31 22:53:00</td>\n",
       "      <td>30.6</td>\n",
       "      <td>87.08</td>\n",
       "    </tr>\n",
       "    <tr>\n",
       "      <th>9123</th>\n",
       "      <td>2019-08-31 23:53:00</td>\n",
       "      <td>29.4</td>\n",
       "      <td>84.92</td>\n",
       "    </tr>\n",
       "  </tbody>\n",
       "</table>\n",
       "</div>"
      ],
      "text/plain": [
       "                Datetime  Temperature_C  Temperature_F\n",
       "5789 2019-06-09 00:00:00           26.7          80.06\n",
       "5790 2019-06-09 00:53:00           26.7          80.06\n",
       "9122 2019-08-31 22:53:00           30.6          87.08\n",
       "9123 2019-08-31 23:53:00           29.4          84.92"
      ]
     },
     "execution_count": 7,
     "metadata": {},
     "output_type": "execute_result"
    }
   ],
   "source": [
    "ends(df, 2)"
   ]
  },
  {
   "cell_type": "markdown",
   "id": "7fb90fc3-b81c-4f4f-b81b-a03e9e81b9ba",
   "metadata": {},
   "source": [
    "### Shading Dade"
   ]
  },
  {
   "cell_type": "code",
   "execution_count": 8,
   "id": "bace6de0-748e-47cb-954e-4ecee1ac08f1",
   "metadata": {},
   "outputs": [],
   "source": [
    "SD_temp = pd.read_excel('/glade/scratch/molina/ShadingDadeData.xlsx')\n",
    "SD_temp = SD_temp[(SD_temp['Datetime']>='2019-06-09')&(SD_temp['Datetime']<='2019-08-31T23:59:00')]"
   ]
  },
  {
   "cell_type": "code",
   "execution_count": 9,
   "id": "513ea234-5fcd-4629-8eb6-33a95681dfa4",
   "metadata": {},
   "outputs": [
    {
     "data": {
      "text/html": [
       "<div>\n",
       "<style scoped>\n",
       "    .dataframe tbody tr th:only-of-type {\n",
       "        vertical-align: middle;\n",
       "    }\n",
       "\n",
       "    .dataframe tbody tr th {\n",
       "        vertical-align: top;\n",
       "    }\n",
       "\n",
       "    .dataframe thead th {\n",
       "        text-align: right;\n",
       "    }\n",
       "</style>\n",
       "<table border=\"1\" class=\"dataframe\">\n",
       "  <thead>\n",
       "    <tr style=\"text-align: right;\">\n",
       "      <th></th>\n",
       "      <th>Datetime</th>\n",
       "      <th>Temperature (C)</th>\n",
       "      <th>Temperature (F)</th>\n",
       "    </tr>\n",
       "  </thead>\n",
       "  <tbody>\n",
       "    <tr>\n",
       "      <th>13</th>\n",
       "      <td>2019-06-09 00:00:00.000</td>\n",
       "      <td>25.500</td>\n",
       "      <td>77.900</td>\n",
       "    </tr>\n",
       "    <tr>\n",
       "      <th>14</th>\n",
       "      <td>2019-06-09 01:00:00.288</td>\n",
       "      <td>26.125</td>\n",
       "      <td>79.025</td>\n",
       "    </tr>\n",
       "    <tr>\n",
       "      <th>2027</th>\n",
       "      <td>2019-08-31 22:00:00.288</td>\n",
       "      <td>27.875</td>\n",
       "      <td>82.175</td>\n",
       "    </tr>\n",
       "    <tr>\n",
       "      <th>2028</th>\n",
       "      <td>2019-08-31 22:59:59.712</td>\n",
       "      <td>26.750</td>\n",
       "      <td>80.150</td>\n",
       "    </tr>\n",
       "  </tbody>\n",
       "</table>\n",
       "</div>"
      ],
      "text/plain": [
       "                    Datetime  Temperature (C)  Temperature (F)\n",
       "13   2019-06-09 00:00:00.000           25.500           77.900\n",
       "14   2019-06-09 01:00:00.288           26.125           79.025\n",
       "2027 2019-08-31 22:00:00.288           27.875           82.175\n",
       "2028 2019-08-31 22:59:59.712           26.750           80.150"
      ]
     },
     "execution_count": 9,
     "metadata": {},
     "output_type": "execute_result"
    }
   ],
   "source": [
    "ends(SD_temp, 2)"
   ]
  },
  {
   "cell_type": "markdown",
   "id": "624126b7-4cfb-4b5d-9424-3cee3ac2adb2",
   "metadata": {},
   "source": [
    "### Check data"
   ]
  },
  {
   "cell_type": "code",
   "execution_count": 10,
   "id": "9e0ea68a-8c14-4193-9ac4-2c2654cb896e",
   "metadata": {},
   "outputs": [
    {
     "data": {
      "text/plain": [
       "Datetime         0\n",
       "Temperature_C    0\n",
       "Temperature_F    0\n",
       "dtype: int64"
      ]
     },
     "execution_count": 10,
     "metadata": {},
     "output_type": "execute_result"
    }
   ],
   "source": [
    "df.isnull().sum()"
   ]
  },
  {
   "cell_type": "code",
   "execution_count": 11,
   "id": "7752498e-eb19-46d3-a4f3-34cf59433d41",
   "metadata": {},
   "outputs": [
    {
     "data": {
      "text/plain": [
       "Datetime           0\n",
       "Temperature (C)    0\n",
       "Temperature (F)    0\n",
       "dtype: int64"
      ]
     },
     "execution_count": 11,
     "metadata": {},
     "output_type": "execute_result"
    }
   ],
   "source": [
    "SD_temp.isnull().sum()"
   ]
  },
  {
   "cell_type": "markdown",
   "id": "52c7ccdc-d9dd-49f3-a69f-6ef932bede57",
   "metadata": {},
   "source": [
    "### Create new variables"
   ]
  },
  {
   "cell_type": "code",
   "execution_count": 12,
   "id": "d7b3a16e-03fe-4e9d-a644-9f62b22546c6",
   "metadata": {},
   "outputs": [],
   "source": [
    "# Daily temperature maximum for Shading Dade\n",
    "tmax_SD_daily = SD_temp.set_index('Datetime').resample('1D').max()"
   ]
  },
  {
   "cell_type": "code",
   "execution_count": 13,
   "id": "7389cf77-cd0d-4de1-8d4a-8dc5f632b4fe",
   "metadata": {},
   "outputs": [
    {
     "data": {
      "text/plain": [
       "Temperature (C)    0\n",
       "Temperature (F)    0\n",
       "dtype: int64"
      ]
     },
     "execution_count": 13,
     "metadata": {},
     "output_type": "execute_result"
    }
   ],
   "source": [
    "tmax_SD_daily.isnull().sum()"
   ]
  },
  {
   "cell_type": "code",
   "execution_count": 14,
   "id": "305c99e2-f60e-4d48-83e9-dfa239eb601d",
   "metadata": {},
   "outputs": [],
   "source": [
    "# Daily temperature minimum for Shading Dade\n",
    "tmin_SD_daily = SD_temp.set_index('Datetime').resample('1D').min()"
   ]
  },
  {
   "cell_type": "code",
   "execution_count": 15,
   "id": "100fd8b5-3c76-4e49-a416-401379c286b6",
   "metadata": {},
   "outputs": [
    {
     "data": {
      "text/plain": [
       "Temperature (C)    0\n",
       "Temperature (F)    0\n",
       "dtype: int64"
      ]
     },
     "execution_count": 15,
     "metadata": {},
     "output_type": "execute_result"
    }
   ],
   "source": [
    "tmin_SD_daily.isnull().sum()"
   ]
  },
  {
   "cell_type": "code",
   "execution_count": 16,
   "id": "29f9d4af-8942-47bd-afc6-ab5613500b83",
   "metadata": {},
   "outputs": [],
   "source": [
    "# Daily temperature maximum for NOAA (KMIA)\n",
    "tmax_NOAA_daily = df.set_index('Datetime').resample('1D').max()"
   ]
  },
  {
   "cell_type": "code",
   "execution_count": 17,
   "id": "9801bbbb-8979-42c4-abe2-df834202a6b7",
   "metadata": {},
   "outputs": [
    {
     "data": {
      "text/plain": [
       "Temperature_C    0\n",
       "Temperature_F    0\n",
       "dtype: int64"
      ]
     },
     "execution_count": 17,
     "metadata": {},
     "output_type": "execute_result"
    }
   ],
   "source": [
    "tmax_NOAA_daily.isnull().sum()"
   ]
  },
  {
   "cell_type": "code",
   "execution_count": 18,
   "id": "c1138098-8519-425b-a7b2-b85dbf18a014",
   "metadata": {},
   "outputs": [],
   "source": [
    "# Daily temperature minimum for NOAA (KMIA)\n",
    "tmin_NOAA_daily = df.set_index('Datetime').resample('1D').min()"
   ]
  },
  {
   "cell_type": "code",
   "execution_count": 19,
   "id": "4f8a0d26-99e8-47ff-8963-155c32043f9f",
   "metadata": {},
   "outputs": [
    {
     "data": {
      "text/plain": [
       "Temperature_C    0\n",
       "Temperature_F    0\n",
       "dtype: int64"
      ]
     },
     "execution_count": 19,
     "metadata": {},
     "output_type": "execute_result"
    }
   ],
   "source": [
    "tmin_NOAA_daily.isnull().sum()"
   ]
  },
  {
   "cell_type": "code",
   "execution_count": 20,
   "id": "d043e8af-44ea-4da7-9623-d5acf0cb742a",
   "metadata": {},
   "outputs": [],
   "source": [
    "# corresponding date/time for shading dade daily temperature maximum\n",
    "tmax_SD_daily_datetime = SD_temp.set_index('Datetime').resample('1D').agg(\n",
    "    lambda x : np.nan if x.count() == 0 else x.idxmax()\n",
    ")['Temperature (C)']"
   ]
  },
  {
   "cell_type": "code",
   "execution_count": 22,
   "id": "a811761f-cc6a-4680-8c14-6113483ed896",
   "metadata": {},
   "outputs": [
    {
     "data": {
      "text/plain": [
       "0"
      ]
     },
     "execution_count": 22,
     "metadata": {},
     "output_type": "execute_result"
    }
   ],
   "source": [
    "tmax_SD_daily_datetime.isnull().sum()"
   ]
  },
  {
   "cell_type": "code",
   "execution_count": 23,
   "id": "ac144e72-f846-415f-b743-d6a71463678b",
   "metadata": {},
   "outputs": [],
   "source": [
    "# corresponding date/time for shading dade daily temperature minimum\n",
    "tmin_SD_daily_datetime = SD_temp.set_index('Datetime').resample('1D').agg(\n",
    "    lambda x : np.nan if x.count() == 0 else x.idxmin()\n",
    ")['Temperature (C)']"
   ]
  },
  {
   "cell_type": "code",
   "execution_count": 24,
   "id": "25f51ee8-3b69-4342-a4c9-4f3dfa6fe187",
   "metadata": {},
   "outputs": [
    {
     "data": {
      "text/plain": [
       "0"
      ]
     },
     "execution_count": 24,
     "metadata": {},
     "output_type": "execute_result"
    }
   ],
   "source": [
    "tmin_SD_daily_datetime.isnull().sum()"
   ]
  },
  {
   "cell_type": "code",
   "execution_count": 25,
   "id": "1fbac95e-fa40-4c7d-9ad2-a53accb55670",
   "metadata": {},
   "outputs": [],
   "source": [
    "# corresponding date/time for noaa daily temperature maximum\n",
    "tmax_NOAA_daily_datetime = df.set_index('Datetime').resample('1D').agg(\n",
    "    lambda x : np.nan if x.count() == 0 else x.idxmax()\n",
    ")['Temperature_C']"
   ]
  },
  {
   "cell_type": "code",
   "execution_count": 26,
   "id": "0f67a1d2-26f2-4364-8df6-ad8115c5c8a0",
   "metadata": {},
   "outputs": [
    {
     "data": {
      "text/plain": [
       "0"
      ]
     },
     "execution_count": 26,
     "metadata": {},
     "output_type": "execute_result"
    }
   ],
   "source": [
    "tmax_NOAA_daily_datetime.isnull().sum()"
   ]
  },
  {
   "cell_type": "code",
   "execution_count": 27,
   "id": "35c8e40c-d00f-486f-8458-184830c0050a",
   "metadata": {},
   "outputs": [],
   "source": [
    "# corresponding date/time for noaa daily temperature minimum\n",
    "tmin_NOAA_daily_datetime = df.set_index('Datetime').resample('1D').agg(\n",
    "    lambda x : np.nan if x.count() == 0 else x.idxmin()\n",
    ")['Temperature_C']"
   ]
  },
  {
   "cell_type": "code",
   "execution_count": 28,
   "id": "3623cd0f-02c9-4f15-aa51-550ce4b6fa47",
   "metadata": {},
   "outputs": [
    {
     "data": {
      "text/plain": [
       "0"
      ]
     },
     "execution_count": 28,
     "metadata": {},
     "output_type": "execute_result"
    }
   ],
   "source": [
    "tmin_NOAA_daily_datetime.isnull().sum()"
   ]
  },
  {
   "cell_type": "code",
   "execution_count": 29,
   "id": "33dfe7a2-6b2f-4090-bd4f-01a2bb45f137",
   "metadata": {},
   "outputs": [],
   "source": [
    "# the NOAA temperature during the (same time as the) daily maximum temperature of Shading Dade\n",
    "\n",
    "NOAA_temp_during_SD_tmax_C = []\n",
    "NOAA_temp_during_SD_tmax_F = []\n",
    "\n",
    "for i in tmax_SD_daily_datetime.values:\n",
    "    \n",
    "    with warnings.catch_warnings():\n",
    "        \n",
    "        warnings.simplefilter('ignore')\n",
    "    \n",
    "        NOAA_temp_during_SD_tmax_C.append(\n",
    "            df.iloc[df.set_index('Datetime').index.get_loc(\n",
    "                i, method='nearest')]['Temperature_C'])\n",
    "\n",
    "        NOAA_temp_during_SD_tmax_F.append(\n",
    "            df.iloc[df.set_index('Datetime').index.get_loc(\n",
    "                i, method='nearest')]['Temperature_F'])\n",
    "    \n",
    "NOAA_temp_during_SD_tmax_C = np.array(NOAA_temp_during_SD_tmax_C)\n",
    "NOAA_temp_during_SD_tmax_F = np.array(NOAA_temp_during_SD_tmax_F)"
   ]
  },
  {
   "cell_type": "code",
   "execution_count": 30,
   "id": "bdd200be-97ac-42c9-91a5-e8bbe6485faf",
   "metadata": {},
   "outputs": [
    {
     "name": "stdout",
     "output_type": "stream",
     "text": [
      "False\n",
      "False\n"
     ]
    }
   ],
   "source": [
    "print(np.any(np.isnan(NOAA_temp_during_SD_tmax_C)))\n",
    "print(np.any(np.isnan(NOAA_temp_during_SD_tmax_F)))"
   ]
  },
  {
   "cell_type": "code",
   "execution_count": 31,
   "id": "ee628244-97f0-4e0c-a5e1-a698675e65d2",
   "metadata": {},
   "outputs": [],
   "source": [
    "# the NOAA temperature during the (same time as the) daily minimum temperature of Shading Dade\n",
    "\n",
    "NOAA_temp_during_SD_tmin_C = []\n",
    "NOAA_temp_during_SD_tmin_F = []\n",
    "\n",
    "for i in tmin_SD_daily_datetime.values:\n",
    "    \n",
    "    with warnings.catch_warnings():\n",
    "        \n",
    "        warnings.simplefilter('ignore')\n",
    "    \n",
    "        NOAA_temp_during_SD_tmin_C.append(\n",
    "            df.iloc[df.set_index('Datetime').index.get_loc(\n",
    "                i, method='nearest')]['Temperature_C'])\n",
    "\n",
    "        NOAA_temp_during_SD_tmin_F.append(\n",
    "            df.iloc[df.set_index('Datetime').index.get_loc(\n",
    "                i, method='nearest')]['Temperature_F'])\n",
    "    \n",
    "NOAA_temp_during_SD_tmin_C = np.array(NOAA_temp_during_SD_tmin_C)\n",
    "NOAA_temp_during_SD_tmin_F = np.array(NOAA_temp_during_SD_tmin_F)"
   ]
  },
  {
   "cell_type": "code",
   "execution_count": 32,
   "id": "f52ed7e3-b8f8-4026-ac13-44c722e3c6a3",
   "metadata": {},
   "outputs": [
    {
     "name": "stdout",
     "output_type": "stream",
     "text": [
      "False\n",
      "False\n"
     ]
    }
   ],
   "source": [
    "print(np.any(np.isnan(NOAA_temp_during_SD_tmin_C)))\n",
    "print(np.any(np.isnan(NOAA_temp_during_SD_tmin_F)))"
   ]
  },
  {
   "cell_type": "code",
   "execution_count": 33,
   "id": "50ef9a4e-7fa8-4c87-a2a7-7a56e06aba1a",
   "metadata": {},
   "outputs": [],
   "source": [
    "# the Shading Dade temperature during the (same time as the) daily maximum temperature of NOAA KMIA\n",
    "\n",
    "SD_temp_during_NOAA_tmax_C = []\n",
    "SD_temp_during_NOAA_tmax_F = []\n",
    "\n",
    "for i in tmax_NOAA_daily_datetime.values:\n",
    "    \n",
    "    with warnings.catch_warnings():\n",
    "        \n",
    "        warnings.simplefilter('ignore')\n",
    "    \n",
    "        SD_temp_during_NOAA_tmax_C.append(\n",
    "            SD_temp.iloc[SD_temp.set_index('Datetime').index.get_loc(\n",
    "                i, method='nearest')]['Temperature (C)'])\n",
    "\n",
    "        SD_temp_during_NOAA_tmax_F.append(\n",
    "            SD_temp.iloc[SD_temp.set_index('Datetime').index.get_loc(\n",
    "                i, method='nearest')]['Temperature (F)'])\n",
    "    \n",
    "SD_temp_during_NOAA_tmax_C = np.array(SD_temp_during_NOAA_tmax_C)\n",
    "SD_temp_during_NOAA_tmax_F = np.array(SD_temp_during_NOAA_tmax_F)"
   ]
  },
  {
   "cell_type": "code",
   "execution_count": 34,
   "id": "3fbd48db-ff6e-4e9b-a457-6a7f628350be",
   "metadata": {},
   "outputs": [
    {
     "name": "stdout",
     "output_type": "stream",
     "text": [
      "False\n",
      "False\n"
     ]
    }
   ],
   "source": [
    "print(np.any(np.isnan(SD_temp_during_NOAA_tmax_C)))\n",
    "print(np.any(np.isnan(SD_temp_during_NOAA_tmax_F)))"
   ]
  },
  {
   "cell_type": "code",
   "execution_count": 35,
   "id": "117609a2-dd59-4112-ac63-f72b3f7aaa12",
   "metadata": {},
   "outputs": [],
   "source": [
    "# the Shading Dade temperature during the (same time as the) daily minimum temperature of NOAA KMIA\n",
    "\n",
    "SD_temp_during_NOAA_tmin_C = []\n",
    "SD_temp_during_NOAA_tmin_F = []\n",
    "\n",
    "for i in tmin_NOAA_daily_datetime.values:\n",
    "    \n",
    "    with warnings.catch_warnings():\n",
    "        \n",
    "        warnings.simplefilter('ignore')\n",
    "\n",
    "        SD_temp_during_NOAA_tmin_C.append(\n",
    "            SD_temp.iloc[SD_temp.set_index('Datetime').index.get_loc(\n",
    "                i, method='nearest')]['Temperature (C)'])\n",
    "\n",
    "        SD_temp_during_NOAA_tmin_F.append(\n",
    "            SD_temp.iloc[SD_temp.set_index('Datetime').index.get_loc(\n",
    "                i, method='nearest')]['Temperature (F)'])\n",
    "    \n",
    "SD_temp_during_NOAA_tmin_C = np.array(SD_temp_during_NOAA_tmin_C)\n",
    "SD_temp_during_NOAA_tmin_F = np.array(SD_temp_during_NOAA_tmin_F)"
   ]
  },
  {
   "cell_type": "code",
   "execution_count": 36,
   "id": "cbb54949-4dbf-4b9b-98ab-82806229bfab",
   "metadata": {},
   "outputs": [
    {
     "name": "stdout",
     "output_type": "stream",
     "text": [
      "False\n",
      "False\n"
     ]
    }
   ],
   "source": [
    "print(np.any(np.isnan(SD_temp_during_NOAA_tmin_C)))\n",
    "print(np.any(np.isnan(SD_temp_during_NOAA_tmin_F)))"
   ]
  },
  {
   "cell_type": "markdown",
   "id": "3bf93b57-d538-473d-b935-0238f48fc963",
   "metadata": {},
   "source": [
    "### differences (temperature)"
   ]
  },
  {
   "cell_type": "code",
   "execution_count": 37,
   "id": "bcac4877-330c-4fa6-b5a2-68ff8c4e33e5",
   "metadata": {},
   "outputs": [],
   "source": [
    "# subtracting NOAA KMIA daily maximum temperature from the Shading Dade daily maximum temperature (C)\n",
    "tmax_daily_difference_C = tmax_NOAA_daily['Temperature_C'] - tmax_SD_daily['Temperature (C)']\n",
    "\n",
    "# subtracting NOAA KMIA daily maximum temperature from the Shading Dade daily maximum temperature (F)\n",
    "tmax_daily_difference_F = tmax_NOAA_daily['Temperature_F'] - tmax_SD_daily['Temperature (F)']\n",
    "\n",
    "# subtracting NOAA KMIA daily minimum temperature from the Shading Dade daily minimum temperature (C)\n",
    "tmin_daily_difference_C = tmin_NOAA_daily['Temperature_C'] - tmin_SD_daily['Temperature (C)']\n",
    "\n",
    "# subtracting NOAA KMIA daily minimum temperature from the Shading Dade daily minimum temperature (F)\n",
    "tmin_daily_difference_F = tmin_NOAA_daily['Temperature_F'] - tmin_SD_daily['Temperature (F)']"
   ]
  },
  {
   "cell_type": "code",
   "execution_count": 38,
   "id": "47e38ae4-e17d-4c7f-a977-fb75ed55c89f",
   "metadata": {},
   "outputs": [],
   "source": [
    "# subtracting NOAA corresponding temperature during Shading Dade daily max temperature \n",
    "# from Shading Dade daily max temperature (C)\n",
    "NOAA_temp_during_SD_tmax_C_diff = tmax_SD_daily['Temperature (C)'] - NOAA_temp_during_SD_tmax_C\n",
    "\n",
    "# subtracting NOAA corresponding temperature during Shading Dade daily max temperature \n",
    "# from Shading Dade daily max temperature (F)\n",
    "NOAA_temp_during_SD_tmax_F_diff = tmax_SD_daily['Temperature (F)'] - NOAA_temp_during_SD_tmax_F\n",
    "\n",
    "# subtracting NOAA corresponding temperature during Shading Dade daily min temperature \n",
    "# from Shading Dade daily min temperature (C)\n",
    "NOAA_temp_during_SD_tmin_C_diff = tmin_SD_daily['Temperature (C)'] - NOAA_temp_during_SD_tmin_C\n",
    "\n",
    "# subtracting NOAA corresponding temperature during Shading Dade daily min temperature \n",
    "# from Shading Dade daily min temperature (F)\n",
    "NOAA_temp_during_SD_tmin_F_diff = tmin_SD_daily['Temperature (F)'] - NOAA_temp_during_SD_tmin_F"
   ]
  },
  {
   "cell_type": "code",
   "execution_count": 39,
   "id": "d5cd4468-f206-4334-a75f-0c9407c375ba",
   "metadata": {},
   "outputs": [],
   "source": [
    "# subtracting Shading Dade corresponding temperature during NOAA KMIA daily max temperature \n",
    "# from NOAA daily max temperature (C)\n",
    "SD_temp_during_NOAA_tmax_C_diff = tmax_NOAA_daily['Temperature_C'] - SD_temp_during_NOAA_tmax_C\n",
    "\n",
    "# subtracting Shading Dade corresponding temperature during NOAA KMIA daily max temperature \n",
    "# from NOAA daily max temperature (F)\n",
    "SD_temp_during_NOAA_tmax_F_diff = tmax_NOAA_daily['Temperature_F'] - SD_temp_during_NOAA_tmax_F\n",
    "\n",
    "# subtracting Shading Dade corresponding temperature during NOAA KMIA daily min temperature \n",
    "# from NOAA daily min temperature (C)\n",
    "SD_temp_during_NOAA_tmin_C_diff = tmin_NOAA_daily['Temperature_C'] - SD_temp_during_NOAA_tmin_C\n",
    "\n",
    "# subtracting Shading Dade corresponding temperature during NOAA KMIA daily min temperature \n",
    "# from NOAA daily min temperature (F)\n",
    "SD_temp_during_NOAA_tmin_F_diff = tmin_NOAA_daily['Temperature_F'] - SD_temp_during_NOAA_tmin_F"
   ]
  },
  {
   "cell_type": "markdown",
   "id": "388a2962-b739-4eec-a1bf-adc592ebb065",
   "metadata": {},
   "source": [
    "### differences (time)"
   ]
  },
  {
   "cell_type": "code",
   "execution_count": 40,
   "id": "c8e7125b-dd58-441e-8d82-6d811c410252",
   "metadata": {},
   "outputs": [],
   "source": [
    "# absolute time difference between daily maximum temperature (NOAA KMIA and Shading Dade)\n",
    "tmax_diff = []\n",
    "for i, j in zip(tmax_SD_daily_datetime.values, tmax_NOAA_daily_datetime.values):\n",
    "    tmax_diff.append(compute_time_difference(i, j))\n",
    "tmax_diff = np.array(tmax_diff)\n",
    "\n",
    "# absolute time difference between daily minimum temperature (NOAA KMIA and Shading Dade)\n",
    "tmin_diff = []\n",
    "for i, j in zip(tmin_SD_daily_datetime.values, tmin_NOAA_daily_datetime.values):\n",
    "    tmin_diff.append(compute_time_difference(i, j))\n",
    "tmin_diff = np.array(tmin_diff)"
   ]
  },
  {
   "cell_type": "markdown",
   "id": "c9912a94-daa8-40b2-bccf-6d1088c30ed7",
   "metadata": {},
   "source": [
    "### Create single CSV file with data"
   ]
  },
  {
   "cell_type": "code",
   "execution_count": 41,
   "id": "a26bc1bc-20b2-4b48-8d50-f8b46bd4b283",
   "metadata": {},
   "outputs": [],
   "source": [
    "data = {'ShadingDade_Temperature_Daily_Max (C)': tmax_SD_daily['Temperature (C)'],\n",
    "        'ShadingDade_Temperature_Daily_Min (C)': tmin_SD_daily['Temperature (C)'],\n",
    "        'NOAA_KMIA_Temperature_Daily_Max (C)': tmax_NOAA_daily['Temperature_C'],\n",
    "        'NOAA_KMIA_Temperature_Daily_Min (C)': tmin_NOAA_daily['Temperature_C'],\n",
    "        \n",
    "        'ShadingDade_Temperature_Daily_Max (F)': tmax_SD_daily['Temperature (F)'],\n",
    "        'ShadingDade_Temperature_Daily_Min (F)': tmin_SD_daily['Temperature (F)'],\n",
    "        'NOAA_KMIA_Temperature_Daily_Max (F)': tmax_NOAA_daily['Temperature_F'],\n",
    "        'NOAA_KMIA_Temperature_Daily_Min (F)': tmin_NOAA_daily['Temperature_F'],\n",
    "        \n",
    "        'Daily_Temperature_Max_Difference (C)': tmax_daily_difference_C,\n",
    "        'Daily_Temperature_Min_Difference (C)': tmin_daily_difference_C,\n",
    "        'Daily_Temperature_Max_Difference (F)': tmax_daily_difference_F,\n",
    "        'Daily_Temperature_Min_Difference (F)': tmin_daily_difference_F,\n",
    "        \n",
    "        'Corresponding_Datetime_ShadingDade_DailyMax': tmax_SD_daily_datetime.values,\n",
    "        'Corresponding_Datetime_ShadingDade_DailyMin': tmin_SD_daily_datetime.values,\n",
    "        'Corresponding_Datetime_NOAA_KMIA_DailyMax': tmax_NOAA_daily_datetime.values,\n",
    "        'Corresponding_Datetime_NOAA_KMIA_DailyMin': tmin_NOAA_daily_datetime.values,\n",
    "        \n",
    "        'Corresponding_Datetime_NOAA_KMIA_DailyMax_Difference (C)': NOAA_temp_during_SD_tmax_C_diff,\n",
    "        'Corresponding_Datetime_NOAA_KMIA_DailyMax_Difference (F)': NOAA_temp_during_SD_tmax_F_diff,\n",
    "        'Corresponding_Datetime_NOAA_KMIA_DailyMin_Difference (C)': NOAA_temp_during_SD_tmin_C_diff,\n",
    "        'Corresponding_Datetime_NOAA_KMIA_DailyMin_Difference (F)': NOAA_temp_during_SD_tmin_F_diff,\n",
    "        \n",
    "        'Corresponding_Datetime_ShadingDade_DailyMax_Difference (C)': SD_temp_during_NOAA_tmax_C_diff,\n",
    "        'Corresponding_Datetime_ShadingDade_DailyMax_Difference (F)': SD_temp_during_NOAA_tmax_F_diff,\n",
    "        'Corresponding_Datetime_ShadingDade_DailyMin_Difference (C)': SD_temp_during_NOAA_tmin_C_diff,\n",
    "        'Corresponding_Datetime_ShadingDade_DailyMin_Difference (F)': SD_temp_during_NOAA_tmin_F_diff,\n",
    "        \n",
    "        'NOAA_Corresponding_Temperature_During_ShadingDade_DailyMax (C)': NOAA_temp_during_SD_tmax_C,\n",
    "        'NOAA_Corresponding_Temperature_During_ShadingDade_DailyMin (C)': NOAA_temp_during_SD_tmin_C,\n",
    "        'ShadingDade_Corresponding_Temperature_During_NOAA_DailyMax (C)': SD_temp_during_NOAA_tmax_C,\n",
    "        'ShadingDade_Corresponding_Temperature_During_NOAA_DailyMin (C)': SD_temp_during_NOAA_tmin_C,\n",
    "        \n",
    "        'NOAA_Corresponding_Temperature_During_ShadingDade_DailyMax (F)': NOAA_temp_during_SD_tmax_F,\n",
    "        'NOAA_Corresponding_Temperature_During_ShadingDade_DailyMin (F)': NOAA_temp_during_SD_tmin_F,\n",
    "        'ShadingDade_Corresponding_Temperature_During_NOAA_DailyMax (F)': SD_temp_during_NOAA_tmax_F,\n",
    "        'ShadingDade_Corresponding_Temperature_During_NOAA_DailyMin (F)': SD_temp_during_NOAA_tmin_F,\n",
    "        \n",
    "        'Absolute_time_difference_tmax_NOAA_ShadingDade (day H:M:S)': tmax_diff,\n",
    "        'Absolute_time_difference_tmin_NOAA_ShadingDade (day H:M:S)': tmin_diff,\n",
    "        \n",
    "        \n",
    "       }"
   ]
  },
  {
   "cell_type": "code",
   "execution_count": 42,
   "id": "3b7498fd-78a1-4324-9f12-8a5e8ebaa8f3",
   "metadata": {},
   "outputs": [],
   "source": [
    "df_FINAL = pd.DataFrame(data)"
   ]
  },
  {
   "cell_type": "code",
   "execution_count": 43,
   "id": "fe101573-e5db-4e1a-bb29-2f3ee96d4a0c",
   "metadata": {},
   "outputs": [
    {
     "data": {
      "text/html": [
       "<div>\n",
       "<style scoped>\n",
       "    .dataframe tbody tr th:only-of-type {\n",
       "        vertical-align: middle;\n",
       "    }\n",
       "\n",
       "    .dataframe tbody tr th {\n",
       "        vertical-align: top;\n",
       "    }\n",
       "\n",
       "    .dataframe thead th {\n",
       "        text-align: right;\n",
       "    }\n",
       "</style>\n",
       "<table border=\"1\" class=\"dataframe\">\n",
       "  <thead>\n",
       "    <tr style=\"text-align: right;\">\n",
       "      <th></th>\n",
       "      <th>ShadingDade_Temperature_Daily_Max (C)</th>\n",
       "      <th>ShadingDade_Temperature_Daily_Min (C)</th>\n",
       "      <th>NOAA_KMIA_Temperature_Daily_Max (C)</th>\n",
       "      <th>NOAA_KMIA_Temperature_Daily_Min (C)</th>\n",
       "      <th>ShadingDade_Temperature_Daily_Max (F)</th>\n",
       "      <th>ShadingDade_Temperature_Daily_Min (F)</th>\n",
       "      <th>NOAA_KMIA_Temperature_Daily_Max (F)</th>\n",
       "      <th>NOAA_KMIA_Temperature_Daily_Min (F)</th>\n",
       "      <th>Daily_Temperature_Max_Difference (C)</th>\n",
       "      <th>Daily_Temperature_Min_Difference (C)</th>\n",
       "      <th>...</th>\n",
       "      <th>NOAA_Corresponding_Temperature_During_ShadingDade_DailyMax (C)</th>\n",
       "      <th>NOAA_Corresponding_Temperature_During_ShadingDade_DailyMin (C)</th>\n",
       "      <th>ShadingDade_Corresponding_Temperature_During_NOAA_DailyMax (C)</th>\n",
       "      <th>ShadingDade_Corresponding_Temperature_During_NOAA_DailyMin (C)</th>\n",
       "      <th>NOAA_Corresponding_Temperature_During_ShadingDade_DailyMax (F)</th>\n",
       "      <th>NOAA_Corresponding_Temperature_During_ShadingDade_DailyMin (F)</th>\n",
       "      <th>ShadingDade_Corresponding_Temperature_During_NOAA_DailyMax (F)</th>\n",
       "      <th>ShadingDade_Corresponding_Temperature_During_NOAA_DailyMin (F)</th>\n",
       "      <th>Absolute_time_difference_tmax_NOAA_ShadingDade (day H:M:S)</th>\n",
       "      <th>Absolute_time_difference_tmin_NOAA_ShadingDade (day H:M:S)</th>\n",
       "    </tr>\n",
       "    <tr>\n",
       "      <th>Datetime</th>\n",
       "      <th></th>\n",
       "      <th></th>\n",
       "      <th></th>\n",
       "      <th></th>\n",
       "      <th></th>\n",
       "      <th></th>\n",
       "      <th></th>\n",
       "      <th></th>\n",
       "      <th></th>\n",
       "      <th></th>\n",
       "      <th></th>\n",
       "      <th></th>\n",
       "      <th></th>\n",
       "      <th></th>\n",
       "      <th></th>\n",
       "      <th></th>\n",
       "      <th></th>\n",
       "      <th></th>\n",
       "      <th></th>\n",
       "      <th></th>\n",
       "      <th></th>\n",
       "    </tr>\n",
       "  </thead>\n",
       "  <tbody>\n",
       "    <tr>\n",
       "      <th>2019-06-09</th>\n",
       "      <td>33.75</td>\n",
       "      <td>25.125</td>\n",
       "      <td>31.1</td>\n",
       "      <td>25.0</td>\n",
       "      <td>92.75</td>\n",
       "      <td>77.225</td>\n",
       "      <td>87.98</td>\n",
       "      <td>77.00</td>\n",
       "      <td>-2.65</td>\n",
       "      <td>-0.125</td>\n",
       "      <td>...</td>\n",
       "      <td>27.8</td>\n",
       "      <td>27.2</td>\n",
       "      <td>25.625</td>\n",
       "      <td>28.250</td>\n",
       "      <td>82.04</td>\n",
       "      <td>80.96</td>\n",
       "      <td>78.125</td>\n",
       "      <td>82.850</td>\n",
       "      <td>0 days 03:53:00</td>\n",
       "      <td>0 days 02:29:00</td>\n",
       "    </tr>\n",
       "    <tr>\n",
       "      <th>2019-06-10</th>\n",
       "      <td>38.50</td>\n",
       "      <td>23.250</td>\n",
       "      <td>31.7</td>\n",
       "      <td>23.9</td>\n",
       "      <td>101.30</td>\n",
       "      <td>73.850</td>\n",
       "      <td>89.06</td>\n",
       "      <td>75.02</td>\n",
       "      <td>-6.80</td>\n",
       "      <td>0.650</td>\n",
       "      <td>...</td>\n",
       "      <td>25.6</td>\n",
       "      <td>26.7</td>\n",
       "      <td>27.375</td>\n",
       "      <td>25.250</td>\n",
       "      <td>78.08</td>\n",
       "      <td>80.06</td>\n",
       "      <td>81.275</td>\n",
       "      <td>77.450</td>\n",
       "      <td>0 days 03:53:00</td>\n",
       "      <td>0 days 04:36:00</td>\n",
       "    </tr>\n",
       "    <tr>\n",
       "      <th>2019-08-30</th>\n",
       "      <td>35.00</td>\n",
       "      <td>23.875</td>\n",
       "      <td>32.2</td>\n",
       "      <td>25.0</td>\n",
       "      <td>95.00</td>\n",
       "      <td>74.975</td>\n",
       "      <td>89.96</td>\n",
       "      <td>77.00</td>\n",
       "      <td>-2.80</td>\n",
       "      <td>1.125</td>\n",
       "      <td>...</td>\n",
       "      <td>27.2</td>\n",
       "      <td>26.7</td>\n",
       "      <td>29.750</td>\n",
       "      <td>30.250</td>\n",
       "      <td>80.96</td>\n",
       "      <td>80.06</td>\n",
       "      <td>85.550</td>\n",
       "      <td>86.450</td>\n",
       "      <td>0 days 05:53:01</td>\n",
       "      <td>0 days 03:02:01</td>\n",
       "    </tr>\n",
       "    <tr>\n",
       "      <th>2019-08-31</th>\n",
       "      <td>36.50</td>\n",
       "      <td>26.750</td>\n",
       "      <td>32.2</td>\n",
       "      <td>26.7</td>\n",
       "      <td>97.70</td>\n",
       "      <td>80.150</td>\n",
       "      <td>89.96</td>\n",
       "      <td>80.06</td>\n",
       "      <td>-4.30</td>\n",
       "      <td>-0.050</td>\n",
       "      <td>...</td>\n",
       "      <td>30.0</td>\n",
       "      <td>27.8</td>\n",
       "      <td>31.625</td>\n",
       "      <td>33.625</td>\n",
       "      <td>86.00</td>\n",
       "      <td>82.04</td>\n",
       "      <td>88.925</td>\n",
       "      <td>92.525</td>\n",
       "      <td>0 days 03:53:00</td>\n",
       "      <td>0 days 01:53:01</td>\n",
       "    </tr>\n",
       "  </tbody>\n",
       "</table>\n",
       "<p>4 rows × 34 columns</p>\n",
       "</div>"
      ],
      "text/plain": [
       "            ShadingDade_Temperature_Daily_Max (C)  \\\n",
       "Datetime                                            \n",
       "2019-06-09                                  33.75   \n",
       "2019-06-10                                  38.50   \n",
       "2019-08-30                                  35.00   \n",
       "2019-08-31                                  36.50   \n",
       "\n",
       "            ShadingDade_Temperature_Daily_Min (C)  \\\n",
       "Datetime                                            \n",
       "2019-06-09                                 25.125   \n",
       "2019-06-10                                 23.250   \n",
       "2019-08-30                                 23.875   \n",
       "2019-08-31                                 26.750   \n",
       "\n",
       "            NOAA_KMIA_Temperature_Daily_Max (C)  \\\n",
       "Datetime                                          \n",
       "2019-06-09                                 31.1   \n",
       "2019-06-10                                 31.7   \n",
       "2019-08-30                                 32.2   \n",
       "2019-08-31                                 32.2   \n",
       "\n",
       "            NOAA_KMIA_Temperature_Daily_Min (C)  \\\n",
       "Datetime                                          \n",
       "2019-06-09                                 25.0   \n",
       "2019-06-10                                 23.9   \n",
       "2019-08-30                                 25.0   \n",
       "2019-08-31                                 26.7   \n",
       "\n",
       "            ShadingDade_Temperature_Daily_Max (F)  \\\n",
       "Datetime                                            \n",
       "2019-06-09                                  92.75   \n",
       "2019-06-10                                 101.30   \n",
       "2019-08-30                                  95.00   \n",
       "2019-08-31                                  97.70   \n",
       "\n",
       "            ShadingDade_Temperature_Daily_Min (F)  \\\n",
       "Datetime                                            \n",
       "2019-06-09                                 77.225   \n",
       "2019-06-10                                 73.850   \n",
       "2019-08-30                                 74.975   \n",
       "2019-08-31                                 80.150   \n",
       "\n",
       "            NOAA_KMIA_Temperature_Daily_Max (F)  \\\n",
       "Datetime                                          \n",
       "2019-06-09                                87.98   \n",
       "2019-06-10                                89.06   \n",
       "2019-08-30                                89.96   \n",
       "2019-08-31                                89.96   \n",
       "\n",
       "            NOAA_KMIA_Temperature_Daily_Min (F)  \\\n",
       "Datetime                                          \n",
       "2019-06-09                                77.00   \n",
       "2019-06-10                                75.02   \n",
       "2019-08-30                                77.00   \n",
       "2019-08-31                                80.06   \n",
       "\n",
       "            Daily_Temperature_Max_Difference (C)  \\\n",
       "Datetime                                           \n",
       "2019-06-09                                 -2.65   \n",
       "2019-06-10                                 -6.80   \n",
       "2019-08-30                                 -2.80   \n",
       "2019-08-31                                 -4.30   \n",
       "\n",
       "            Daily_Temperature_Min_Difference (C)  ...  \\\n",
       "Datetime                                          ...   \n",
       "2019-06-09                                -0.125  ...   \n",
       "2019-06-10                                 0.650  ...   \n",
       "2019-08-30                                 1.125  ...   \n",
       "2019-08-31                                -0.050  ...   \n",
       "\n",
       "            NOAA_Corresponding_Temperature_During_ShadingDade_DailyMax (C)  \\\n",
       "Datetime                                                                     \n",
       "2019-06-09                                               27.8                \n",
       "2019-06-10                                               25.6                \n",
       "2019-08-30                                               27.2                \n",
       "2019-08-31                                               30.0                \n",
       "\n",
       "            NOAA_Corresponding_Temperature_During_ShadingDade_DailyMin (C)  \\\n",
       "Datetime                                                                     \n",
       "2019-06-09                                               27.2                \n",
       "2019-06-10                                               26.7                \n",
       "2019-08-30                                               26.7                \n",
       "2019-08-31                                               27.8                \n",
       "\n",
       "           ShadingDade_Corresponding_Temperature_During_NOAA_DailyMax (C)  \\\n",
       "Datetime                                                                    \n",
       "2019-06-09                                             25.625               \n",
       "2019-06-10                                             27.375               \n",
       "2019-08-30                                             29.750               \n",
       "2019-08-31                                             31.625               \n",
       "\n",
       "           ShadingDade_Corresponding_Temperature_During_NOAA_DailyMin (C)  \\\n",
       "Datetime                                                                    \n",
       "2019-06-09                                             28.250               \n",
       "2019-06-10                                             25.250               \n",
       "2019-08-30                                             30.250               \n",
       "2019-08-31                                             33.625               \n",
       "\n",
       "           NOAA_Corresponding_Temperature_During_ShadingDade_DailyMax (F)  \\\n",
       "Datetime                                                                    \n",
       "2019-06-09                                              82.04               \n",
       "2019-06-10                                              78.08               \n",
       "2019-08-30                                              80.96               \n",
       "2019-08-31                                              86.00               \n",
       "\n",
       "           NOAA_Corresponding_Temperature_During_ShadingDade_DailyMin (F)  \\\n",
       "Datetime                                                                    \n",
       "2019-06-09                                              80.96               \n",
       "2019-06-10                                              80.06               \n",
       "2019-08-30                                              80.06               \n",
       "2019-08-31                                              82.04               \n",
       "\n",
       "            ShadingDade_Corresponding_Temperature_During_NOAA_DailyMax (F)  \\\n",
       "Datetime                                                                     \n",
       "2019-06-09                                             78.125                \n",
       "2019-06-10                                             81.275                \n",
       "2019-08-30                                             85.550                \n",
       "2019-08-31                                             88.925                \n",
       "\n",
       "            ShadingDade_Corresponding_Temperature_During_NOAA_DailyMin (F)  \\\n",
       "Datetime                                                                     \n",
       "2019-06-09                                             82.850                \n",
       "2019-06-10                                             77.450                \n",
       "2019-08-30                                             86.450                \n",
       "2019-08-31                                             92.525                \n",
       "\n",
       "            Absolute_time_difference_tmax_NOAA_ShadingDade (day H:M:S)  \\\n",
       "Datetime                                                                 \n",
       "2019-06-09                                    0 days 03:53:00            \n",
       "2019-06-10                                    0 days 03:53:00            \n",
       "2019-08-30                                    0 days 05:53:01            \n",
       "2019-08-31                                    0 days 03:53:00            \n",
       "\n",
       "            Absolute_time_difference_tmin_NOAA_ShadingDade (day H:M:S)  \n",
       "Datetime                                                                \n",
       "2019-06-09                                    0 days 02:29:00           \n",
       "2019-06-10                                    0 days 04:36:00           \n",
       "2019-08-30                                    0 days 03:02:01           \n",
       "2019-08-31                                    0 days 01:53:01           \n",
       "\n",
       "[4 rows x 34 columns]"
      ]
     },
     "execution_count": 43,
     "metadata": {},
     "output_type": "execute_result"
    }
   ],
   "source": [
    "ends(df_FINAL, 2)"
   ]
  },
  {
   "cell_type": "code",
   "execution_count": 44,
   "id": "d74d3d57-1a6f-4a92-acc9-35531b40fb97",
   "metadata": {},
   "outputs": [
    {
     "data": {
      "image/png": "[encoded data removed]",
      "text/plain": [
       "<Figure size 864x576 with 1 Axes>"
      ]
     },
     "metadata": {
      "needs_background": "light"
     },
     "output_type": "display_data"
    }
   ],
   "source": [
    "df_FINAL.hist('ShadingDade_Temperature_Daily_Max (F)', \n",
    "              edgecolor='k', facecolor='salmon', bins=30, figsize=(12,8))\n",
    "plt.tight_layout()\n",
    "plt.show()"
   ]
  },
  {
   "cell_type": "code",
   "execution_count": 45,
   "id": "ee83e817-7e3f-4fed-8f27-2e835d67ff2c",
   "metadata": {},
   "outputs": [
    {
     "data": {
      "image/png": "[encoded data removed]",
      "text/plain": [
       "<Figure size 864x576 with 1 Axes>"
      ]
     },
     "metadata": {
      "needs_background": "light"
     },
     "output_type": "display_data"
    }
   ],
   "source": [
    "df_FINAL.hist('NOAA_KMIA_Temperature_Daily_Max (F)', \n",
    "              edgecolor='k', facecolor='salmon', bins=30, figsize=(12,8))\n",
    "plt.tight_layout()\n",
    "plt.show()"
   ]
  },
  {
   "cell_type": "code",
   "execution_count": 46,
   "id": "8b5cce04-52ce-4d4d-bb8a-4717b783d03c",
   "metadata": {},
   "outputs": [
    {
     "data": {
      "image/png": "[encoded data removed]",
      "text/plain": [
       "<Figure size 864x576 with 1 Axes>"
      ]
     },
     "metadata": {
      "needs_background": "light"
     },
     "output_type": "display_data"
    }
   ],
   "source": [
    "df_FINAL.hist('ShadingDade_Temperature_Daily_Min (F)', \n",
    "              edgecolor='k', facecolor='salmon', bins=30, figsize=(12,8))\n",
    "plt.tight_layout()\n",
    "plt.show()"
   ]
  },
  {
   "cell_type": "code",
   "execution_count": 47,
   "id": "87d3606a-deec-4576-9f5e-8cdf9fe9ea90",
   "metadata": {},
   "outputs": [
    {
     "data": {
      "image/png": "[encoded data removed]",
      "text/plain": [
       "<Figure size 864x576 with 1 Axes>"
      ]
     },
     "metadata": {
      "needs_background": "light"
     },
     "output_type": "display_data"
    }
   ],
   "source": [
    "df_FINAL.hist('NOAA_KMIA_Temperature_Daily_Min (F)', \n",
    "              edgecolor='k', facecolor='salmon', bins=30, figsize=(12,8))\n",
    "plt.tight_layout()\n",
    "plt.show()"
   ]
  },
  {
   "cell_type": "code",
   "execution_count": 48,
   "id": "41518401-d221-430e-89a5-17cb43b17926",
   "metadata": {},
   "outputs": [
    {
     "data": {
      "image/png": "[encoded data removed]",
      "text/plain": [
       "<Figure size 864x576 with 1 Axes>"
      ]
     },
     "metadata": {
      "needs_background": "light"
     },
     "output_type": "display_data"
    }
   ],
   "source": [
    "df_FINAL.hist(\n",
    "    'Corresponding_Datetime_NOAA_KMIA_DailyMax_Difference (F)', \n",
    "    edgecolor='k', facecolor='salmon', bins=30, figsize=(12,8))\n",
    "plt.tight_layout()\n",
    "plt.show()"
   ]
  },
  {
   "cell_type": "code",
   "execution_count": 49,
   "id": "bf50bf61-4fc1-409e-b8cb-bfbe87dfd4fe",
   "metadata": {},
   "outputs": [
    {
     "data": {
      "image/png": "[encoded data removed]",
      "text/plain": [
       "<Figure size 864x576 with 1 Axes>"
      ]
     },
     "metadata": {
      "needs_background": "light"
     },
     "output_type": "display_data"
    }
   ],
   "source": [
    "fig, ax = plt.subplots(figsize=(12,8))\n",
    "\n",
    "ls0, = ax.plot(tmax_NOAA_daily['Temperature_F'].values, color='salmon', lw=2.0)\n",
    "ls1, = ax.plot(tmax_SD_daily['Temperature (F)'].values, color='firebrick', lw=2.0)\n",
    "\n",
    "ax.legend([ls0,ls1],['NOAA KMIA','Shading Dade (Little Haiti)'],\n",
    "          fancybox=True, fontsize=16, ncol=2)\n",
    "\n",
    "ax.set_xticks(np.arange(0, df_FINAL.index.shape[0])[::10])\n",
    "ax.set_xticklabels(pd.to_datetime(df_FINAL.index).strftime('%Y-%m-%d').values[::10], \n",
    "                   rotation=45, fontsize=16)\n",
    "ax.set_xlabel('Date', fontsize=16)\n",
    "\n",
    "ax.set_yticks(np.arange(75,111,1)[::5])\n",
    "ax.set_yticklabels(np.arange(75,111,1)[::5], fontsize=16)\n",
    "ax.set_ylabel('Temperature (F)', fontsize=16)\n",
    "\n",
    "ax.grid('--', alpha=0.5)\n",
    "ax.margins(x=0)\n",
    "\n",
    "plt.tight_layout()\n",
    "plt.show()"
   ]
  },
  {
   "cell_type": "code",
   "execution_count": 50,
   "id": "4e5feb10-ed6e-49aa-8417-f64e8399fce1",
   "metadata": {},
   "outputs": [
    {
     "data": {
      "text/plain": [
       "ShadingDade_Temperature_Daily_Max (C)                             0\n",
       "ShadingDade_Temperature_Daily_Min (C)                             0\n",
       "NOAA_KMIA_Temperature_Daily_Max (C)                               0\n",
       "NOAA_KMIA_Temperature_Daily_Min (C)                               0\n",
       "ShadingDade_Temperature_Daily_Max (F)                             0\n",
       "ShadingDade_Temperature_Daily_Min (F)                             0\n",
       "NOAA_KMIA_Temperature_Daily_Max (F)                               0\n",
       "NOAA_KMIA_Temperature_Daily_Min (F)                               0\n",
       "Daily_Temperature_Max_Difference (C)                              0\n",
       "Daily_Temperature_Min_Difference (C)                              0\n",
       "Daily_Temperature_Max_Difference (F)                              0\n",
       "Daily_Temperature_Min_Difference (F)                              0\n",
       "Corresponding_Datetime_ShadingDade_DailyMax                       0\n",
       "Corresponding_Datetime_ShadingDade_DailyMin                       0\n",
       "Corresponding_Datetime_NOAA_KMIA_DailyMax                         0\n",
       "Corresponding_Datetime_NOAA_KMIA_DailyMin                         0\n",
       "Corresponding_Datetime_NOAA_KMIA_DailyMax_Difference (C)          0\n",
       "Corresponding_Datetime_NOAA_KMIA_DailyMax_Difference (F)          0\n",
       "Corresponding_Datetime_NOAA_KMIA_DailyMin_Difference (C)          0\n",
       "Corresponding_Datetime_NOAA_KMIA_DailyMin_Difference (F)          0\n",
       "Corresponding_Datetime_ShadingDade_DailyMax_Difference (C)        0\n",
       "Corresponding_Datetime_ShadingDade_DailyMax_Difference (F)        0\n",
       "Corresponding_Datetime_ShadingDade_DailyMin_Difference (C)        0\n",
       "Corresponding_Datetime_ShadingDade_DailyMin_Difference (F)        0\n",
       "NOAA_Corresponding_Temperature_During_ShadingDade_DailyMax (C)    0\n",
       "NOAA_Corresponding_Temperature_During_ShadingDade_DailyMin (C)    0\n",
       "ShadingDade_Corresponding_Temperature_During_NOAA_DailyMax (C)    0\n",
       "ShadingDade_Corresponding_Temperature_During_NOAA_DailyMin (C)    0\n",
       "NOAA_Corresponding_Temperature_During_ShadingDade_DailyMax (F)    0\n",
       "NOAA_Corresponding_Temperature_During_ShadingDade_DailyMin (F)    0\n",
       "ShadingDade_Corresponding_Temperature_During_NOAA_DailyMax (F)    0\n",
       "ShadingDade_Corresponding_Temperature_During_NOAA_DailyMin (F)    0\n",
       "Absolute_time_difference_tmax_NOAA_ShadingDade (day H:M:S)        0\n",
       "Absolute_time_difference_tmin_NOAA_ShadingDade (day H:M:S)        0\n",
       "dtype: int64"
      ]
     },
     "execution_count": 50,
     "metadata": {},
     "output_type": "execute_result"
    }
   ],
   "source": [
    "df_FINAL.isnull().sum()"
   ]
  },
  {
   "cell_type": "markdown",
   "id": "7c1d73ed-24d3-4cc2-9c76-d343cb0c8c32",
   "metadata": {},
   "source": [
    "### save the csv file"
   ]
  },
  {
   "cell_type": "code",
   "execution_count": 51,
   "id": "f84291d2-b6b5-4c3b-bbf4-65d707aa7a60",
   "metadata": {},
   "outputs": [],
   "source": [
    "df_FINAL.to_csv('/glade/scratch/molina/ShadingDade_NOAA_KMIA_Temperature.csv')"
   ]
  },
  {
   "cell_type": "markdown",
   "id": "e666f871-0c9e-4fe2-b7c6-a32d966b3f9d",
   "metadata": {},
   "source": [
    "### To do next\n",
    "\n",
    "(done) Inquire about the METAR comma with the temperature data (Described on page 5: https://www.ncei.noaa.gov/data/global-hourly/doc/isd-format-document.pdf)\n",
    "\n",
    "(done) Inquire about the ASOS source column (Description on page 11: https://www.ncei.noaa.gov/data/global-hourly/doc/isd-format-document.pdf)\n",
    "\n",
    "(done) Compute differences between columns and resave csv; figure out the time differences\n",
    "\n",
    "(done) Add ERA5 reanalysis temperature data and resave csv\n",
    "\n",
    "(done) Redo analysis for other cities: Bronx (NY), Baltimore (MD), Houston (TX), Washington DC, Everglades (FL)"
   ]
  },
  {
   "cell_type": "code",
   "execution_count": null,
   "id": "83044722-78a1-4dcb-9e03-a620225fec8e",
   "metadata": {},
   "outputs": [],
   "source": []
  }
 ],
 "metadata": {
  "kernelspec": {
   "display_name": "Python [conda env:miniconda3-python-tutorial]",
   "language": "python",
   "name": "conda-env-miniconda3-python-tutorial-python3_myenv"
  },
  "language_info": {
   "codemirror_mode": {
    "name": "ipython",
    "version": 3
   },
   "file_extension": ".py",
   "mimetype": "text/x-python",
   "name": "python",
   "nbconvert_exporter": "python",
   "pygments_lexer": "ipython3",
   "version": "3.7.3"
  }
 },
 "nbformat": 4,
 "nbformat_minor": 5
}
